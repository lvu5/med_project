{
 "cells": [
  {
   "cell_type": "code",
<<<<<<< HEAD
   "execution_count": 1,
=======
   "execution_count": 68,
>>>>>>> 312f9c851c6ccc4e3f454bd57dae48aa0c2ea846
   "metadata": {},
   "outputs": [],
   "source": [
    "import sklearn\n",
    "from sklearn.datasets import load_breast_cancer\n",
    "from sklearn.model_selection import train_test_split\n",
    "from sklearn.neighbors import KNeighborsClassifier\n",
    "import numpy as np\n",
    "from sklearn.metrics import accuracy_score\n",
    "import matplotlib.pyplot as plt\n",
    "from sklearn.metrics import roc_curve, auc\n",
    "from sklearn.model_selection import cross_validate"
   ]
  },
  {
   "cell_type": "code",
<<<<<<< HEAD
   "execution_count": 2,
=======
   "execution_count": 69,
>>>>>>> 312f9c851c6ccc4e3f454bd57dae48aa0c2ea846
   "metadata": {},
   "outputs": [],
   "source": [
    "# data = load_breast_cancer()\n",
    "# x = data.data\n",
    "# y = data.target"
   ]
  },
  {
   "cell_type": "code",
   "execution_count": 70,
   "metadata": {},
   "outputs": [
    {
     "data": {
      "text/html": [
       "<div>\n",
       "<style scoped>\n",
       "    .dataframe tbody tr th:only-of-type {\n",
       "        vertical-align: middle;\n",
       "    }\n",
       "\n",
       "    .dataframe tbody tr th {\n",
       "        vertical-align: top;\n",
       "    }\n",
       "\n",
       "    .dataframe thead th {\n",
       "        text-align: right;\n",
       "    }\n",
       "</style>\n",
       "<table border=\"1\" class=\"dataframe\">\n",
       "  <thead>\n",
       "    <tr style=\"text-align: right;\">\n",
       "      <th></th>\n",
       "      <th>ID</th>\n",
       "      <th>background_tissue</th>\n",
       "      <th>class</th>\n",
       "      <th>severity</th>\n",
       "      <th>x</th>\n",
       "      <th>y</th>\n",
       "      <th>rad</th>\n",
       "      <th>mean</th>\n",
       "      <th>var</th>\n",
       "      <th>std</th>\n",
       "      <th>min_pixel</th>\n",
       "      <th>max_pixel</th>\n",
       "      <th>min_coor_x</th>\n",
       "      <th>min_coor_y</th>\n",
       "      <th>max_coor_x</th>\n",
       "      <th>max_coor_y</th>\n",
       "      <th>bdips</th>\n",
       "    </tr>\n",
       "  </thead>\n",
       "  <tbody>\n",
       "    <tr>\n",
       "      <th>307</th>\n",
       "      <td>mdb318</td>\n",
       "      <td>D</td>\n",
       "      <td>NORM</td>\n",
       "      <td>N</td>\n",
       "      <td>442</td>\n",
       "      <td>68</td>\n",
       "      <td>50</td>\n",
       "      <td>14.033015</td>\n",
       "      <td>0.505857</td>\n",
       "      <td>0.711236</td>\n",
       "      <td>11</td>\n",
       "      <td>35</td>\n",
       "      <td>436</td>\n",
       "      <td>951</td>\n",
       "      <td>467</td>\n",
       "      <td>965</td>\n",
       "      <td>0.000641</td>\n",
       "    </tr>\n",
       "    <tr>\n",
       "      <th>308</th>\n",
       "      <td>mdb319</td>\n",
       "      <td>D</td>\n",
       "      <td>NORM</td>\n",
       "      <td>N</td>\n",
       "      <td>590</td>\n",
       "      <td>281</td>\n",
       "      <td>50</td>\n",
       "      <td>145.912938</td>\n",
       "      <td>28.130725</td>\n",
       "      <td>5.303841</td>\n",
       "      <td>130</td>\n",
       "      <td>168</td>\n",
       "      <td>587</td>\n",
       "      <td>778</td>\n",
       "      <td>637</td>\n",
       "      <td>745</td>\n",
       "      <td>0.000114</td>\n",
       "    </tr>\n",
       "    <tr>\n",
       "      <th>309</th>\n",
       "      <td>mdb320</td>\n",
       "      <td>D</td>\n",
       "      <td>NORM</td>\n",
       "      <td>N</td>\n",
       "      <td>495</td>\n",
       "      <td>264</td>\n",
       "      <td>50</td>\n",
       "      <td>195.578840</td>\n",
       "      <td>470.810515</td>\n",
       "      <td>21.698168</td>\n",
       "      <td>146</td>\n",
       "      <td>227</td>\n",
       "      <td>451</td>\n",
       "      <td>745</td>\n",
       "      <td>527</td>\n",
       "      <td>722</td>\n",
       "      <td>0.000004</td>\n",
       "    </tr>\n",
       "    <tr>\n",
       "      <th>310</th>\n",
       "      <td>mdb321</td>\n",
       "      <td>D</td>\n",
       "      <td>NORM</td>\n",
       "      <td>N</td>\n",
       "      <td>604</td>\n",
       "      <td>271</td>\n",
       "      <td>50</td>\n",
       "      <td>177.764946</td>\n",
       "      <td>30.464061</td>\n",
       "      <td>5.519426</td>\n",
       "      <td>163</td>\n",
       "      <td>199</td>\n",
       "      <td>626</td>\n",
       "      <td>740</td>\n",
       "      <td>555</td>\n",
       "      <td>746</td>\n",
       "      <td>0.000026</td>\n",
       "    </tr>\n",
       "    <tr>\n",
       "      <th>311</th>\n",
       "      <td>mdb322</td>\n",
       "      <td>D</td>\n",
       "      <td>NORM</td>\n",
       "      <td>N</td>\n",
       "      <td>460</td>\n",
       "      <td>115</td>\n",
       "      <td>50</td>\n",
       "      <td>8.994009</td>\n",
       "      <td>7.767332</td>\n",
       "      <td>2.786993</td>\n",
       "      <td>6</td>\n",
       "      <td>24</td>\n",
       "      <td>493</td>\n",
       "      <td>895</td>\n",
       "      <td>446</td>\n",
       "      <td>863</td>\n",
       "      <td>0.000786</td>\n",
       "    </tr>\n",
       "  </tbody>\n",
       "</table>\n",
       "</div>"
      ],
      "text/plain": [
       "         ID background_tissue class severity    x    y  rad        mean  \\\n",
       "307  mdb318                 D  NORM        N  442   68   50   14.033015   \n",
       "308  mdb319                 D  NORM        N  590  281   50  145.912938   \n",
       "309  mdb320                 D  NORM        N  495  264   50  195.578840   \n",
       "310  mdb321                 D  NORM        N  604  271   50  177.764946   \n",
       "311  mdb322                 D  NORM        N  460  115   50    8.994009   \n",
       "\n",
       "            var        std  min_pixel  max_pixel  min_coor_x  min_coor_y  \\\n",
       "307    0.505857   0.711236         11         35         436         951   \n",
       "308   28.130725   5.303841        130        168         587         778   \n",
       "309  470.810515  21.698168        146        227         451         745   \n",
       "310   30.464061   5.519426        163        199         626         740   \n",
       "311    7.767332   2.786993          6         24         493         895   \n",
       "\n",
       "     max_coor_x  max_coor_y     bdips  \n",
       "307         467         965  0.000641  \n",
       "308         637         745  0.000114  \n",
       "309         527         722  0.000004  \n",
       "310         555         746  0.000026  \n",
       "311         446         863  0.000786  "
      ]
     },
     "execution_count": 70,
     "metadata": {},
     "output_type": "execute_result"
    }
   ],
   "source": [
    "import pandas as pd\n",
    "data = pd.read_csv('datasets/final1.csv')\n",
    "del data['Unnamed: 0']\n",
    "data.tail()"
   ]
  },
  {
   "cell_type": "code",
   "execution_count": 71,
   "metadata": {},
   "outputs": [],
   "source": [
    "x = data.iloc[:,[7,8,9,10,11,16]]\n",
    "y = data['severity']\n",
    "di = {'N':0, 'B':1, 'M':2}\n",
    "y = y.map(di)\n",
    "x = x.drop([243])\n",
    "y = y.drop([243])"
   ]
  },
  {
   "cell_type": "code",
   "execution_count": 72,
   "metadata": {},
   "outputs": [
    {
     "data": {
      "text/plain": [
       "[235.7952171, 9077.427598999999, 95.27553516, 214, 242, 0.955414013]"
      ]
     },
     "execution_count": 72,
     "metadata": {},
     "output_type": "execute_result"
    }
   ],
   "source": [
    "max_list = [max(x.iloc[:,i]) for i in range(6)]\n",
    "max_list"
   ]
  },
  {
   "cell_type": "code",
   "execution_count": 73,
   "metadata": {},
   "outputs": [],
   "source": [
    "#Normalize data\n",
    "for i in range(6):\n",
    "    for j in range(len(x)):\n",
    "        x.iloc[j,i] = x.iloc[j,i]/max_list[i]"
   ]
  },
  {
   "cell_type": "code",
   "execution_count": 74,
   "metadata": {},
   "outputs": [
    {
     "data": {
      "text/html": [
       "<div>\n",
       "<style scoped>\n",
       "    .dataframe tbody tr th:only-of-type {\n",
       "        vertical-align: middle;\n",
       "    }\n",
       "\n",
       "    .dataframe tbody tr th {\n",
       "        vertical-align: top;\n",
       "    }\n",
       "\n",
       "    .dataframe thead th {\n",
       "        text-align: right;\n",
       "    }\n",
       "</style>\n",
       "<table border=\"1\" class=\"dataframe\">\n",
       "  <thead>\n",
       "    <tr style=\"text-align: right;\">\n",
       "      <th></th>\n",
       "      <th>mean</th>\n",
       "      <th>var</th>\n",
       "      <th>std</th>\n",
       "      <th>min_pixel</th>\n",
       "      <th>max_pixel</th>\n",
       "      <th>bdips</th>\n",
       "    </tr>\n",
       "  </thead>\n",
       "  <tbody>\n",
       "    <tr>\n",
       "      <th>0</th>\n",
       "      <td>0.639458</td>\n",
       "      <td>0.353129</td>\n",
       "      <td>0.594247</td>\n",
       "      <td>0.023364</td>\n",
       "      <td>0.913223</td>\n",
       "      <td>0.000007</td>\n",
       "    </tr>\n",
       "    <tr>\n",
       "      <th>1</th>\n",
       "      <td>0.839164</td>\n",
       "      <td>0.084224</td>\n",
       "      <td>0.290214</td>\n",
       "      <td>0.350467</td>\n",
       "      <td>0.946281</td>\n",
       "      <td>0.000058</td>\n",
       "    </tr>\n",
       "    <tr>\n",
       "      <th>2</th>\n",
       "      <td>0.634470</td>\n",
       "      <td>0.045081</td>\n",
       "      <td>0.212324</td>\n",
       "      <td>0.392523</td>\n",
       "      <td>0.772727</td>\n",
       "      <td>0.000091</td>\n",
       "    </tr>\n",
       "    <tr>\n",
       "      <th>3</th>\n",
       "      <td>0.688844</td>\n",
       "      <td>0.008833</td>\n",
       "      <td>0.093983</td>\n",
       "      <td>0.598131</td>\n",
       "      <td>0.747934</td>\n",
       "      <td>0.000605</td>\n",
       "    </tr>\n",
       "    <tr>\n",
       "      <th>4</th>\n",
       "      <td>0.781972</td>\n",
       "      <td>0.014001</td>\n",
       "      <td>0.118325</td>\n",
       "      <td>0.724299</td>\n",
       "      <td>0.859504</td>\n",
       "      <td>0.000300</td>\n",
       "    </tr>\n",
       "    <tr>\n",
       "      <th>...</th>\n",
       "      <td>...</td>\n",
       "      <td>...</td>\n",
       "      <td>...</td>\n",
       "      <td>...</td>\n",
       "      <td>...</td>\n",
       "      <td>...</td>\n",
       "    </tr>\n",
       "    <tr>\n",
       "      <th>307</th>\n",
       "      <td>0.059514</td>\n",
       "      <td>0.000056</td>\n",
       "      <td>0.007465</td>\n",
       "      <td>0.051402</td>\n",
       "      <td>0.144628</td>\n",
       "      <td>0.000670</td>\n",
       "    </tr>\n",
       "    <tr>\n",
       "      <th>308</th>\n",
       "      <td>0.618812</td>\n",
       "      <td>0.003099</td>\n",
       "      <td>0.055668</td>\n",
       "      <td>0.607477</td>\n",
       "      <td>0.694215</td>\n",
       "      <td>0.000120</td>\n",
       "    </tr>\n",
       "    <tr>\n",
       "      <th>309</th>\n",
       "      <td>0.829444</td>\n",
       "      <td>0.051866</td>\n",
       "      <td>0.227741</td>\n",
       "      <td>0.682243</td>\n",
       "      <td>0.938017</td>\n",
       "      <td>0.000004</td>\n",
       "    </tr>\n",
       "    <tr>\n",
       "      <th>310</th>\n",
       "      <td>0.753895</td>\n",
       "      <td>0.003356</td>\n",
       "      <td>0.057931</td>\n",
       "      <td>0.761682</td>\n",
       "      <td>0.822314</td>\n",
       "      <td>0.000027</td>\n",
       "    </tr>\n",
       "    <tr>\n",
       "      <th>311</th>\n",
       "      <td>0.038143</td>\n",
       "      <td>0.000856</td>\n",
       "      <td>0.029252</td>\n",
       "      <td>0.028037</td>\n",
       "      <td>0.099174</td>\n",
       "      <td>0.000822</td>\n",
       "    </tr>\n",
       "  </tbody>\n",
       "</table>\n",
       "<p>311 rows × 6 columns</p>\n",
       "</div>"
      ],
      "text/plain": [
       "         mean       var       std  min_pixel  max_pixel     bdips\n",
       "0    0.639458  0.353129  0.594247   0.023364   0.913223  0.000007\n",
       "1    0.839164  0.084224  0.290214   0.350467   0.946281  0.000058\n",
       "2    0.634470  0.045081  0.212324   0.392523   0.772727  0.000091\n",
       "3    0.688844  0.008833  0.093983   0.598131   0.747934  0.000605\n",
       "4    0.781972  0.014001  0.118325   0.724299   0.859504  0.000300\n",
       "..        ...       ...       ...        ...        ...       ...\n",
       "307  0.059514  0.000056  0.007465   0.051402   0.144628  0.000670\n",
       "308  0.618812  0.003099  0.055668   0.607477   0.694215  0.000120\n",
       "309  0.829444  0.051866  0.227741   0.682243   0.938017  0.000004\n",
       "310  0.753895  0.003356  0.057931   0.761682   0.822314  0.000027\n",
       "311  0.038143  0.000856  0.029252   0.028037   0.099174  0.000822\n",
       "\n",
       "[311 rows x 6 columns]"
      ]
     },
     "execution_count": 74,
     "metadata": {},
     "output_type": "execute_result"
    }
   ],
   "source": [
    "x"
   ]
  },
  {
   "cell_type": "code",
   "execution_count": 75,
   "metadata": {},
   "outputs": [],
   "source": [
    "x_train, x_test, y_train, y_test = train_test_split(x, y,test_size = 0.2, random_state=42, stratify = y)"
   ]
  },
  {
   "cell_type": "markdown",
   "metadata": {},
   "source": [
    "# KNN"
   ]
  },
  {
   "cell_type": "code",
   "execution_count": 54,
   "metadata": {
    "scrolled": true
   },
   "outputs": [
    {
     "name": "stderr",
     "output_type": "stream",
     "text": [
      "C:\\Users\\huyenntx1\\Miniconda3\\lib\\site-packages\\sklearn\\model_selection\\_validation.py:548: FitFailedWarning: Estimator fit failed. The score on this train-test partition for these parameters will be set to nan. Details: \n",
      "Traceback (most recent call last):\n",
      "  File \"C:\\Users\\huyenntx1\\Miniconda3\\lib\\site-packages\\sklearn\\model_selection\\_validation.py\", line 531, in _fit_and_score\n",
      "    estimator.fit(X_train, y_train, **fit_params)\n",
      "  File \"C:\\Users\\huyenntx1\\Miniconda3\\lib\\site-packages\\sklearn\\neighbors\\_base.py\", line 1157, in fit\n",
      "    return self._fit(X)\n",
      "  File \"C:\\Users\\huyenntx1\\Miniconda3\\lib\\site-packages\\sklearn\\neighbors\\_base.py\", line 467, in _fit\n",
      "    raise ValueError(\n",
      "ValueError: Expected n_neighbors > 0. Got 0\n",
      "\n",
      "  warnings.warn(\"Estimator fit failed. The score on this train-test\"\n",
      "C:\\Users\\huyenntx1\\Miniconda3\\lib\\site-packages\\sklearn\\model_selection\\_validation.py:548: FitFailedWarning: Estimator fit failed. The score on this train-test partition for these parameters will be set to nan. Details: \n",
      "Traceback (most recent call last):\n",
      "  File \"C:\\Users\\huyenntx1\\Miniconda3\\lib\\site-packages\\sklearn\\model_selection\\_validation.py\", line 531, in _fit_and_score\n",
      "    estimator.fit(X_train, y_train, **fit_params)\n",
      "  File \"C:\\Users\\huyenntx1\\Miniconda3\\lib\\site-packages\\sklearn\\neighbors\\_base.py\", line 1157, in fit\n",
      "    return self._fit(X)\n",
      "  File \"C:\\Users\\huyenntx1\\Miniconda3\\lib\\site-packages\\sklearn\\neighbors\\_base.py\", line 467, in _fit\n",
      "    raise ValueError(\n",
      "ValueError: Expected n_neighbors > 0. Got 0\n",
      "\n",
      "  warnings.warn(\"Estimator fit failed. The score on this train-test\"\n",
      "C:\\Users\\huyenntx1\\Miniconda3\\lib\\site-packages\\sklearn\\model_selection\\_validation.py:548: FitFailedWarning: Estimator fit failed. The score on this train-test partition for these parameters will be set to nan. Details: \n",
      "Traceback (most recent call last):\n",
      "  File \"C:\\Users\\huyenntx1\\Miniconda3\\lib\\site-packages\\sklearn\\model_selection\\_validation.py\", line 531, in _fit_and_score\n",
      "    estimator.fit(X_train, y_train, **fit_params)\n",
      "  File \"C:\\Users\\huyenntx1\\Miniconda3\\lib\\site-packages\\sklearn\\neighbors\\_base.py\", line 1157, in fit\n",
      "    return self._fit(X)\n",
      "  File \"C:\\Users\\huyenntx1\\Miniconda3\\lib\\site-packages\\sklearn\\neighbors\\_base.py\", line 467, in _fit\n",
      "    raise ValueError(\n",
      "ValueError: Expected n_neighbors > 0. Got 0\n",
      "\n",
      "  warnings.warn(\"Estimator fit failed. The score on this train-test\"\n",
      "C:\\Users\\huyenntx1\\Miniconda3\\lib\\site-packages\\sklearn\\model_selection\\_validation.py:548: FitFailedWarning: Estimator fit failed. The score on this train-test partition for these parameters will be set to nan. Details: \n",
      "Traceback (most recent call last):\n",
      "  File \"C:\\Users\\huyenntx1\\Miniconda3\\lib\\site-packages\\sklearn\\model_selection\\_validation.py\", line 531, in _fit_and_score\n",
      "    estimator.fit(X_train, y_train, **fit_params)\n",
      "  File \"C:\\Users\\huyenntx1\\Miniconda3\\lib\\site-packages\\sklearn\\neighbors\\_base.py\", line 1157, in fit\n",
      "    return self._fit(X)\n",
      "  File \"C:\\Users\\huyenntx1\\Miniconda3\\lib\\site-packages\\sklearn\\neighbors\\_base.py\", line 467, in _fit\n",
      "    raise ValueError(\n",
      "ValueError: Expected n_neighbors > 0. Got 0\n",
      "\n",
      "  warnings.warn(\"Estimator fit failed. The score on this train-test\"\n",
      "C:\\Users\\huyenntx1\\Miniconda3\\lib\\site-packages\\sklearn\\model_selection\\_validation.py:548: FitFailedWarning: Estimator fit failed. The score on this train-test partition for these parameters will be set to nan. Details: \n",
      "Traceback (most recent call last):\n",
      "  File \"C:\\Users\\huyenntx1\\Miniconda3\\lib\\site-packages\\sklearn\\model_selection\\_validation.py\", line 531, in _fit_and_score\n",
      "    estimator.fit(X_train, y_train, **fit_params)\n",
      "  File \"C:\\Users\\huyenntx1\\Miniconda3\\lib\\site-packages\\sklearn\\neighbors\\_base.py\", line 1157, in fit\n",
      "    return self._fit(X)\n",
      "  File \"C:\\Users\\huyenntx1\\Miniconda3\\lib\\site-packages\\sklearn\\neighbors\\_base.py\", line 467, in _fit\n",
      "    raise ValueError(\n",
      "ValueError: Expected n_neighbors > 0. Got 0\n",
      "\n",
      "  warnings.warn(\"Estimator fit failed. The score on this train-test\"\n"
     ]
    },
    {
     "data": {
      "text/plain": [
       "{'n_neighbors': 2}"
      ]
     },
     "execution_count": 54,
     "metadata": {},
     "output_type": "execute_result"
    }
   ],
   "source": [
    "from sklearn.model_selection import GridSearchCV\n",
    "params = {'n_neighbors': np.arange(15)}\n",
    "reg = KNeighborsClassifier()\n",
    "model = GridSearchCV(reg, params, cv=5)\n",
    "model.fit(x_train,y_train)\n",
    "model.best_params_"
   ]
  },
  {
   "cell_type": "code",
   "execution_count": 56,
   "metadata": {},
   "outputs": [
    {
     "name": "stdout",
     "output_type": "stream",
     "text": [
      "Test set R^2: 0.60\n"
     ]
    },
    {
     "data": {
      "text/plain": [
       "array([0, 0, 0, 0, 0, 0, 1, 0, 0, 0, 0, 0, 0, 0, 0, 0, 0, 0, 1, 0, 0, 0,\n",
       "       0, 0, 1, 0, 0, 0, 0, 0, 0, 0, 1, 0, 0, 1, 1, 0, 0, 0, 0, 0, 1, 0,\n",
       "       0, 2, 0, 0, 2, 0, 0, 0, 1, 0, 1, 1, 0, 2, 0, 0, 0, 0, 0],\n",
       "      dtype=int64)"
      ]
     },
     "execution_count": 56,
     "metadata": {},
     "output_type": "execute_result"
    }
   ],
   "source": [
    "knn = KNeighborsClassifier(n_neighbors=2)\n",
    "knn.fit(x_train, y_train)\n",
    "print(\"Test set R^2: {:.2f}\".format(knn.score(x_test, y_test)))\n",
    "y_pred = knn.predict(x_test)\n",
    "y_pred"
   ]
  },
  {
   "cell_type": "code",
   "execution_count": 57,
   "metadata": {},
   "outputs": [
    {
     "data": {
      "text/plain": [
       "array([0, 0, 0, 2, 0, 0, 1, 0, 0, 0, 0, 1, 2, 1, 0, 1, 0, 1, 2, 2, 1, 0,\n",
       "       0, 1, 1, 2, 0, 0, 0, 0, 0, 0, 1, 0, 0, 0, 0, 0, 1, 1, 2, 0, 0, 2,\n",
       "       0, 1, 0, 0, 0, 1, 0, 0, 2, 0, 2, 1, 0, 0, 2, 0, 0, 0, 0],\n",
       "      dtype=int64)"
      ]
     },
     "execution_count": 57,
     "metadata": {},
     "output_type": "execute_result"
    }
   ],
   "source": [
    "np.array(y_test)"
   ]
  },
  {
   "cell_type": "code",
   "execution_count": 58,
   "metadata": {},
   "outputs": [],
   "source": [
    "y_scores = knn.predict_proba(x_test)\n",
    "fpr_knn, tpr_knn, threshold = roc_curve(y_test, y_scores[:, 1], pos_label= 1)\n",
    "roc_auc_knn = auc(fpr_knn, tpr_knn)"
   ]
  },
  {
   "cell_type": "code",
   "execution_count": 59,
   "metadata": {},
   "outputs": [
    {
     "name": "stdout",
     "output_type": "stream",
     "text": [
      "{'fit_time': array([0.00199223, 0.00229907, 0.00199556, 0.00199509, 0.00199342]), 'score_time': array([0.00423789, 0.0039866 , 0.00303173, 0.00296569, 0.00298429]), 'test_score': array([0.66666667, 0.58064516, 0.58064516, 0.58064516, 0.64516129]), 'train_score': array([0.77016129, 0.79116466, 0.78313253, 0.80321285, 0.79518072])}\n"
     ]
    }
   ],
   "source": [
    "scores = cross_validate(knn, x, y, cv=5, scoring=('accuracy'),\n",
    "                        return_train_score=True)\n",
    "print(scores)\n"
   ]
  },
  {
   "cell_type": "markdown",
   "metadata": {},
   "source": [
    "# SVM\n"
   ]
  },
  {
   "cell_type": "code",
   "execution_count": 60,
   "metadata": {},
   "outputs": [
    {
     "data": {
      "text/plain": [
       "SVC(C=30)"
      ]
     },
     "execution_count": 60,
     "metadata": {},
     "output_type": "execute_result"
    }
   ],
   "source": [
    "svm = sklearn.svm.SVC(C = 30, kernel='rbf')\n",
    "svm.fit(x_train, y_train)"
   ]
  },
  {
   "cell_type": "code",
   "execution_count": 61,
   "metadata": {},
   "outputs": [
    {
     "data": {
      "text/plain": [
       "0.6854838709677419"
      ]
     },
     "execution_count": 61,
     "metadata": {},
     "output_type": "execute_result"
    }
   ],
   "source": [
    "svm.score(x_train, y_train)\n"
   ]
  },
  {
   "cell_type": "code",
   "execution_count": 62,
   "metadata": {},
   "outputs": [
    {
     "data": {
      "text/plain": [
       "0.5714285714285714"
      ]
     },
     "execution_count": 62,
     "metadata": {},
     "output_type": "execute_result"
    }
   ],
   "source": [
    "svm.score(x_test, y_test)\n"
   ]
  },
  {
   "cell_type": "code",
   "execution_count": 16,
   "metadata": {},
   "outputs": [
    {
     "data": {
      "text/plain": [
       "array([0, 0, 0, 0, 0, 0, 1, 1, 0, 0, 0, 1, 1, 0, 0, 0, 0, 0, 1, 0, 0, 0,\n",
       "       0, 1, 0, 0, 0, 0, 1, 0, 0, 0, 0, 1, 0, 1, 0, 0, 0, 0, 0, 0, 1, 1,\n",
       "       0, 0, 0, 0, 0, 0, 0, 0, 1, 0, 1, 1, 0, 1, 1, 2, 0, 0, 0],\n",
       "      dtype=int64)"
      ]
     },
     "execution_count": 16,
     "metadata": {},
     "output_type": "execute_result"
    }
   ],
   "source": [
    "y_pred = svm.predict(x_test)\n",
    "y_pred"
   ]
  },
  {
   "cell_type": "code",
   "execution_count": 63,
   "metadata": {},
   "outputs": [],
   "source": [
    "y_scores = svm.predict(x_test)\n",
    "fpr_svm, tpr_svm, threshold = roc_curve(y_test, y_scores, pos_label= 1)\n",
    "roc_auc_svm = auc(fpr_svm, tpr_svm)"
   ]
  },
  {
   "cell_type": "code",
   "execution_count": 64,
   "metadata": {},
   "outputs": [
    {
     "name": "stdout",
     "output_type": "stream",
     "text": [
      "{'fit_time': array([0.00498557, 0.00402141, 0.00450587, 0.00398993, 0.00398803]), 'score_time': array([0.00099969, 0.00099015, 0.0009973 , 0.00199509, 0.00099754]), 'test_score': array([0.61904762, 0.69354839, 0.61290323, 0.48387097, 0.62903226]), 'train_score': array([0.66935484, 0.6626506 , 0.6746988 , 0.71084337, 0.6746988 ])}\n"
     ]
    }
   ],
   "source": [
    "from sklearn.model_selection import cross_validate\n",
    "scores = cross_validate(svm, x, y, cv=5, scoring=('accuracy'),\n",
    "                        return_train_score=True)\n",
    "print(scores)"
   ]
  },
  {
   "cell_type": "markdown",
   "metadata": {},
   "source": [
    "# Decision Tree\n"
   ]
  },
  {
   "cell_type": "code",
   "execution_count": 81,
   "metadata": {},
   "outputs": [],
   "source": [
    "from sklearn.tree import DecisionTreeClassifier\n"
   ]
  },
  {
   "cell_type": "code",
   "execution_count": 82,
   "metadata": {},
   "outputs": [],
   "source": [
    "\n",
    "tree=DecisionTreeClassifier(max_depth=5,random_state=42)\n",
    "# tree = DecisionTreeClassifier(random_state=42)"
   ]
  },
  {
   "cell_type": "code",
   "execution_count": 83,
   "metadata": {},
   "outputs": [
    {
     "data": {
      "text/plain": [
       "DecisionTreeClassifier(max_depth=5, random_state=42)"
      ]
     },
     "execution_count": 83,
     "metadata": {},
     "output_type": "execute_result"
    }
   ],
   "source": [
    "tree.fit(x_train, y_train)"
   ]
  },
  {
   "cell_type": "code",
   "execution_count": 84,
   "metadata": {},
   "outputs": [],
   "source": [
    "y_pred = tree.predict(x_test)"
   ]
  },
  {
   "cell_type": "code",
   "execution_count": 85,
   "metadata": {},
   "outputs": [
    {
     "name": "stdout",
     "output_type": "stream",
     "text": [
      "Độ chính xác tập huấn luyện: 0.8226\n",
      "Độ chính xác tập kiểm tra: 0.6825\n"
     ]
    }
   ],
   "source": [
    "print('Độ chính xác tập huấn luyện: {:.4f}'.format(tree.score(x_train, y_train)))\n",
    "print('Độ chính xác tập kiểm tra: {:.4f}'.format(tree.score(x_test, y_test)))"
   ]
  },
  {
   "cell_type": "code",
   "execution_count": 86,
   "metadata": {},
   "outputs": [],
   "source": [
    "from sklearn.model_selection import cross_val_score, cross_val_predict\n",
    "from sklearn.metrics import accuracy_score, classification_report, confusion_matrix\n",
    "def print_score(clf, X_train, y_train, X_test, y_test, train=True):\n",
    "    '''\n",
    "    print the accuracy score, classification report and confusion matrix of classifier\n",
    "    '''\n",
    "    if train:\n",
    "        '''\n",
    "        training performance\n",
    "        '''\n",
    "        print(\"Train Result:\\n\")\n",
    "        print(\"accuracy score: {0:.4f}\\n\".format(accuracy_score(y_train, clf.predict(X_train))))\n",
    "        print(\"Classification Report: \\n {}\\n\".format(classification_report(y_train, clf.predict(X_train))))\n",
    "        print(\"Confusion Matrix: \\n {}\\n\".format(confusion_matrix(y_train, clf.predict(X_train))))\n",
    "\n",
    "        res = cross_val_score(clf, X_train, y_train.ravel(), cv=10, scoring='accuracy')\n",
    "        print(\"Average Accuracy: \\t {0:.4f}\".format(np.mean(res)))\n",
    "        print(\"Accuracy SD: \\t\\t {0:.4f}\".format(np.std(res)))\n",
    "        \n",
    "    elif train==False:\n",
    "        '''\n",
    "        test performance\n",
    "        '''\n",
    "        print(\"Test Result:\\n\")        \n",
    "        print(\"accuracy score: {0:.4f}\\n\".format(accuracy_score(y_test, clf.predict(X_test))))\n",
    "        print(\"Classification Report: \\n {}\\n\".format(classification_report(y_test, clf.predict(X_test))))\n",
    "        print(\"Confusion Matrix: \\n {}\\n\".format(confusion_matrix(y_test, clf.predict(X_test))))    \n",
    "        "
   ]
  },
  {
   "cell_type": "code",
   "execution_count": 87,
   "metadata": {},
   "outputs": [
    {
     "name": "stdout",
     "output_type": "stream",
     "text": [
      "Test Result:\n",
      "\n",
      "accuracy score: 0.6825\n",
      "\n",
      "Classification Report: \n",
      "               precision    recall  f1-score   support\n",
      "\n",
      "           0       0.89      0.79      0.84        39\n",
      "           1       0.48      0.71      0.57        14\n",
      "           2       0.29      0.20      0.24        10\n",
      "\n",
      "    accuracy                           0.68        63\n",
      "   macro avg       0.55      0.57      0.55        63\n",
      "weighted avg       0.70      0.68      0.68        63\n",
      "\n",
      "\n",
      "Confusion Matrix: \n",
      " [[31  5  3]\n",
      " [ 2 10  2]\n",
      " [ 2  6  2]]\n",
      "\n"
     ]
    }
   ],
   "source": [
    "print_score(tree, x_train, y_train, x_test, y_test, train=False)"
   ]
  },
  {
   "cell_type": "code",
   "execution_count": 88,
   "metadata": {},
   "outputs": [],
   "source": [
    "y_scores = tree.predict_proba(x_test)\n",
    "fpr_tree, tpr_tree, threshold = roc_curve(y_test, y_scores[:, 1], pos_label= 1)\n",
    "roc_auc_tree = auc(fpr_tree, tpr_tree)"
   ]
  },
  {
   "cell_type": "code",
   "execution_count": 89,
   "metadata": {},
   "outputs": [
    {
     "name": "stdout",
     "output_type": "stream",
     "text": [
      "{'fit_time': array([0.00498605, 0.00200605, 0.00196838, 0.00299096, 0.00199509]), 'score_time': array([0.00202823, 0.00098801, 0.00103331, 0.00099754, 0.00100017]), 'test_score': array([0.6031746 , 0.59677419, 0.62903226, 0.56451613, 0.69354839]), 'train_score': array([0.79032258, 0.79919679, 0.82730924, 0.82730924, 0.81526104])}\n"
     ]
    }
   ],
   "source": [
    "scores = cross_validate(tree, x, y, cv=5, scoring=('accuracy'),\n",
    "                        return_train_score=True)\n",
    "print(scores)"
   ]
  },
  {
   "cell_type": "markdown",
   "metadata": {},
   "source": [
    "# Random forest\n"
   ]
  },
  {
   "cell_type": "code",
   "execution_count": 90,
   "metadata": {},
   "outputs": [],
   "source": [
    "from sklearn.ensemble import RandomForestClassifier"
   ]
  },
  {
   "cell_type": "code",
   "execution_count": 91,
   "metadata": {},
   "outputs": [
    {
     "data": {
      "text/plain": [
       "RandomForestClassifier(max_depth=5, n_estimators=10)"
      ]
     },
     "execution_count": 91,
     "metadata": {},
     "output_type": "execute_result"
    }
   ],
   "source": [
    "rf = RandomForestClassifier(n_estimators=10, max_depth = 5)\n",
    "rf.fit(x_train, y_train)"
   ]
  },
  {
   "cell_type": "code",
   "execution_count": 92,
   "metadata": {},
   "outputs": [
    {
     "name": "stdout",
     "output_type": "stream",
     "text": [
      "Train Result:\n",
      "\n",
      "accuracy score: 0.8508\n",
      "\n",
      "Classification Report: \n",
      "               precision    recall  f1-score   support\n",
      "\n",
      "           0       0.85      0.99      0.92       153\n",
      "           1       0.85      0.65      0.74        54\n",
      "           2       0.83      0.61      0.70        41\n",
      "\n",
      "    accuracy                           0.85       248\n",
      "   macro avg       0.85      0.75      0.79       248\n",
      "weighted avg       0.85      0.85      0.84       248\n",
      "\n",
      "\n",
      "Confusion Matrix: \n",
      " [[151   0   2]\n",
      " [ 16  35   3]\n",
      " [ 10   6  25]]\n",
      "\n",
      "Average Accuracy: \t 0.6377\n",
      "Accuracy SD: \t\t 0.0737\n",
      "\n",
      "\n",
      "Test Result:\n",
      "\n",
      "accuracy score: 0.6984\n",
      "\n",
      "Classification Report: \n",
      "               precision    recall  f1-score   support\n",
      "\n",
      "           0       0.86      0.92      0.89        39\n",
      "           1       0.46      0.43      0.44        14\n",
      "           2       0.25      0.20      0.22        10\n",
      "\n",
      "    accuracy                           0.70        63\n",
      "   macro avg       0.52      0.52      0.52        63\n",
      "weighted avg       0.67      0.70      0.68        63\n",
      "\n",
      "\n",
      "Confusion Matrix: \n",
      " [[36  2  1]\n",
      " [ 3  6  5]\n",
      " [ 3  5  2]]\n",
      "\n"
     ]
    }
   ],
   "source": [
    "print_score(rf, x_train, y_train, x_test, y_test, train=True)\n",
    "print('\\n')\n",
    "print_score(rf, x_train, y_train, x_test, y_test, train=False)"
   ]
  },
  {
   "cell_type": "code",
   "execution_count": 93,
   "metadata": {},
   "outputs": [],
   "source": [
    "y_scores = rf.predict_proba(x_test)\n",
    "fpr_rf, tpr_rf, threshold = roc_curve(y_test, y_scores[:, 1], pos_label= 1)\n",
    "roc_auc_rf = auc(fpr_rf, tpr_rf)"
   ]
  },
  {
   "cell_type": "code",
   "execution_count": 94,
   "metadata": {},
   "outputs": [
    {
     "name": "stdout",
     "output_type": "stream",
     "text": [
      "{'fit_time': array([0.01348853, 0.01699162, 0.01296687, 0.01197147, 0.01195812]), 'score_time': array([0.00249958, 0.00195765, 0.00295353, 0.00298786, 0.00101852]), 'test_score': array([0.66666667, 0.66129032, 0.64516129, 0.59677419, 0.77419355]), 'train_score': array([0.84274194, 0.86345382, 0.85943775, 0.83935743, 0.86345382])}\n"
     ]
    }
   ],
   "source": [
    "scores = cross_validate(rf, x, y, cv=5, scoring=('accuracy'),\n",
    "                        return_train_score=True)\n",
    "print(scores)"
   ]
  },
  {
   "cell_type": "markdown",
   "metadata": {},
   "source": [
    "# Neural Network\n"
   ]
  },
  {
   "cell_type": "code",
   "execution_count": 41,
   "metadata": {},
   "outputs": [
    {
     "name": "stdout",
     "output_type": "stream",
     "text": [
      "Model: \"sequential_2\"\n",
      "_________________________________________________________________\n",
      "Layer (type)                 Output Shape              Param #   \n",
      "=================================================================\n",
      "dense_6 (Dense)              (None, 16)                112       \n",
      "_________________________________________________________________\n",
      "dense_7 (Dense)              (None, 16)                272       \n",
      "_________________________________________________________________\n",
      "dense_8 (Dense)              (None, 3)                 51        \n",
      "=================================================================\n",
      "Total params: 435\n",
      "Trainable params: 435\n",
      "Non-trainable params: 0\n",
      "_________________________________________________________________\n"
     ]
    }
   ],
   "source": [
    "# build model\n",
    "import tensorflow.keras as keras\n",
    "from tensorflow.keras.models import Sequential\n",
    "from tensorflow.keras.layers import Dense, Dropout, Activation\n",
    "\n",
    "model = Sequential()\n",
    "model.add(Dense(units=16, activation='relu', input_shape=(6,)))\n",
    "Dropout(0.25)\n",
    "model.add(Dense(units=16, activation='relu'))\n",
    "Dropout(0.25)\n",
    "model.add(Dense(units=3, activation='softmax'))\n",
    "model.summary()\n"
   ]
  },
  {
   "cell_type": "code",
   "execution_count": 28,
   "metadata": {},
   "outputs": [],
   "source": [
    "# x_train, x_val, y_train, y_val = train_test_split(x_train, y_train, test_size=0.25, random_state=42, stratify = y_train)"
   ]
  },
  {
   "cell_type": "code",
   "execution_count": 29,
   "metadata": {},
   "outputs": [
    {
     "name": "stdout",
     "output_type": "stream",
     "text": [
      "categorical y_train:  (186, 3)\n",
      "categorical y_val :  (62, 3)\n",
      "categorical y_test :  (63, 3)\n"
     ]
    }
   ],
   "source": [
    "# y_train = keras.utils.to_categorical(y_train, 3)\n",
    "# y_val = keras.utils.to_categorical(y_val, 3)\n",
    "# y_test = keras.utils.to_categorical(y_test, 3)\n",
    "# print('categorical y_train: ', y_train.shape)\n",
    "# print('categorical y_val : ', y_val.shape)\n",
    "# print('categorical y_test : ', y_test.shape)"
   ]
  },
  {
   "cell_type": "code",
   "execution_count": 43,
   "metadata": {},
   "outputs": [],
   "source": [
    "from tensorflow.keras.optimizers import SGD\n",
    "# Compile model\n",
    "epochs = 100\n",
    "lr = 0.001\n",
    "# decay = lr/epochs\n",
    "# sgd = SGD(lr=lr, momentum=0.9, decay=decay, nesterov=False)\n",
    "model.compile(loss='categorical_crossentropy', optimizer=keras.optimizers.SGD(lr=lr), metrics=['accuracy'])"
   ]
  },
  {
   "cell_type": "code",
   "execution_count": 45,
   "metadata": {
    "scrolled": true
   },
   "outputs": [
    {
     "name": "stdout",
     "output_type": "stream",
     "text": [
      "Epoch 1/100\n",
      "6/6 [==============================] - 0s 20ms/step - loss: 0.9717 - accuracy: 0.6183 - val_loss: 0.9792 - val_accuracy: 0.6129\n",
      "Epoch 2/100\n",
      "6/6 [==============================] - 0s 13ms/step - loss: 0.9715 - accuracy: 0.6183 - val_loss: 0.9790 - val_accuracy: 0.6129\n",
      "Epoch 3/100\n",
      "6/6 [==============================] - 0s 10ms/step - loss: 0.9712 - accuracy: 0.6183 - val_loss: 0.9787 - val_accuracy: 0.6129\n",
      "Epoch 4/100\n",
      "6/6 [==============================] - 0s 10ms/step - loss: 0.9710 - accuracy: 0.6183 - val_loss: 0.9785 - val_accuracy: 0.6129\n",
      "Epoch 5/100\n",
      "6/6 [==============================] - 0s 12ms/step - loss: 0.9707 - accuracy: 0.6183 - val_loss: 0.9783 - val_accuracy: 0.6129\n",
      "Epoch 6/100\n",
      "6/6 [==============================] - 0s 11ms/step - loss: 0.9705 - accuracy: 0.6183 - val_loss: 0.9780 - val_accuracy: 0.6129\n",
      "Epoch 7/100\n",
      "6/6 [==============================] - 0s 10ms/step - loss: 0.9702 - accuracy: 0.6183 - val_loss: 0.9778 - val_accuracy: 0.6129\n",
      "Epoch 8/100\n",
      "6/6 [==============================] - 0s 10ms/step - loss: 0.9700 - accuracy: 0.6183 - val_loss: 0.9776 - val_accuracy: 0.6129\n",
      "Epoch 9/100\n",
      "6/6 [==============================] - 0s 10ms/step - loss: 0.9697 - accuracy: 0.6183 - val_loss: 0.9774 - val_accuracy: 0.6129\n",
      "Epoch 10/100\n",
      "6/6 [==============================] - 0s 11ms/step - loss: 0.9695 - accuracy: 0.6183 - val_loss: 0.9771 - val_accuracy: 0.6129\n",
      "Epoch 11/100\n",
      "6/6 [==============================] - 0s 11ms/step - loss: 0.9692 - accuracy: 0.6183 - val_loss: 0.9769 - val_accuracy: 0.6129\n",
      "Epoch 12/100\n",
      "6/6 [==============================] - 0s 10ms/step - loss: 0.9690 - accuracy: 0.6183 - val_loss: 0.9767 - val_accuracy: 0.6129\n",
      "Epoch 13/100\n",
      "6/6 [==============================] - 0s 11ms/step - loss: 0.9688 - accuracy: 0.6183 - val_loss: 0.9765 - val_accuracy: 0.6129\n",
      "Epoch 14/100\n",
      "6/6 [==============================] - 0s 11ms/step - loss: 0.9685 - accuracy: 0.6183 - val_loss: 0.9763 - val_accuracy: 0.6129\n",
      "Epoch 15/100\n",
      "6/6 [==============================] - 0s 11ms/step - loss: 0.9683 - accuracy: 0.6183 - val_loss: 0.9760 - val_accuracy: 0.6129\n",
      "Epoch 16/100\n",
      "6/6 [==============================] - 0s 12ms/step - loss: 0.9681 - accuracy: 0.6183 - val_loss: 0.9758 - val_accuracy: 0.6129\n",
      "Epoch 17/100\n",
      "6/6 [==============================] - 0s 11ms/step - loss: 0.9679 - accuracy: 0.6183 - val_loss: 0.9756 - val_accuracy: 0.6129\n",
      "Epoch 18/100\n",
      "6/6 [==============================] - 0s 11ms/step - loss: 0.9677 - accuracy: 0.6183 - val_loss: 0.9754 - val_accuracy: 0.6129\n",
      "Epoch 19/100\n",
      "6/6 [==============================] - 0s 10ms/step - loss: 0.9674 - accuracy: 0.6183 - val_loss: 0.9752 - val_accuracy: 0.6129\n",
      "Epoch 20/100\n",
      "6/6 [==============================] - 0s 11ms/step - loss: 0.9672 - accuracy: 0.6183 - val_loss: 0.9750 - val_accuracy: 0.6129\n",
      "Epoch 21/100\n",
      "6/6 [==============================] - 0s 13ms/step - loss: 0.9670 - accuracy: 0.6183 - val_loss: 0.9748 - val_accuracy: 0.6129\n",
      "Epoch 22/100\n",
      "6/6 [==============================] - 0s 11ms/step - loss: 0.9667 - accuracy: 0.6183 - val_loss: 0.9746 - val_accuracy: 0.6129\n",
      "Epoch 23/100\n",
      "6/6 [==============================] - 0s 15ms/step - loss: 0.9665 - accuracy: 0.6183 - val_loss: 0.9744 - val_accuracy: 0.6129\n",
      "Epoch 24/100\n",
      "6/6 [==============================] - 0s 15ms/step - loss: 0.9663 - accuracy: 0.6183 - val_loss: 0.9742 - val_accuracy: 0.6129\n",
      "Epoch 25/100\n",
      "6/6 [==============================] - 0s 12ms/step - loss: 0.9661 - accuracy: 0.6183 - val_loss: 0.9740 - val_accuracy: 0.6129\n",
      "Epoch 26/100\n",
      "6/6 [==============================] - 0s 13ms/step - loss: 0.9659 - accuracy: 0.6183 - val_loss: 0.9738 - val_accuracy: 0.6129\n",
      "Epoch 27/100\n",
      "6/6 [==============================] - 0s 11ms/step - loss: 0.9657 - accuracy: 0.6183 - val_loss: 0.9737 - val_accuracy: 0.6129\n",
      "Epoch 28/100\n",
      "6/6 [==============================] - 0s 12ms/step - loss: 0.9655 - accuracy: 0.6183 - val_loss: 0.9735 - val_accuracy: 0.6129\n",
      "Epoch 29/100\n",
      "6/6 [==============================] - 0s 13ms/step - loss: 0.9653 - accuracy: 0.6183 - val_loss: 0.9733 - val_accuracy: 0.6129\n",
      "Epoch 30/100\n",
      "6/6 [==============================] - 0s 12ms/step - loss: 0.9651 - accuracy: 0.6183 - val_loss: 0.9731 - val_accuracy: 0.6129\n",
      "Epoch 31/100\n",
      "6/6 [==============================] - 0s 13ms/step - loss: 0.9649 - accuracy: 0.6183 - val_loss: 0.9729 - val_accuracy: 0.6129\n",
      "Epoch 32/100\n",
      "6/6 [==============================] - 0s 13ms/step - loss: 0.9647 - accuracy: 0.6183 - val_loss: 0.9727 - val_accuracy: 0.6129\n",
      "Epoch 33/100\n",
      "6/6 [==============================] - 0s 11ms/step - loss: 0.9645 - accuracy: 0.6183 - val_loss: 0.9725 - val_accuracy: 0.6129\n",
      "Epoch 34/100\n",
      "6/6 [==============================] - 0s 12ms/step - loss: 0.9643 - accuracy: 0.6183 - val_loss: 0.9723 - val_accuracy: 0.6129\n",
      "Epoch 35/100\n",
      "6/6 [==============================] - 0s 14ms/step - loss: 0.9641 - accuracy: 0.6183 - val_loss: 0.9722 - val_accuracy: 0.6129\n",
      "Epoch 36/100\n",
      "6/6 [==============================] - 0s 13ms/step - loss: 0.9639 - accuracy: 0.6183 - val_loss: 0.9720 - val_accuracy: 0.6129\n",
      "Epoch 37/100\n",
      "6/6 [==============================] - 0s 14ms/step - loss: 0.9637 - accuracy: 0.6183 - val_loss: 0.9718 - val_accuracy: 0.6129\n",
      "Epoch 38/100\n",
      "6/6 [==============================] - 0s 11ms/step - loss: 0.9635 - accuracy: 0.6183 - val_loss: 0.9716 - val_accuracy: 0.6129\n",
      "Epoch 39/100\n",
      "6/6 [==============================] - 0s 12ms/step - loss: 0.9633 - accuracy: 0.6183 - val_loss: 0.9715 - val_accuracy: 0.6129\n",
      "Epoch 40/100\n",
      "6/6 [==============================] - 0s 11ms/step - loss: 0.9632 - accuracy: 0.6183 - val_loss: 0.9713 - val_accuracy: 0.6129\n",
      "Epoch 41/100\n",
      "6/6 [==============================] - 0s 11ms/step - loss: 0.9630 - accuracy: 0.6183 - val_loss: 0.9711 - val_accuracy: 0.6129\n",
      "Epoch 42/100\n",
      "6/6 [==============================] - 0s 11ms/step - loss: 0.9628 - accuracy: 0.6183 - val_loss: 0.9710 - val_accuracy: 0.6129\n",
      "Epoch 43/100\n",
      "6/6 [==============================] - 0s 11ms/step - loss: 0.9626 - accuracy: 0.6183 - val_loss: 0.9708 - val_accuracy: 0.6129\n",
      "Epoch 44/100\n",
      "6/6 [==============================] - 0s 11ms/step - loss: 0.9624 - accuracy: 0.6183 - val_loss: 0.9706 - val_accuracy: 0.6129\n",
      "Epoch 45/100\n",
      "6/6 [==============================] - 0s 11ms/step - loss: 0.9622 - accuracy: 0.6183 - val_loss: 0.9705 - val_accuracy: 0.6129\n",
      "Epoch 46/100\n",
      "6/6 [==============================] - 0s 10ms/step - loss: 0.9621 - accuracy: 0.6183 - val_loss: 0.9703 - val_accuracy: 0.6129\n",
      "Epoch 47/100\n",
      "6/6 [==============================] - 0s 10ms/step - loss: 0.9619 - accuracy: 0.6183 - val_loss: 0.9702 - val_accuracy: 0.6129\n",
      "Epoch 48/100\n",
      "6/6 [==============================] - 0s 11ms/step - loss: 0.9617 - accuracy: 0.6183 - val_loss: 0.9700 - val_accuracy: 0.6129\n",
      "Epoch 49/100\n",
      "6/6 [==============================] - 0s 11ms/step - loss: 0.9615 - accuracy: 0.6183 - val_loss: 0.9698 - val_accuracy: 0.6129\n",
      "Epoch 50/100\n",
      "6/6 [==============================] - 0s 11ms/step - loss: 0.9614 - accuracy: 0.6183 - val_loss: 0.9697 - val_accuracy: 0.6129\n",
      "Epoch 51/100\n",
      "6/6 [==============================] - 0s 12ms/step - loss: 0.9612 - accuracy: 0.6183 - val_loss: 0.9695 - val_accuracy: 0.6129\n",
      "Epoch 52/100\n",
      "6/6 [==============================] - 0s 13ms/step - loss: 0.9611 - accuracy: 0.6183 - val_loss: 0.9694 - val_accuracy: 0.6129\n",
      "Epoch 53/100\n",
      "6/6 [==============================] - 0s 13ms/step - loss: 0.9609 - accuracy: 0.6183 - val_loss: 0.9693 - val_accuracy: 0.6129\n",
      "Epoch 54/100\n",
      "6/6 [==============================] - 0s 12ms/step - loss: 0.9608 - accuracy: 0.6183 - val_loss: 0.9691 - val_accuracy: 0.6129\n",
      "Epoch 55/100\n",
      "6/6 [==============================] - 0s 12ms/step - loss: 0.9606 - accuracy: 0.6183 - val_loss: 0.9690 - val_accuracy: 0.6129\n",
      "Epoch 56/100\n",
      "6/6 [==============================] - 0s 16ms/step - loss: 0.9604 - accuracy: 0.6183 - val_loss: 0.9688 - val_accuracy: 0.6129\n",
      "Epoch 57/100\n",
      "6/6 [==============================] - 0s 13ms/step - loss: 0.9602 - accuracy: 0.6183 - val_loss: 0.9687 - val_accuracy: 0.6129\n",
      "Epoch 58/100\n",
      "6/6 [==============================] - 0s 12ms/step - loss: 0.9601 - accuracy: 0.6183 - val_loss: 0.9685 - val_accuracy: 0.6129\n",
      "Epoch 59/100\n",
      "6/6 [==============================] - 0s 11ms/step - loss: 0.9599 - accuracy: 0.6183 - val_loss: 0.9684 - val_accuracy: 0.6129\n",
      "Epoch 60/100\n",
      "6/6 [==============================] - 0s 10ms/step - loss: 0.9598 - accuracy: 0.6183 - val_loss: 0.9682 - val_accuracy: 0.6129\n",
      "Epoch 61/100\n",
      "6/6 [==============================] - 0s 11ms/step - loss: 0.9596 - accuracy: 0.6183 - val_loss: 0.9681 - val_accuracy: 0.6129\n",
      "Epoch 62/100\n",
      "6/6 [==============================] - 0s 12ms/step - loss: 0.9595 - accuracy: 0.6183 - val_loss: 0.9679 - val_accuracy: 0.6129\n",
      "Epoch 63/100\n",
      "6/6 [==============================] - 0s 11ms/step - loss: 0.9593 - accuracy: 0.6183 - val_loss: 0.9678 - val_accuracy: 0.6129\n",
      "Epoch 64/100\n",
      "6/6 [==============================] - 0s 11ms/step - loss: 0.9592 - accuracy: 0.6183 - val_loss: 0.9677 - val_accuracy: 0.6129\n",
      "Epoch 65/100\n",
      "6/6 [==============================] - 0s 10ms/step - loss: 0.9590 - accuracy: 0.6183 - val_loss: 0.9675 - val_accuracy: 0.6129\n",
      "Epoch 66/100\n",
      "6/6 [==============================] - 0s 10ms/step - loss: 0.9589 - accuracy: 0.6183 - val_loss: 0.9674 - val_accuracy: 0.6129\n",
      "Epoch 67/100\n",
      "6/6 [==============================] - 0s 10ms/step - loss: 0.9587 - accuracy: 0.6183 - val_loss: 0.9673 - val_accuracy: 0.6129\n",
      "Epoch 68/100\n",
      "6/6 [==============================] - 0s 11ms/step - loss: 0.9586 - accuracy: 0.6183 - val_loss: 0.9671 - val_accuracy: 0.6129\n",
      "Epoch 69/100\n",
      "6/6 [==============================] - 0s 11ms/step - loss: 0.9584 - accuracy: 0.6183 - val_loss: 0.9670 - val_accuracy: 0.6129\n",
      "Epoch 70/100\n",
      "6/6 [==============================] - 0s 12ms/step - loss: 0.9583 - accuracy: 0.6183 - val_loss: 0.9669 - val_accuracy: 0.6129\n",
      "Epoch 71/100\n",
      "6/6 [==============================] - 0s 11ms/step - loss: 0.9582 - accuracy: 0.6183 - val_loss: 0.9667 - val_accuracy: 0.6129\n",
      "Epoch 72/100\n",
      "6/6 [==============================] - 0s 10ms/step - loss: 0.9580 - accuracy: 0.6183 - val_loss: 0.9666 - val_accuracy: 0.6129\n",
      "Epoch 73/100\n",
      "6/6 [==============================] - 0s 10ms/step - loss: 0.9579 - accuracy: 0.6183 - val_loss: 0.9665 - val_accuracy: 0.6129\n",
      "Epoch 74/100\n",
      "6/6 [==============================] - 0s 10ms/step - loss: 0.9578 - accuracy: 0.6183 - val_loss: 0.9663 - val_accuracy: 0.6129\n",
      "Epoch 75/100\n",
      "6/6 [==============================] - 0s 11ms/step - loss: 0.9576 - accuracy: 0.6183 - val_loss: 0.9662 - val_accuracy: 0.6129\n",
      "Epoch 76/100\n",
      "6/6 [==============================] - 0s 11ms/step - loss: 0.9574 - accuracy: 0.6183 - val_loss: 0.9661 - val_accuracy: 0.6129\n",
      "Epoch 77/100\n",
      "6/6 [==============================] - 0s 11ms/step - loss: 0.9573 - accuracy: 0.6183 - val_loss: 0.9660 - val_accuracy: 0.6129\n",
      "Epoch 78/100\n",
      "6/6 [==============================] - 0s 11ms/step - loss: 0.9572 - accuracy: 0.6183 - val_loss: 0.9658 - val_accuracy: 0.6129\n",
      "Epoch 79/100\n",
      "6/6 [==============================] - 0s 10ms/step - loss: 0.9571 - accuracy: 0.6183 - val_loss: 0.9657 - val_accuracy: 0.6129\n",
      "Epoch 80/100\n",
      "6/6 [==============================] - 0s 10ms/step - loss: 0.9569 - accuracy: 0.6183 - val_loss: 0.9656 - val_accuracy: 0.6129\n",
      "Epoch 81/100\n",
      "6/6 [==============================] - 0s 11ms/step - loss: 0.9568 - accuracy: 0.6183 - val_loss: 0.9655 - val_accuracy: 0.6129\n",
      "Epoch 82/100\n",
      "6/6 [==============================] - 0s 11ms/step - loss: 0.9566 - accuracy: 0.6183 - val_loss: 0.9654 - val_accuracy: 0.6129\n",
      "Epoch 83/100\n",
      "6/6 [==============================] - 0s 12ms/step - loss: 0.9565 - accuracy: 0.6183 - val_loss: 0.9652 - val_accuracy: 0.6129\n",
      "Epoch 84/100\n",
      "6/6 [==============================] - 0s 13ms/step - loss: 0.9564 - accuracy: 0.6183 - val_loss: 0.9651 - val_accuracy: 0.6129\n",
      "Epoch 85/100\n",
      "6/6 [==============================] - 0s 10ms/step - loss: 0.9563 - accuracy: 0.6183 - val_loss: 0.9650 - val_accuracy: 0.6129\n",
      "Epoch 86/100\n",
      "6/6 [==============================] - 0s 10ms/step - loss: 0.9561 - accuracy: 0.6183 - val_loss: 0.9649 - val_accuracy: 0.6129\n",
      "Epoch 87/100\n",
      "6/6 [==============================] - 0s 10ms/step - loss: 0.9560 - accuracy: 0.6183 - val_loss: 0.9647 - val_accuracy: 0.6129\n",
      "Epoch 88/100\n",
      "6/6 [==============================] - 0s 10ms/step - loss: 0.9559 - accuracy: 0.6183 - val_loss: 0.9646 - val_accuracy: 0.6129\n",
      "Epoch 89/100\n",
      "6/6 [==============================] - 0s 11ms/step - loss: 0.9557 - accuracy: 0.6183 - val_loss: 0.9645 - val_accuracy: 0.6129\n",
      "Epoch 90/100\n",
      "6/6 [==============================] - 0s 12ms/step - loss: 0.9556 - accuracy: 0.6183 - val_loss: 0.9644 - val_accuracy: 0.6129\n",
      "Epoch 91/100\n",
      "6/6 [==============================] - 0s 12ms/step - loss: 0.9555 - accuracy: 0.6183 - val_loss: 0.9643 - val_accuracy: 0.6129\n",
      "Epoch 92/100\n",
      "6/6 [==============================] - 0s 12ms/step - loss: 0.9554 - accuracy: 0.6183 - val_loss: 0.9642 - val_accuracy: 0.6129\n",
      "Epoch 93/100\n",
      "6/6 [==============================] - 0s 12ms/step - loss: 0.9553 - accuracy: 0.6183 - val_loss: 0.9641 - val_accuracy: 0.6129\n",
      "Epoch 94/100\n",
      "6/6 [==============================] - 0s 12ms/step - loss: 0.9552 - accuracy: 0.6183 - val_loss: 0.9640 - val_accuracy: 0.6129\n",
      "Epoch 95/100\n",
      "6/6 [==============================] - 0s 10ms/step - loss: 0.9550 - accuracy: 0.6183 - val_loss: 0.9638 - val_accuracy: 0.6129\n",
      "Epoch 96/100\n",
      "6/6 [==============================] - 0s 12ms/step - loss: 0.9549 - accuracy: 0.6183 - val_loss: 0.9637 - val_accuracy: 0.6129\n",
      "Epoch 97/100\n",
      "6/6 [==============================] - 0s 10ms/step - loss: 0.9548 - accuracy: 0.6183 - val_loss: 0.9636 - val_accuracy: 0.6129\n",
      "Epoch 98/100\n",
      "6/6 [==============================] - 0s 11ms/step - loss: 0.9547 - accuracy: 0.6183 - val_loss: 0.9635 - val_accuracy: 0.6129\n",
      "Epoch 99/100\n",
      "6/6 [==============================] - 0s 10ms/step - loss: 0.9546 - accuracy: 0.6183 - val_loss: 0.9634 - val_accuracy: 0.6129\n",
      "Epoch 100/100\n",
      "6/6 [==============================] - 0s 11ms/step - loss: 0.9544 - accuracy: 0.6183 - val_loss: 0.9633 - val_accuracy: 0.6129\n"
     ]
    }
   ],
   "source": [
    "history = model.fit(x_train, y_train,\n",
    "                    batch_size=32,\n",
    "                    epochs=epochs,\n",
    "                    verbose=True,\n",
    "                    validation_data=(x_val, y_val))"
   ]
  },
  {
   "cell_type": "code",
   "execution_count": 33,
   "metadata": {},
   "outputs": [
    {
     "name": "stdout",
     "output_type": "stream",
     "text": [
      "Saved model to disk\n"
     ]
    }
   ],
   "source": [
    "# save model as json\n",
    "model_json = model.to_json()\n",
    "with open(\"model.json\", \"w\") as json_file:\n",
    "    json_file.write(model_json)\n",
    "\n",
    "model.save_weights(\"model-norm2.h5\")\n",
    "print(\"Saved model to disk\")"
   ]
  },
  {
   "cell_type": "code",
   "execution_count": 34,
   "metadata": {},
   "outputs": [
    {
     "name": "stdout",
     "output_type": "stream",
     "text": [
      "dict_keys(['loss', 'accuracy', 'val_loss', 'val_accuracy'])\n"
     ]
    },
    {
     "data": {
      "image/png": "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\n",
      "text/plain": [
       "<Figure size 432x288 with 1 Axes>"
      ]
     },
     "metadata": {
      "needs_background": "light"
     },
     "output_type": "display_data"
    },
    {
     "data": {
      "image/png": "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\n",
      "text/plain": [
       "<Figure size 432x288 with 1 Axes>"
      ]
     },
     "metadata": {
      "needs_background": "light"
     },
     "output_type": "display_data"
    }
   ],
   "source": [
    "print(history.history.keys())\n",
    "# summarize history for accuracy\n",
    "plt.plot(history.history['accuracy'], marker = \"*\")\n",
    "plt.plot(history.history['val_accuracy'], marker = \"*\")\n",
    "plt.title('model accuracy')\n",
    "plt.ylabel('accuracy')\n",
    "plt.xlabel('epoch')\n",
    "plt.legend(['train', 'val'], loc='upper left')\n",
    "plt.show()\n",
    "\n",
    "# summarize history for loss\n",
    "plt.plot(history.history['loss'], marker = \"*\")\n",
    "plt.plot(history.history['val_loss'], marker = \"*\")\n",
    "plt.title('model loss')\n",
    "plt.ylabel('loss')\n",
    "plt.xlabel('epoch')\n",
    "plt.legend(['train', 'val'], loc='upper left')\n",
    "plt.show()"
   ]
  },
  {
   "cell_type": "code",
   "execution_count": 35,
   "metadata": {},
   "outputs": [
    {
     "name": "stdout",
     "output_type": "stream",
     "text": [
      "2/2 [==============================] - 0s 4ms/step - loss: 0.9926 - accuracy: 0.6190\n",
      "Test loss: 0.9925934076309204\n",
      "Test accuracy: 0.6190476417541504\n"
     ]
    }
   ],
   "source": [
    "score = model.evaluate(x_test, y_test, verbose=True)\n",
    "print('Test loss:', score[0])\n",
    "print('Test accuracy:', score[1])"
   ]
  },
  {
   "cell_type": "code",
   "execution_count": 77,
   "metadata": {},
   "outputs": [],
   "source": [
    "y_scores = model.predict(x_test)\n",
    "fpr_nn, tpr_nn, threshold = roc_curve(y_test, y_scores, pos_label= 1)\n",
    "roc_auc_nn = auc(fpr_nn, tpr_nn)"
   ]
  },
  {
   "cell_type": "code",
   "execution_count": 78,
   "metadata": {},
   "outputs": [
    {
     "data": {
      "image/png": "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\n",
      "text/plain": [
       "<Figure size 864x720 with 1 Axes>"
      ]
     },
     "metadata": {
      "needs_background": "light"
     },
     "output_type": "display_data"
    }
   ],
   "source": [
    "import matplotlib.pyplot as plt\n",
    "fig = plt.figure(figsize=(12,10))          # Create window frame\n",
    "ax = fig.add_subplot(111)   # Create axes\n",
    "# 9.2 Also connect diagonals\n",
    "ax.plot([0, 1], [0, 1], ls=\"--\")   # Dashed diagonal line\n",
    "# 9.3 Labels etc\n",
    "ax.set_xlabel('False Positive Rate')  # Final plot decorations\n",
    "ax.set_ylabel('True Positive Rate')\n",
    "ax.set_title('ROC curve')\n",
    "# 9.4 Set graph limits\n",
    "ax.set_xlim([0.0, 1.0])\n",
    "ax.set_ylim([0.0, 1.0])\n",
    "\n",
    "# 9.5 Plot each graph now\n",
    "ax.plot(fpr_knn, tpr_knn, label = \"knn\")\n",
    "ax.plot(fpr_svm, tpr_svm, label = \"svm\")\n",
    "ax.plot(fpr_tree, tpr_tree, label = \"tree\")\n",
    "ax.plot(fpr_rf, tpr_rf, label = \"rf\")\n",
    "ax.plot(fpr_nn, tpr_nn, label = \"nn\")\n",
    "\n",
    "# 9.6 Set legend and show plot\n",
    "ax.legend(loc=\"lower right\")\n",
    "plt.show()"
   ]
  },
  {
   "cell_type": "code",
   "execution_count": null,
   "metadata": {},
   "outputs": [],
   "source": []
  }
 ],
 "metadata": {
  "kernelspec": {
   "display_name": "Python 3",
   "language": "python",
   "name": "python3"
  },
  "language_info": {
   "codemirror_mode": {
    "name": "ipython",
    "version": 3
   },
   "file_extension": ".py",
   "mimetype": "text/x-python",
   "name": "python",
   "nbconvert_exporter": "python",
   "pygments_lexer": "ipython3",
   "version": "3.8.5"
  }
 },
 "nbformat": 4,
 "nbformat_minor": 4
}
