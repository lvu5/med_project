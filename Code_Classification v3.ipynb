{
 "cells": [
  {
   "cell_type": "code",
   "execution_count": 1,
   "metadata": {},
   "outputs": [],
   "source": [
    "import sklearn\n",
    "from sklearn.datasets import load_breast_cancer\n",
    "from sklearn.model_selection import train_test_split\n",
    "from sklearn.neighbors import KNeighborsClassifier\n",
    "import numpy as np\n",
    "from sklearn.metrics import accuracy_score\n",
    "import matplotlib.pyplot as plt\n",
    "from sklearn.metrics import roc_curve, auc\n",
    "from sklearn.model_selection import cross_validate"
   ]
  },
  {
   "cell_type": "code",
   "execution_count": 2,
   "metadata": {},
   "outputs": [],
   "source": [
    "# data = load_breast_cancer()\n",
    "# x = data.data\n",
    "# y = data.target"
   ]
  },
  {
   "cell_type": "code",
   "execution_count": 3,
   "metadata": {},
   "outputs": [
    {
     "data": {
      "text/html": [
       "<div>\n",
       "<style scoped>\n",
       "    .dataframe tbody tr th:only-of-type {\n",
       "        vertical-align: middle;\n",
       "    }\n",
       "\n",
       "    .dataframe tbody tr th {\n",
       "        vertical-align: top;\n",
       "    }\n",
       "\n",
       "    .dataframe thead th {\n",
       "        text-align: right;\n",
       "    }\n",
       "</style>\n",
       "<table border=\"1\" class=\"dataframe\">\n",
       "  <thead>\n",
       "    <tr style=\"text-align: right;\">\n",
       "      <th></th>\n",
       "      <th>ID</th>\n",
       "      <th>background_tissue</th>\n",
       "      <th>class</th>\n",
       "      <th>severity</th>\n",
       "      <th>x</th>\n",
       "      <th>y</th>\n",
       "      <th>rad</th>\n",
       "      <th>mean</th>\n",
       "      <th>var</th>\n",
       "      <th>std</th>\n",
       "      <th>min_pixel</th>\n",
       "      <th>max_pixel</th>\n",
       "      <th>min_coor_x</th>\n",
       "      <th>min_coor_y</th>\n",
       "      <th>max_coor_x</th>\n",
       "      <th>max_coor_y</th>\n",
       "      <th>bdips</th>\n",
       "    </tr>\n",
       "  </thead>\n",
       "  <tbody>\n",
       "    <tr>\n",
       "      <th>307</th>\n",
       "      <td>mdb318</td>\n",
       "      <td>D</td>\n",
       "      <td>NORM</td>\n",
       "      <td>N</td>\n",
       "      <td>442</td>\n",
       "      <td>68</td>\n",
       "      <td>50</td>\n",
       "      <td>14.033015</td>\n",
       "      <td>0.505857</td>\n",
       "      <td>0.711236</td>\n",
       "      <td>11</td>\n",
       "      <td>35</td>\n",
       "      <td>436</td>\n",
       "      <td>951</td>\n",
       "      <td>467</td>\n",
       "      <td>965</td>\n",
       "      <td>0.000641</td>\n",
       "    </tr>\n",
       "    <tr>\n",
       "      <th>308</th>\n",
       "      <td>mdb319</td>\n",
       "      <td>D</td>\n",
       "      <td>NORM</td>\n",
       "      <td>N</td>\n",
       "      <td>590</td>\n",
       "      <td>281</td>\n",
       "      <td>50</td>\n",
       "      <td>145.912938</td>\n",
       "      <td>28.130725</td>\n",
       "      <td>5.303841</td>\n",
       "      <td>130</td>\n",
       "      <td>168</td>\n",
       "      <td>587</td>\n",
       "      <td>778</td>\n",
       "      <td>637</td>\n",
       "      <td>745</td>\n",
       "      <td>0.000114</td>\n",
       "    </tr>\n",
       "    <tr>\n",
       "      <th>309</th>\n",
       "      <td>mdb320</td>\n",
       "      <td>D</td>\n",
       "      <td>NORM</td>\n",
       "      <td>N</td>\n",
       "      <td>495</td>\n",
       "      <td>264</td>\n",
       "      <td>50</td>\n",
       "      <td>195.578840</td>\n",
       "      <td>470.810515</td>\n",
       "      <td>21.698168</td>\n",
       "      <td>146</td>\n",
       "      <td>227</td>\n",
       "      <td>451</td>\n",
       "      <td>745</td>\n",
       "      <td>527</td>\n",
       "      <td>722</td>\n",
       "      <td>0.000004</td>\n",
       "    </tr>\n",
       "    <tr>\n",
       "      <th>310</th>\n",
       "      <td>mdb321</td>\n",
       "      <td>D</td>\n",
       "      <td>NORM</td>\n",
       "      <td>N</td>\n",
       "      <td>604</td>\n",
       "      <td>271</td>\n",
       "      <td>50</td>\n",
       "      <td>177.764946</td>\n",
       "      <td>30.464061</td>\n",
       "      <td>5.519426</td>\n",
       "      <td>163</td>\n",
       "      <td>199</td>\n",
       "      <td>626</td>\n",
       "      <td>740</td>\n",
       "      <td>555</td>\n",
       "      <td>746</td>\n",
       "      <td>0.000026</td>\n",
       "    </tr>\n",
       "    <tr>\n",
       "      <th>311</th>\n",
       "      <td>mdb322</td>\n",
       "      <td>D</td>\n",
       "      <td>NORM</td>\n",
       "      <td>N</td>\n",
       "      <td>460</td>\n",
       "      <td>115</td>\n",
       "      <td>50</td>\n",
       "      <td>8.994009</td>\n",
       "      <td>7.767332</td>\n",
       "      <td>2.786993</td>\n",
       "      <td>6</td>\n",
       "      <td>24</td>\n",
       "      <td>493</td>\n",
       "      <td>895</td>\n",
       "      <td>446</td>\n",
       "      <td>863</td>\n",
       "      <td>0.000786</td>\n",
       "    </tr>\n",
       "  </tbody>\n",
       "</table>\n",
       "</div>"
      ],
      "text/plain": [
       "         ID background_tissue class severity    x    y  rad        mean  \\\n",
       "307  mdb318                 D  NORM        N  442   68   50   14.033015   \n",
       "308  mdb319                 D  NORM        N  590  281   50  145.912938   \n",
       "309  mdb320                 D  NORM        N  495  264   50  195.578840   \n",
       "310  mdb321                 D  NORM        N  604  271   50  177.764946   \n",
       "311  mdb322                 D  NORM        N  460  115   50    8.994009   \n",
       "\n",
       "            var        std  min_pixel  max_pixel  min_coor_x  min_coor_y  \\\n",
       "307    0.505857   0.711236         11         35         436         951   \n",
       "308   28.130725   5.303841        130        168         587         778   \n",
       "309  470.810515  21.698168        146        227         451         745   \n",
       "310   30.464061   5.519426        163        199         626         740   \n",
       "311    7.767332   2.786993          6         24         493         895   \n",
       "\n",
       "     max_coor_x  max_coor_y     bdips  \n",
       "307         467         965  0.000641  \n",
       "308         637         745  0.000114  \n",
       "309         527         722  0.000004  \n",
       "310         555         746  0.000026  \n",
       "311         446         863  0.000786  "
      ]
     },
     "execution_count": 3,
     "metadata": {},
     "output_type": "execute_result"
    }
   ],
   "source": [
    "import pandas as pd\n",
    "data = pd.read_csv('datasets/final1.csv')\n",
    "del data['Unnamed: 0']\n",
    "data.tail()"
   ]
  },
  {
   "cell_type": "code",
   "execution_count": 4,
   "metadata": {},
   "outputs": [],
   "source": [
    "x = data.iloc[:,[7,8,9,11,16]]\n",
    "y = data['severity']\n",
    "di = {'N':0, 'B':1, 'M':2}\n",
    "y = y.map(di)\n",
    "x = x.drop([243])\n",
    "y = y.drop([243])"
   ]
  },
  {
   "cell_type": "code",
   "execution_count": 5,
   "metadata": {},
   "outputs": [
    {
     "data": {
      "text/html": [
       "<div>\n",
       "<style scoped>\n",
       "    .dataframe tbody tr th:only-of-type {\n",
       "        vertical-align: middle;\n",
       "    }\n",
       "\n",
       "    .dataframe tbody tr th {\n",
       "        vertical-align: top;\n",
       "    }\n",
       "\n",
       "    .dataframe thead th {\n",
       "        text-align: right;\n",
       "    }\n",
       "</style>\n",
       "<table border=\"1\" class=\"dataframe\">\n",
       "  <thead>\n",
       "    <tr style=\"text-align: right;\">\n",
       "      <th></th>\n",
       "      <th>mean</th>\n",
       "      <th>var</th>\n",
       "      <th>std</th>\n",
       "      <th>max_pixel</th>\n",
       "      <th>bdips</th>\n",
       "    </tr>\n",
       "  </thead>\n",
       "  <tbody>\n",
       "    <tr>\n",
       "      <th>0</th>\n",
       "      <td>150.781051</td>\n",
       "      <td>3205.504934</td>\n",
       "      <td>56.617179</td>\n",
       "      <td>221</td>\n",
       "      <td>0.000007</td>\n",
       "    </tr>\n",
       "    <tr>\n",
       "      <th>1</th>\n",
       "      <td>197.870827</td>\n",
       "      <td>764.537398</td>\n",
       "      <td>27.650269</td>\n",
       "      <td>229</td>\n",
       "      <td>0.000055</td>\n",
       "    </tr>\n",
       "    <tr>\n",
       "      <th>2</th>\n",
       "      <td>149.605105</td>\n",
       "      <td>409.222292</td>\n",
       "      <td>20.229243</td>\n",
       "      <td>187</td>\n",
       "      <td>0.000087</td>\n",
       "    </tr>\n",
       "    <tr>\n",
       "      <th>3</th>\n",
       "      <td>162.426214</td>\n",
       "      <td>80.178549</td>\n",
       "      <td>8.954248</td>\n",
       "      <td>181</td>\n",
       "      <td>0.000578</td>\n",
       "    </tr>\n",
       "    <tr>\n",
       "      <th>4</th>\n",
       "      <td>184.385157</td>\n",
       "      <td>127.091607</td>\n",
       "      <td>11.273491</td>\n",
       "      <td>208</td>\n",
       "      <td>0.000287</td>\n",
       "    </tr>\n",
       "    <tr>\n",
       "      <th>...</th>\n",
       "      <td>...</td>\n",
       "      <td>...</td>\n",
       "      <td>...</td>\n",
       "      <td>...</td>\n",
       "      <td>...</td>\n",
       "    </tr>\n",
       "    <tr>\n",
       "      <th>307</th>\n",
       "      <td>14.033015</td>\n",
       "      <td>0.505857</td>\n",
       "      <td>0.711236</td>\n",
       "      <td>35</td>\n",
       "      <td>0.000641</td>\n",
       "    </tr>\n",
       "    <tr>\n",
       "      <th>308</th>\n",
       "      <td>145.912938</td>\n",
       "      <td>28.130725</td>\n",
       "      <td>5.303841</td>\n",
       "      <td>168</td>\n",
       "      <td>0.000114</td>\n",
       "    </tr>\n",
       "    <tr>\n",
       "      <th>309</th>\n",
       "      <td>195.578840</td>\n",
       "      <td>470.810515</td>\n",
       "      <td>21.698168</td>\n",
       "      <td>227</td>\n",
       "      <td>0.000004</td>\n",
       "    </tr>\n",
       "    <tr>\n",
       "      <th>310</th>\n",
       "      <td>177.764946</td>\n",
       "      <td>30.464061</td>\n",
       "      <td>5.519426</td>\n",
       "      <td>199</td>\n",
       "      <td>0.000026</td>\n",
       "    </tr>\n",
       "    <tr>\n",
       "      <th>311</th>\n",
       "      <td>8.994009</td>\n",
       "      <td>7.767332</td>\n",
       "      <td>2.786993</td>\n",
       "      <td>24</td>\n",
       "      <td>0.000786</td>\n",
       "    </tr>\n",
       "  </tbody>\n",
       "</table>\n",
       "<p>311 rows × 5 columns</p>\n",
       "</div>"
      ],
      "text/plain": [
       "           mean          var        std  max_pixel     bdips\n",
       "0    150.781051  3205.504934  56.617179        221  0.000007\n",
       "1    197.870827   764.537398  27.650269        229  0.000055\n",
       "2    149.605105   409.222292  20.229243        187  0.000087\n",
       "3    162.426214    80.178549   8.954248        181  0.000578\n",
       "4    184.385157   127.091607  11.273491        208  0.000287\n",
       "..          ...          ...        ...        ...       ...\n",
       "307   14.033015     0.505857   0.711236         35  0.000641\n",
       "308  145.912938    28.130725   5.303841        168  0.000114\n",
       "309  195.578840   470.810515  21.698168        227  0.000004\n",
       "310  177.764946    30.464061   5.519426        199  0.000026\n",
       "311    8.994009     7.767332   2.786993         24  0.000786\n",
       "\n",
       "[311 rows x 5 columns]"
      ]
     },
     "execution_count": 5,
     "metadata": {},
     "output_type": "execute_result"
    }
   ],
   "source": [
    "x"
   ]
  },
  {
   "cell_type": "code",
   "execution_count": 10,
   "metadata": {},
   "outputs": [],
   "source": [
    "x_train, x_test, y_train, y_test = train_test_split(x, y,test_size = 0.2, random_state=42, stratify = y)"
   ]
  },
  {
   "cell_type": "markdown",
   "metadata": {},
   "source": [
    "# KNN"
   ]
  },
  {
   "cell_type": "code",
   "execution_count": 67,
   "metadata": {
    "scrolled": true
   },
   "outputs": [
    {
     "name": "stderr",
     "output_type": "stream",
     "text": [
      "C:\\Users\\huyenntx1\\Miniconda3\\lib\\site-packages\\sklearn\\model_selection\\_validation.py:548: FitFailedWarning: Estimator fit failed. The score on this train-test partition for these parameters will be set to nan. Details: \n",
      "Traceback (most recent call last):\n",
      "  File \"C:\\Users\\huyenntx1\\Miniconda3\\lib\\site-packages\\sklearn\\model_selection\\_validation.py\", line 531, in _fit_and_score\n",
      "    estimator.fit(X_train, y_train, **fit_params)\n",
      "  File \"C:\\Users\\huyenntx1\\Miniconda3\\lib\\site-packages\\sklearn\\neighbors\\_base.py\", line 1157, in fit\n",
      "    return self._fit(X)\n",
      "  File \"C:\\Users\\huyenntx1\\Miniconda3\\lib\\site-packages\\sklearn\\neighbors\\_base.py\", line 467, in _fit\n",
      "    raise ValueError(\n",
      "ValueError: Expected n_neighbors > 0. Got 0\n",
      "\n",
      "  warnings.warn(\"Estimator fit failed. The score on this train-test\"\n",
      "C:\\Users\\huyenntx1\\Miniconda3\\lib\\site-packages\\sklearn\\model_selection\\_validation.py:548: FitFailedWarning: Estimator fit failed. The score on this train-test partition for these parameters will be set to nan. Details: \n",
      "Traceback (most recent call last):\n",
      "  File \"C:\\Users\\huyenntx1\\Miniconda3\\lib\\site-packages\\sklearn\\model_selection\\_validation.py\", line 531, in _fit_and_score\n",
      "    estimator.fit(X_train, y_train, **fit_params)\n",
      "  File \"C:\\Users\\huyenntx1\\Miniconda3\\lib\\site-packages\\sklearn\\neighbors\\_base.py\", line 1157, in fit\n",
      "    return self._fit(X)\n",
      "  File \"C:\\Users\\huyenntx1\\Miniconda3\\lib\\site-packages\\sklearn\\neighbors\\_base.py\", line 467, in _fit\n",
      "    raise ValueError(\n",
      "ValueError: Expected n_neighbors > 0. Got 0\n",
      "\n",
      "  warnings.warn(\"Estimator fit failed. The score on this train-test\"\n",
      "C:\\Users\\huyenntx1\\Miniconda3\\lib\\site-packages\\sklearn\\model_selection\\_validation.py:548: FitFailedWarning: Estimator fit failed. The score on this train-test partition for these parameters will be set to nan. Details: \n",
      "Traceback (most recent call last):\n",
      "  File \"C:\\Users\\huyenntx1\\Miniconda3\\lib\\site-packages\\sklearn\\model_selection\\_validation.py\", line 531, in _fit_and_score\n",
      "    estimator.fit(X_train, y_train, **fit_params)\n",
      "  File \"C:\\Users\\huyenntx1\\Miniconda3\\lib\\site-packages\\sklearn\\neighbors\\_base.py\", line 1157, in fit\n",
      "    return self._fit(X)\n",
      "  File \"C:\\Users\\huyenntx1\\Miniconda3\\lib\\site-packages\\sklearn\\neighbors\\_base.py\", line 467, in _fit\n",
      "    raise ValueError(\n",
      "ValueError: Expected n_neighbors > 0. Got 0\n",
      "\n",
      "  warnings.warn(\"Estimator fit failed. The score on this train-test\"\n",
      "C:\\Users\\huyenntx1\\Miniconda3\\lib\\site-packages\\sklearn\\model_selection\\_validation.py:548: FitFailedWarning: Estimator fit failed. The score on this train-test partition for these parameters will be set to nan. Details: \n",
      "Traceback (most recent call last):\n",
      "  File \"C:\\Users\\huyenntx1\\Miniconda3\\lib\\site-packages\\sklearn\\model_selection\\_validation.py\", line 531, in _fit_and_score\n",
      "    estimator.fit(X_train, y_train, **fit_params)\n",
      "  File \"C:\\Users\\huyenntx1\\Miniconda3\\lib\\site-packages\\sklearn\\neighbors\\_base.py\", line 1157, in fit\n",
      "    return self._fit(X)\n",
      "  File \"C:\\Users\\huyenntx1\\Miniconda3\\lib\\site-packages\\sklearn\\neighbors\\_base.py\", line 467, in _fit\n",
      "    raise ValueError(\n",
      "ValueError: Expected n_neighbors > 0. Got 0\n",
      "\n",
      "  warnings.warn(\"Estimator fit failed. The score on this train-test\"\n",
      "C:\\Users\\huyenntx1\\Miniconda3\\lib\\site-packages\\sklearn\\model_selection\\_validation.py:548: FitFailedWarning: Estimator fit failed. The score on this train-test partition for these parameters will be set to nan. Details: \n",
      "Traceback (most recent call last):\n",
      "  File \"C:\\Users\\huyenntx1\\Miniconda3\\lib\\site-packages\\sklearn\\model_selection\\_validation.py\", line 531, in _fit_and_score\n",
      "    estimator.fit(X_train, y_train, **fit_params)\n",
      "  File \"C:\\Users\\huyenntx1\\Miniconda3\\lib\\site-packages\\sklearn\\neighbors\\_base.py\", line 1157, in fit\n",
      "    return self._fit(X)\n",
      "  File \"C:\\Users\\huyenntx1\\Miniconda3\\lib\\site-packages\\sklearn\\neighbors\\_base.py\", line 467, in _fit\n",
      "    raise ValueError(\n",
      "ValueError: Expected n_neighbors > 0. Got 0\n",
      "\n",
      "  warnings.warn(\"Estimator fit failed. The score on this train-test\"\n"
     ]
    },
    {
     "data": {
      "text/plain": [
       "{'n_neighbors': 14}"
      ]
     },
     "execution_count": 67,
     "metadata": {},
     "output_type": "execute_result"
    }
   ],
   "source": [
    "from sklearn.model_selection import GridSearchCV\n",
    "params = {'n_neighbors': np.arange(15)}\n",
    "reg = KNeighborsClassifier()\n",
    "model = GridSearchCV(reg, params, cv=5)\n",
    "model.fit(x_train,y_train)\n",
    "model.best_params_"
   ]
  },
  {
   "cell_type": "code",
   "execution_count": 68,
   "metadata": {},
   "outputs": [
    {
     "name": "stdout",
     "output_type": "stream",
     "text": [
      "Test set R^2: 0.63\n"
     ]
    },
    {
     "data": {
      "text/plain": [
       "array([0, 0, 0, 1, 0, 0, 1, 0, 0, 0, 0, 0, 0, 2, 0, 0, 0, 0, 2, 0, 0, 0,\n",
       "       0, 0, 0, 0, 0, 0, 0, 0, 0, 0, 1, 1, 1, 1, 0, 0, 0, 0, 0, 0, 0, 0,\n",
       "       0, 0, 0, 0, 0, 1, 0, 0, 1, 0, 2, 2, 0, 1, 0, 0, 0, 0, 0],\n",
       "      dtype=int64)"
      ]
     },
     "execution_count": 68,
     "metadata": {},
     "output_type": "execute_result"
    }
   ],
   "source": [
    "knn = KNeighborsClassifier(n_neighbors=14)\n",
    "knn.fit(x_train, y_train)\n",
    "print(\"Test set R^2: {:.2f}\".format(knn.score(x_test, y_test)))\n",
    "y_pred = knn.predict(x_test)\n",
    "y_pred"
   ]
  },
  {
   "cell_type": "code",
   "execution_count": 69,
   "metadata": {},
   "outputs": [
    {
     "data": {
      "text/plain": [
       "array([0, 0, 0, 2, 0, 0, 1, 0, 0, 0, 0, 1, 2, 1, 0, 1, 0, 1, 2, 2, 1, 0,\n",
       "       0, 1, 1, 2, 0, 0, 0, 0, 0, 0, 1, 0, 0, 0, 0, 0, 1, 1, 2, 0, 0, 2,\n",
       "       0, 1, 0, 0, 0, 1, 0, 0, 2, 0, 2, 1, 0, 0, 2, 0, 0, 0, 0],\n",
       "      dtype=int64)"
      ]
     },
     "execution_count": 69,
     "metadata": {},
     "output_type": "execute_result"
    }
   ],
   "source": [
    "np.array(y_test)"
   ]
  },
  {
   "cell_type": "code",
   "execution_count": 70,
   "metadata": {},
   "outputs": [],
   "source": [
    "y_scores = knn.predict_proba(x_test)\n",
    "fpr_knn, tpr_knn, threshold = roc_curve(y_test, y_scores[:, 1], pos_label= 1)\n",
    "roc_auc_knn = auc(fpr_knn, tpr_knn)"
   ]
  },
  {
   "cell_type": "code",
   "execution_count": 71,
   "metadata": {},
   "outputs": [
    {
     "name": "stdout",
     "output_type": "stream",
     "text": [
      "{'fit_time': array([0.01445866, 0.00198913, 0.00202775, 0.0020287 , 0.        ]), 'score_time': array([0.0043819 , 0.00399017, 0.0039866 , 0.00298858, 0.        ]), 'test_score': array([0.58730159, 0.62903226, 0.61290323, 0.5483871 , 0.62903226]), 'train_score': array([0.65322581, 0.6626506 , 0.65060241, 0.67871486, 0.63052209])}\n"
     ]
    }
   ],
   "source": [
    "scores = cross_validate(knn, x, y, cv=5, scoring=('accuracy'),\n",
    "                        return_train_score=True)\n",
    "print(scores)\n"
   ]
  },
  {
   "cell_type": "markdown",
   "metadata": {},
   "source": [
    "# SVM\n"
   ]
  },
  {
   "cell_type": "code",
   "execution_count": 95,
   "metadata": {},
   "outputs": [
    {
     "data": {
      "text/plain": [
       "SVC(C=30)"
      ]
     },
     "execution_count": 95,
     "metadata": {},
     "output_type": "execute_result"
    }
   ],
   "source": [
    "svm = sklearn.svm.SVC(C = 30, kernel='rbf')\n",
    "svm.fit(x_train, y_train)"
   ]
  },
  {
   "cell_type": "code",
   "execution_count": 96,
   "metadata": {},
   "outputs": [
    {
     "data": {
      "text/plain": [
       "0.6451612903225806"
      ]
     },
     "execution_count": 96,
     "metadata": {},
     "output_type": "execute_result"
    }
   ],
   "source": [
    "svm.score(x_train, y_train)\n"
   ]
  },
  {
   "cell_type": "code",
   "execution_count": 97,
   "metadata": {},
   "outputs": [
    {
     "data": {
      "text/plain": [
       "0.6190476190476191"
      ]
     },
     "execution_count": 97,
     "metadata": {},
     "output_type": "execute_result"
    }
   ],
   "source": [
    "svm.score(x_test, y_test)\n"
   ]
  },
  {
   "cell_type": "code",
   "execution_count": 98,
   "metadata": {},
   "outputs": [
    {
     "data": {
      "text/plain": [
       "array([0, 0, 0, 0, 0, 0, 0, 0, 1, 0, 0, 0, 0, 0, 0, 0, 0, 0, 2, 0, 0, 0,\n",
       "       0, 0, 0, 0, 0, 0, 0, 0, 0, 0, 0, 0, 0, 0, 0, 0, 0, 0, 0, 0, 0, 0,\n",
       "       0, 0, 0, 0, 0, 0, 0, 0, 0, 0, 0, 2, 0, 0, 1, 0, 0, 0, 0],\n",
       "      dtype=int64)"
      ]
     },
     "execution_count": 98,
     "metadata": {},
     "output_type": "execute_result"
    }
   ],
   "source": [
    "y_pred = svm.predict(x_test)\n",
    "# y_pred == y_test\n",
    "y_pred"
   ]
  },
  {
   "cell_type": "code",
   "execution_count": 77,
   "metadata": {},
   "outputs": [],
   "source": [
    "y_scores = svm.predict(x_test)\n",
    "fpr_svm, tpr_svm, threshold = roc_curve(y_test, y_scores, pos_label= 1)\n",
    "roc_auc_svm = auc(fpr_svm, tpr_svm)"
   ]
  },
  {
   "cell_type": "code",
   "execution_count": 78,
   "metadata": {},
   "outputs": [
    {
     "name": "stdout",
     "output_type": "stream",
     "text": [
      "{'fit_time': array([0.00797796, 0.00598407, 0.00495052, 0.00398922, 0.00399113]), 'score_time': array([0.00299287, 0.00402927, 0.00203371, 0.00202918, 0.00099659]), 'test_score': array([0.63492063, 0.61290323, 0.61290323, 0.58064516, 0.61290323]), 'train_score': array([0.63306452, 0.62650602, 0.63453815, 0.66666667, 0.65461847])}\n"
     ]
    }
   ],
   "source": [
    "from sklearn.model_selection import cross_validate\n",
    "scores = cross_validate(svm, x, y, cv=5, scoring=('accuracy'),\n",
    "                        return_train_score=True)\n",
    "print(scores)"
   ]
  },
  {
   "cell_type": "markdown",
   "metadata": {},
   "source": [
    "# Decision Tree\n"
   ]
  },
  {
   "cell_type": "code",
   "execution_count": 7,
   "metadata": {},
   "outputs": [],
   "source": [
    "from sklearn.tree import DecisionTreeClassifier\n"
   ]
  },
  {
   "cell_type": "code",
   "execution_count": 8,
   "metadata": {},
   "outputs": [],
   "source": [
    "# tree=DecisionTreeClassifier(max_depth=2,random_state=42)\n",
    "tree = DecisionTreeClassifier(random_state=42, max_depth=5)"
   ]
  },
  {
   "cell_type": "code",
   "execution_count": 11,
   "metadata": {},
   "outputs": [
    {
     "data": {
      "text/plain": [
       "DecisionTreeClassifier(max_depth=5, random_state=42)"
      ]
     },
     "execution_count": 11,
     "metadata": {},
     "output_type": "execute_result"
    }
   ],
   "source": [
    "tree.fit(x_train, y_train)"
   ]
  },
  {
   "cell_type": "code",
   "execution_count": 12,
   "metadata": {},
   "outputs": [],
   "source": [
    "y_pred = tree.predict(x_test)"
   ]
  },
  {
   "cell_type": "code",
   "execution_count": 13,
   "metadata": {},
   "outputs": [
    {
     "name": "stdout",
     "output_type": "stream",
     "text": [
      "Độ chính xác tập huấn luyện: 0.8185\n",
      "Độ chính xác tập kiểm tra: 0.6667\n"
     ]
    }
   ],
   "source": [
    "print('Độ chính xác tập huấn luyện: {:.4f}'.format(tree.score(x_train, y_train)))\n",
    "print('Độ chính xác tập kiểm tra: {:.4f}'.format(tree.score(x_test, y_test)))"
   ]
  },
  {
   "cell_type": "code",
   "execution_count": 14,
   "metadata": {},
   "outputs": [],
   "source": [
    "from sklearn.model_selection import cross_val_score, cross_val_predict\n",
    "from sklearn.metrics import accuracy_score, classification_report, confusion_matrix\n",
    "def print_score(clf, X_train, y_train, X_test, y_test, train=True):\n",
    "    '''\n",
    "    print the accuracy score, classification report and confusion matrix of classifier\n",
    "    '''\n",
    "    if train:\n",
    "        '''\n",
    "        training performance\n",
    "        '''\n",
    "        print(\"Train Result:\\n\")\n",
    "        print(\"accuracy score: {0:.4f}\\n\".format(accuracy_score(y_train, clf.predict(X_train))))\n",
    "        print(\"Classification Report: \\n {}\\n\".format(classification_report(y_train, clf.predict(X_train))))\n",
    "        print(\"Confusion Matrix: \\n {}\\n\".format(confusion_matrix(y_train, clf.predict(X_train))))\n",
    "\n",
    "        res = cross_val_score(clf, X_train, y_train.ravel(), cv=10, scoring='accuracy')\n",
    "        print(\"Average Accuracy: \\t {0:.4f}\".format(np.mean(res)))\n",
    "        print(\"Accuracy SD: \\t\\t {0:.4f}\".format(np.std(res)))\n",
    "        \n",
    "    elif train==False:\n",
    "        '''\n",
    "        test performance\n",
    "        '''\n",
    "        print(\"Test Result:\\n\")        \n",
    "        print(\"accuracy score: {0:.4f}\\n\".format(accuracy_score(y_test, clf.predict(X_test))))\n",
    "        print(\"Classification Report: \\n {}\\n\".format(classification_report(y_test, clf.predict(X_test))))\n",
    "        print(\"Confusion Matrix: \\n {}\\n\".format(confusion_matrix(y_test, clf.predict(X_test))))    \n",
    "        "
   ]
  },
  {
   "cell_type": "code",
   "execution_count": 15,
   "metadata": {
    "scrolled": true
   },
   "outputs": [
    {
     "name": "stdout",
     "output_type": "stream",
     "text": [
      "Test Result:\n",
      "\n",
      "accuracy score: 0.6667\n",
      "\n",
      "Classification Report: \n",
      "               precision    recall  f1-score   support\n",
      "\n",
      "           0       0.89      0.79      0.84        39\n",
      "           1       0.45      0.71      0.56        14\n",
      "           2       0.17      0.10      0.12        10\n",
      "\n",
      "    accuracy                           0.67        63\n",
      "   macro avg       0.50      0.54      0.51        63\n",
      "weighted avg       0.68      0.67      0.66        63\n",
      "\n",
      "\n",
      "Confusion Matrix: \n",
      " [[31  5  3]\n",
      " [ 2 10  2]\n",
      " [ 2  7  1]]\n",
      "\n"
     ]
    }
   ],
   "source": [
    "print_score(tree, x_train, y_train, x_test, y_test, train=False)"
   ]
  },
  {
   "cell_type": "code",
   "execution_count": 16,
   "metadata": {},
   "outputs": [],
   "source": [
    "y_scores = tree.predict_proba(x_test)\n",
    "fpr_tree, tpr_tree, threshold = roc_curve(y_test, y_scores[:, 1], pos_label= 1)\n",
    "roc_auc_tree = auc(fpr_tree, tpr_tree)"
   ]
  },
  {
   "cell_type": "code",
   "execution_count": 17,
   "metadata": {},
   "outputs": [
    {
     "name": "stdout",
     "output_type": "stream",
     "text": [
      "{'fit_time': array([0.00299406, 0.00250459, 0.00253773, 0.00250435, 0.00398993]), 'score_time': array([0.00199199, 0.00099802, 0.00096369, 0.00099802, 0.00299335]), 'test_score': array([0.65079365, 0.69354839, 0.61290323, 0.56451613, 0.70967742]), 'train_score': array([0.7983871 , 0.81526104, 0.82329317, 0.82730924, 0.81124498])}\n"
     ]
    }
   ],
   "source": [
    "scores = cross_validate(tree, x, y, cv=5, scoring=('accuracy'),\n",
    "                        return_train_score=True)\n",
    "print(scores)"
   ]
  },
  {
   "cell_type": "markdown",
   "metadata": {},
   "source": [
    "# Random forest\n"
   ]
  },
  {
   "cell_type": "code",
   "execution_count": 18,
   "metadata": {},
   "outputs": [],
   "source": [
    "from sklearn.ensemble import RandomForestClassifier"
   ]
  },
  {
   "cell_type": "code",
   "execution_count": 19,
   "metadata": {},
   "outputs": [
    {
     "data": {
      "text/plain": [
       "RandomForestClassifier(max_depth=5, n_estimators=10)"
      ]
     },
     "execution_count": 19,
     "metadata": {},
     "output_type": "execute_result"
    }
   ],
   "source": [
    "rf = RandomForestClassifier(n_estimators=10, max_depth=5)\n",
    "rf.fit(x_train, y_train)"
   ]
  },
  {
   "cell_type": "code",
   "execution_count": 20,
   "metadata": {},
   "outputs": [
    {
     "name": "stdout",
     "output_type": "stream",
     "text": [
      "Train Result:\n",
      "\n",
      "accuracy score: 0.8226\n",
      "\n",
      "Classification Report: \n",
      "               precision    recall  f1-score   support\n",
      "\n",
      "           0       0.85      0.97      0.90       153\n",
      "           1       0.75      0.72      0.74        54\n",
      "           2       0.81      0.41      0.55        41\n",
      "\n",
      "    accuracy                           0.82       248\n",
      "   macro avg       0.80      0.70      0.73       248\n",
      "weighted avg       0.82      0.82      0.81       248\n",
      "\n",
      "\n",
      "Confusion Matrix: \n",
      " [[148   3   2]\n",
      " [ 13  39   2]\n",
      " [ 14  10  17]]\n",
      "\n",
      "Average Accuracy: \t 0.6575\n",
      "Accuracy SD: \t\t 0.0690\n",
      "\n",
      "\n",
      "Test Result:\n",
      "\n",
      "accuracy score: 0.7302\n",
      "\n",
      "Classification Report: \n",
      "               precision    recall  f1-score   support\n",
      "\n",
      "           0       0.81      0.87      0.84        39\n",
      "           1       0.56      0.64      0.60        14\n",
      "           2       0.60      0.30      0.40        10\n",
      "\n",
      "    accuracy                           0.73        63\n",
      "   macro avg       0.66      0.60      0.61        63\n",
      "weighted avg       0.72      0.73      0.72        63\n",
      "\n",
      "\n",
      "Confusion Matrix: \n",
      " [[34  4  1]\n",
      " [ 4  9  1]\n",
      " [ 4  3  3]]\n",
      "\n"
     ]
    }
   ],
   "source": [
    "print_score(rf, x_train, y_train, x_test, y_test, train=True)\n",
    "print('\\n')\n",
    "print_score(rf, x_train, y_train, x_test, y_test, train=False)"
   ]
  },
  {
   "cell_type": "code",
   "execution_count": 21,
   "metadata": {},
   "outputs": [],
   "source": [
    "y_scores = rf.predict_proba(x_test)\n",
    "fpr_rf, tpr_rf, threshold = roc_curve(y_test, y_scores[:, 1], pos_label= 1)\n",
    "roc_auc_rf = auc(fpr_rf, tpr_rf)"
   ]
  },
  {
   "cell_type": "code",
   "execution_count": 22,
   "metadata": {},
   "outputs": [
    {
     "name": "stdout",
     "output_type": "stream",
     "text": [
      "{'fit_time': array([0.01408172, 0.01796198, 0.01338124, 0.01196384, 0.        ]), 'score_time': array([0.00153971, 0.0029552 , 0.00199461, 0.00300431, 0.01566839]), 'test_score': array([0.6984127 , 0.61290323, 0.62903226, 0.59677419, 0.74193548]), 'train_score': array([0.87096774, 0.83534137, 0.80722892, 0.85943775, 0.85140562])}\n"
     ]
    }
   ],
   "source": [
    "scores = cross_validate(rf, x, y, cv=5, scoring=('accuracy'),\n",
    "                        return_train_score=True)\n",
    "print(scores)"
   ]
  },
  {
   "cell_type": "markdown",
   "metadata": {},
   "source": [
    "# Neural Network\n"
   ]
  },
  {
   "cell_type": "code",
   "execution_count": 53,
   "metadata": {},
   "outputs": [
    {
     "name": "stdout",
     "output_type": "stream",
     "text": [
      "Model: \"sequential_3\"\n",
      "_________________________________________________________________\n",
      "Layer (type)                 Output Shape              Param #   \n",
      "=================================================================\n",
      "dense_9 (Dense)              (None, 32)                192       \n",
      "_________________________________________________________________\n",
      "dense_10 (Dense)             (None, 32)                1056      \n",
      "_________________________________________________________________\n",
      "dense_11 (Dense)             (None, 3)                 99        \n",
      "=================================================================\n",
      "Total params: 1,347\n",
      "Trainable params: 1,347\n",
      "Non-trainable params: 0\n",
      "_________________________________________________________________\n"
     ]
    }
   ],
   "source": [
    "# build model\n",
    "import tensorflow.keras as keras\n",
    "from tensorflow.keras.models import Sequential\n",
    "from tensorflow.keras.layers import Dense, Dropout, Activation\n",
    "\n",
    "model = Sequential()\n",
    "model.add(Dense(units=32, activation='relu', input_shape=(5,)))\n",
    "Dropout(0.25)\n",
    "model.add(Dense(units=32, activation='relu'))\n",
    "Dropout(0.25)\n",
    "model.add(Dense(units=3, activation='softmax'))\n",
    "model.summary()\n"
   ]
  },
  {
   "cell_type": "code",
   "execution_count": 54,
   "metadata": {},
   "outputs": [],
   "source": [
    "# x_train, x_val, y_train, y_val = train_test_split(x_train, y_train, test_size=0.25, random_state=42, stratify = y_train)"
   ]
  },
  {
   "cell_type": "code",
   "execution_count": 55,
   "metadata": {},
   "outputs": [],
   "source": [
    "y_train = keras.utils.to_categorical(y_train, 3)\n",
    "y_val = keras.utils.to_categorical(y_val, 3)\n",
    "y_test = keras.utils.to_categorical(y_test, 3)\n",
    "# print('categorical y_train: ', y_train.shape)\n",
    "# print('categorical y_val : ', y_val.shape)\n",
    "# print('categorical y_test : ', y_test.shape)"
   ]
  },
  {
   "cell_type": "code",
   "execution_count": 56,
   "metadata": {},
   "outputs": [],
   "source": [
    "from tensorflow.keras.optimizers import SGD\n",
    "# Compile model\n",
    "epochs = 100\n",
    "lr = 0.001\n",
    "# decay = lr/epochs\n",
    "# sgd = SGD(lr=lr, momentum=0.9, decay=decay, nesterov=False)\n",
    "model.compile(loss='categorical_crossentropy', optimizer=keras.optimizers.SGD(lr=lr), metrics=['accuracy'])"
   ]
  },
  {
   "cell_type": "code",
   "execution_count": 57,
   "metadata": {},
   "outputs": [
    {
     "name": "stdout",
     "output_type": "stream",
     "text": [
      "Epoch 1/100\n",
      "6/6 [==============================] - 1s 39ms/step - loss: 102.3932 - accuracy: 0.3712 - val_loss: 4.5597 - val_accuracy: 0.6129\n",
      "Epoch 2/100\n",
      "6/6 [==============================] - 0s 12ms/step - loss: 3.6495 - accuracy: 0.5465 - val_loss: 2.2351 - val_accuracy: 0.4194\n",
      "Epoch 3/100\n",
      "6/6 [==============================] - 0s 12ms/step - loss: 1.9360 - accuracy: 0.5094 - val_loss: 1.6840 - val_accuracy: 0.5806\n",
      "Epoch 4/100\n",
      "6/6 [==============================] - 0s 10ms/step - loss: 1.5369 - accuracy: 0.5214 - val_loss: 1.3121 - val_accuracy: 0.5000\n",
      "Epoch 5/100\n",
      "6/6 [==============================] - 0s 11ms/step - loss: 1.2559 - accuracy: 0.5547 - val_loss: 1.2969 - val_accuracy: 0.5806\n",
      "Epoch 6/100\n",
      "6/6 [==============================] - 0s 12ms/step - loss: 1.3195 - accuracy: 0.4999 - val_loss: 1.4354 - val_accuracy: 0.5968\n",
      "Epoch 7/100\n",
      "6/6 [==============================] - 0s 11ms/step - loss: 1.2370 - accuracy: 0.5974 - val_loss: 1.3336 - val_accuracy: 0.5968\n",
      "Epoch 8/100\n",
      "6/6 [==============================] - 0s 10ms/step - loss: 1.1442 - accuracy: 0.5232 - val_loss: 1.2366 - val_accuracy: 0.5806\n",
      "Epoch 9/100\n",
      "6/6 [==============================] - 0s 12ms/step - loss: 1.0020 - accuracy: 0.5691 - val_loss: 1.1555 - val_accuracy: 0.5645\n",
      "Epoch 10/100\n",
      "6/6 [==============================] - 0s 10ms/step - loss: 0.9553 - accuracy: 0.6059 - val_loss: 1.2229 - val_accuracy: 0.6290\n",
      "Epoch 11/100\n",
      "6/6 [==============================] - 0s 10ms/step - loss: 0.9102 - accuracy: 0.5976 - val_loss: 1.1810 - val_accuracy: 0.4677\n",
      "Epoch 12/100\n",
      "6/6 [==============================] - 0s 11ms/step - loss: 0.9728 - accuracy: 0.5780 - val_loss: 1.0965 - val_accuracy: 0.5968\n",
      "Epoch 13/100\n",
      "6/6 [==============================] - 0s 11ms/step - loss: 0.9178 - accuracy: 0.6319 - val_loss: 1.1482 - val_accuracy: 0.6129\n",
      "Epoch 14/100\n",
      "6/6 [==============================] - 0s 11ms/step - loss: 0.9734 - accuracy: 0.5553 - val_loss: 1.2890 - val_accuracy: 0.6129\n",
      "Epoch 15/100\n",
      "6/6 [==============================] - 0s 10ms/step - loss: 0.9752 - accuracy: 0.5744 - val_loss: 1.2013 - val_accuracy: 0.6129\n",
      "Epoch 16/100\n",
      "6/6 [==============================] - 0s 11ms/step - loss: 0.9334 - accuracy: 0.6290 - val_loss: 1.2644 - val_accuracy: 0.6290\n",
      "Epoch 17/100\n",
      "6/6 [==============================] - 0s 10ms/step - loss: 0.9384 - accuracy: 0.6328 - val_loss: 1.2834 - val_accuracy: 0.6129\n",
      "Epoch 18/100\n",
      "6/6 [==============================] - 0s 11ms/step - loss: 0.9490 - accuracy: 0.6376 - val_loss: 1.1411 - val_accuracy: 0.5968\n",
      "Epoch 19/100\n",
      "6/6 [==============================] - 0s 10ms/step - loss: 0.8995 - accuracy: 0.6570 - val_loss: 1.3661 - val_accuracy: 0.6129\n",
      "Epoch 20/100\n",
      "6/6 [==============================] - 0s 12ms/step - loss: 1.3536 - accuracy: 0.5529 - val_loss: 1.1245 - val_accuracy: 0.4839\n",
      "Epoch 21/100\n",
      "6/6 [==============================] - 0s 12ms/step - loss: 1.0034 - accuracy: 0.4991 - val_loss: 1.2293 - val_accuracy: 0.6129\n",
      "Epoch 22/100\n",
      "6/6 [==============================] - 0s 16ms/step - loss: 0.9354 - accuracy: 0.6497 - val_loss: 1.1362 - val_accuracy: 0.6129\n",
      "Epoch 23/100\n",
      "6/6 [==============================] - 0s 15ms/step - loss: 0.9412 - accuracy: 0.6125 - val_loss: 1.0856 - val_accuracy: 0.6129\n",
      "Epoch 24/100\n",
      "6/6 [==============================] - 0s 14ms/step - loss: 0.9499 - accuracy: 0.6405 - val_loss: 1.0941 - val_accuracy: 0.5806\n",
      "Epoch 25/100\n",
      "6/6 [==============================] - 0s 12ms/step - loss: 0.9599 - accuracy: 0.5959 - val_loss: 1.1290 - val_accuracy: 0.5484\n",
      "Epoch 26/100\n",
      "6/6 [==============================] - 0s 11ms/step - loss: 0.9658 - accuracy: 0.5284 - val_loss: 1.1909 - val_accuracy: 0.6129\n",
      "Epoch 27/100\n",
      "6/6 [==============================] - 0s 13ms/step - loss: 0.9712 - accuracy: 0.5751 - val_loss: 1.1416 - val_accuracy: 0.6129\n",
      "Epoch 28/100\n",
      "6/6 [==============================] - 0s 13ms/step - loss: 0.9601 - accuracy: 0.6069 - val_loss: 1.1559 - val_accuracy: 0.6129\n",
      "Epoch 29/100\n",
      "6/6 [==============================] - 0s 13ms/step - loss: 0.9257 - accuracy: 0.6180 - val_loss: 1.1619 - val_accuracy: 0.5968\n",
      "Epoch 30/100\n",
      "6/6 [==============================] - 0s 13ms/step - loss: 0.9075 - accuracy: 0.6329 - val_loss: 1.2240 - val_accuracy: 0.5968\n",
      "Epoch 31/100\n",
      "6/6 [==============================] - 0s 11ms/step - loss: 0.9275 - accuracy: 0.6275 - val_loss: 1.1189 - val_accuracy: 0.6129\n",
      "Epoch 32/100\n",
      "6/6 [==============================] - 0s 10ms/step - loss: 0.9795 - accuracy: 0.5800 - val_loss: 1.2280 - val_accuracy: 0.5806\n",
      "Epoch 33/100\n",
      "6/6 [==============================] - 0s 11ms/step - loss: 0.9434 - accuracy: 0.6063 - val_loss: 1.1291 - val_accuracy: 0.6290\n",
      "Epoch 34/100\n",
      "6/6 [==============================] - 0s 10ms/step - loss: 0.9161 - accuracy: 0.6279 - val_loss: 1.0651 - val_accuracy: 0.5645\n",
      "Epoch 35/100\n",
      "6/6 [==============================] - 0s 13ms/step - loss: 0.9201 - accuracy: 0.6350 - val_loss: 1.0912 - val_accuracy: 0.5484\n",
      "Epoch 36/100\n",
      "6/6 [==============================] - 0s 14ms/step - loss: 0.9479 - accuracy: 0.5986 - val_loss: 1.0801 - val_accuracy: 0.5484\n",
      "Epoch 37/100\n",
      "6/6 [==============================] - 0s 13ms/step - loss: 0.9501 - accuracy: 0.5990 - val_loss: 1.0901 - val_accuracy: 0.5161\n",
      "Epoch 38/100\n",
      "6/6 [==============================] - 0s 12ms/step - loss: 0.9604 - accuracy: 0.5700 - val_loss: 1.3889 - val_accuracy: 0.6129\n",
      "Epoch 39/100\n",
      "6/6 [==============================] - 0s 10ms/step - loss: 0.9162 - accuracy: 0.6221 - val_loss: 1.1378 - val_accuracy: 0.5968\n",
      "Epoch 40/100\n",
      "6/6 [==============================] - 0s 10ms/step - loss: 0.9355 - accuracy: 0.6119 - val_loss: 1.1653 - val_accuracy: 0.5968\n",
      "Epoch 41/100\n",
      "6/6 [==============================] - 0s 11ms/step - loss: 0.9693 - accuracy: 0.5869 - val_loss: 1.2676 - val_accuracy: 0.6129\n",
      "Epoch 42/100\n",
      "6/6 [==============================] - 0s 11ms/step - loss: 0.9299 - accuracy: 0.6268 - val_loss: 1.2027 - val_accuracy: 0.6129\n",
      "Epoch 43/100\n",
      "6/6 [==============================] - 0s 11ms/step - loss: 1.0030 - accuracy: 0.5626 - val_loss: 1.1977 - val_accuracy: 0.5161\n",
      "Epoch 44/100\n",
      "6/6 [==============================] - 0s 13ms/step - loss: 0.9357 - accuracy: 0.5833 - val_loss: 1.1156 - val_accuracy: 0.5968\n",
      "Epoch 45/100\n",
      "6/6 [==============================] - 0s 13ms/step - loss: 0.9653 - accuracy: 0.5882 - val_loss: 1.1861 - val_accuracy: 0.5968\n",
      "Epoch 46/100\n",
      "6/6 [==============================] - 0s 13ms/step - loss: 0.9465 - accuracy: 0.6274 - val_loss: 1.1137 - val_accuracy: 0.5645\n",
      "Epoch 47/100\n",
      "6/6 [==============================] - 0s 12ms/step - loss: 0.9256 - accuracy: 0.6194 - val_loss: 1.2219 - val_accuracy: 0.5968\n",
      "Epoch 48/100\n",
      "6/6 [==============================] - 0s 11ms/step - loss: 0.8886 - accuracy: 0.6467 - val_loss: 1.0861 - val_accuracy: 0.5806\n",
      "Epoch 49/100\n",
      "6/6 [==============================] - 0s 11ms/step - loss: 0.9017 - accuracy: 0.6428 - val_loss: 1.1160 - val_accuracy: 0.6129\n",
      "Epoch 50/100\n",
      "6/6 [==============================] - 0s 11ms/step - loss: 0.8803 - accuracy: 0.6408 - val_loss: 1.1147 - val_accuracy: 0.6129\n",
      "Epoch 51/100\n",
      "6/6 [==============================] - 0s 12ms/step - loss: 0.9124 - accuracy: 0.6218 - val_loss: 1.2294 - val_accuracy: 0.5968\n",
      "Epoch 52/100\n",
      "6/6 [==============================] - 0s 13ms/step - loss: 0.9106 - accuracy: 0.6124 - val_loss: 1.0836 - val_accuracy: 0.5484\n",
      "Epoch 53/100\n",
      "6/6 [==============================] - 0s 13ms/step - loss: 0.8875 - accuracy: 0.6564 - val_loss: 1.1864 - val_accuracy: 0.5968\n",
      "Epoch 54/100\n",
      "6/6 [==============================] - 0s 14ms/step - loss: 0.9113 - accuracy: 0.6068 - val_loss: 1.0841 - val_accuracy: 0.5806\n",
      "Epoch 55/100\n",
      "6/6 [==============================] - 0s 11ms/step - loss: 0.9389 - accuracy: 0.6071 - val_loss: 1.1172 - val_accuracy: 0.5000\n",
      "Epoch 56/100\n",
      "6/6 [==============================] - 0s 9ms/step - loss: 0.9220 - accuracy: 0.6342 - val_loss: 1.1190 - val_accuracy: 0.5484\n",
      "Epoch 57/100\n",
      "6/6 [==============================] - 0s 10ms/step - loss: 0.9455 - accuracy: 0.5763 - val_loss: 1.0991 - val_accuracy: 0.5484\n",
      "Epoch 58/100\n",
      "6/6 [==============================] - 0s 9ms/step - loss: 0.9415 - accuracy: 0.6035 - val_loss: 1.1858 - val_accuracy: 0.5323\n",
      "Epoch 59/100\n",
      "6/6 [==============================] - 0s 10ms/step - loss: 0.9099 - accuracy: 0.5874 - val_loss: 1.1094 - val_accuracy: 0.5484\n",
      "Epoch 60/100\n",
      "6/6 [==============================] - 0s 10ms/step - loss: 0.9053 - accuracy: 0.6070 - val_loss: 1.0269 - val_accuracy: 0.6452\n",
      "Epoch 61/100\n",
      "6/6 [==============================] - 0s 9ms/step - loss: 0.8785 - accuracy: 0.6576 - val_loss: 1.0204 - val_accuracy: 0.6290\n",
      "Epoch 62/100\n",
      "6/6 [==============================] - 0s 11ms/step - loss: 0.9341 - accuracy: 0.6459 - val_loss: 1.1460 - val_accuracy: 0.5484\n",
      "Epoch 63/100\n",
      "6/6 [==============================] - 0s 9ms/step - loss: 0.8871 - accuracy: 0.6276 - val_loss: 1.0813 - val_accuracy: 0.5968\n",
      "Epoch 64/100\n",
      "6/6 [==============================] - 0s 10ms/step - loss: 0.9038 - accuracy: 0.6152 - val_loss: 1.1168 - val_accuracy: 0.6129\n",
      "Epoch 65/100\n",
      "6/6 [==============================] - 0s 9ms/step - loss: 0.9295 - accuracy: 0.5947 - val_loss: 1.0490 - val_accuracy: 0.6129\n",
      "Epoch 66/100\n",
      "6/6 [==============================] - 0s 11ms/step - loss: 0.9314 - accuracy: 0.6150 - val_loss: 1.1394 - val_accuracy: 0.5484\n",
      "Epoch 67/100\n",
      "6/6 [==============================] - 0s 12ms/step - loss: 0.9312 - accuracy: 0.6029 - val_loss: 1.0911 - val_accuracy: 0.5645\n",
      "Epoch 68/100\n",
      "6/6 [==============================] - 0s 13ms/step - loss: 0.9492 - accuracy: 0.6182 - val_loss: 1.1290 - val_accuracy: 0.5000\n",
      "Epoch 69/100\n",
      "6/6 [==============================] - 0s 11ms/step - loss: 0.9271 - accuracy: 0.5951 - val_loss: 1.1148 - val_accuracy: 0.5806\n",
      "Epoch 70/100\n",
      "6/6 [==============================] - 0s 10ms/step - loss: 0.9242 - accuracy: 0.6130 - val_loss: 1.0733 - val_accuracy: 0.5968\n",
      "Epoch 71/100\n",
      "6/6 [==============================] - 0s 9ms/step - loss: 0.9014 - accuracy: 0.6323 - val_loss: 1.1099 - val_accuracy: 0.5323\n",
      "Epoch 72/100\n",
      "6/6 [==============================] - 0s 10ms/step - loss: 0.9522 - accuracy: 0.5986 - val_loss: 1.1216 - val_accuracy: 0.5645\n",
      "Epoch 73/100\n",
      "6/6 [==============================] - 0s 12ms/step - loss: 0.9061 - accuracy: 0.5806 - val_loss: 1.1078 - val_accuracy: 0.5806\n",
      "Epoch 74/100\n",
      "6/6 [==============================] - 0s 12ms/step - loss: 0.9083 - accuracy: 0.6297 - val_loss: 1.0977 - val_accuracy: 0.5806\n",
      "Epoch 75/100\n",
      "6/6 [==============================] - 0s 12ms/step - loss: 0.8860 - accuracy: 0.6356 - val_loss: 1.0946 - val_accuracy: 0.5484\n",
      "Epoch 76/100\n",
      "6/6 [==============================] - 0s 9ms/step - loss: 0.9144 - accuracy: 0.6090 - val_loss: 1.3405 - val_accuracy: 0.6129\n",
      "Epoch 77/100\n",
      "6/6 [==============================] - 0s 11ms/step - loss: 1.0126 - accuracy: 0.6009 - val_loss: 1.0521 - val_accuracy: 0.6452\n",
      "Epoch 78/100\n",
      "6/6 [==============================] - 0s 8ms/step - loss: 0.9049 - accuracy: 0.5958 - val_loss: 1.2037 - val_accuracy: 0.6613\n",
      "Epoch 79/100\n",
      "6/6 [==============================] - 0s 10ms/step - loss: 0.8871 - accuracy: 0.6148 - val_loss: 1.1020 - val_accuracy: 0.5645\n",
      "Epoch 80/100\n",
      "6/6 [==============================] - 0s 14ms/step - loss: 0.9019 - accuracy: 0.6271 - val_loss: 1.0289 - val_accuracy: 0.6290\n",
      "Epoch 81/100\n",
      "6/6 [==============================] - 0s 10ms/step - loss: 0.9162 - accuracy: 0.6066 - val_loss: 1.0843 - val_accuracy: 0.5484\n",
      "Epoch 82/100\n",
      "6/6 [==============================] - 0s 10ms/step - loss: 0.8782 - accuracy: 0.6219 - val_loss: 1.1219 - val_accuracy: 0.6290\n",
      "Epoch 83/100\n",
      "6/6 [==============================] - 0s 9ms/step - loss: 0.8622 - accuracy: 0.6132 - val_loss: 1.0882 - val_accuracy: 0.5000\n",
      "Epoch 84/100\n",
      "6/6 [==============================] - 0s 11ms/step - loss: 0.9408 - accuracy: 0.5912 - val_loss: 1.0640 - val_accuracy: 0.6290\n",
      "Epoch 85/100\n",
      "6/6 [==============================] - 0s 13ms/step - loss: 0.9019 - accuracy: 0.6038 - val_loss: 1.1959 - val_accuracy: 0.6129\n",
      "Epoch 86/100\n",
      "6/6 [==============================] - 0s 13ms/step - loss: 0.9134 - accuracy: 0.5916 - val_loss: 1.2355 - val_accuracy: 0.5161\n",
      "Epoch 87/100\n",
      "6/6 [==============================] - 0s 11ms/step - loss: 0.9366 - accuracy: 0.5704 - val_loss: 1.0620 - val_accuracy: 0.6290\n",
      "Epoch 88/100\n",
      "6/6 [==============================] - 0s 9ms/step - loss: 0.9233 - accuracy: 0.5922 - val_loss: 1.0501 - val_accuracy: 0.6290\n",
      "Epoch 89/100\n",
      "6/6 [==============================] - 0s 9ms/step - loss: 0.8546 - accuracy: 0.6436 - val_loss: 1.0719 - val_accuracy: 0.5968\n",
      "Epoch 90/100\n",
      "6/6 [==============================] - 0s 9ms/step - loss: 0.8987 - accuracy: 0.6045 - val_loss: 1.0458 - val_accuracy: 0.6290\n",
      "Epoch 91/100\n",
      "6/6 [==============================] - 0s 9ms/step - loss: 0.9258 - accuracy: 0.6279 - val_loss: 1.1252 - val_accuracy: 0.5161\n",
      "Epoch 92/100\n",
      "6/6 [==============================] - 0s 10ms/step - loss: 0.8605 - accuracy: 0.6587 - val_loss: 1.1213 - val_accuracy: 0.4839\n",
      "Epoch 93/100\n",
      "6/6 [==============================] - 0s 10ms/step - loss: 0.9149 - accuracy: 0.5755 - val_loss: 1.1052 - val_accuracy: 0.5484\n",
      "Epoch 94/100\n",
      "6/6 [==============================] - 0s 10ms/step - loss: 0.8707 - accuracy: 0.6400 - val_loss: 1.0568 - val_accuracy: 0.6452\n",
      "Epoch 95/100\n",
      "6/6 [==============================] - 0s 13ms/step - loss: 0.9138 - accuracy: 0.5944 - val_loss: 1.1676 - val_accuracy: 0.6452\n",
      "Epoch 96/100\n",
      "6/6 [==============================] - 0s 15ms/step - loss: 0.8792 - accuracy: 0.6172 - val_loss: 1.0758 - val_accuracy: 0.5161\n",
      "Epoch 97/100\n",
      "6/6 [==============================] - 0s 13ms/step - loss: 0.8848 - accuracy: 0.6231 - val_loss: 1.0759 - val_accuracy: 0.5645\n",
      "Epoch 98/100\n",
      "6/6 [==============================] - 0s 10ms/step - loss: 0.8863 - accuracy: 0.6226 - val_loss: 1.0711 - val_accuracy: 0.6129\n",
      "Epoch 99/100\n",
      "6/6 [==============================] - 0s 12ms/step - loss: 0.8880 - accuracy: 0.6145 - val_loss: 1.1847 - val_accuracy: 0.6129\n",
      "Epoch 100/100\n",
      "6/6 [==============================] - 0s 12ms/step - loss: 0.8401 - accuracy: 0.6393 - val_loss: 1.0721 - val_accuracy: 0.6290\n"
     ]
    }
   ],
   "source": [
    "history = model.fit(x_train, y_train,\n",
    "                    batch_size=32,\n",
    "                    epochs=epochs,\n",
    "                    verbose=True,\n",
    "                    validation_data=(x_val, y_val))"
   ]
  },
  {
   "cell_type": "code",
   "execution_count": 58,
   "metadata": {},
   "outputs": [
    {
     "name": "stdout",
     "output_type": "stream",
     "text": [
      "Saved model to disk\n"
     ]
    }
   ],
   "source": [
    "# save model as json\n",
    "model_json = model.to_json()\n",
    "with open(\"model_3.json\", \"w\") as json_file:\n",
    "    json_file.write(model_json)\n",
    "\n",
    "model.save_weights(\"model_3.h5\")\n",
    "print(\"Saved model to disk\")"
   ]
  },
  {
   "cell_type": "code",
   "execution_count": 59,
   "metadata": {},
   "outputs": [
    {
     "name": "stdout",
     "output_type": "stream",
     "text": [
      "dict_keys(['loss', 'accuracy', 'val_loss', 'val_accuracy'])\n"
     ]
    },
    {
     "data": {
      "image/png": "[encoded data removed]",
      "text/plain": [
       "<Figure size 432x288 with 1 Axes>"
      ]
     },
     "metadata": {
      "needs_background": "light"
     },
     "output_type": "display_data"
    },
    {
     "data": {
      "image/png": "[encoded data removed]",
      "text/plain": [
       "<Figure size 432x288 with 1 Axes>"
      ]
     },
     "metadata": {
      "needs_background": "light"
     },
     "output_type": "display_data"
    }
   ],
   "source": [
    "print(history.history.keys())\n",
    "# summarize history for accuracy\n",
    "plt.plot(history.history['accuracy'], marker = \"*\")\n",
    "plt.plot(history.history['val_accuracy'], marker = \"*\")\n",
    "plt.title('model accuracy')\n",
    "plt.ylabel('accuracy')\n",
    "plt.xlabel('epoch')\n",
    "plt.legend(['train', 'val'], loc='upper left')\n",
    "plt.show()\n",
    "\n",
    "# summarize history for loss\n",
    "plt.plot(history.history['loss'], marker = \"*\")\n",
    "plt.plot(history.history['val_loss'], marker = \"*\")\n",
    "plt.title('model loss')\n",
    "plt.ylabel('loss')\n",
    "plt.xlabel('epoch')\n",
    "plt.legend(['train', 'val'], loc='upper left')\n",
    "plt.show()"
   ]
  },
  {
   "cell_type": "code",
   "execution_count": 60,
   "metadata": {},
   "outputs": [
    {
     "name": "stdout",
     "output_type": "stream",
     "text": [
      "2/2 [==============================] - 0s 4ms/step - loss: 0.9067 - accuracy: 0.6190\n",
      "Test loss: 0.9067420363426208\n",
      "Test accuracy: 0.6190476417541504\n"
     ]
    }
   ],
   "source": [
    "score = model.evaluate(x_test, y_test, verbose=True)\n",
    "print('Test loss:', score[0])\n",
    "print('Test accuracy:', score[1])"
   ]
  },
  {
   "cell_type": "code",
   "execution_count": 93,
   "metadata": {},
   "outputs": [],
   "source": [
    "y_scores = model.predict(x_test)\n",
    "fpr_nn, tpr_nn, threshold = roc_curve(y_test, y_scores, pos_label= 1)\n",
    "roc_auc_nn = auc(fpr_nn, tpr_nn)"
   ]
  },
  {
   "cell_type": "code",
   "execution_count": 94,
   "metadata": {},
   "outputs": [
    {
     "data": {
      "image/png": "[encoded data removed]",
      "text/plain": [
       "<Figure size 864x720 with 1 Axes>"
      ]
     },
     "metadata": {
      "needs_background": "light"
     },
     "output_type": "display_data"
    }
   ],
   "source": [
    "import matplotlib.pyplot as plt\n",
    "fig = plt.figure(figsize=(12,10))          # Create window frame\n",
    "ax = fig.add_subplot(111)   # Create axes\n",
    "# 9.2 Also connect diagonals\n",
    "ax.plot([0, 1], [0, 1], ls=\"--\")   # Dashed diagonal line\n",
    "# 9.3 Labels etc\n",
    "ax.set_xlabel('False Positive Rate')  # Final plot decorations\n",
    "ax.set_ylabel('True Positive Rate')\n",
    "ax.set_title('ROC curve')\n",
    "# 9.4 Set graph limits\n",
    "ax.set_xlim([0.0, 1.0])\n",
    "ax.set_ylim([0.0, 1.0])\n",
    "\n",
    "# 9.5 Plot each graph now\n",
    "ax.plot(fpr_knn, tpr_knn, label = \"knn\")\n",
    "ax.plot(fpr_svm, tpr_svm, label = \"svm\")\n",
    "ax.plot(fpr_tree, tpr_tree, label = \"tree\")\n",
    "ax.plot(fpr_rf, tpr_rf, label = \"rf\")\n",
    "ax.plot(fpr_nn, tpr_nn, label = \"nn\")\n",
    "\n",
    "# 9.6 Set legend and show plot\n",
    "ax.legend(loc=\"lower right\")\n",
    "plt.show()"
   ]
  },
  {
   "cell_type": "code",
   "execution_count": null,
   "metadata": {},
   "outputs": [],
   "source": []
  }
 ],
 "metadata": {
  "kernelspec": {
   "display_name": "Python 3",
   "language": "python",
   "name": "python3"
  },
  "language_info": {
   "codemirror_mode": {
    "name": "ipython",
    "version": 3
   },
   "file_extension": ".py",
   "mimetype": "text/x-python",
   "name": "python",
   "nbconvert_exporter": "python",
   "pygments_lexer": "ipython3",
   "version": "3.8.5"
  }
 },
 "nbformat": 4,
 "nbformat_minor": 4
}
