{
 "cells": [
  {
   "cell_type": "code",
   "execution_count": 1,
   "metadata": {},
   "outputs": [],
   "source": [
    "import sklearn\n",
    "from sklearn.datasets import load_breast_cancer\n",
    "from sklearn.model_selection import train_test_split\n",
    "from sklearn.neighbors import KNeighborsClassifier\n",
    "import numpy as np\n",
    "from sklearn.metrics import accuracy_score\n",
    "import matplotlib.pyplot as plt\n",
    "from sklearn.metrics import roc_curve, auc\n",
    "from sklearn.model_selection import cross_validate"
   ]
  },
  {
   "cell_type": "code",
   "execution_count": 2,
   "metadata": {},
   "outputs": [],
   "source": [
    "# data = load_breast_cancer()\n",
    "# x = data.data\n",
    "# y = data.target"
   ]
  },
  {
   "cell_type": "code",
   "execution_count": 3,
   "metadata": {},
   "outputs": [
    {
     "data": {
      "text/html": [
       "<div>\n",
       "<style scoped>\n",
       "    .dataframe tbody tr th:only-of-type {\n",
       "        vertical-align: middle;\n",
       "    }\n",
       "\n",
       "    .dataframe tbody tr th {\n",
       "        vertical-align: top;\n",
       "    }\n",
       "\n",
       "    .dataframe thead th {\n",
       "        text-align: right;\n",
       "    }\n",
       "</style>\n",
       "<table border=\"1\" class=\"dataframe\">\n",
       "  <thead>\n",
       "    <tr style=\"text-align: right;\">\n",
       "      <th></th>\n",
       "      <th>ID</th>\n",
       "      <th>background_tissue</th>\n",
       "      <th>class</th>\n",
       "      <th>severity</th>\n",
       "      <th>x</th>\n",
       "      <th>y</th>\n",
       "      <th>rad</th>\n",
       "      <th>mean</th>\n",
       "      <th>var</th>\n",
       "      <th>std</th>\n",
       "      <th>min_pixel</th>\n",
       "      <th>max_pixel</th>\n",
       "      <th>min_coor_x</th>\n",
       "      <th>min_coor_y</th>\n",
       "      <th>max_coor_x</th>\n",
       "      <th>max_coor_y</th>\n",
       "      <th>bdips</th>\n",
       "    </tr>\n",
       "  </thead>\n",
       "  <tbody>\n",
       "    <tr>\n",
       "      <th>307</th>\n",
       "      <td>mdb318</td>\n",
       "      <td>D</td>\n",
       "      <td>NORM</td>\n",
       "      <td>N</td>\n",
       "      <td>442</td>\n",
       "      <td>68</td>\n",
       "      <td>50</td>\n",
       "      <td>14.033015</td>\n",
       "      <td>0.505857</td>\n",
       "      <td>0.711236</td>\n",
       "      <td>11</td>\n",
       "      <td>35</td>\n",
       "      <td>436</td>\n",
       "      <td>951</td>\n",
       "      <td>467</td>\n",
       "      <td>965</td>\n",
       "      <td>0.000641</td>\n",
       "    </tr>\n",
       "    <tr>\n",
       "      <th>308</th>\n",
       "      <td>mdb319</td>\n",
       "      <td>D</td>\n",
       "      <td>NORM</td>\n",
       "      <td>N</td>\n",
       "      <td>590</td>\n",
       "      <td>281</td>\n",
       "      <td>50</td>\n",
       "      <td>145.912938</td>\n",
       "      <td>28.130725</td>\n",
       "      <td>5.303841</td>\n",
       "      <td>130</td>\n",
       "      <td>168</td>\n",
       "      <td>587</td>\n",
       "      <td>778</td>\n",
       "      <td>637</td>\n",
       "      <td>745</td>\n",
       "      <td>0.000114</td>\n",
       "    </tr>\n",
       "    <tr>\n",
       "      <th>309</th>\n",
       "      <td>mdb320</td>\n",
       "      <td>D</td>\n",
       "      <td>NORM</td>\n",
       "      <td>N</td>\n",
       "      <td>495</td>\n",
       "      <td>264</td>\n",
       "      <td>50</td>\n",
       "      <td>195.578840</td>\n",
       "      <td>470.810515</td>\n",
       "      <td>21.698168</td>\n",
       "      <td>146</td>\n",
       "      <td>227</td>\n",
       "      <td>451</td>\n",
       "      <td>745</td>\n",
       "      <td>527</td>\n",
       "      <td>722</td>\n",
       "      <td>0.000004</td>\n",
       "    </tr>\n",
       "    <tr>\n",
       "      <th>310</th>\n",
       "      <td>mdb321</td>\n",
       "      <td>D</td>\n",
       "      <td>NORM</td>\n",
       "      <td>N</td>\n",
       "      <td>604</td>\n",
       "      <td>271</td>\n",
       "      <td>50</td>\n",
       "      <td>177.764946</td>\n",
       "      <td>30.464061</td>\n",
       "      <td>5.519426</td>\n",
       "      <td>163</td>\n",
       "      <td>199</td>\n",
       "      <td>626</td>\n",
       "      <td>740</td>\n",
       "      <td>555</td>\n",
       "      <td>746</td>\n",
       "      <td>0.000026</td>\n",
       "    </tr>\n",
       "    <tr>\n",
       "      <th>311</th>\n",
       "      <td>mdb322</td>\n",
       "      <td>D</td>\n",
       "      <td>NORM</td>\n",
       "      <td>N</td>\n",
       "      <td>460</td>\n",
       "      <td>115</td>\n",
       "      <td>50</td>\n",
       "      <td>8.994009</td>\n",
       "      <td>7.767332</td>\n",
       "      <td>2.786993</td>\n",
       "      <td>6</td>\n",
       "      <td>24</td>\n",
       "      <td>493</td>\n",
       "      <td>895</td>\n",
       "      <td>446</td>\n",
       "      <td>863</td>\n",
       "      <td>0.000786</td>\n",
       "    </tr>\n",
       "  </tbody>\n",
       "</table>\n",
       "</div>"
      ],
      "text/plain": [
       "         ID background_tissue class severity    x    y  rad        mean  \\\n",
       "307  mdb318                 D  NORM        N  442   68   50   14.033015   \n",
       "308  mdb319                 D  NORM        N  590  281   50  145.912938   \n",
       "309  mdb320                 D  NORM        N  495  264   50  195.578840   \n",
       "310  mdb321                 D  NORM        N  604  271   50  177.764946   \n",
       "311  mdb322                 D  NORM        N  460  115   50    8.994009   \n",
       "\n",
       "            var        std  min_pixel  max_pixel  min_coor_x  min_coor_y  \\\n",
       "307    0.505857   0.711236         11         35         436         951   \n",
       "308   28.130725   5.303841        130        168         587         778   \n",
       "309  470.810515  21.698168        146        227         451         745   \n",
       "310   30.464061   5.519426        163        199         626         740   \n",
       "311    7.767332   2.786993          6         24         493         895   \n",
       "\n",
       "     max_coor_x  max_coor_y     bdips  \n",
       "307         467         965  0.000641  \n",
       "308         637         745  0.000114  \n",
       "309         527         722  0.000004  \n",
       "310         555         746  0.000026  \n",
       "311         446         863  0.000786  "
      ]
     },
     "execution_count": 3,
     "metadata": {},
     "output_type": "execute_result"
    }
   ],
   "source": [
    "import pandas as pd\n",
    "data = pd.read_csv('datasets/final1.csv')\n",
    "del data['Unnamed: 0']\n",
    "data.tail()"
   ]
  },
  {
   "cell_type": "code",
   "execution_count": 4,
   "metadata": {},
   "outputs": [],
   "source": [
    "x = data.iloc[:,[7,8,9,11,16]]\n",
    "y = data['severity']\n",
    "di = {'N':0, 'B':1, 'M':2}\n",
    "y = y.map(di)\n",
    "x = x.drop([243])\n",
    "y = y.drop([243])"
   ]
  },
  {
   "cell_type": "code",
   "execution_count": 5,
   "metadata": {},
   "outputs": [
    {
     "data": {
      "text/plain": [
       "[235.7952171, 9077.427598999999, 95.27553516, 242, 0.955414013]"
      ]
     },
     "execution_count": 5,
     "metadata": {},
     "output_type": "execute_result"
    }
   ],
   "source": [
    "max_list = [max(x.iloc[:,i]) for i in range(5)]\n",
    "max_list"
   ]
  },
  {
   "cell_type": "code",
   "execution_count": 6,
   "metadata": {},
   "outputs": [],
   "source": [
    "#Normalize data\n",
    "for i in range(5):\n",
    "    for j in range(len(x)):\n",
    "        x.iloc[j,i] = x.iloc[j,i]/max_list[i]"
   ]
  },
  {
   "cell_type": "code",
   "execution_count": 7,
   "metadata": {},
   "outputs": [
    {
     "data": {
      "text/html": [
       "<div>\n",
       "<style scoped>\n",
       "    .dataframe tbody tr th:only-of-type {\n",
       "        vertical-align: middle;\n",
       "    }\n",
       "\n",
       "    .dataframe tbody tr th {\n",
       "        vertical-align: top;\n",
       "    }\n",
       "\n",
       "    .dataframe thead th {\n",
       "        text-align: right;\n",
       "    }\n",
       "</style>\n",
       "<table border=\"1\" class=\"dataframe\">\n",
       "  <thead>\n",
       "    <tr style=\"text-align: right;\">\n",
       "      <th></th>\n",
       "      <th>mean</th>\n",
       "      <th>var</th>\n",
       "      <th>std</th>\n",
       "      <th>max_pixel</th>\n",
       "      <th>bdips</th>\n",
       "    </tr>\n",
       "  </thead>\n",
       "  <tbody>\n",
       "    <tr>\n",
       "      <th>0</th>\n",
       "      <td>0.639458</td>\n",
       "      <td>0.353129</td>\n",
       "      <td>0.594247</td>\n",
       "      <td>0.913223</td>\n",
       "      <td>0.000007</td>\n",
       "    </tr>\n",
       "    <tr>\n",
       "      <th>1</th>\n",
       "      <td>0.839164</td>\n",
       "      <td>0.084224</td>\n",
       "      <td>0.290214</td>\n",
       "      <td>0.946281</td>\n",
       "      <td>0.000058</td>\n",
       "    </tr>\n",
       "    <tr>\n",
       "      <th>2</th>\n",
       "      <td>0.634470</td>\n",
       "      <td>0.045081</td>\n",
       "      <td>0.212324</td>\n",
       "      <td>0.772727</td>\n",
       "      <td>0.000091</td>\n",
       "    </tr>\n",
       "    <tr>\n",
       "      <th>3</th>\n",
       "      <td>0.688844</td>\n",
       "      <td>0.008833</td>\n",
       "      <td>0.093983</td>\n",
       "      <td>0.747934</td>\n",
       "      <td>0.000605</td>\n",
       "    </tr>\n",
       "    <tr>\n",
       "      <th>4</th>\n",
       "      <td>0.781972</td>\n",
       "      <td>0.014001</td>\n",
       "      <td>0.118325</td>\n",
       "      <td>0.859504</td>\n",
       "      <td>0.000300</td>\n",
       "    </tr>\n",
       "    <tr>\n",
       "      <th>...</th>\n",
       "      <td>...</td>\n",
       "      <td>...</td>\n",
       "      <td>...</td>\n",
       "      <td>...</td>\n",
       "      <td>...</td>\n",
       "    </tr>\n",
       "    <tr>\n",
       "      <th>307</th>\n",
       "      <td>0.059514</td>\n",
       "      <td>0.000056</td>\n",
       "      <td>0.007465</td>\n",
       "      <td>0.144628</td>\n",
       "      <td>0.000670</td>\n",
       "    </tr>\n",
       "    <tr>\n",
       "      <th>308</th>\n",
       "      <td>0.618812</td>\n",
       "      <td>0.003099</td>\n",
       "      <td>0.055668</td>\n",
       "      <td>0.694215</td>\n",
       "      <td>0.000120</td>\n",
       "    </tr>\n",
       "    <tr>\n",
       "      <th>309</th>\n",
       "      <td>0.829444</td>\n",
       "      <td>0.051866</td>\n",
       "      <td>0.227741</td>\n",
       "      <td>0.938017</td>\n",
       "      <td>0.000004</td>\n",
       "    </tr>\n",
       "    <tr>\n",
       "      <th>310</th>\n",
       "      <td>0.753895</td>\n",
       "      <td>0.003356</td>\n",
       "      <td>0.057931</td>\n",
       "      <td>0.822314</td>\n",
       "      <td>0.000027</td>\n",
       "    </tr>\n",
       "    <tr>\n",
       "      <th>311</th>\n",
       "      <td>0.038143</td>\n",
       "      <td>0.000856</td>\n",
       "      <td>0.029252</td>\n",
       "      <td>0.099174</td>\n",
       "      <td>0.000822</td>\n",
       "    </tr>\n",
       "  </tbody>\n",
       "</table>\n",
       "<p>311 rows × 5 columns</p>\n",
       "</div>"
      ],
      "text/plain": [
       "         mean       var       std  max_pixel     bdips\n",
       "0    0.639458  0.353129  0.594247   0.913223  0.000007\n",
       "1    0.839164  0.084224  0.290214   0.946281  0.000058\n",
       "2    0.634470  0.045081  0.212324   0.772727  0.000091\n",
       "3    0.688844  0.008833  0.093983   0.747934  0.000605\n",
       "4    0.781972  0.014001  0.118325   0.859504  0.000300\n",
       "..        ...       ...       ...        ...       ...\n",
       "307  0.059514  0.000056  0.007465   0.144628  0.000670\n",
       "308  0.618812  0.003099  0.055668   0.694215  0.000120\n",
       "309  0.829444  0.051866  0.227741   0.938017  0.000004\n",
       "310  0.753895  0.003356  0.057931   0.822314  0.000027\n",
       "311  0.038143  0.000856  0.029252   0.099174  0.000822\n",
       "\n",
       "[311 rows x 5 columns]"
      ]
     },
     "execution_count": 7,
     "metadata": {},
     "output_type": "execute_result"
    }
   ],
   "source": [
    "x"
   ]
  },
  {
   "cell_type": "code",
   "execution_count": 8,
   "metadata": {},
   "outputs": [],
   "source": [
    "x_train, x_test, y_train, y_test = train_test_split(x, y,test_size = 0.2, random_state=42, stratify = y)"
   ]
  },
  {
   "cell_type": "markdown",
   "metadata": {},
   "source": [
    "# KNN"
   ]
  },
  {
   "cell_type": "code",
   "execution_count": 53,
   "metadata": {
    "scrolled": true
   },
   "outputs": [
    {
     "name": "stderr",
     "output_type": "stream",
     "text": [
      "C:\\Users\\huyenntx1\\Miniconda3\\lib\\site-packages\\sklearn\\model_selection\\_validation.py:548: FitFailedWarning: Estimator fit failed. The score on this train-test partition for these parameters will be set to nan. Details: \n",
      "Traceback (most recent call last):\n",
      "  File \"C:\\Users\\huyenntx1\\Miniconda3\\lib\\site-packages\\sklearn\\model_selection\\_validation.py\", line 531, in _fit_and_score\n",
      "    estimator.fit(X_train, y_train, **fit_params)\n",
      "  File \"C:\\Users\\huyenntx1\\Miniconda3\\lib\\site-packages\\sklearn\\neighbors\\_base.py\", line 1157, in fit\n",
      "    return self._fit(X)\n",
      "  File \"C:\\Users\\huyenntx1\\Miniconda3\\lib\\site-packages\\sklearn\\neighbors\\_base.py\", line 467, in _fit\n",
      "    raise ValueError(\n",
      "ValueError: Expected n_neighbors > 0. Got 0\n",
      "\n",
      "  warnings.warn(\"Estimator fit failed. The score on this train-test\"\n",
      "C:\\Users\\huyenntx1\\Miniconda3\\lib\\site-packages\\sklearn\\model_selection\\_validation.py:548: FitFailedWarning: Estimator fit failed. The score on this train-test partition for these parameters will be set to nan. Details: \n",
      "Traceback (most recent call last):\n",
      "  File \"C:\\Users\\huyenntx1\\Miniconda3\\lib\\site-packages\\sklearn\\model_selection\\_validation.py\", line 531, in _fit_and_score\n",
      "    estimator.fit(X_train, y_train, **fit_params)\n",
      "  File \"C:\\Users\\huyenntx1\\Miniconda3\\lib\\site-packages\\sklearn\\neighbors\\_base.py\", line 1157, in fit\n",
      "    return self._fit(X)\n",
      "  File \"C:\\Users\\huyenntx1\\Miniconda3\\lib\\site-packages\\sklearn\\neighbors\\_base.py\", line 467, in _fit\n",
      "    raise ValueError(\n",
      "ValueError: Expected n_neighbors > 0. Got 0\n",
      "\n",
      "  warnings.warn(\"Estimator fit failed. The score on this train-test\"\n",
      "C:\\Users\\huyenntx1\\Miniconda3\\lib\\site-packages\\sklearn\\model_selection\\_validation.py:548: FitFailedWarning: Estimator fit failed. The score on this train-test partition for these parameters will be set to nan. Details: \n",
      "Traceback (most recent call last):\n",
      "  File \"C:\\Users\\huyenntx1\\Miniconda3\\lib\\site-packages\\sklearn\\model_selection\\_validation.py\", line 531, in _fit_and_score\n",
      "    estimator.fit(X_train, y_train, **fit_params)\n",
      "  File \"C:\\Users\\huyenntx1\\Miniconda3\\lib\\site-packages\\sklearn\\neighbors\\_base.py\", line 1157, in fit\n",
      "    return self._fit(X)\n",
      "  File \"C:\\Users\\huyenntx1\\Miniconda3\\lib\\site-packages\\sklearn\\neighbors\\_base.py\", line 467, in _fit\n",
      "    raise ValueError(\n",
      "ValueError: Expected n_neighbors > 0. Got 0\n",
      "\n",
      "  warnings.warn(\"Estimator fit failed. The score on this train-test\"\n",
      "C:\\Users\\huyenntx1\\Miniconda3\\lib\\site-packages\\sklearn\\model_selection\\_validation.py:548: FitFailedWarning: Estimator fit failed. The score on this train-test partition for these parameters will be set to nan. Details: \n",
      "Traceback (most recent call last):\n",
      "  File \"C:\\Users\\huyenntx1\\Miniconda3\\lib\\site-packages\\sklearn\\model_selection\\_validation.py\", line 531, in _fit_and_score\n",
      "    estimator.fit(X_train, y_train, **fit_params)\n",
      "  File \"C:\\Users\\huyenntx1\\Miniconda3\\lib\\site-packages\\sklearn\\neighbors\\_base.py\", line 1157, in fit\n",
      "    return self._fit(X)\n",
      "  File \"C:\\Users\\huyenntx1\\Miniconda3\\lib\\site-packages\\sklearn\\neighbors\\_base.py\", line 467, in _fit\n",
      "    raise ValueError(\n",
      "ValueError: Expected n_neighbors > 0. Got 0\n",
      "\n",
      "  warnings.warn(\"Estimator fit failed. The score on this train-test\"\n",
      "C:\\Users\\huyenntx1\\Miniconda3\\lib\\site-packages\\sklearn\\model_selection\\_validation.py:548: FitFailedWarning: Estimator fit failed. The score on this train-test partition for these parameters will be set to nan. Details: \n",
      "Traceback (most recent call last):\n",
      "  File \"C:\\Users\\huyenntx1\\Miniconda3\\lib\\site-packages\\sklearn\\model_selection\\_validation.py\", line 531, in _fit_and_score\n",
      "    estimator.fit(X_train, y_train, **fit_params)\n",
      "  File \"C:\\Users\\huyenntx1\\Miniconda3\\lib\\site-packages\\sklearn\\neighbors\\_base.py\", line 1157, in fit\n",
      "    return self._fit(X)\n",
      "  File \"C:\\Users\\huyenntx1\\Miniconda3\\lib\\site-packages\\sklearn\\neighbors\\_base.py\", line 467, in _fit\n",
      "    raise ValueError(\n",
      "ValueError: Expected n_neighbors > 0. Got 0\n",
      "\n",
      "  warnings.warn(\"Estimator fit failed. The score on this train-test\"\n"
     ]
    },
    {
     "data": {
      "text/plain": [
       "{'n_neighbors': 9}"
      ]
     },
     "execution_count": 53,
     "metadata": {},
     "output_type": "execute_result"
    }
   ],
   "source": [
    "from sklearn.model_selection import GridSearchCV\n",
    "params = {'n_neighbors': np.arange(15)}\n",
    "reg = KNeighborsClassifier()\n",
    "model = GridSearchCV(reg, params, cv=5)\n",
    "model.fit(x_train,y_train)\n",
    "model.best_params_"
   ]
  },
  {
   "cell_type": "code",
   "execution_count": 54,
   "metadata": {},
   "outputs": [
    {
     "name": "stdout",
     "output_type": "stream",
     "text": [
      "Test set R^2: 0.62\n"
     ]
    },
    {
     "data": {
      "text/plain": [
       "array([0, 0, 0, 0, 0, 0, 1, 0, 0, 0, 0, 0, 0, 0, 0, 0, 0, 0, 1, 0, 0, 0,\n",
       "       0, 0, 1, 0, 0, 0, 0, 0, 0, 0, 0, 1, 0, 1, 0, 0, 0, 0, 0, 0, 0, 0,\n",
       "       0, 2, 0, 0, 0, 2, 0, 0, 2, 0, 1, 1, 0, 1, 0, 1, 0, 0, 0],\n",
       "      dtype=int64)"
      ]
     },
     "execution_count": 54,
     "metadata": {},
     "output_type": "execute_result"
    }
   ],
   "source": [
    "knn = KNeighborsClassifier(n_neighbors=9)\n",
    "knn.fit(x_train, y_train)\n",
    "print(\"Test set R^2: {:.2f}\".format(knn.score(x_test, y_test)))\n",
    "y_pred = knn.predict(x_test)\n",
    "y_pred"
   ]
  },
  {
   "cell_type": "code",
   "execution_count": 55,
   "metadata": {},
   "outputs": [
    {
     "data": {
      "text/plain": [
       "array([0, 0, 0, 2, 0, 0, 1, 0, 0, 0, 0, 1, 2, 1, 0, 1, 0, 1, 2, 2, 1, 0,\n",
       "       0, 1, 1, 2, 0, 0, 0, 0, 0, 0, 1, 0, 0, 0, 0, 0, 1, 1, 2, 0, 0, 2,\n",
       "       0, 1, 0, 0, 0, 1, 0, 0, 2, 0, 2, 1, 0, 0, 2, 0, 0, 0, 0],\n",
       "      dtype=int64)"
      ]
     },
     "execution_count": 55,
     "metadata": {},
     "output_type": "execute_result"
    }
   ],
   "source": [
    "np.array(y_test)"
   ]
  },
  {
   "cell_type": "code",
   "execution_count": 56,
   "metadata": {},
   "outputs": [],
   "source": [
    "y_scores = knn.predict_proba(x_test)\n",
    "fpr_knn, tpr_knn, threshold = roc_curve(y_test, y_scores[:, 1], pos_label= 1)\n",
    "roc_auc_knn = auc(fpr_knn, tpr_knn)"
   ]
  },
  {
   "cell_type": "code",
   "execution_count": 57,
   "metadata": {},
   "outputs": [
    {
     "name": "stdout",
     "output_type": "stream",
     "text": [
      "{'fit_time': array([0.00300598, 0.0019989 , 0.00195479, 0.00200057, 0.00199556]), 'score_time': array([0.00356793, 0.00502872, 0.00401926, 0.00597763, 0.00402641]), 'test_score': array([0.58730159, 0.56451613, 0.59677419, 0.53225806, 0.62903226]), 'train_score': array([0.66935484, 0.66666667, 0.68674699, 0.67871486, 0.67068273])}\n"
     ]
    }
   ],
   "source": [
    "scores = cross_validate(knn, x, y, cv=5, scoring=('accuracy'),\n",
    "                        return_train_score=True)\n",
    "print(scores)"
   ]
  },
  {
   "cell_type": "markdown",
   "metadata": {},
   "source": [
    "# SVM\n"
   ]
  },
  {
   "cell_type": "code",
   "execution_count": 58,
   "metadata": {},
   "outputs": [
    {
     "data": {
      "text/plain": [
       "SVC(C=30)"
      ]
     },
     "execution_count": 58,
     "metadata": {},
     "output_type": "execute_result"
    }
   ],
   "source": [
    "svm = sklearn.svm.SVC(C = 30, kernel='rbf')\n",
    "svm.fit(x_train, y_train)"
   ]
  },
  {
   "cell_type": "code",
   "execution_count": 59,
   "metadata": {},
   "outputs": [
    {
     "data": {
      "text/plain": [
       "0.6653225806451613"
      ]
     },
     "execution_count": 59,
     "metadata": {},
     "output_type": "execute_result"
    }
   ],
   "source": [
    "svm.score(x_train, y_train)\n"
   ]
  },
  {
   "cell_type": "code",
   "execution_count": 60,
   "metadata": {},
   "outputs": [
    {
     "data": {
      "text/plain": [
       "0.5714285714285714"
      ]
     },
     "execution_count": 60,
     "metadata": {},
     "output_type": "execute_result"
    }
   ],
   "source": [
    "svm.score(x_test, y_test)\n"
   ]
  },
  {
   "cell_type": "code",
   "execution_count": 61,
   "metadata": {},
   "outputs": [
    {
     "data": {
      "text/plain": [
       "169     True\n",
       "167     True\n",
       "173     True\n",
       "11     False\n",
       "299     True\n",
       "       ...  \n",
       "63     False\n",
       "269    False\n",
       "250     True\n",
       "311     True\n",
       "221     True\n",
       "Name: severity, Length: 63, dtype: bool"
      ]
     },
     "execution_count": 61,
     "metadata": {},
     "output_type": "execute_result"
    }
   ],
   "source": [
    "y_pred = svm.predict(x_test)\n",
    "y_pred == y_test"
   ]
  },
  {
   "cell_type": "code",
   "execution_count": 62,
   "metadata": {},
   "outputs": [],
   "source": [
    "y_scores = svm.predict(x_test)\n",
    "fpr_svm, tpr_svm, threshold = roc_curve(y_test, y_scores, pos_label= 1)\n",
    "roc_auc_svm = auc(fpr_svm, tpr_svm)"
   ]
  },
  {
   "cell_type": "code",
   "execution_count": 63,
   "metadata": {},
   "outputs": [
    {
     "name": "stdout",
     "output_type": "stream",
     "text": [
      "{'fit_time': array([0.0161221 , 0.00997353, 0.00698042, 0.00398874, 0.00396514]), 'score_time': array([0.00150919, 0.00299215, 0.00299335, 0.00199533, 0.00199556]), 'test_score': array([0.6031746 , 0.69354839, 0.58064516, 0.5       , 0.62903226]), 'train_score': array([0.66129032, 0.65060241, 0.64257028, 0.68674699, 0.65863454])}\n"
     ]
    }
   ],
   "source": [
    "from sklearn.model_selection import cross_validate\n",
    "scores = cross_validate(svm, x, y, cv=5, scoring=('accuracy'),\n",
    "                        return_train_score=True)\n",
    "print(scores)"
   ]
  },
  {
   "cell_type": "markdown",
   "metadata": {},
   "source": [
    "# Decision Tree\n"
   ]
  },
  {
   "cell_type": "code",
   "execution_count": 9,
   "metadata": {},
   "outputs": [],
   "source": [
    "from sklearn.tree import DecisionTreeClassifier\n"
   ]
  },
  {
   "cell_type": "code",
   "execution_count": 10,
   "metadata": {},
   "outputs": [],
   "source": [
    "# tree=DecisionTreeClassifier(max_depth=2,random_state=42)\n",
    "tree = DecisionTreeClassifier(random_state=42, max_depth=5)"
   ]
  },
  {
   "cell_type": "code",
   "execution_count": 11,
   "metadata": {},
   "outputs": [
    {
     "data": {
      "text/plain": [
       "DecisionTreeClassifier(max_depth=5, random_state=42)"
      ]
     },
     "execution_count": 11,
     "metadata": {},
     "output_type": "execute_result"
    }
   ],
   "source": [
    "tree.fit(x_train, y_train)"
   ]
  },
  {
   "cell_type": "code",
   "execution_count": 12,
   "metadata": {},
   "outputs": [],
   "source": [
    "y_pred = tree.predict(x_test)"
   ]
  },
  {
   "cell_type": "code",
   "execution_count": 13,
   "metadata": {},
   "outputs": [
    {
     "name": "stdout",
     "output_type": "stream",
     "text": [
      "Độ chính xác tập huấn luyện: 0.8185\n",
      "Độ chính xác tập kiểm tra: 0.6667\n"
     ]
    }
   ],
   "source": [
    "print('Độ chính xác tập huấn luyện: {:.4f}'.format(tree.score(x_train, y_train)))\n",
    "print('Độ chính xác tập kiểm tra: {:.4f}'.format(tree.score(x_test, y_test)))"
   ]
  },
  {
   "cell_type": "code",
   "execution_count": 14,
   "metadata": {},
   "outputs": [],
   "source": [
    "from sklearn.model_selection import cross_val_score, cross_val_predict\n",
    "from sklearn.metrics import accuracy_score, classification_report, confusion_matrix\n",
    "def print_score(clf, X_train, y_train, X_test, y_test, train=True):\n",
    "    '''\n",
    "    print the accuracy score, classification report and confusion matrix of classifier\n",
    "    '''\n",
    "    if train:\n",
    "        '''\n",
    "        training performance\n",
    "        '''\n",
    "        print(\"Train Result:\\n\")\n",
    "        print(\"accuracy score: {0:.4f}\\n\".format(accuracy_score(y_train, clf.predict(X_train))))\n",
    "        print(\"Classification Report: \\n {}\\n\".format(classification_report(y_train, clf.predict(X_train))))\n",
    "        print(\"Confusion Matrix: \\n {}\\n\".format(confusion_matrix(y_train, clf.predict(X_train))))\n",
    "\n",
    "        res = cross_val_score(clf, X_train, y_train.ravel(), cv=10, scoring='accuracy')\n",
    "        print(\"Average Accuracy: \\t {0:.4f}\".format(np.mean(res)))\n",
    "        print(\"Accuracy SD: \\t\\t {0:.4f}\".format(np.std(res)))\n",
    "        \n",
    "    elif train==False:\n",
    "        '''\n",
    "        test performance\n",
    "        '''\n",
    "        print(\"Test Result:\\n\")        \n",
    "        print(\"accuracy score: {0:.4f}\\n\".format(accuracy_score(y_test, clf.predict(X_test))))\n",
    "        print(\"Classification Report: \\n {}\\n\".format(classification_report(y_test, clf.predict(X_test))))\n",
    "        print(\"Confusion Matrix: \\n {}\\n\".format(confusion_matrix(y_test, clf.predict(X_test))))    \n",
    "        "
   ]
  },
  {
   "cell_type": "code",
   "execution_count": 15,
   "metadata": {},
   "outputs": [
    {
     "name": "stdout",
     "output_type": "stream",
     "text": [
      "Test Result:\n",
      "\n",
      "accuracy score: 0.6667\n",
      "\n",
      "Classification Report: \n",
      "               precision    recall  f1-score   support\n",
      "\n",
      "           0       0.89      0.79      0.84        39\n",
      "           1       0.45      0.71      0.56        14\n",
      "           2       0.17      0.10      0.12        10\n",
      "\n",
      "    accuracy                           0.67        63\n",
      "   macro avg       0.50      0.54      0.51        63\n",
      "weighted avg       0.68      0.67      0.66        63\n",
      "\n",
      "\n",
      "Confusion Matrix: \n",
      " [[31  5  3]\n",
      " [ 2 10  2]\n",
      " [ 2  7  1]]\n",
      "\n"
     ]
    }
   ],
   "source": [
    "print_score(tree, x_train, y_train, x_test, y_test, train=False)"
   ]
  },
  {
   "cell_type": "code",
   "execution_count": 16,
   "metadata": {},
   "outputs": [],
   "source": [
    "y_scores = tree.predict_proba(x_test)\n",
    "fpr_tree, tpr_tree, threshold = roc_curve(y_test, y_scores[:, 1], pos_label= 1)\n",
    "roc_auc_tree = auc(fpr_tree, tpr_tree)"
   ]
  },
  {
   "cell_type": "code",
   "execution_count": 17,
   "metadata": {},
   "outputs": [
    {
     "name": "stdout",
     "output_type": "stream",
     "text": [
      "{'fit_time': array([0.00398946, 0.00199485, 0.00299239, 0.00300241, 0.00299144]), 'score_time': array([0.00099754, 0.00199389, 0.00099659, 0.00099158, 0.00199533]), 'test_score': array([0.58730159, 0.69354839, 0.61290323, 0.56451613, 0.70967742]), 'train_score': array([0.79032258, 0.81526104, 0.82329317, 0.82730924, 0.81124498])}\n"
     ]
    }
   ],
   "source": [
    "scores = cross_validate(tree, x, y, cv=5, scoring=('accuracy'),\n",
    "                        return_train_score=True)\n",
    "print(scores)"
   ]
  },
  {
   "cell_type": "markdown",
   "metadata": {},
   "source": [
    "# Random forest\n"
   ]
  },
  {
   "cell_type": "code",
   "execution_count": 26,
   "metadata": {},
   "outputs": [],
   "source": [
    "from sklearn.ensemble import RandomForestClassifier"
   ]
  },
  {
   "cell_type": "code",
   "execution_count": 27,
   "metadata": {},
   "outputs": [
    {
     "data": {
      "text/plain": [
       "RandomForestClassifier(max_depth=5, n_estimators=10)"
      ]
     },
     "execution_count": 27,
     "metadata": {},
     "output_type": "execute_result"
    }
   ],
   "source": [
    "rf = RandomForestClassifier(n_estimators=10, max_depth=5)\n",
    "rf.fit(x_train, y_train)"
   ]
  },
  {
   "cell_type": "code",
   "execution_count": 28,
   "metadata": {},
   "outputs": [
    {
     "name": "stdout",
     "output_type": "stream",
     "text": [
      "Train Result:\n",
      "\n",
      "accuracy score: 0.8589\n",
      "\n",
      "Classification Report: \n",
      "               precision    recall  f1-score   support\n",
      "\n",
      "           0       0.88      0.97      0.92       153\n",
      "           1       0.97      0.63      0.76        54\n",
      "           2       0.70      0.76      0.73        41\n",
      "\n",
      "    accuracy                           0.86       248\n",
      "   macro avg       0.85      0.78      0.80       248\n",
      "weighted avg       0.87      0.86      0.85       248\n",
      "\n",
      "\n",
      "Confusion Matrix: \n",
      " [[148   0   5]\n",
      " [ 12  34   8]\n",
      " [  9   1  31]]\n",
      "\n",
      "Average Accuracy: \t 0.6502\n",
      "Accuracy SD: \t\t 0.0923\n",
      "\n",
      "\n",
      "Test Result:\n",
      "\n",
      "accuracy score: 0.7143\n",
      "\n",
      "Classification Report: \n",
      "               precision    recall  f1-score   support\n",
      "\n",
      "           0       0.85      0.85      0.85        39\n",
      "           1       0.53      0.57      0.55        14\n",
      "           2       0.44      0.40      0.42        10\n",
      "\n",
      "    accuracy                           0.71        63\n",
      "   macro avg       0.61      0.61      0.61        63\n",
      "weighted avg       0.71      0.71      0.71        63\n",
      "\n",
      "\n",
      "Confusion Matrix: \n",
      " [[33  5  1]\n",
      " [ 2  8  4]\n",
      " [ 4  2  4]]\n",
      "\n"
     ]
    }
   ],
   "source": [
    "print_score(rf, x_train, y_train, x_test, y_test, train=True)\n",
    "print('\\n')\n",
    "print_score(rf, x_train, y_train, x_test, y_test, train=False)"
   ]
  },
  {
   "cell_type": "code",
   "execution_count": 21,
   "metadata": {},
   "outputs": [],
   "source": [
    "y_scores = rf.predict_proba(x_test)\n",
    "fpr_rf, tpr_rf, threshold = roc_curve(y_test, y_scores[:, 1], pos_label= 1)\n",
    "roc_auc_rf = auc(fpr_rf, tpr_rf)"
   ]
  },
  {
   "cell_type": "code",
   "execution_count": 22,
   "metadata": {},
   "outputs": [
    {
     "name": "stdout",
     "output_type": "stream",
     "text": [
      "{'fit_time': array([0.01355791, 0.01196742, 0.01599407, 0.0129602 , 0.01196504]), 'score_time': array([0.00250006, 0.00296569, 0.00199437, 0.00199437, 0.00299573]), 'test_score': array([0.65079365, 0.66129032, 0.66129032, 0.59677419, 0.72580645]), 'train_score': array([0.85483871, 0.81526104, 0.80722892, 0.84738956, 0.8313253 ])}\n"
     ]
    }
   ],
   "source": [
    "scores = cross_validate(rf, x, y, cv=5, scoring=('accuracy'),\n",
    "                        return_train_score=True)\n",
    "print(scores)"
   ]
  },
  {
   "cell_type": "markdown",
   "metadata": {},
   "source": [
    "# Neural Network\n"
   ]
  },
  {
   "cell_type": "code",
   "execution_count": 37,
   "metadata": {},
   "outputs": [
    {
     "name": "stdout",
     "output_type": "stream",
     "text": [
      "Model: \"sequential_1\"\n",
      "_________________________________________________________________\n",
      "Layer (type)                 Output Shape              Param #   \n",
      "=================================================================\n",
      "dense_3 (Dense)              (None, 32)                192       \n",
      "_________________________________________________________________\n",
      "dense_4 (Dense)              (None, 32)                1056      \n",
      "_________________________________________________________________\n",
      "dense_5 (Dense)              (None, 3)                 99        \n",
      "=================================================================\n",
      "Total params: 1,347\n",
      "Trainable params: 1,347\n",
      "Non-trainable params: 0\n",
      "_________________________________________________________________\n"
     ]
    }
   ],
   "source": [
    "# build model\n",
    "import tensorflow.keras as keras\n",
    "from tensorflow.keras.models import Sequential\n",
    "from tensorflow.keras.layers import Dense, Dropout, Activation\n",
    "\n",
    "model = Sequential()\n",
    "model.add(Dense(units=32, activation='relu', input_shape=(5,)))\n",
    "Dropout(0.25)\n",
    "model.add(Dense(units=32, activation='relu'))\n",
    "Dropout(0.25)\n",
    "model.add(Dense(units=3, activation='softmax'))\n",
    "model.summary()\n"
   ]
  },
  {
   "cell_type": "code",
   "execution_count": 38,
   "metadata": {},
   "outputs": [],
   "source": [
    "# x_train, x_val, y_train, y_val = train_test_split(x_train, y_train, test_size=0.25, random_state=42, stratify = y_train)"
   ]
  },
  {
   "cell_type": "code",
   "execution_count": 39,
   "metadata": {},
   "outputs": [],
   "source": [
    "# y_train = keras.utils.to_categorical(y_train, 3)\n",
    "# y_val = keras.utils.to_categorical(y_val, 3)\n",
    "# y_test = keras.utils.to_categorical(y_test, 3)\n",
    "# print('categorical y_train: ', y_train.shape)\n",
    "# print('categorical y_val : ', y_val.shape)\n",
    "# print('categorical y_test : ', y_test.shape)"
   ]
  },
  {
   "cell_type": "code",
   "execution_count": 40,
   "metadata": {},
   "outputs": [],
   "source": [
    "from tensorflow.keras.optimizers import SGD\n",
    "# Compile model\n",
    "epochs = 100\n",
    "lr = 0.001\n",
    "# decay = lr/epochs\n",
    "# sgd = SGD(lr=lr, momentum=0.9, decay=decay, nesterov=False)\n",
    "model.compile(loss='categorical_crossentropy', optimizer=keras.optimizers.SGD(lr=lr), metrics=['accuracy'])"
   ]
  },
  {
   "cell_type": "code",
   "execution_count": 41,
   "metadata": {},
   "outputs": [
    {
     "name": "stdout",
     "output_type": "stream",
     "text": [
      "Epoch 1/100\n",
      "6/6 [==============================] - 1s 52ms/step - loss: 1.0920 - accuracy: 0.2125 - val_loss: 1.0846 - val_accuracy: 0.2742\n",
      "Epoch 2/100\n",
      "6/6 [==============================] - 0s 12ms/step - loss: 1.0812 - accuracy: 0.2597 - val_loss: 1.0829 - val_accuracy: 0.2903\n",
      "Epoch 3/100\n",
      "6/6 [==============================] - 0s 11ms/step - loss: 1.0800 - accuracy: 0.2563 - val_loss: 1.0812 - val_accuracy: 0.2903\n",
      "Epoch 4/100\n",
      "6/6 [==============================] - 0s 10ms/step - loss: 1.0979 - accuracy: 0.2639 - val_loss: 1.0796 - val_accuracy: 0.3065\n",
      "Epoch 5/100\n",
      "6/6 [==============================] - 0s 11ms/step - loss: 1.0802 - accuracy: 0.2835 - val_loss: 1.0779 - val_accuracy: 0.3226\n",
      "Epoch 6/100\n",
      "6/6 [==============================] - 0s 11ms/step - loss: 1.0843 - accuracy: 0.2731 - val_loss: 1.0763 - val_accuracy: 0.3387\n",
      "Epoch 7/100\n",
      "6/6 [==============================] - 0s 12ms/step - loss: 1.0758 - accuracy: 0.2538 - val_loss: 1.0747 - val_accuracy: 0.3387\n",
      "Epoch 8/100\n",
      "6/6 [==============================] - 0s 11ms/step - loss: 1.0800 - accuracy: 0.3105 - val_loss: 1.0732 - val_accuracy: 0.3387\n",
      "Epoch 9/100\n",
      "6/6 [==============================] - 0s 10ms/step - loss: 1.0829 - accuracy: 0.3064 - val_loss: 1.0716 - val_accuracy: 0.3548\n",
      "Epoch 10/100\n",
      "6/6 [==============================] - 0s 11ms/step - loss: 1.0827 - accuracy: 0.2971 - val_loss: 1.0701 - val_accuracy: 0.3548\n",
      "Epoch 11/100\n",
      "6/6 [==============================] - 0s 10ms/step - loss: 1.0729 - accuracy: 0.3043 - val_loss: 1.0686 - val_accuracy: 0.3710\n",
      "Epoch 12/100\n",
      "6/6 [==============================] - 0s 12ms/step - loss: 1.0619 - accuracy: 0.3451 - val_loss: 1.0671 - val_accuracy: 0.3871\n",
      "Epoch 13/100\n",
      "6/6 [==============================] - 0s 10ms/step - loss: 1.0703 - accuracy: 0.2903 - val_loss: 1.0657 - val_accuracy: 0.3871\n",
      "Epoch 14/100\n",
      "6/6 [==============================] - 0s 12ms/step - loss: 1.0613 - accuracy: 0.3247 - val_loss: 1.0642 - val_accuracy: 0.3871\n",
      "Epoch 15/100\n",
      "6/6 [==============================] - 0s 13ms/step - loss: 1.0603 - accuracy: 0.3752 - val_loss: 1.0628 - val_accuracy: 0.4194\n",
      "Epoch 16/100\n",
      "6/6 [==============================] - 0s 11ms/step - loss: 1.0599 - accuracy: 0.3519 - val_loss: 1.0614 - val_accuracy: 0.4516\n",
      "Epoch 17/100\n",
      "6/6 [==============================] - 0s 12ms/step - loss: 1.0600 - accuracy: 0.3821 - val_loss: 1.0601 - val_accuracy: 0.4839\n",
      "Epoch 18/100\n",
      "6/6 [==============================] - 0s 12ms/step - loss: 1.0524 - accuracy: 0.4080 - val_loss: 1.0587 - val_accuracy: 0.4839\n",
      "Epoch 19/100\n",
      "6/6 [==============================] - 0s 12ms/step - loss: 1.0606 - accuracy: 0.4355 - val_loss: 1.0573 - val_accuracy: 0.4839\n",
      "Epoch 20/100\n",
      "6/6 [==============================] - 0s 13ms/step - loss: 1.0476 - accuracy: 0.4692 - val_loss: 1.0560 - val_accuracy: 0.5161\n",
      "Epoch 21/100\n",
      "6/6 [==============================] - 0s 12ms/step - loss: 1.0530 - accuracy: 0.4378 - val_loss: 1.0547 - val_accuracy: 0.5161\n",
      "Epoch 22/100\n",
      "6/6 [==============================] - 0s 11ms/step - loss: 1.0644 - accuracy: 0.4306 - val_loss: 1.0534 - val_accuracy: 0.4839\n",
      "Epoch 23/100\n",
      "6/6 [==============================] - 0s 11ms/step - loss: 1.0582 - accuracy: 0.4973 - val_loss: 1.0521 - val_accuracy: 0.5000\n",
      "Epoch 24/100\n",
      "6/6 [==============================] - 0s 12ms/step - loss: 1.0507 - accuracy: 0.5077 - val_loss: 1.0509 - val_accuracy: 0.5484\n",
      "Epoch 25/100\n",
      "6/6 [==============================] - 0s 15ms/step - loss: 1.0630 - accuracy: 0.5246 - val_loss: 1.0496 - val_accuracy: 0.5484\n",
      "Epoch 26/100\n",
      "6/6 [==============================] - 0s 13ms/step - loss: 1.0741 - accuracy: 0.5872 - val_loss: 1.0484 - val_accuracy: 0.5806\n",
      "Epoch 27/100\n",
      "6/6 [==============================] - 0s 13ms/step - loss: 1.0475 - accuracy: 0.6002 - val_loss: 1.0472 - val_accuracy: 0.6129\n",
      "Epoch 28/100\n",
      "6/6 [==============================] - 0s 10ms/step - loss: 1.0533 - accuracy: 0.6078 - val_loss: 1.0460 - val_accuracy: 0.6290\n",
      "Epoch 29/100\n",
      "6/6 [==============================] - 0s 11ms/step - loss: 1.0393 - accuracy: 0.6220 - val_loss: 1.0448 - val_accuracy: 0.6452\n",
      "Epoch 30/100\n",
      "6/6 [==============================] - 0s 10ms/step - loss: 1.0449 - accuracy: 0.6183 - val_loss: 1.0436 - val_accuracy: 0.6452\n",
      "Epoch 31/100\n",
      "6/6 [==============================] - 0s 10ms/step - loss: 1.0370 - accuracy: 0.5885 - val_loss: 1.0425 - val_accuracy: 0.6290\n",
      "Epoch 32/100\n",
      "6/6 [==============================] - 0s 10ms/step - loss: 1.0528 - accuracy: 0.5822 - val_loss: 1.0413 - val_accuracy: 0.6129\n",
      "Epoch 33/100\n",
      "6/6 [==============================] - 0s 10ms/step - loss: 1.0336 - accuracy: 0.6085 - val_loss: 1.0402 - val_accuracy: 0.6129\n",
      "Epoch 34/100\n",
      "6/6 [==============================] - 0s 11ms/step - loss: 1.0440 - accuracy: 0.5823 - val_loss: 1.0391 - val_accuracy: 0.6129\n",
      "Epoch 35/100\n",
      "6/6 [==============================] - 0s 11ms/step - loss: 1.0436 - accuracy: 0.6051 - val_loss: 1.0380 - val_accuracy: 0.6129\n",
      "Epoch 36/100\n",
      "6/6 [==============================] - 0s 10ms/step - loss: 1.0363 - accuracy: 0.6028 - val_loss: 1.0369 - val_accuracy: 0.6129\n",
      "Epoch 37/100\n",
      "6/6 [==============================] - 0s 11ms/step - loss: 1.0262 - accuracy: 0.6623 - val_loss: 1.0358 - val_accuracy: 0.6129\n",
      "Epoch 38/100\n",
      "6/6 [==============================] - 0s 13ms/step - loss: 1.0398 - accuracy: 0.6193 - val_loss: 1.0348 - val_accuracy: 0.6129\n",
      "Epoch 39/100\n",
      "6/6 [==============================] - 0s 14ms/step - loss: 1.0307 - accuracy: 0.6363 - val_loss: 1.0337 - val_accuracy: 0.6129\n",
      "Epoch 40/100\n",
      "6/6 [==============================] - 0s 14ms/step - loss: 1.0380 - accuracy: 0.6303 - val_loss: 1.0327 - val_accuracy: 0.6129\n",
      "Epoch 41/100\n",
      "6/6 [==============================] - 0s 12ms/step - loss: 1.0188 - accuracy: 0.6450 - val_loss: 1.0316 - val_accuracy: 0.6129\n",
      "Epoch 42/100\n",
      "6/6 [==============================] - 0s 12ms/step - loss: 1.0445 - accuracy: 0.5899 - val_loss: 1.0306 - val_accuracy: 0.6129\n",
      "Epoch 43/100\n",
      "6/6 [==============================] - 0s 11ms/step - loss: 1.0412 - accuracy: 0.5943 - val_loss: 1.0296 - val_accuracy: 0.6129\n",
      "Epoch 44/100\n",
      "6/6 [==============================] - 0s 10ms/step - loss: 1.0258 - accuracy: 0.6253 - val_loss: 1.0286 - val_accuracy: 0.6129\n",
      "Epoch 45/100\n",
      "6/6 [==============================] - 0s 11ms/step - loss: 1.0171 - accuracy: 0.6121 - val_loss: 1.0275 - val_accuracy: 0.6129\n",
      "Epoch 46/100\n",
      "6/6 [==============================] - 0s 10ms/step - loss: 1.0356 - accuracy: 0.6069 - val_loss: 1.0266 - val_accuracy: 0.6129\n",
      "Epoch 47/100\n",
      "6/6 [==============================] - 0s 12ms/step - loss: 1.0154 - accuracy: 0.6449 - val_loss: 1.0256 - val_accuracy: 0.6129\n",
      "Epoch 48/100\n",
      "6/6 [==============================] - 0s 11ms/step - loss: 1.0345 - accuracy: 0.5822 - val_loss: 1.0247 - val_accuracy: 0.6129\n",
      "Epoch 49/100\n",
      "6/6 [==============================] - 0s 11ms/step - loss: 1.0276 - accuracy: 0.5958 - val_loss: 1.0237 - val_accuracy: 0.6129\n",
      "Epoch 50/100\n",
      "6/6 [==============================] - 0s 10ms/step - loss: 1.0379 - accuracy: 0.5961 - val_loss: 1.0228 - val_accuracy: 0.6129\n",
      "Epoch 51/100\n",
      "6/6 [==============================] - 0s 14ms/step - loss: 1.0257 - accuracy: 0.6019 - val_loss: 1.0219 - val_accuracy: 0.6129\n",
      "Epoch 52/100\n",
      "6/6 [==============================] - 0s 13ms/step - loss: 1.0165 - accuracy: 0.6283 - val_loss: 1.0210 - val_accuracy: 0.6129\n",
      "Epoch 53/100\n",
      "6/6 [==============================] - 0s 12ms/step - loss: 1.0070 - accuracy: 0.6389 - val_loss: 1.0201 - val_accuracy: 0.6129\n",
      "Epoch 54/100\n",
      "6/6 [==============================] - 0s 11ms/step - loss: 1.0352 - accuracy: 0.5794 - val_loss: 1.0192 - val_accuracy: 0.6129\n",
      "Epoch 55/100\n",
      "6/6 [==============================] - 0s 12ms/step - loss: 1.0230 - accuracy: 0.6055 - val_loss: 1.0183 - val_accuracy: 0.6129\n",
      "Epoch 56/100\n",
      "6/6 [==============================] - 0s 10ms/step - loss: 1.0205 - accuracy: 0.6326 - val_loss: 1.0174 - val_accuracy: 0.6129\n",
      "Epoch 57/100\n",
      "6/6 [==============================] - 0s 10ms/step - loss: 1.0041 - accuracy: 0.6478 - val_loss: 1.0166 - val_accuracy: 0.6129\n",
      "Epoch 58/100\n",
      "6/6 [==============================] - 0s 10ms/step - loss: 1.0008 - accuracy: 0.6389 - val_loss: 1.0157 - val_accuracy: 0.6129\n",
      "Epoch 59/100\n",
      "6/6 [==============================] - 0s 11ms/step - loss: 1.0350 - accuracy: 0.5595 - val_loss: 1.0149 - val_accuracy: 0.6129\n",
      "Epoch 60/100\n",
      "6/6 [==============================] - 0s 13ms/step - loss: 1.0061 - accuracy: 0.6410 - val_loss: 1.0141 - val_accuracy: 0.6129\n",
      "Epoch 61/100\n",
      "6/6 [==============================] - 0s 13ms/step - loss: 1.0015 - accuracy: 0.6268 - val_loss: 1.0133 - val_accuracy: 0.6129\n",
      "Epoch 62/100\n",
      "6/6 [==============================] - 0s 12ms/step - loss: 1.0133 - accuracy: 0.6163 - val_loss: 1.0125 - val_accuracy: 0.6129\n",
      "Epoch 63/100\n",
      "6/6 [==============================] - 0s 11ms/step - loss: 1.0055 - accuracy: 0.6459 - val_loss: 1.0117 - val_accuracy: 0.6129\n",
      "Epoch 64/100\n",
      "6/6 [==============================] - 0s 10ms/step - loss: 1.0190 - accuracy: 0.5863 - val_loss: 1.0109 - val_accuracy: 0.6129\n",
      "Epoch 65/100\n",
      "6/6 [==============================] - 0s 11ms/step - loss: 1.0016 - accuracy: 0.6203 - val_loss: 1.0101 - val_accuracy: 0.6129\n",
      "Epoch 66/100\n",
      "6/6 [==============================] - 0s 11ms/step - loss: 1.0152 - accuracy: 0.6292 - val_loss: 1.0094 - val_accuracy: 0.6129\n",
      "Epoch 67/100\n",
      "6/6 [==============================] - 0s 13ms/step - loss: 1.0225 - accuracy: 0.5871 - val_loss: 1.0086 - val_accuracy: 0.6129\n",
      "Epoch 68/100\n",
      "6/6 [==============================] - 0s 11ms/step - loss: 1.0181 - accuracy: 0.5987 - val_loss: 1.0079 - val_accuracy: 0.6129\n",
      "Epoch 69/100\n",
      "6/6 [==============================] - 0s 10ms/step - loss: 1.0004 - accuracy: 0.6275 - val_loss: 1.0072 - val_accuracy: 0.6129\n",
      "Epoch 70/100\n",
      "6/6 [==============================] - 0s 10ms/step - loss: 0.9983 - accuracy: 0.6056 - val_loss: 1.0065 - val_accuracy: 0.6129\n",
      "Epoch 71/100\n",
      "6/6 [==============================] - 0s 10ms/step - loss: 1.0202 - accuracy: 0.5975 - val_loss: 1.0058 - val_accuracy: 0.6129\n",
      "Epoch 72/100\n",
      "6/6 [==============================] - 0s 10ms/step - loss: 1.0307 - accuracy: 0.5637 - val_loss: 1.0051 - val_accuracy: 0.6129\n",
      "Epoch 73/100\n",
      "6/6 [==============================] - 0s 11ms/step - loss: 1.0021 - accuracy: 0.6095 - val_loss: 1.0044 - val_accuracy: 0.6129\n",
      "Epoch 74/100\n",
      "6/6 [==============================] - 0s 13ms/step - loss: 0.9877 - accuracy: 0.6601 - val_loss: 1.0038 - val_accuracy: 0.6129\n",
      "Epoch 75/100\n",
      "6/6 [==============================] - 0s 11ms/step - loss: 0.9690 - accuracy: 0.6653 - val_loss: 1.0031 - val_accuracy: 0.6129\n",
      "Epoch 76/100\n",
      "6/6 [==============================] - 0s 10ms/step - loss: 0.9991 - accuracy: 0.6335 - val_loss: 1.0024 - val_accuracy: 0.6129\n",
      "Epoch 77/100\n",
      "6/6 [==============================] - 0s 10ms/step - loss: 0.9719 - accuracy: 0.6618 - val_loss: 1.0018 - val_accuracy: 0.6129\n",
      "Epoch 78/100\n",
      "6/6 [==============================] - 0s 10ms/step - loss: 1.0032 - accuracy: 0.6126 - val_loss: 1.0012 - val_accuracy: 0.6129\n",
      "Epoch 79/100\n",
      "6/6 [==============================] - 0s 10ms/step - loss: 0.9913 - accuracy: 0.6254 - val_loss: 1.0006 - val_accuracy: 0.6129\n",
      "Epoch 80/100\n",
      "6/6 [==============================] - 0s 10ms/step - loss: 0.9867 - accuracy: 0.6400 - val_loss: 1.0000 - val_accuracy: 0.6129\n",
      "Epoch 81/100\n",
      "6/6 [==============================] - 0s 10ms/step - loss: 1.0068 - accuracy: 0.6053 - val_loss: 0.9994 - val_accuracy: 0.6129\n",
      "Epoch 82/100\n",
      "6/6 [==============================] - 0s 11ms/step - loss: 1.0022 - accuracy: 0.6078 - val_loss: 0.9988 - val_accuracy: 0.6129\n",
      "Epoch 83/100\n",
      "6/6 [==============================] - 0s 12ms/step - loss: 0.9981 - accuracy: 0.6113 - val_loss: 0.9982 - val_accuracy: 0.6129\n",
      "Epoch 84/100\n",
      "6/6 [==============================] - 0s 13ms/step - loss: 1.0130 - accuracy: 0.5825 - val_loss: 0.9976 - val_accuracy: 0.6129\n",
      "Epoch 85/100\n",
      "6/6 [==============================] - 0s 12ms/step - loss: 0.9826 - accuracy: 0.6430 - val_loss: 0.9970 - val_accuracy: 0.6129\n",
      "Epoch 86/100\n",
      "6/6 [==============================] - 0s 12ms/step - loss: 0.9781 - accuracy: 0.6420 - val_loss: 0.9964 - val_accuracy: 0.6129\n",
      "Epoch 87/100\n",
      "6/6 [==============================] - 0s 11ms/step - loss: 0.9894 - accuracy: 0.6214 - val_loss: 0.9959 - val_accuracy: 0.6129\n",
      "Epoch 88/100\n",
      "6/6 [==============================] - 0s 10ms/step - loss: 0.9856 - accuracy: 0.6317 - val_loss: 0.9953 - val_accuracy: 0.6129\n",
      "Epoch 89/100\n",
      "6/6 [==============================] - 0s 11ms/step - loss: 1.0045 - accuracy: 0.6066 - val_loss: 0.9948 - val_accuracy: 0.6129\n",
      "Epoch 90/100\n",
      "6/6 [==============================] - 0s 12ms/step - loss: 1.0277 - accuracy: 0.5613 - val_loss: 0.9942 - val_accuracy: 0.6129\n",
      "Epoch 91/100\n",
      "6/6 [==============================] - 0s 13ms/step - loss: 1.0273 - accuracy: 0.5531 - val_loss: 0.9937 - val_accuracy: 0.6129\n",
      "Epoch 92/100\n",
      "6/6 [==============================] - 0s 12ms/step - loss: 1.0025 - accuracy: 0.5984 - val_loss: 0.9931 - val_accuracy: 0.6129\n",
      "Epoch 93/100\n",
      "6/6 [==============================] - 0s 11ms/step - loss: 0.9967 - accuracy: 0.5961 - val_loss: 0.9926 - val_accuracy: 0.6129\n",
      "Epoch 94/100\n",
      "6/6 [==============================] - 0s 10ms/step - loss: 0.9934 - accuracy: 0.6195 - val_loss: 0.9921 - val_accuracy: 0.6129\n",
      "Epoch 95/100\n",
      "6/6 [==============================] - 0s 10ms/step - loss: 0.9913 - accuracy: 0.6113 - val_loss: 0.9916 - val_accuracy: 0.6129\n",
      "Epoch 96/100\n",
      "6/6 [==============================] - 0s 10ms/step - loss: 0.9878 - accuracy: 0.6216 - val_loss: 0.9911 - val_accuracy: 0.6129\n",
      "Epoch 97/100\n",
      "6/6 [==============================] - 0s 10ms/step - loss: 0.9945 - accuracy: 0.6028 - val_loss: 0.9906 - val_accuracy: 0.6129\n",
      "Epoch 98/100\n",
      "6/6 [==============================] - 0s 9ms/step - loss: 0.9837 - accuracy: 0.6177 - val_loss: 0.9901 - val_accuracy: 0.6129\n",
      "Epoch 99/100\n",
      "6/6 [==============================] - 0s 11ms/step - loss: 0.9749 - accuracy: 0.6301 - val_loss: 0.9897 - val_accuracy: 0.6129\n",
      "Epoch 100/100\n",
      "6/6 [==============================] - 0s 11ms/step - loss: 0.9915 - accuracy: 0.6139 - val_loss: 0.9892 - val_accuracy: 0.6129\n"
     ]
    }
   ],
   "source": [
    "history = model.fit(x_train, y_train,\n",
    "                    batch_size=32,\n",
    "                    epochs=epochs,\n",
    "                    verbose=True,\n",
    "                    validation_data=(x_val, y_val))"
   ]
  },
  {
   "cell_type": "code",
   "execution_count": 42,
   "metadata": {},
   "outputs": [
    {
     "name": "stdout",
     "output_type": "stream",
     "text": [
      "Saved model to disk\n"
     ]
    }
   ],
   "source": [
    "# save model as json\n",
    "model_json = model.to_json()\n",
    "with open(\"model.json\", \"w\") as json_file:\n",
    "    json_file.write(model_json)\n",
    "\n",
    "model.save_weights(\"model-norm3.h5\")\n",
    "print(\"Saved model to disk\")"
   ]
  },
  {
   "cell_type": "code",
   "execution_count": 43,
   "metadata": {},
   "outputs": [
    {
     "name": "stdout",
     "output_type": "stream",
     "text": [
      "dict_keys(['loss', 'accuracy', 'val_loss', 'val_accuracy'])\n"
     ]
    },
    {
     "data": {
      "image/png": "[encoded data removed]",
      "text/plain": [
       "<Figure size 432x288 with 1 Axes>"
      ]
     },
     "metadata": {
      "needs_background": "light"
     },
     "output_type": "display_data"
    },
    {
     "data": {
      "image/png": "[encoded data removed]",
      "text/plain": [
       "<Figure size 432x288 with 1 Axes>"
      ]
     },
     "metadata": {
      "needs_background": "light"
     },
     "output_type": "display_data"
    }
   ],
   "source": [
    "print(history.history.keys())\n",
    "# summarize history for accuracy\n",
    "plt.plot(history.history['accuracy'], marker = \"*\")\n",
    "plt.plot(history.history['val_accuracy'], marker = \"*\")\n",
    "plt.title('model accuracy')\n",
    "plt.ylabel('accuracy')\n",
    "plt.xlabel('epoch')\n",
    "plt.legend(['train', 'val'], loc='upper left')\n",
    "plt.show()\n",
    "\n",
    "# summarize history for loss\n",
    "plt.plot(history.history['loss'], marker = \"*\")\n",
    "plt.plot(history.history['val_loss'], marker = \"*\")\n",
    "plt.title('model loss')\n",
    "plt.ylabel('loss')\n",
    "plt.xlabel('epoch')\n",
    "plt.legend(['train', 'val'], loc='upper left')\n",
    "plt.show()"
   ]
  },
  {
   "cell_type": "code",
   "execution_count": 44,
   "metadata": {},
   "outputs": [
    {
     "name": "stdout",
     "output_type": "stream",
     "text": [
      "2/2 [==============================] - 0s 2ms/step - loss: 0.9843 - accuracy: 0.6190\n",
      "Test loss: 0.9842758774757385\n",
      "Test accuracy: 0.6190476417541504\n"
     ]
    }
   ],
   "source": [
    "score = model.evaluate(x_test, y_test, verbose=True)\n",
    "print('Test loss:', score[0])\n",
    "print('Test accuracy:', score[1])"
   ]
  },
  {
   "cell_type": "code",
   "execution_count": 76,
   "metadata": {},
   "outputs": [],
   "source": [
    "y_scores = model.predict(x_test)\n",
    "fpr_nn, tpr_nn, threshold = roc_curve(y_test, y_scores, pos_label= 1)\n",
    "roc_auc_nn = auc(fpr_nn, tpr_nn)"
   ]
  },
  {
   "cell_type": "code",
   "execution_count": 77,
   "metadata": {},
   "outputs": [
    {
     "data": {
      "image/png": "[encoded data removed]",
      "text/plain": [
       "<Figure size 864x720 with 1 Axes>"
      ]
     },
     "metadata": {
      "needs_background": "light"
     },
     "output_type": "display_data"
    }
   ],
   "source": [
    "import matplotlib.pyplot as plt\n",
    "fig = plt.figure(figsize=(12,10))          # Create window frame\n",
    "ax = fig.add_subplot(111)   # Create axes\n",
    "# 9.2 Also connect diagonals\n",
    "ax.plot([0, 1], [0, 1], ls=\"--\")   # Dashed diagonal line\n",
    "# 9.3 Labels etc\n",
    "ax.set_xlabel('False Positive Rate')  # Final plot decorations\n",
    "ax.set_ylabel('True Positive Rate')\n",
    "ax.set_title('ROC curve')\n",
    "# 9.4 Set graph limits\n",
    "ax.set_xlim([0.0, 1.0])\n",
    "ax.set_ylim([0.0, 1.0])\n",
    "\n",
    "# 9.5 Plot each graph now\n",
    "ax.plot(fpr_knn, tpr_knn, label = \"knn\")\n",
    "ax.plot(fpr_svm, tpr_svm, label = \"svm\")\n",
    "ax.plot(fpr_tree, tpr_tree, label = \"tree\")\n",
    "ax.plot(fpr_rf, tpr_rf, label = \"rf\")\n",
    "ax.plot(fpr_nn, tpr_nn, label = \"nn\")\n",
    "\n",
    "# 9.6 Set legend and show plot\n",
    "ax.legend(loc=\"lower right\")\n",
    "plt.show()"
   ]
  },
  {
   "cell_type": "code",
   "execution_count": null,
   "metadata": {},
   "outputs": [],
   "source": []
  }
 ],
 "metadata": {
  "kernelspec": {
   "display_name": "Python 3",
   "language": "python",
   "name": "python3"
  },
  "language_info": {
   "codemirror_mode": {
    "name": "ipython",
    "version": 3
   },
   "file_extension": ".py",
   "mimetype": "text/x-python",
   "name": "python",
   "nbconvert_exporter": "python",
   "pygments_lexer": "ipython3",
   "version": "3.8.5"
  }
 },
 "nbformat": 4,
 "nbformat_minor": 4
}
