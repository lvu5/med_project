{
 "cells": [
  {
   "cell_type": "raw",
   "metadata": {},
   "source": []
  },
  {
   "cell_type": "raw",
   "metadata": {},
   "source": [
    "import sklearn\n",
    "from sklearn.datasets import load_breast_cancer\n",
    "from sklearn.model_selection import train_test_split\n",
    "from sklearn.neighbors import KNeighborsClassifier\n",
    "import numpy as np\n",
    "from sklearn.metrics import accuracy_score\n",
    "import matplotlib.pyplot as plt\n",
    "from sklearn.metrics import classification_report, confusion_matrix \n",
    "from sklearn.metrics import roc_curve, auc"
   ]
  },
  {
   "cell_type": "code",
   "execution_count": 15,
   "metadata": {},
   "outputs": [],
   "source": [
    "# data = load_breast_cancer()\n",
    "# x = data.data\n",
    "# y = data.target"
   ]
  },
  {
   "cell_type": "code",
   "execution_count": 16,
   "metadata": {},
   "outputs": [
    {
     "data": {
      "text/html": [
       "<div>\n",
       "<style scoped>\n",
       "    .dataframe tbody tr th:only-of-type {\n",
       "        vertical-align: middle;\n",
       "    }\n",
       "\n",
       "    .dataframe tbody tr th {\n",
       "        vertical-align: top;\n",
       "    }\n",
       "\n",
       "    .dataframe thead th {\n",
       "        text-align: right;\n",
       "    }\n",
       "</style>\n",
       "<table border=\"1\" class=\"dataframe\">\n",
       "  <thead>\n",
       "    <tr style=\"text-align: right;\">\n",
       "      <th></th>\n",
       "      <th>ID</th>\n",
       "      <th>background_tissue</th>\n",
       "      <th>class</th>\n",
       "      <th>severity</th>\n",
       "      <th>x</th>\n",
       "      <th>y</th>\n",
       "      <th>rad</th>\n",
       "      <th>mean</th>\n",
       "      <th>var</th>\n",
       "      <th>std</th>\n",
       "      <th>min_pixel</th>\n",
       "      <th>max_pixel</th>\n",
       "      <th>min_coor_x</th>\n",
       "      <th>min_coor_y</th>\n",
       "      <th>max_coor_x</th>\n",
       "      <th>max_coor_y</th>\n",
       "    </tr>\n",
       "  </thead>\n",
       "  <tbody>\n",
       "    <tr>\n",
       "      <th>0</th>\n",
       "      <td>mdb001</td>\n",
       "      <td>G</td>\n",
       "      <td>CIRC</td>\n",
       "      <td>B</td>\n",
       "      <td>535</td>\n",
       "      <td>425</td>\n",
       "      <td>197</td>\n",
       "      <td>150.781051</td>\n",
       "      <td>3205.504934</td>\n",
       "      <td>56.617179</td>\n",
       "      <td>5</td>\n",
       "      <td>221</td>\n",
       "      <td>373</td>\n",
       "      <td>710</td>\n",
       "      <td>487</td>\n",
       "      <td>632</td>\n",
       "    </tr>\n",
       "    <tr>\n",
       "      <th>1</th>\n",
       "      <td>mdb002</td>\n",
       "      <td>G</td>\n",
       "      <td>CIRC</td>\n",
       "      <td>B</td>\n",
       "      <td>522</td>\n",
       "      <td>280</td>\n",
       "      <td>69</td>\n",
       "      <td>197.870827</td>\n",
       "      <td>764.537398</td>\n",
       "      <td>27.650269</td>\n",
       "      <td>75</td>\n",
       "      <td>229</td>\n",
       "      <td>571</td>\n",
       "      <td>792</td>\n",
       "      <td>531</td>\n",
       "      <td>679</td>\n",
       "    </tr>\n",
       "    <tr>\n",
       "      <th>2</th>\n",
       "      <td>mdb005</td>\n",
       "      <td>F</td>\n",
       "      <td>CIRC</td>\n",
       "      <td>B</td>\n",
       "      <td>477</td>\n",
       "      <td>133</td>\n",
       "      <td>30</td>\n",
       "      <td>149.605105</td>\n",
       "      <td>409.222292</td>\n",
       "      <td>20.229243</td>\n",
       "      <td>84</td>\n",
       "      <td>187</td>\n",
       "      <td>481</td>\n",
       "      <td>920</td>\n",
       "      <td>476</td>\n",
       "      <td>876</td>\n",
       "    </tr>\n",
       "    <tr>\n",
       "      <th>3</th>\n",
       "      <td>mdb005</td>\n",
       "      <td>F</td>\n",
       "      <td>CIRC</td>\n",
       "      <td>B</td>\n",
       "      <td>500</td>\n",
       "      <td>168</td>\n",
       "      <td>26</td>\n",
       "      <td>162.426214</td>\n",
       "      <td>80.178549</td>\n",
       "      <td>8.954248</td>\n",
       "      <td>128</td>\n",
       "      <td>181</td>\n",
       "      <td>520</td>\n",
       "      <td>841</td>\n",
       "      <td>522</td>\n",
       "      <td>859</td>\n",
       "    </tr>\n",
       "    <tr>\n",
       "      <th>4</th>\n",
       "      <td>mdb010</td>\n",
       "      <td>F</td>\n",
       "      <td>CIRC</td>\n",
       "      <td>B</td>\n",
       "      <td>525</td>\n",
       "      <td>425</td>\n",
       "      <td>33</td>\n",
       "      <td>184.385157</td>\n",
       "      <td>127.091607</td>\n",
       "      <td>11.273491</td>\n",
       "      <td>155</td>\n",
       "      <td>208</td>\n",
       "      <td>557</td>\n",
       "      <td>599</td>\n",
       "      <td>519</td>\n",
       "      <td>598</td>\n",
       "    </tr>\n",
       "  </tbody>\n",
       "</table>\n",
       "</div>"
      ],
      "text/plain": [
       "       ID background_tissue class severity    x    y  rad        mean  \\\n",
       "0  mdb001                 G  CIRC        B  535  425  197  150.781051   \n",
       "1  mdb002                 G  CIRC        B  522  280   69  197.870827   \n",
       "2  mdb005                 F  CIRC        B  477  133   30  149.605105   \n",
       "3  mdb005                 F  CIRC        B  500  168   26  162.426214   \n",
       "4  mdb010                 F  CIRC        B  525  425   33  184.385157   \n",
       "\n",
       "           var        std  min_pixel  max_pixel  min_coor_x  min_coor_y  \\\n",
       "0  3205.504934  56.617179          5        221         373         710   \n",
       "1   764.537398  27.650269         75        229         571         792   \n",
       "2   409.222292  20.229243         84        187         481         920   \n",
       "3    80.178549   8.954248        128        181         520         841   \n",
       "4   127.091607  11.273491        155        208         557         599   \n",
       "\n",
       "   max_coor_x  max_coor_y  \n",
       "0         487         632  \n",
       "1         531         679  \n",
       "2         476         876  \n",
       "3         522         859  \n",
       "4         519         598  "
      ]
     },
     "execution_count": 16,
     "metadata": {},
     "output_type": "execute_result"
    }
   ],
   "source": [
    "import pandas as pd\n",
    "data = pd.read_csv('datasets/final.csv')\n",
    "del data['Unnamed: 0']\n",
    "data.head()"
   ]
  },
  {
   "cell_type": "code",
   "execution_count": 17,
   "metadata": {},
   "outputs": [
    {
     "data": {
      "text/plain": [
       "0      1\n",
       "1      1\n",
       "2      1\n",
       "3      1\n",
       "4      1\n",
       "      ..\n",
       "307    0\n",
       "308    0\n",
       "309    0\n",
       "310    0\n",
       "311    0\n",
       "Name: severity, Length: 312, dtype: int64"
      ]
     },
     "execution_count": 17,
     "metadata": {},
     "output_type": "execute_result"
    }
   ],
   "source": [
    "x = data.iloc[:,7:12]\n",
    "y = data['severity']\n",
    "di = {'N':0, 'B':1, 'M':2}\n",
    "y = y.map(di)\n",
    "y\n"
   ]
  },
  {
   "cell_type": "code",
   "execution_count": 18,
   "metadata": {},
   "outputs": [],
   "source": [
    "x_train, x_test, y_train, y_test = train_test_split(x, y,test_size = 0.2, random_state=42, stratify = y)"
   ]
  },
  {
   "cell_type": "markdown",
   "metadata": {},
   "source": [
    "# KNN"
   ]
  },
  {
   "cell_type": "code",
   "execution_count": 60,
   "metadata": {},
   "outputs": [
    {
     "name": "stderr",
     "output_type": "stream",
     "text": [
      "C:\\Users\\huyenntx1\\Miniconda3\\lib\\site-packages\\sklearn\\model_selection\\_validation.py:548: FitFailedWarning: Estimator fit failed. The score on this train-test partition for these parameters will be set to nan. Details: \n",
      "Traceback (most recent call last):\n",
      "  File \"C:\\Users\\huyenntx1\\Miniconda3\\lib\\site-packages\\sklearn\\model_selection\\_validation.py\", line 531, in _fit_and_score\n",
      "    estimator.fit(X_train, y_train, **fit_params)\n",
      "  File \"C:\\Users\\huyenntx1\\Miniconda3\\lib\\site-packages\\sklearn\\neighbors\\_base.py\", line 1157, in fit\n",
      "    return self._fit(X)\n",
      "  File \"C:\\Users\\huyenntx1\\Miniconda3\\lib\\site-packages\\sklearn\\neighbors\\_base.py\", line 467, in _fit\n",
      "    raise ValueError(\n",
      "ValueError: Expected n_neighbors > 0. Got 0\n",
      "\n",
      "  warnings.warn(\"Estimator fit failed. The score on this train-test\"\n",
      "C:\\Users\\huyenntx1\\Miniconda3\\lib\\site-packages\\sklearn\\model_selection\\_validation.py:548: FitFailedWarning: Estimator fit failed. The score on this train-test partition for these parameters will be set to nan. Details: \n",
      "Traceback (most recent call last):\n",
      "  File \"C:\\Users\\huyenntx1\\Miniconda3\\lib\\site-packages\\sklearn\\model_selection\\_validation.py\", line 531, in _fit_and_score\n",
      "    estimator.fit(X_train, y_train, **fit_params)\n",
      "  File \"C:\\Users\\huyenntx1\\Miniconda3\\lib\\site-packages\\sklearn\\neighbors\\_base.py\", line 1157, in fit\n",
      "    return self._fit(X)\n",
      "  File \"C:\\Users\\huyenntx1\\Miniconda3\\lib\\site-packages\\sklearn\\neighbors\\_base.py\", line 467, in _fit\n",
      "    raise ValueError(\n",
      "ValueError: Expected n_neighbors > 0. Got 0\n",
      "\n",
      "  warnings.warn(\"Estimator fit failed. The score on this train-test\"\n",
      "C:\\Users\\huyenntx1\\Miniconda3\\lib\\site-packages\\sklearn\\model_selection\\_validation.py:548: FitFailedWarning: Estimator fit failed. The score on this train-test partition for these parameters will be set to nan. Details: \n",
      "Traceback (most recent call last):\n",
      "  File \"C:\\Users\\huyenntx1\\Miniconda3\\lib\\site-packages\\sklearn\\model_selection\\_validation.py\", line 531, in _fit_and_score\n",
      "    estimator.fit(X_train, y_train, **fit_params)\n",
      "  File \"C:\\Users\\huyenntx1\\Miniconda3\\lib\\site-packages\\sklearn\\neighbors\\_base.py\", line 1157, in fit\n",
      "    return self._fit(X)\n",
      "  File \"C:\\Users\\huyenntx1\\Miniconda3\\lib\\site-packages\\sklearn\\neighbors\\_base.py\", line 467, in _fit\n",
      "    raise ValueError(\n",
      "ValueError: Expected n_neighbors > 0. Got 0\n",
      "\n",
      "  warnings.warn(\"Estimator fit failed. The score on this train-test\"\n",
      "C:\\Users\\huyenntx1\\Miniconda3\\lib\\site-packages\\sklearn\\model_selection\\_validation.py:548: FitFailedWarning: Estimator fit failed. The score on this train-test partition for these parameters will be set to nan. Details: \n",
      "Traceback (most recent call last):\n",
      "  File \"C:\\Users\\huyenntx1\\Miniconda3\\lib\\site-packages\\sklearn\\model_selection\\_validation.py\", line 531, in _fit_and_score\n",
      "    estimator.fit(X_train, y_train, **fit_params)\n",
      "  File \"C:\\Users\\huyenntx1\\Miniconda3\\lib\\site-packages\\sklearn\\neighbors\\_base.py\", line 1157, in fit\n",
      "    return self._fit(X)\n",
      "  File \"C:\\Users\\huyenntx1\\Miniconda3\\lib\\site-packages\\sklearn\\neighbors\\_base.py\", line 467, in _fit\n",
      "    raise ValueError(\n",
      "ValueError: Expected n_neighbors > 0. Got 0\n",
      "\n",
      "  warnings.warn(\"Estimator fit failed. The score on this train-test\"\n",
      "C:\\Users\\huyenntx1\\Miniconda3\\lib\\site-packages\\sklearn\\model_selection\\_validation.py:548: FitFailedWarning: Estimator fit failed. The score on this train-test partition for these parameters will be set to nan. Details: \n",
      "Traceback (most recent call last):\n",
      "  File \"C:\\Users\\huyenntx1\\Miniconda3\\lib\\site-packages\\sklearn\\model_selection\\_validation.py\", line 531, in _fit_and_score\n",
      "    estimator.fit(X_train, y_train, **fit_params)\n",
      "  File \"C:\\Users\\huyenntx1\\Miniconda3\\lib\\site-packages\\sklearn\\neighbors\\_base.py\", line 1157, in fit\n",
      "    return self._fit(X)\n",
      "  File \"C:\\Users\\huyenntx1\\Miniconda3\\lib\\site-packages\\sklearn\\neighbors\\_base.py\", line 467, in _fit\n",
      "    raise ValueError(\n",
      "ValueError: Expected n_neighbors > 0. Got 0\n",
      "\n",
      "  warnings.warn(\"Estimator fit failed. The score on this train-test\"\n"
     ]
    },
    {
     "data": {
      "text/plain": [
       "{'n_neighbors': 11}"
      ]
     },
     "execution_count": 60,
     "metadata": {},
     "output_type": "execute_result"
    }
   ],
   "source": [
    "from sklearn.model_selection import GridSearchCV\n",
    "params = {'n_neighbors':np.arange(15)}\n",
    "reg = KNeighborsClassifier()\n",
    "model = GridSearchCV(reg, params, cv=5)\n",
    "model.fit(x_train,y_train)\n",
    "model.best_params_"
   ]
  },
  {
   "cell_type": "code",
   "execution_count": 61,
   "metadata": {},
   "outputs": [
    {
     "name": "stdout",
     "output_type": "stream",
     "text": [
      "Test set R^2: 0.63\n"
     ]
    },
    {
     "data": {
      "text/plain": [
       "array([0, 0, 0, 1, 0, 0, 1, 0, 0, 0, 0, 0, 0, 2, 0, 0, 0, 0, 2, 0, 0, 0,\n",
       "       0, 0, 0, 0, 0, 0, 0, 0, 0, 0, 1, 1, 0, 1, 0, 0, 0, 0, 0, 0, 0, 0,\n",
       "       0, 0, 0, 0, 0, 1, 0, 0, 1, 2, 2, 2, 0, 1, 0, 0, 0, 0, 0],\n",
       "      dtype=int64)"
      ]
     },
     "execution_count": 61,
     "metadata": {},
     "output_type": "execute_result"
    }
   ],
   "source": [
    "knn = KNeighborsClassifier(n_neighbors=11)\n",
    "knn.fit(x_train, y_train)\n",
    "print(\"Test set R^2: {:.2f}\".format(knn.score(x_test, y_test)))\n",
    "y_pred = knn.predict(x_test)\n",
    "y_pred"
   ]
  },
  {
   "cell_type": "code",
   "execution_count": 62,
   "metadata": {},
   "outputs": [
    {
     "data": {
      "text/plain": [
       "array([0, 0, 0, 2, 0, 0, 1, 0, 0, 0, 0, 1, 2, 1, 0, 1, 0, 1, 2, 2, 1, 0,\n",
       "       0, 1, 1, 2, 0, 0, 0, 0, 0, 0, 1, 0, 0, 0, 0, 0, 1, 1, 2, 0, 0, 2,\n",
       "       0, 1, 0, 0, 0, 1, 0, 0, 2, 0, 2, 1, 0, 0, 2, 0, 0, 0, 0],\n",
       "      dtype=int64)"
      ]
     },
     "execution_count": 62,
     "metadata": {},
     "output_type": "execute_result"
    }
   ],
   "source": [
    "np.array(y_test)"
   ]
  },
  {
   "cell_type": "code",
   "execution_count": 68,
   "metadata": {},
   "outputs": [],
   "source": [
    "y_scores = knn.predict_proba(x_test)\n",
    "fpr_knn, tpr_knn, threshold = roc_curve(y_test, y_scores[:, 1], pos_label= 1)\n",
    "roc_auc = auc(fpr_knn, tpr_knn)"
   ]
  },
  {
   "cell_type": "code",
   "execution_count": 69,
   "metadata": {},
   "outputs": [
    {
     "data": {
      "image/png": "[encoded data removed]",
      "text/plain": [
       "<Figure size 864x720 with 1 Axes>"
      ]
     },
     "metadata": {
      "needs_background": "light"
     },
     "output_type": "display_data"
    }
   ],
   "source": [
    "import matplotlib.pyplot as plt\n",
    "fig = plt.figure(figsize=(12,10))          # Create window frame\n",
    "ax = fig.add_subplot(111)   # Create axes\n",
    "# 9.2 Also connect diagonals\n",
    "ax.plot([0, 1], [0, 1], ls=\"--\")   # Dashed diagonal line\n",
    "# 9.3 Labels etc\n",
    "ax.set_xlabel('False Positive Rate')  # Final plot decorations\n",
    "ax.set_ylabel('True Positive Rate')\n",
    "ax.set_title('ROC curve')\n",
    "# 9.4 Set graph limits\n",
    "ax.set_xlim([0.0, 1.0])\n",
    "ax.set_ylim([0.0, 1.0])\n",
    "\n",
    "# 9.5 Plot each graph now\n",
    "ax.plot(fpr_knn, tpr_knn, label = \"knn\")\n",
    "# 9.6 Set legend and show plot\n",
    "ax.legend(loc=\"lower right\")\n",
    "plt.show()"
   ]
  },
  {
   "cell_type": "markdown",
   "metadata": {},
   "source": [
    "# *Cross Validation*"
   ]
  },
  {
   "cell_type": "code",
   "execution_count": 70,
   "metadata": {},
   "outputs": [],
   "source": [
    "from sklearn.model_selection import cross_validate"
   ]
  },
  {
   "cell_type": "code",
   "execution_count": 71,
   "metadata": {},
   "outputs": [
    {
     "name": "stdout",
     "output_type": "stream",
     "text": [
      "{'fit_time': array([0.0039885 , 0.00299215, 0.00498676, 0.00200129, 0.00295758]), 'score_time': array([0.0069809 , 0.00398898, 0.00801015, 0.00598979, 0.        ]), 'test_score': array([0.58730159, 0.63492063, 0.61290323, 0.56451613, 0.64516129]), 'train_score': array([0.67068273, 0.64257028, 0.66      , 0.688     , 0.672     ])}\n"
     ]
    }
   ],
   "source": [
    "scores = cross_validate(knn, x, y, cv=5, scoring=('accuracy'),\n",
    "                        return_train_score=True)\n",
    "print(scores)"
   ]
  },
  {
   "cell_type": "markdown",
   "metadata": {},
   "source": [
    "# SVM\n"
   ]
  },
  {
   "cell_type": "code",
   "execution_count": 50,
   "metadata": {
    "collapsed": true
   },
   "outputs": [
    {
     "name": "stdout",
     "output_type": "stream",
     "text": [
      "Fitting 5 folds for each of 24 candidates, totalling 120 fits\n",
      "[CV] C=4, kernel=rbf .................................................\n",
      "[CV] ..................... C=4, kernel=rbf, score=0.620, total=   0.0s\n",
      "[CV] C=4, kernel=rbf .................................................\n",
      "[CV] ..................... C=4, kernel=rbf, score=0.620, total=   0.0s\n",
      "[CV] C=4, kernel=rbf .................................................\n",
      "[CV] ..................... C=4, kernel=rbf, score=0.620, total=   0.0s\n",
      "[CV] C=4, kernel=rbf .................................................\n",
      "[CV] ..................... C=4, kernel=rbf, score=0.620, total=   0.0s\n",
      "[CV] C=4, kernel=rbf .................................................\n",
      "[CV] ..................... C=4, kernel=rbf, score=0.551, total=   0.0s\n",
      "[CV] C=8, kernel=rbf .................................................\n",
      "[CV] ..................... C=8, kernel=rbf, score=0.620, total=   0.0s\n",
      "[CV] C=8, kernel=rbf .................................................\n",
      "[CV] ..................... C=8, kernel=rbf, score=0.620, total=   0.0s\n",
      "[CV] C=8, kernel=rbf .................................................\n",
      "[CV] ..................... C=8, kernel=rbf, score=0.620, total=   0.0s\n",
      "[CV] C=8, kernel=rbf .................................................\n",
      "[CV] ..................... C=8, kernel=rbf, score=0.620, total=   0.0s\n",
      "[CV] C=8, kernel=rbf .................................................\n",
      "[CV] ..................... C=8, kernel=rbf, score=0.551, total=   0.0s\n",
      "[CV] C=12, kernel=rbf ................................................\n",
      "[CV] .................... C=12, kernel=rbf, score=0.620, total=   0.0s\n",
      "[CV] C=12, kernel=rbf ................................................\n",
      "[CV] .................... C=12, kernel=rbf, score=0.620, total=   0.0s\n",
      "[CV] C=12, kernel=rbf ................................................\n",
      "[CV] .................... C=12, kernel=rbf, score=0.600, total=   0.0s\n",
      "[CV] C=12, kernel=rbf ................................................\n",
      "[CV] .................... C=12, kernel=rbf, score=0.620, total=   0.0s\n",
      "[CV] C=12, kernel=rbf ................................................\n",
      "[CV] .................... C=12, kernel=rbf, score=0.551, total=   0.0s\n",
      "[CV] C=16, kernel=rbf ................................................\n",
      "[CV] .................... C=16, kernel=rbf, score=0.620, total=   0.0s\n",
      "[CV] C=16, kernel=rbf ................................................\n",
      "[CV] .................... C=16, kernel=rbf, score=0.620, total=   0.0s\n",
      "[CV] C=16, kernel=rbf ................................................\n",
      "[CV] .................... C=16, kernel=rbf, score=0.580, total=   0.0s\n",
      "[CV] C=16, kernel=rbf ................................................\n",
      "[CV] .................... C=16, kernel=rbf, score=0.620, total=   0.0s\n",
      "[CV] C=16, kernel=rbf ................................................\n",
      "[CV] .................... C=16, kernel=rbf, score=0.551, total=   0.0s\n",
      "[CV] C=20, kernel=rbf ................................................\n",
      "[CV] .................... C=20, kernel=rbf, score=0.620, total=   0.0s\n",
      "[CV] C=20, kernel=rbf ................................................\n",
      "[CV] .................... C=20, kernel=rbf, score=0.620, total=   0.0s\n",
      "[CV] C=20, kernel=rbf ................................................\n",
      "[CV] .................... C=20, kernel=rbf, score=0.580, total=   0.0s\n",
      "[CV] C=20, kernel=rbf ................................................\n",
      "[CV] .................... C=20, kernel=rbf, score=0.620, total=   0.0s\n",
      "[CV] C=20, kernel=rbf ................................................\n"
     ]
    },
    {
     "name": "stderr",
     "output_type": "stream",
     "text": [
      "[Parallel(n_jobs=1)]: Using backend SequentialBackend with 1 concurrent workers.\n",
      "[Parallel(n_jobs=1)]: Done   1 out of   1 | elapsed:    0.0s remaining:    0.0s\n",
      "[Parallel(n_jobs=1)]: Done   2 out of   2 | elapsed:    0.0s remaining:    0.0s\n"
     ]
    },
    {
     "name": "stdout",
     "output_type": "stream",
     "text": [
      "[CV] .................... C=20, kernel=rbf, score=0.551, total=   0.0s\n",
      "[CV] C=24, kernel=rbf ................................................\n",
      "[CV] .................... C=24, kernel=rbf, score=0.620, total=   0.0s\n",
      "[CV] C=24, kernel=rbf ................................................\n",
      "[CV] .................... C=24, kernel=rbf, score=0.640, total=   0.0s\n",
      "[CV] C=24, kernel=rbf ................................................\n",
      "[CV] .................... C=24, kernel=rbf, score=0.580, total=   0.0s\n",
      "[CV] C=24, kernel=rbf ................................................\n",
      "[CV] .................... C=24, kernel=rbf, score=0.620, total=   0.0s\n",
      "[CV] C=24, kernel=rbf ................................................\n",
      "[CV] .................... C=24, kernel=rbf, score=0.551, total=   0.0s\n",
      "[CV] C=28, kernel=rbf ................................................\n",
      "[CV] .................... C=28, kernel=rbf, score=0.620, total=   0.0s\n",
      "[CV] C=28, kernel=rbf ................................................\n",
      "[CV] .................... C=28, kernel=rbf, score=0.600, total=   0.0s\n",
      "[CV] C=28, kernel=rbf ................................................\n",
      "[CV] .................... C=28, kernel=rbf, score=0.580, total=   0.0s\n",
      "[CV] C=28, kernel=rbf ................................................\n",
      "[CV] .................... C=28, kernel=rbf, score=0.620, total=   0.0s\n",
      "[CV] C=28, kernel=rbf ................................................\n",
      "[CV] .................... C=28, kernel=rbf, score=0.551, total=   0.0s\n",
      "[CV] C=32, kernel=rbf ................................................\n",
      "[CV] .................... C=32, kernel=rbf, score=0.620, total=   0.0s\n",
      "[CV] C=32, kernel=rbf ................................................\n",
      "[CV] .................... C=32, kernel=rbf, score=0.580, total=   0.0s\n",
      "[CV] C=32, kernel=rbf ................................................\n",
      "[CV] .................... C=32, kernel=rbf, score=0.580, total=   0.0s\n",
      "[CV] C=32, kernel=rbf ................................................\n",
      "[CV] .................... C=32, kernel=rbf, score=0.620, total=   0.0s\n",
      "[CV] C=32, kernel=rbf ................................................\n",
      "[CV] .................... C=32, kernel=rbf, score=0.531, total=   0.0s\n",
      "[CV] C=36, kernel=rbf ................................................\n",
      "[CV] .................... C=36, kernel=rbf, score=0.620, total=   0.0s\n",
      "[CV] C=36, kernel=rbf ................................................\n",
      "[CV] .................... C=36, kernel=rbf, score=0.580, total=   0.0s\n",
      "[CV] C=36, kernel=rbf ................................................\n",
      "[CV] .................... C=36, kernel=rbf, score=0.580, total=   0.0s\n",
      "[CV] C=36, kernel=rbf ................................................\n",
      "[CV] .................... C=36, kernel=rbf, score=0.620, total=   0.0s\n",
      "[CV] C=36, kernel=rbf ................................................\n",
      "[CV] .................... C=36, kernel=rbf, score=0.531, total=   0.0s\n",
      "[CV] C=40, kernel=rbf ................................................\n",
      "[CV] .................... C=40, kernel=rbf, score=0.620, total=   0.0s\n",
      "[CV] C=40, kernel=rbf ................................................\n",
      "[CV] .................... C=40, kernel=rbf, score=0.580, total=   0.0s\n",
      "[CV] C=40, kernel=rbf ................................................\n",
      "[CV] .................... C=40, kernel=rbf, score=0.580, total=   0.0s\n",
      "[CV] C=40, kernel=rbf ................................................\n",
      "[CV] .................... C=40, kernel=rbf, score=0.620, total=   0.0s\n",
      "[CV] C=40, kernel=rbf ................................................\n",
      "[CV] .................... C=40, kernel=rbf, score=0.531, total=   0.0s\n",
      "[CV] C=44, kernel=rbf ................................................\n",
      "[CV] .................... C=44, kernel=rbf, score=0.620, total=   0.0s\n",
      "[CV] C=44, kernel=rbf ................................................\n",
      "[CV] .................... C=44, kernel=rbf, score=0.600, total=   0.0s\n",
      "[CV] C=44, kernel=rbf ................................................\n",
      "[CV] .................... C=44, kernel=rbf, score=0.580, total=   0.0s\n",
      "[CV] C=44, kernel=rbf ................................................\n",
      "[CV] .................... C=44, kernel=rbf, score=0.640, total=   0.0s\n",
      "[CV] C=44, kernel=rbf ................................................\n",
      "[CV] .................... C=44, kernel=rbf, score=0.531, total=   0.0s\n",
      "[CV] C=48, kernel=rbf ................................................\n",
      "[CV] .................... C=48, kernel=rbf, score=0.620, total=   0.0s\n",
      "[CV] C=48, kernel=rbf ................................................\n",
      "[CV] .................... C=48, kernel=rbf, score=0.580, total=   0.0s\n",
      "[CV] C=48, kernel=rbf ................................................\n",
      "[CV] .................... C=48, kernel=rbf, score=0.580, total=   0.0s\n",
      "[CV] C=48, kernel=rbf ................................................\n",
      "[CV] .................... C=48, kernel=rbf, score=0.640, total=   0.0s\n",
      "[CV] C=48, kernel=rbf ................................................\n",
      "[CV] .................... C=48, kernel=rbf, score=0.531, total=   0.0s\n",
      "[CV] C=52, kernel=rbf ................................................\n",
      "[CV] .................... C=52, kernel=rbf, score=0.620, total=   0.0s\n",
      "[CV] C=52, kernel=rbf ................................................\n",
      "[CV] .................... C=52, kernel=rbf, score=0.580, total=   0.0s\n",
      "[CV] C=52, kernel=rbf ................................................\n",
      "[CV] .................... C=52, kernel=rbf, score=0.580, total=   0.0s\n",
      "[CV] C=52, kernel=rbf ................................................\n",
      "[CV] .................... C=52, kernel=rbf, score=0.640, total=   0.0s\n",
      "[CV] C=52, kernel=rbf ................................................\n",
      "[CV] .................... C=52, kernel=rbf, score=0.531, total=   0.0s\n",
      "[CV] C=56, kernel=rbf ................................................\n",
      "[CV] .................... C=56, kernel=rbf, score=0.620, total=   0.0s\n",
      "[CV] C=56, kernel=rbf ................................................\n",
      "[CV] .................... C=56, kernel=rbf, score=0.580, total=   0.0s\n",
      "[CV] C=56, kernel=rbf ................................................\n",
      "[CV] .................... C=56, kernel=rbf, score=0.600, total=   0.0s\n",
      "[CV] C=56, kernel=rbf ................................................\n",
      "[CV] .................... C=56, kernel=rbf, score=0.640, total=   0.0s\n",
      "[CV] C=56, kernel=rbf ................................................\n",
      "[CV] .................... C=56, kernel=rbf, score=0.531, total=   0.0s\n",
      "[CV] C=60, kernel=rbf ................................................\n",
      "[CV] .................... C=60, kernel=rbf, score=0.620, total=   0.0s\n",
      "[CV] C=60, kernel=rbf ................................................\n",
      "[CV] .................... C=60, kernel=rbf, score=0.600, total=   0.0s\n",
      "[CV] C=60, kernel=rbf ................................................\n",
      "[CV] .................... C=60, kernel=rbf, score=0.600, total=   0.0s\n",
      "[CV] C=60, kernel=rbf ................................................\n",
      "[CV] .................... C=60, kernel=rbf, score=0.640, total=   0.0s\n",
      "[CV] C=60, kernel=rbf ................................................\n",
      "[CV] .................... C=60, kernel=rbf, score=0.531, total=   0.0s\n",
      "[CV] C=64, kernel=rbf ................................................\n",
      "[CV] .................... C=64, kernel=rbf, score=0.620, total=   0.0s\n",
      "[CV] C=64, kernel=rbf ................................................\n",
      "[CV] .................... C=64, kernel=rbf, score=0.600, total=   0.0s\n",
      "[CV] C=64, kernel=rbf ................................................\n",
      "[CV] .................... C=64, kernel=rbf, score=0.600, total=   0.0s\n",
      "[CV] C=64, kernel=rbf ................................................\n",
      "[CV] .................... C=64, kernel=rbf, score=0.640, total=   0.0s\n",
      "[CV] C=64, kernel=rbf ................................................\n",
      "[CV] .................... C=64, kernel=rbf, score=0.531, total=   0.0s\n",
      "[CV] C=68, kernel=rbf ................................................\n",
      "[CV] .................... C=68, kernel=rbf, score=0.620, total=   0.0s\n",
      "[CV] C=68, kernel=rbf ................................................\n",
      "[CV] .................... C=68, kernel=rbf, score=0.600, total=   0.0s\n",
      "[CV] C=68, kernel=rbf ................................................\n",
      "[CV] .................... C=68, kernel=rbf, score=0.600, total=   0.0s\n",
      "[CV] C=68, kernel=rbf ................................................\n",
      "[CV] .................... C=68, kernel=rbf, score=0.640, total=   0.0s\n",
      "[CV] C=68, kernel=rbf ................................................\n",
      "[CV] .................... C=68, kernel=rbf, score=0.531, total=   0.0s\n",
      "[CV] C=72, kernel=rbf ................................................\n",
      "[CV] .................... C=72, kernel=rbf, score=0.640, total=   0.0s\n",
      "[CV] C=72, kernel=rbf ................................................\n",
      "[CV] .................... C=72, kernel=rbf, score=0.600, total=   0.0s\n",
      "[CV] C=72, kernel=rbf ................................................\n",
      "[CV] .................... C=72, kernel=rbf, score=0.600, total=   0.0s\n",
      "[CV] C=72, kernel=rbf ................................................\n",
      "[CV] .................... C=72, kernel=rbf, score=0.640, total=   0.0s\n",
      "[CV] C=72, kernel=rbf ................................................\n",
      "[CV] .................... C=72, kernel=rbf, score=0.531, total=   0.0s\n",
      "[CV] C=76, kernel=rbf ................................................\n",
      "[CV] .................... C=76, kernel=rbf, score=0.640, total=   0.0s\n",
      "[CV] C=76, kernel=rbf ................................................\n",
      "[CV] .................... C=76, kernel=rbf, score=0.600, total=   0.0s\n",
      "[CV] C=76, kernel=rbf ................................................\n",
      "[CV] .................... C=76, kernel=rbf, score=0.600, total=   0.0s\n",
      "[CV] C=76, kernel=rbf ................................................\n",
      "[CV] .................... C=76, kernel=rbf, score=0.660, total=   0.0s\n",
      "[CV] C=76, kernel=rbf ................................................\n",
      "[CV] .................... C=76, kernel=rbf, score=0.531, total=   0.0s\n",
      "[CV] C=80, kernel=rbf ................................................\n",
      "[CV] .................... C=80, kernel=rbf, score=0.640, total=   0.0s\n",
      "[CV] C=80, kernel=rbf ................................................\n",
      "[CV] .................... C=80, kernel=rbf, score=0.600, total=   0.0s\n",
      "[CV] C=80, kernel=rbf ................................................\n",
      "[CV] .................... C=80, kernel=rbf, score=0.600, total=   0.0s\n",
      "[CV] C=80, kernel=rbf ................................................\n",
      "[CV] .................... C=80, kernel=rbf, score=0.660, total=   0.0s\n",
      "[CV] C=80, kernel=rbf ................................................\n",
      "[CV] .................... C=80, kernel=rbf, score=0.510, total=   0.0s\n",
      "[CV] C=84, kernel=rbf ................................................\n"
     ]
    },
    {
     "name": "stdout",
     "output_type": "stream",
     "text": [
      "[CV] .................... C=84, kernel=rbf, score=0.640, total=   0.0s\n",
      "[CV] C=84, kernel=rbf ................................................\n",
      "[CV] .................... C=84, kernel=rbf, score=0.600, total=   0.0s\n",
      "[CV] C=84, kernel=rbf ................................................\n",
      "[CV] .................... C=84, kernel=rbf, score=0.600, total=   0.0s\n",
      "[CV] C=84, kernel=rbf ................................................\n",
      "[CV] .................... C=84, kernel=rbf, score=0.660, total=   0.0s\n",
      "[CV] C=84, kernel=rbf ................................................\n",
      "[CV] .................... C=84, kernel=rbf, score=0.510, total=   0.0s\n",
      "[CV] C=88, kernel=rbf ................................................\n",
      "[CV] .................... C=88, kernel=rbf, score=0.640, total=   0.0s\n",
      "[CV] C=88, kernel=rbf ................................................\n",
      "[CV] .................... C=88, kernel=rbf, score=0.600, total=   0.0s\n",
      "[CV] C=88, kernel=rbf ................................................\n",
      "[CV] .................... C=88, kernel=rbf, score=0.600, total=   0.0s\n",
      "[CV] C=88, kernel=rbf ................................................\n",
      "[CV] .................... C=88, kernel=rbf, score=0.680, total=   0.0s\n",
      "[CV] C=88, kernel=rbf ................................................\n",
      "[CV] .................... C=88, kernel=rbf, score=0.510, total=   0.0s\n",
      "[CV] C=92, kernel=rbf ................................................\n",
      "[CV] .................... C=92, kernel=rbf, score=0.640, total=   0.0s\n",
      "[CV] C=92, kernel=rbf ................................................\n",
      "[CV] .................... C=92, kernel=rbf, score=0.600, total=   0.0s\n",
      "[CV] C=92, kernel=rbf ................................................\n",
      "[CV] .................... C=92, kernel=rbf, score=0.600, total=   0.0s\n",
      "[CV] C=92, kernel=rbf ................................................\n",
      "[CV] .................... C=92, kernel=rbf, score=0.680, total=   0.0s\n",
      "[CV] C=92, kernel=rbf ................................................\n",
      "[CV] .................... C=92, kernel=rbf, score=0.510, total=   0.0s\n",
      "[CV] C=96, kernel=rbf ................................................\n",
      "[CV] .................... C=96, kernel=rbf, score=0.640, total=   0.0s\n",
      "[CV] C=96, kernel=rbf ................................................\n",
      "[CV] .................... C=96, kernel=rbf, score=0.600, total=   0.0s\n",
      "[CV] C=96, kernel=rbf ................................................\n",
      "[CV] .................... C=96, kernel=rbf, score=0.600, total=   0.0s\n",
      "[CV] C=96, kernel=rbf ................................................\n",
      "[CV] .................... C=96, kernel=rbf, score=0.680, total=   0.0s\n",
      "[CV] C=96, kernel=rbf ................................................\n",
      "[CV] .................... C=96, kernel=rbf, score=0.510, total=   0.0s\n",
      "{'C': 4, 'kernel': 'rbf'}\n",
      "SVC(C=4)\n"
     ]
    },
    {
     "name": "stderr",
     "output_type": "stream",
     "text": [
      "[Parallel(n_jobs=1)]: Done 120 out of 120 | elapsed:    0.8s finished\n"
     ]
    }
   ],
   "source": [
    "# from sklearn.model_selection import GridSearchCV \n",
    "  \n",
    "# # defining parameter range \n",
    "# param_grid = {'C': np.arange(4,100,4),  \n",
    "#               'kernel': ['rbf']}  \n",
    "  \n",
    "# grid = GridSearchCV(sklearn.svm.SVC(), param_grid, refit = True, verbose = 3) \n",
    "  \n",
    "# # fitting the model for grid search \n",
    "# grid.fit(x_train, y_train) \n",
    "\n",
    "# # print best parameter after tuning \n",
    "# print(grid.best_params_) \n",
    "  \n",
    "# # print how our model looks after hyper-parameter tuning \n",
    "# print(grid.best_estimator_) "
   ]
  },
  {
   "cell_type": "code",
   "execution_count": 25,
   "metadata": {},
   "outputs": [
    {
     "data": {
      "text/plain": [
       "SVC(C=30)"
      ]
     },
     "execution_count": 25,
     "metadata": {},
     "output_type": "execute_result"
    }
   ],
   "source": [
    "svm = sklearn.svm.SVC(C= 30, kernel= 'rbf')\n",
    "svm.fit(x_train, y_train)"
   ]
  },
  {
   "cell_type": "code",
   "execution_count": 26,
   "metadata": {},
   "outputs": [
    {
     "data": {
      "text/plain": [
       "0.6345381526104418"
      ]
     },
     "execution_count": 26,
     "metadata": {},
     "output_type": "execute_result"
    }
   ],
   "source": [
    "svm.score(x_train, y_train)\n"
   ]
  },
  {
   "cell_type": "code",
   "execution_count": 27,
   "metadata": {},
   "outputs": [
    {
     "data": {
      "text/plain": [
       "0.6190476190476191"
      ]
     },
     "execution_count": 27,
     "metadata": {},
     "output_type": "execute_result"
    }
   ],
   "source": [
    "svm.score(x_test, y_test)\n"
   ]
  },
  {
   "cell_type": "code",
   "execution_count": 28,
   "metadata": {},
   "outputs": [
    {
     "data": {
      "text/plain": [
       "array([0, 0, 0, 0, 0, 0, 0, 0, 0, 0, 0, 0, 0, 0, 0, 0, 0, 0, 0, 0, 0, 0,\n",
       "       0, 0, 0, 0, 0, 0, 0, 0, 0, 0, 0, 0, 0, 0, 0, 0, 0, 0, 0, 0, 0, 0,\n",
       "       0, 0, 0, 0, 0, 0, 0, 0, 0, 0, 0, 2, 0, 0, 1, 0, 0, 0, 0],\n",
       "      dtype=int64)"
      ]
     },
     "execution_count": 28,
     "metadata": {},
     "output_type": "execute_result"
    }
   ],
   "source": [
    "y_pred = svm.predict(x_test)\n",
    "# y_pred == y_test\n",
    "np.array(y_pred)"
   ]
  },
  {
   "cell_type": "code",
   "execution_count": 29,
   "metadata": {},
   "outputs": [
    {
     "data": {
      "text/plain": [
       "array([0, 0, 0, 2, 0, 0, 1, 0, 0, 0, 0, 1, 2, 1, 0, 1, 0, 1, 2, 2, 1, 0,\n",
       "       0, 1, 1, 2, 0, 0, 0, 0, 0, 0, 1, 0, 0, 0, 0, 0, 1, 1, 2, 0, 0, 2,\n",
       "       0, 1, 0, 0, 0, 1, 0, 0, 2, 0, 2, 1, 0, 0, 2, 0, 0, 0, 0],\n",
       "      dtype=int64)"
      ]
     },
     "execution_count": 29,
     "metadata": {},
     "output_type": "execute_result"
    }
   ],
   "source": [
    "np.array(y_test)"
   ]
  },
  {
   "cell_type": "code",
   "execution_count": 74,
   "metadata": {},
   "outputs": [],
   "source": [
    "y_scores = svm.predict(x_test)\n",
    "fpr_svm, tpr_svm, threshold = roc_curve(y_test, y_scores, pos_label= 1)\n",
    "roc_auc = auc(fpr_svm, tpr_svm)"
   ]
  },
  {
   "cell_type": "code",
   "execution_count": 77,
   "metadata": {},
   "outputs": [
    {
     "data": {
      "image/png": "[encoded data removed]",
      "text/plain": [
       "<Figure size 864x720 with 1 Axes>"
      ]
     },
     "metadata": {
      "needs_background": "light"
     },
     "output_type": "display_data"
    }
   ],
   "source": [
    "import matplotlib.pyplot as plt\n",
    "fig = plt.figure(figsize=(12,10))          # Create window frame\n",
    "ax = fig.add_subplot(111)   # Create axes\n",
    "# 9.2 Also connect diagonals\n",
    "ax.plot([0, 1], [0, 1], ls=\"--\")   # Dashed diagonal line\n",
    "# 9.3 Labels etc\n",
    "ax.set_xlabel('False Positive Rate')  # Final plot decorations\n",
    "ax.set_ylabel('True Positive Rate')\n",
    "ax.set_title('ROC curve')\n",
    "# 9.4 Set graph limits\n",
    "ax.set_xlim([0.0, 1.0])\n",
    "ax.set_ylim([0.0, 1.0])\n",
    "\n",
    "# 9.5 Plot each graph now\n",
    "ax.plot(fpr_svm, tpr_svm, label = \"svm\")\n",
    "# 9.6 Set legend and show plot\n",
    "ax.legend(loc=\"lower right\")\n",
    "plt.show()"
   ]
  },
  {
   "cell_type": "markdown",
   "metadata": {},
   "source": [
    "# *Cross Validation*"
   ]
  },
  {
   "cell_type": "code",
   "execution_count": 36,
   "metadata": {},
   "outputs": [
    {
     "name": "stdout",
     "output_type": "stream",
     "text": [
      "{'fit_time': array([0.00800705, 0.00655007, 0.00599074, 0.00797939, 0.00997138]), 'score_time': array([0.00263357, 0.00199485, 0.0019567 , 0.00300145, 0.00302029]), 'test_score': array([0.63492063, 0.65079365, 0.61290323, 0.5483871 , 0.59677419]), 'train_score': array([0.63453815, 0.62650602, 0.636     , 0.68      , 0.652     ])}\n"
     ]
    }
   ],
   "source": [
    "scores = cross_validate(svm, x, y, cv=5, scoring=('accuracy'),\n",
    "                        return_train_score=True)\n",
    "print(scores)"
   ]
  },
  {
   "cell_type": "markdown",
   "metadata": {},
   "source": [
    "# Decision Tree\n"
   ]
  },
  {
   "cell_type": "code",
   "execution_count": 40,
   "metadata": {},
   "outputs": [],
   "source": [
    "from sklearn.tree import DecisionTreeClassifier\n"
   ]
  },
  {
   "cell_type": "code",
   "execution_count": 41,
   "metadata": {},
   "outputs": [],
   "source": [
    "# tree=DecisionTreeClassifier(max_depth=2,random_state=42)\n",
    "tree = DecisionTreeClassifier(random_state=42)"
   ]
  },
  {
   "cell_type": "code",
   "execution_count": 42,
   "metadata": {},
   "outputs": [
    {
     "data": {
      "text/plain": [
       "DecisionTreeClassifier(random_state=42)"
      ]
     },
     "execution_count": 42,
     "metadata": {},
     "output_type": "execute_result"
    }
   ],
   "source": [
    "tree.fit(x_train, y_train)"
   ]
  },
  {
   "cell_type": "code",
   "execution_count": 43,
   "metadata": {},
   "outputs": [],
   "source": [
    "y_pred = tree.predict(x_test)"
   ]
  },
  {
   "cell_type": "code",
   "execution_count": 44,
   "metadata": {},
   "outputs": [
    {
     "name": "stdout",
     "output_type": "stream",
     "text": [
      "Độ chính xác tập huấn luyện: 1.0000\n",
      "Độ chính xác tập kiểm tra: 0.6349\n"
     ]
    }
   ],
   "source": [
    "print('Độ chính xác tập huấn luyện: {:.4f}'.format(tree.score(x_train, y_train)))\n",
    "print('Độ chính xác tập kiểm tra: {:.4f}'.format(tree.score(x_test, y_test)))"
   ]
  },
  {
   "cell_type": "code",
   "execution_count": 45,
   "metadata": {},
   "outputs": [],
   "source": [
    "from sklearn.model_selection import cross_val_score, cross_val_predict\n",
    "from sklearn.metrics import accuracy_score, classification_report, confusion_matrix\n",
    "def print_score(clf, X_train, y_train, X_test, y_test, train=True):\n",
    "    '''\n",
    "    print the accuracy score, classification report and confusion matrix of classifier\n",
    "    '''\n",
    "    if train:\n",
    "        '''\n",
    "        training performance\n",
    "        '''\n",
    "        print(\"Train Result:\\n\")\n",
    "        print(\"accuracy score: {0:.4f}\\n\".format(accuracy_score(y_train, clf.predict(X_train))))\n",
    "        print(\"Classification Report: \\n {}\\n\".format(classification_report(y_train, clf.predict(X_train))))\n",
    "        print(\"Confusion Matrix: \\n {}\\n\".format(confusion_matrix(y_train, clf.predict(X_train))))\n",
    "\n",
    "        res = cross_val_score(clf, X_train, y_train.ravel(), cv=10, scoring='accuracy')\n",
    "        print(\"Average Accuracy: \\t {0:.4f}\".format(np.mean(res)))\n",
    "        print(\"Accuracy SD: \\t\\t {0:.4f}\".format(np.std(res)))\n",
    "        \n",
    "    elif train==False:\n",
    "        '''\n",
    "        test performance\n",
    "        '''\n",
    "        print(\"Test Result:\\n\")        \n",
    "        print(\"accuracy score: {0:.4f}\\n\".format(accuracy_score(y_test, clf.predict(X_test))))\n",
    "        print(\"Classification Report: \\n {}\\n\".format(classification_report(y_test, clf.predict(X_test))))\n",
    "        print(\"Confusion Matrix: \\n {}\\n\".format(confusion_matrix(y_test, clf.predict(X_test))))    \n",
    "        "
   ]
  },
  {
   "cell_type": "code",
   "execution_count": 46,
   "metadata": {},
   "outputs": [
    {
     "name": "stdout",
     "output_type": "stream",
     "text": [
      "Test Result:\n",
      "\n",
      "accuracy score: 0.6349\n",
      "\n",
      "Classification Report: \n",
      "               precision    recall  f1-score   support\n",
      "\n",
      "           0       0.77      0.85      0.80        39\n",
      "           1       0.36      0.29      0.32        14\n",
      "           2       0.33      0.30      0.32        10\n",
      "\n",
      "    accuracy                           0.63        63\n",
      "   macro avg       0.49      0.48      0.48        63\n",
      "weighted avg       0.61      0.63      0.62        63\n",
      "\n",
      "\n",
      "Confusion Matrix: \n",
      " [[33  4  2]\n",
      " [ 6  4  4]\n",
      " [ 4  3  3]]\n",
      "\n"
     ]
    }
   ],
   "source": [
    "print_score(tree, x_train, y_train, x_test, y_test, train=False)"
   ]
  },
  {
   "cell_type": "code",
   "execution_count": 78,
   "metadata": {},
   "outputs": [],
   "source": [
    "y_scores = tree.predict_proba(x_test)\n",
    "fpr_tree, tpr_tree, threshold = roc_curve(y_test, y_scores[:, 1], pos_label= 1)\n",
    "roc_auc = auc(fpr_tree, tpr_tree)"
   ]
  },
  {
   "cell_type": "code",
   "execution_count": 79,
   "metadata": {},
   "outputs": [
    {
     "data": {
      "image/png": "[encoded data removed]",
      "text/plain": [
       "<Figure size 864x720 with 1 Axes>"
      ]
     },
     "metadata": {
      "needs_background": "light"
     },
     "output_type": "display_data"
    }
   ],
   "source": [
    "import matplotlib.pyplot as plt\n",
    "fig = plt.figure(figsize=(12,10))          # Create window frame\n",
    "ax = fig.add_subplot(111)   # Create axes\n",
    "# 9.2 Also connect diagonals\n",
    "ax.plot([0, 1], [0, 1], ls=\"--\")   # Dashed diagonal line\n",
    "# 9.3 Labels etc\n",
    "ax.set_xlabel('False Positive Rate')  # Final plot decorations\n",
    "ax.set_ylabel('True Positive Rate')\n",
    "ax.set_title('ROC curve')\n",
    "# 9.4 Set graph limits\n",
    "ax.set_xlim([0.0, 1.0])\n",
    "ax.set_ylim([0.0, 1.0])\n",
    "\n",
    "# 9.5 Plot each graph now\n",
    "ax.plot(fpr_tree, tpr_tree, label = \"tree\")\n",
    "# 9.6 Set legend and show plot\n",
    "ax.legend(loc=\"lower right\")\n",
    "plt.show()"
   ]
  },
  {
   "cell_type": "code",
   "execution_count": 47,
   "metadata": {},
   "outputs": [
    {
     "name": "stdout",
     "output_type": "stream",
     "text": [
      "{'fit_time': array([0.00749087, 0.00703239, 0.00598168, 0.00495601, 0.00897527]), 'score_time': array([0.00398993, 0.00196528, 0.0029943 , 0.00498962, 0.00299335]), 'test_score': array([0.58730159, 0.55555556, 0.53225806, 0.4516129 , 0.56451613]), 'train_score': array([1., 1., 1., 1., 1.])}\n"
     ]
    }
   ],
   "source": [
    "scores = cross_validate(tree, x, y, cv=5, scoring=('accuracy'),\n",
    "                        return_train_score=True)\n",
    "print(scores)"
   ]
  },
  {
   "cell_type": "markdown",
   "metadata": {},
   "source": [
    "# Random forest\n"
   ]
  },
  {
   "cell_type": "code",
   "execution_count": 48,
   "metadata": {},
   "outputs": [],
   "source": [
    "from sklearn.ensemble import RandomForestClassifier"
   ]
  },
  {
   "cell_type": "code",
   "execution_count": 49,
   "metadata": {},
   "outputs": [
    {
     "data": {
      "text/plain": [
       "RandomForestClassifier(n_estimators=10)"
      ]
     },
     "execution_count": 49,
     "metadata": {},
     "output_type": "execute_result"
    }
   ],
   "source": [
    "rf = RandomForestClassifier(n_estimators=10)\n",
    "rf.fit(x_train, y_train)"
   ]
  },
  {
   "cell_type": "code",
   "execution_count": 50,
   "metadata": {},
   "outputs": [
    {
     "name": "stdout",
     "output_type": "stream",
     "text": [
      "Train Result:\n",
      "\n",
      "accuracy score: 0.9759\n",
      "\n",
      "Classification Report: \n",
      "               precision    recall  f1-score   support\n",
      "\n",
      "           0       0.97      0.99      0.98       154\n",
      "           1       0.98      0.94      0.96        54\n",
      "           2       1.00      0.95      0.97        41\n",
      "\n",
      "    accuracy                           0.98       249\n",
      "   macro avg       0.98      0.96      0.97       249\n",
      "weighted avg       0.98      0.98      0.98       249\n",
      "\n",
      "\n",
      "Confusion Matrix: \n",
      " [[153   1   0]\n",
      " [  3  51   0]\n",
      " [  2   0  39]]\n",
      "\n",
      "Average Accuracy: \t 0.5578\n",
      "Accuracy SD: \t\t 0.0898\n",
      "\n",
      "\n",
      "Test Result:\n",
      "\n",
      "accuracy score: 0.6349\n",
      "\n",
      "Classification Report: \n",
      "               precision    recall  f1-score   support\n",
      "\n",
      "           0       0.73      0.90      0.80        39\n",
      "           1       0.38      0.21      0.27        14\n",
      "           2       0.29      0.20      0.24        10\n",
      "\n",
      "    accuracy                           0.63        63\n",
      "   macro avg       0.46      0.44      0.44        63\n",
      "weighted avg       0.58      0.63      0.60        63\n",
      "\n",
      "\n",
      "Confusion Matrix: \n",
      " [[35  2  2]\n",
      " [ 8  3  3]\n",
      " [ 5  3  2]]\n",
      "\n"
     ]
    }
   ],
   "source": [
    "print_score(rf, x_train, y_train, x_test, y_test, train=True)\n",
    "print('\\n')\n",
    "print_score(rf, x_train, y_train, x_test, y_test, train=False)"
   ]
  },
  {
   "cell_type": "code",
   "execution_count": 80,
   "metadata": {},
   "outputs": [],
   "source": [
    "y_scores = rf.predict_proba(x_test)\n",
    "fpr_rf, tpr_rf, threshold = roc_curve(y_test, y_scores[:, 1], pos_label= 1)\n",
    "roc_auc = auc(fpr_rf, tpr_rf)"
   ]
  },
  {
   "cell_type": "code",
   "execution_count": 81,
   "metadata": {},
   "outputs": [
    {
     "data": {
      "image/png": "[encoded data removed]",
      "text/plain": [
       "<Figure size 864x720 with 1 Axes>"
      ]
     },
     "metadata": {
      "needs_background": "light"
     },
     "output_type": "display_data"
    }
   ],
   "source": [
    "import matplotlib.pyplot as plt\n",
    "fig = plt.figure(figsize=(12,10))          # Create window frame\n",
    "ax = fig.add_subplot(111)   # Create axes\n",
    "# 9.2 Also connect diagonals\n",
    "ax.plot([0, 1], [0, 1], ls=\"--\")   # Dashed diagonal line\n",
    "# 9.3 Labels etc\n",
    "ax.set_xlabel('False Positive Rate')  # Final plot decorations\n",
    "ax.set_ylabel('True Positive Rate')\n",
    "ax.set_title('ROC curve')\n",
    "# 9.4 Set graph limits\n",
    "ax.set_xlim([0.0, 1.0])\n",
    "ax.set_ylim([0.0, 1.0])\n",
    "\n",
    "# 9.5 Plot each graph now\n",
    "ax.plot(fpr_rf, tpr_rf, label = \"rf\")\n",
    "# 9.6 Set legend and show plot\n",
    "ax.legend(loc=\"lower right\")\n",
    "plt.show()"
   ]
  },
  {
   "cell_type": "code",
   "execution_count": 51,
   "metadata": {},
   "outputs": [
    {
     "name": "stdout",
     "output_type": "stream",
     "text": [
      "{'fit_time': array([0.03211713, 0.01695871, 0.01221371, 0.01565957, 0.01563644]), 'score_time': array([0.0039978 , 0.00299978, 0.        , 0.        , 0.        ]), 'test_score': array([0.57142857, 0.61904762, 0.5483871 , 0.51612903, 0.61290323]), 'train_score': array([0.96787149, 0.98393574, 0.976     , 0.952     , 0.976     ])}\n"
     ]
    }
   ],
   "source": [
    "scores = cross_validate(rf, x, y, cv=5, scoring=('accuracy'),\n",
    "                        return_train_score=True)\n",
    "print(scores)"
   ]
  },
  {
   "cell_type": "markdown",
   "metadata": {},
   "source": [
    "# Neural Network\n"
   ]
  },
  {
   "cell_type": "code",
   "execution_count": 70,
   "metadata": {},
   "outputs": [
    {
     "name": "stdout",
     "output_type": "stream",
     "text": [
      "Model: \"sequential\"\n",
      "_________________________________________________________________\n",
      "Layer (type)                 Output Shape              Param #   \n",
      "=================================================================\n",
      "dense (Dense)                (None, 16)                96        \n",
      "_________________________________________________________________\n",
      "dense_1 (Dense)              (None, 16)                272       \n",
      "_________________________________________________________________\n",
      "dense_2 (Dense)              (None, 3)                 51        \n",
      "=================================================================\n",
      "Total params: 419\n",
      "Trainable params: 419\n",
      "Non-trainable params: 0\n",
      "_________________________________________________________________\n"
     ]
    }
   ],
   "source": [
    "# build model\n",
    "import tensorflow.keras as keras\n",
    "from tensorflow.keras.models import Sequential\n",
    "from tensorflow.keras.layers import Dense, Dropout, Activation\n",
    "\n",
    "model = Sequential()\n",
    "model.add(Dense(units=16, activation='relu', input_shape=(5,)))\n",
    "Dropout(0.25)\n",
    "model.add(Dense(units=16, activation='relu'))\n",
    "Dropout(0.25)\n",
    "model.add(Dense(units=3, activation='softmax'))\n",
    "model.summary()\n"
   ]
  },
  {
   "cell_type": "code",
   "execution_count": 76,
   "metadata": {},
   "outputs": [],
   "source": [
    "# x_train, x_val, y_train, y_val = train_test_split(x_train, y_train, test_size=0.25, random_state=42)"
   ]
  },
  {
   "cell_type": "code",
   "execution_count": 77,
   "metadata": {},
   "outputs": [
    {
     "name": "stdout",
     "output_type": "stream",
     "text": [
      "categorical y_train:  (186, 3)\n",
      "categorical y_val :  (63, 3)\n",
      "categorical y_test :  (63, 3)\n"
     ]
    }
   ],
   "source": [
    "# y_train = keras.utils.to_categorical(y_train, 3)\n",
    "# y_val = keras.utils.to_categorical(y_val, 3)\n",
    "# y_test = keras.utils.to_categorical(y_test, 3)\n",
    "# print('categorical y_train: ', y_train.shape)\n",
    "# print('categorical y_val : ', y_val.shape)\n",
    "# print('categorical y_test : ', y_test.shape)"
   ]
  },
  {
   "cell_type": "code",
   "execution_count": 53,
   "metadata": {
    "collapsed": true
   },
   "outputs": [
    {
     "name": "stderr",
     "output_type": "stream",
     "text": [
      "C:\\Users\\huyenntx1\\Miniconda3\\lib\\site-packages\\sklearn\\model_selection\\_validation.py:548: FitFailedWarning: Estimator fit failed. The score on this train-test partition for these parameters will be set to nan. Details: \n",
      "Traceback (most recent call last):\n",
      "  File \"C:\\Users\\huyenntx1\\Miniconda3\\lib\\site-packages\\sklearn\\model_selection\\_validation.py\", line 531, in _fit_and_score\n",
      "    estimator.fit(X_train, y_train, **fit_params)\n",
      "  File \"C:\\Users\\huyenntx1\\Miniconda3\\lib\\site-packages\\sklearn\\neighbors\\_base.py\", line 1110, in fit\n",
      "    return self._fit(X)\n",
      "  File \"C:\\Users\\huyenntx1\\Miniconda3\\lib\\site-packages\\sklearn\\neighbors\\_base.py\", line 467, in _fit\n",
      "    raise ValueError(\n",
      "ValueError: Expected n_neighbors > 0. Got 0\n",
      "\n",
      "  warnings.warn(\"Estimator fit failed. The score on this train-test\"\n",
      "C:\\Users\\huyenntx1\\Miniconda3\\lib\\site-packages\\sklearn\\model_selection\\_validation.py:548: FitFailedWarning: Estimator fit failed. The score on this train-test partition for these parameters will be set to nan. Details: \n",
      "Traceback (most recent call last):\n",
      "  File \"C:\\Users\\huyenntx1\\Miniconda3\\lib\\site-packages\\sklearn\\model_selection\\_validation.py\", line 531, in _fit_and_score\n",
      "    estimator.fit(X_train, y_train, **fit_params)\n",
      "  File \"C:\\Users\\huyenntx1\\Miniconda3\\lib\\site-packages\\sklearn\\neighbors\\_base.py\", line 1110, in fit\n",
      "    return self._fit(X)\n",
      "  File \"C:\\Users\\huyenntx1\\Miniconda3\\lib\\site-packages\\sklearn\\neighbors\\_base.py\", line 467, in _fit\n",
      "    raise ValueError(\n",
      "ValueError: Expected n_neighbors > 0. Got 0\n",
      "\n",
      "  warnings.warn(\"Estimator fit failed. The score on this train-test\"\n",
      "C:\\Users\\huyenntx1\\Miniconda3\\lib\\site-packages\\sklearn\\model_selection\\_validation.py:548: FitFailedWarning: Estimator fit failed. The score on this train-test partition for these parameters will be set to nan. Details: \n",
      "Traceback (most recent call last):\n",
      "  File \"C:\\Users\\huyenntx1\\Miniconda3\\lib\\site-packages\\sklearn\\model_selection\\_validation.py\", line 531, in _fit_and_score\n",
      "    estimator.fit(X_train, y_train, **fit_params)\n",
      "  File \"C:\\Users\\huyenntx1\\Miniconda3\\lib\\site-packages\\sklearn\\neighbors\\_base.py\", line 1110, in fit\n",
      "    return self._fit(X)\n",
      "  File \"C:\\Users\\huyenntx1\\Miniconda3\\lib\\site-packages\\sklearn\\neighbors\\_base.py\", line 467, in _fit\n",
      "    raise ValueError(\n",
      "ValueError: Expected n_neighbors > 0. Got 0\n",
      "\n",
      "  warnings.warn(\"Estimator fit failed. The score on this train-test\"\n",
      "C:\\Users\\huyenntx1\\Miniconda3\\lib\\site-packages\\sklearn\\model_selection\\_validation.py:548: FitFailedWarning: Estimator fit failed. The score on this train-test partition for these parameters will be set to nan. Details: \n",
      "Traceback (most recent call last):\n",
      "  File \"C:\\Users\\huyenntx1\\Miniconda3\\lib\\site-packages\\sklearn\\model_selection\\_validation.py\", line 531, in _fit_and_score\n",
      "    estimator.fit(X_train, y_train, **fit_params)\n",
      "  File \"C:\\Users\\huyenntx1\\Miniconda3\\lib\\site-packages\\sklearn\\neighbors\\_base.py\", line 1110, in fit\n",
      "    return self._fit(X)\n",
      "  File \"C:\\Users\\huyenntx1\\Miniconda3\\lib\\site-packages\\sklearn\\neighbors\\_base.py\", line 467, in _fit\n",
      "    raise ValueError(\n",
      "ValueError: Expected n_neighbors > 0. Got 0\n",
      "\n",
      "  warnings.warn(\"Estimator fit failed. The score on this train-test\"\n",
      "C:\\Users\\huyenntx1\\Miniconda3\\lib\\site-packages\\sklearn\\model_selection\\_validation.py:548: FitFailedWarning: Estimator fit failed. The score on this train-test partition for these parameters will be set to nan. Details: \n",
      "Traceback (most recent call last):\n",
      "  File \"C:\\Users\\huyenntx1\\Miniconda3\\lib\\site-packages\\sklearn\\model_selection\\_validation.py\", line 531, in _fit_and_score\n",
      "    estimator.fit(X_train, y_train, **fit_params)\n",
      "  File \"C:\\Users\\huyenntx1\\Miniconda3\\lib\\site-packages\\sklearn\\neighbors\\_base.py\", line 1110, in fit\n",
      "    return self._fit(X)\n",
      "  File \"C:\\Users\\huyenntx1\\Miniconda3\\lib\\site-packages\\sklearn\\neighbors\\_base.py\", line 467, in _fit\n",
      "    raise ValueError(\n",
      "ValueError: Expected n_neighbors > 0. Got 0\n",
      "\n",
      "  warnings.warn(\"Estimator fit failed. The score on this train-test\"\n"
     ]
    },
    {
     "ename": "ValueError",
     "evalue": "Classification metrics can't handle a mix of binary and continuous targets",
     "output_type": "error",
     "traceback": [
      "\u001b[1;31m---------------------------------------------------------------------------\u001b[0m",
      "\u001b[1;31mValueError\u001b[0m                                Traceback (most recent call last)",
      "\u001b[1;32m<ipython-input-53-8869d8e6121c>\u001b[0m in \u001b[0;36m<module>\u001b[1;34m\u001b[0m\n\u001b[1;32m----> 1\u001b[1;33m scores = cross_validate(model, x, y, cv=5, scoring=('accuracy'),\n\u001b[0m\u001b[0;32m      2\u001b[0m                         return_train_score=True)\n\u001b[0;32m      3\u001b[0m \u001b[0mprint\u001b[0m\u001b[1;33m(\u001b[0m\u001b[0mscores\u001b[0m\u001b[1;33m)\u001b[0m\u001b[1;33m\u001b[0m\u001b[1;33m\u001b[0m\u001b[0m\n",
      "\u001b[1;32m~\\Miniconda3\\lib\\site-packages\\sklearn\\utils\\validation.py\u001b[0m in \u001b[0;36minner_f\u001b[1;34m(*args, **kwargs)\u001b[0m\n\u001b[0;32m     70\u001b[0m                           FutureWarning)\n\u001b[0;32m     71\u001b[0m         \u001b[0mkwargs\u001b[0m\u001b[1;33m.\u001b[0m\u001b[0mupdate\u001b[0m\u001b[1;33m(\u001b[0m\u001b[1;33m{\u001b[0m\u001b[0mk\u001b[0m\u001b[1;33m:\u001b[0m \u001b[0marg\u001b[0m \u001b[1;32mfor\u001b[0m \u001b[0mk\u001b[0m\u001b[1;33m,\u001b[0m \u001b[0marg\u001b[0m \u001b[1;32min\u001b[0m \u001b[0mzip\u001b[0m\u001b[1;33m(\u001b[0m\u001b[0msig\u001b[0m\u001b[1;33m.\u001b[0m\u001b[0mparameters\u001b[0m\u001b[1;33m,\u001b[0m \u001b[0margs\u001b[0m\u001b[1;33m)\u001b[0m\u001b[1;33m}\u001b[0m\u001b[1;33m)\u001b[0m\u001b[1;33m\u001b[0m\u001b[1;33m\u001b[0m\u001b[0m\n\u001b[1;32m---> 72\u001b[1;33m         \u001b[1;32mreturn\u001b[0m \u001b[0mf\u001b[0m\u001b[1;33m(\u001b[0m\u001b[1;33m**\u001b[0m\u001b[0mkwargs\u001b[0m\u001b[1;33m)\u001b[0m\u001b[1;33m\u001b[0m\u001b[1;33m\u001b[0m\u001b[0m\n\u001b[0m\u001b[0;32m     73\u001b[0m     \u001b[1;32mreturn\u001b[0m \u001b[0minner_f\u001b[0m\u001b[1;33m\u001b[0m\u001b[1;33m\u001b[0m\u001b[0m\n\u001b[0;32m     74\u001b[0m \u001b[1;33m\u001b[0m\u001b[0m\n",
      "\u001b[1;32m~\\Miniconda3\\lib\\site-packages\\sklearn\\model_selection\\_validation.py\u001b[0m in \u001b[0;36mcross_validate\u001b[1;34m(estimator, X, y, groups, scoring, cv, n_jobs, verbose, fit_params, pre_dispatch, return_train_score, return_estimator, error_score)\u001b[0m\n\u001b[0;32m    240\u001b[0m     parallel = Parallel(n_jobs=n_jobs, verbose=verbose,\n\u001b[0;32m    241\u001b[0m                         pre_dispatch=pre_dispatch)\n\u001b[1;32m--> 242\u001b[1;33m     scores = parallel(\n\u001b[0m\u001b[0;32m    243\u001b[0m         delayed(_fit_and_score)(\n\u001b[0;32m    244\u001b[0m             \u001b[0mclone\u001b[0m\u001b[1;33m(\u001b[0m\u001b[0mestimator\u001b[0m\u001b[1;33m)\u001b[0m\u001b[1;33m,\u001b[0m \u001b[0mX\u001b[0m\u001b[1;33m,\u001b[0m \u001b[0my\u001b[0m\u001b[1;33m,\u001b[0m \u001b[0mscorers\u001b[0m\u001b[1;33m,\u001b[0m \u001b[0mtrain\u001b[0m\u001b[1;33m,\u001b[0m \u001b[0mtest\u001b[0m\u001b[1;33m,\u001b[0m \u001b[0mverbose\u001b[0m\u001b[1;33m,\u001b[0m \u001b[1;32mNone\u001b[0m\u001b[1;33m,\u001b[0m\u001b[1;33m\u001b[0m\u001b[1;33m\u001b[0m\u001b[0m\n",
      "\u001b[1;32m~\\Miniconda3\\lib\\site-packages\\joblib\\parallel.py\u001b[0m in \u001b[0;36m__call__\u001b[1;34m(self, iterable)\u001b[0m\n\u001b[0;32m   1046\u001b[0m             \u001b[1;31m# remaining jobs.\u001b[0m\u001b[1;33m\u001b[0m\u001b[1;33m\u001b[0m\u001b[1;33m\u001b[0m\u001b[0m\n\u001b[0;32m   1047\u001b[0m             \u001b[0mself\u001b[0m\u001b[1;33m.\u001b[0m\u001b[0m_iterating\u001b[0m \u001b[1;33m=\u001b[0m \u001b[1;32mFalse\u001b[0m\u001b[1;33m\u001b[0m\u001b[1;33m\u001b[0m\u001b[0m\n\u001b[1;32m-> 1048\u001b[1;33m             \u001b[1;32mif\u001b[0m \u001b[0mself\u001b[0m\u001b[1;33m.\u001b[0m\u001b[0mdispatch_one_batch\u001b[0m\u001b[1;33m(\u001b[0m\u001b[0miterator\u001b[0m\u001b[1;33m)\u001b[0m\u001b[1;33m:\u001b[0m\u001b[1;33m\u001b[0m\u001b[1;33m\u001b[0m\u001b[0m\n\u001b[0m\u001b[0;32m   1049\u001b[0m                 \u001b[0mself\u001b[0m\u001b[1;33m.\u001b[0m\u001b[0m_iterating\u001b[0m \u001b[1;33m=\u001b[0m \u001b[0mself\u001b[0m\u001b[1;33m.\u001b[0m\u001b[0m_original_iterator\u001b[0m \u001b[1;32mis\u001b[0m \u001b[1;32mnot\u001b[0m \u001b[1;32mNone\u001b[0m\u001b[1;33m\u001b[0m\u001b[1;33m\u001b[0m\u001b[0m\n\u001b[0;32m   1050\u001b[0m \u001b[1;33m\u001b[0m\u001b[0m\n",
      "\u001b[1;32m~\\Miniconda3\\lib\\site-packages\\joblib\\parallel.py\u001b[0m in \u001b[0;36mdispatch_one_batch\u001b[1;34m(self, iterator)\u001b[0m\n\u001b[0;32m    864\u001b[0m                 \u001b[1;32mreturn\u001b[0m \u001b[1;32mFalse\u001b[0m\u001b[1;33m\u001b[0m\u001b[1;33m\u001b[0m\u001b[0m\n\u001b[0;32m    865\u001b[0m             \u001b[1;32melse\u001b[0m\u001b[1;33m:\u001b[0m\u001b[1;33m\u001b[0m\u001b[1;33m\u001b[0m\u001b[0m\n\u001b[1;32m--> 866\u001b[1;33m                 \u001b[0mself\u001b[0m\u001b[1;33m.\u001b[0m\u001b[0m_dispatch\u001b[0m\u001b[1;33m(\u001b[0m\u001b[0mtasks\u001b[0m\u001b[1;33m)\u001b[0m\u001b[1;33m\u001b[0m\u001b[1;33m\u001b[0m\u001b[0m\n\u001b[0m\u001b[0;32m    867\u001b[0m                 \u001b[1;32mreturn\u001b[0m \u001b[1;32mTrue\u001b[0m\u001b[1;33m\u001b[0m\u001b[1;33m\u001b[0m\u001b[0m\n\u001b[0;32m    868\u001b[0m \u001b[1;33m\u001b[0m\u001b[0m\n",
      "\u001b[1;32m~\\Miniconda3\\lib\\site-packages\\joblib\\parallel.py\u001b[0m in \u001b[0;36m_dispatch\u001b[1;34m(self, batch)\u001b[0m\n\u001b[0;32m    782\u001b[0m         \u001b[1;32mwith\u001b[0m \u001b[0mself\u001b[0m\u001b[1;33m.\u001b[0m\u001b[0m_lock\u001b[0m\u001b[1;33m:\u001b[0m\u001b[1;33m\u001b[0m\u001b[1;33m\u001b[0m\u001b[0m\n\u001b[0;32m    783\u001b[0m             \u001b[0mjob_idx\u001b[0m \u001b[1;33m=\u001b[0m \u001b[0mlen\u001b[0m\u001b[1;33m(\u001b[0m\u001b[0mself\u001b[0m\u001b[1;33m.\u001b[0m\u001b[0m_jobs\u001b[0m\u001b[1;33m)\u001b[0m\u001b[1;33m\u001b[0m\u001b[1;33m\u001b[0m\u001b[0m\n\u001b[1;32m--> 784\u001b[1;33m             \u001b[0mjob\u001b[0m \u001b[1;33m=\u001b[0m \u001b[0mself\u001b[0m\u001b[1;33m.\u001b[0m\u001b[0m_backend\u001b[0m\u001b[1;33m.\u001b[0m\u001b[0mapply_async\u001b[0m\u001b[1;33m(\u001b[0m\u001b[0mbatch\u001b[0m\u001b[1;33m,\u001b[0m \u001b[0mcallback\u001b[0m\u001b[1;33m=\u001b[0m\u001b[0mcb\u001b[0m\u001b[1;33m)\u001b[0m\u001b[1;33m\u001b[0m\u001b[1;33m\u001b[0m\u001b[0m\n\u001b[0m\u001b[0;32m    785\u001b[0m             \u001b[1;31m# A job can complete so quickly than its callback is\u001b[0m\u001b[1;33m\u001b[0m\u001b[1;33m\u001b[0m\u001b[1;33m\u001b[0m\u001b[0m\n\u001b[0;32m    786\u001b[0m             \u001b[1;31m# called before we get here, causing self._jobs to\u001b[0m\u001b[1;33m\u001b[0m\u001b[1;33m\u001b[0m\u001b[1;33m\u001b[0m\u001b[0m\n",
      "\u001b[1;32m~\\Miniconda3\\lib\\site-packages\\joblib\\_parallel_backends.py\u001b[0m in \u001b[0;36mapply_async\u001b[1;34m(self, func, callback)\u001b[0m\n\u001b[0;32m    206\u001b[0m     \u001b[1;32mdef\u001b[0m \u001b[0mapply_async\u001b[0m\u001b[1;33m(\u001b[0m\u001b[0mself\u001b[0m\u001b[1;33m,\u001b[0m \u001b[0mfunc\u001b[0m\u001b[1;33m,\u001b[0m \u001b[0mcallback\u001b[0m\u001b[1;33m=\u001b[0m\u001b[1;32mNone\u001b[0m\u001b[1;33m)\u001b[0m\u001b[1;33m:\u001b[0m\u001b[1;33m\u001b[0m\u001b[1;33m\u001b[0m\u001b[0m\n\u001b[0;32m    207\u001b[0m         \u001b[1;34m\"\"\"Schedule a func to be run\"\"\"\u001b[0m\u001b[1;33m\u001b[0m\u001b[1;33m\u001b[0m\u001b[0m\n\u001b[1;32m--> 208\u001b[1;33m         \u001b[0mresult\u001b[0m \u001b[1;33m=\u001b[0m \u001b[0mImmediateResult\u001b[0m\u001b[1;33m(\u001b[0m\u001b[0mfunc\u001b[0m\u001b[1;33m)\u001b[0m\u001b[1;33m\u001b[0m\u001b[1;33m\u001b[0m\u001b[0m\n\u001b[0m\u001b[0;32m    209\u001b[0m         \u001b[1;32mif\u001b[0m \u001b[0mcallback\u001b[0m\u001b[1;33m:\u001b[0m\u001b[1;33m\u001b[0m\u001b[1;33m\u001b[0m\u001b[0m\n\u001b[0;32m    210\u001b[0m             \u001b[0mcallback\u001b[0m\u001b[1;33m(\u001b[0m\u001b[0mresult\u001b[0m\u001b[1;33m)\u001b[0m\u001b[1;33m\u001b[0m\u001b[1;33m\u001b[0m\u001b[0m\n",
      "\u001b[1;32m~\\Miniconda3\\lib\\site-packages\\joblib\\_parallel_backends.py\u001b[0m in \u001b[0;36m__init__\u001b[1;34m(self, batch)\u001b[0m\n\u001b[0;32m    570\u001b[0m         \u001b[1;31m# Don't delay the application, to avoid keeping the input\u001b[0m\u001b[1;33m\u001b[0m\u001b[1;33m\u001b[0m\u001b[1;33m\u001b[0m\u001b[0m\n\u001b[0;32m    571\u001b[0m         \u001b[1;31m# arguments in memory\u001b[0m\u001b[1;33m\u001b[0m\u001b[1;33m\u001b[0m\u001b[1;33m\u001b[0m\u001b[0m\n\u001b[1;32m--> 572\u001b[1;33m         \u001b[0mself\u001b[0m\u001b[1;33m.\u001b[0m\u001b[0mresults\u001b[0m \u001b[1;33m=\u001b[0m \u001b[0mbatch\u001b[0m\u001b[1;33m(\u001b[0m\u001b[1;33m)\u001b[0m\u001b[1;33m\u001b[0m\u001b[1;33m\u001b[0m\u001b[0m\n\u001b[0m\u001b[0;32m    573\u001b[0m \u001b[1;33m\u001b[0m\u001b[0m\n\u001b[0;32m    574\u001b[0m     \u001b[1;32mdef\u001b[0m \u001b[0mget\u001b[0m\u001b[1;33m(\u001b[0m\u001b[0mself\u001b[0m\u001b[1;33m)\u001b[0m\u001b[1;33m:\u001b[0m\u001b[1;33m\u001b[0m\u001b[1;33m\u001b[0m\u001b[0m\n",
      "\u001b[1;32m~\\Miniconda3\\lib\\site-packages\\joblib\\parallel.py\u001b[0m in \u001b[0;36m__call__\u001b[1;34m(self)\u001b[0m\n\u001b[0;32m    260\u001b[0m         \u001b[1;31m# change the default number of processes to -1\u001b[0m\u001b[1;33m\u001b[0m\u001b[1;33m\u001b[0m\u001b[1;33m\u001b[0m\u001b[0m\n\u001b[0;32m    261\u001b[0m         \u001b[1;32mwith\u001b[0m \u001b[0mparallel_backend\u001b[0m\u001b[1;33m(\u001b[0m\u001b[0mself\u001b[0m\u001b[1;33m.\u001b[0m\u001b[0m_backend\u001b[0m\u001b[1;33m,\u001b[0m \u001b[0mn_jobs\u001b[0m\u001b[1;33m=\u001b[0m\u001b[0mself\u001b[0m\u001b[1;33m.\u001b[0m\u001b[0m_n_jobs\u001b[0m\u001b[1;33m)\u001b[0m\u001b[1;33m:\u001b[0m\u001b[1;33m\u001b[0m\u001b[1;33m\u001b[0m\u001b[0m\n\u001b[1;32m--> 262\u001b[1;33m             return [func(*args, **kwargs)\n\u001b[0m\u001b[0;32m    263\u001b[0m                     for func, args, kwargs in self.items]\n\u001b[0;32m    264\u001b[0m \u001b[1;33m\u001b[0m\u001b[0m\n",
      "\u001b[1;32m~\\Miniconda3\\lib\\site-packages\\joblib\\parallel.py\u001b[0m in \u001b[0;36m<listcomp>\u001b[1;34m(.0)\u001b[0m\n\u001b[0;32m    260\u001b[0m         \u001b[1;31m# change the default number of processes to -1\u001b[0m\u001b[1;33m\u001b[0m\u001b[1;33m\u001b[0m\u001b[1;33m\u001b[0m\u001b[0m\n\u001b[0;32m    261\u001b[0m         \u001b[1;32mwith\u001b[0m \u001b[0mparallel_backend\u001b[0m\u001b[1;33m(\u001b[0m\u001b[0mself\u001b[0m\u001b[1;33m.\u001b[0m\u001b[0m_backend\u001b[0m\u001b[1;33m,\u001b[0m \u001b[0mn_jobs\u001b[0m\u001b[1;33m=\u001b[0m\u001b[0mself\u001b[0m\u001b[1;33m.\u001b[0m\u001b[0m_n_jobs\u001b[0m\u001b[1;33m)\u001b[0m\u001b[1;33m:\u001b[0m\u001b[1;33m\u001b[0m\u001b[1;33m\u001b[0m\u001b[0m\n\u001b[1;32m--> 262\u001b[1;33m             return [func(*args, **kwargs)\n\u001b[0m\u001b[0;32m    263\u001b[0m                     for func, args, kwargs in self.items]\n\u001b[0;32m    264\u001b[0m \u001b[1;33m\u001b[0m\u001b[0m\n",
      "\u001b[1;32m~\\Miniconda3\\lib\\site-packages\\sklearn\\model_selection\\_validation.py\u001b[0m in \u001b[0;36m_fit_and_score\u001b[1;34m(estimator, X, y, scorer, train, test, verbose, parameters, fit_params, return_train_score, return_parameters, return_n_test_samples, return_times, return_estimator, error_score)\u001b[0m\n\u001b[0;32m    558\u001b[0m     \u001b[1;32melse\u001b[0m\u001b[1;33m:\u001b[0m\u001b[1;33m\u001b[0m\u001b[1;33m\u001b[0m\u001b[0m\n\u001b[0;32m    559\u001b[0m         \u001b[0mfit_time\u001b[0m \u001b[1;33m=\u001b[0m \u001b[0mtime\u001b[0m\u001b[1;33m.\u001b[0m\u001b[0mtime\u001b[0m\u001b[1;33m(\u001b[0m\u001b[1;33m)\u001b[0m \u001b[1;33m-\u001b[0m \u001b[0mstart_time\u001b[0m\u001b[1;33m\u001b[0m\u001b[1;33m\u001b[0m\u001b[0m\n\u001b[1;32m--> 560\u001b[1;33m         \u001b[0mtest_scores\u001b[0m \u001b[1;33m=\u001b[0m \u001b[0m_score\u001b[0m\u001b[1;33m(\u001b[0m\u001b[0mestimator\u001b[0m\u001b[1;33m,\u001b[0m \u001b[0mX_test\u001b[0m\u001b[1;33m,\u001b[0m \u001b[0my_test\u001b[0m\u001b[1;33m,\u001b[0m \u001b[0mscorer\u001b[0m\u001b[1;33m)\u001b[0m\u001b[1;33m\u001b[0m\u001b[1;33m\u001b[0m\u001b[0m\n\u001b[0m\u001b[0;32m    561\u001b[0m         \u001b[0mscore_time\u001b[0m \u001b[1;33m=\u001b[0m \u001b[0mtime\u001b[0m\u001b[1;33m.\u001b[0m\u001b[0mtime\u001b[0m\u001b[1;33m(\u001b[0m\u001b[1;33m)\u001b[0m \u001b[1;33m-\u001b[0m \u001b[0mstart_time\u001b[0m \u001b[1;33m-\u001b[0m \u001b[0mfit_time\u001b[0m\u001b[1;33m\u001b[0m\u001b[1;33m\u001b[0m\u001b[0m\n\u001b[0;32m    562\u001b[0m         \u001b[1;32mif\u001b[0m \u001b[0mreturn_train_score\u001b[0m\u001b[1;33m:\u001b[0m\u001b[1;33m\u001b[0m\u001b[1;33m\u001b[0m\u001b[0m\n",
      "\u001b[1;32m~\\Miniconda3\\lib\\site-packages\\sklearn\\model_selection\\_validation.py\u001b[0m in \u001b[0;36m_score\u001b[1;34m(estimator, X_test, y_test, scorer)\u001b[0m\n\u001b[0;32m    605\u001b[0m         \u001b[0mscores\u001b[0m \u001b[1;33m=\u001b[0m \u001b[0mscorer\u001b[0m\u001b[1;33m(\u001b[0m\u001b[0mestimator\u001b[0m\u001b[1;33m,\u001b[0m \u001b[0mX_test\u001b[0m\u001b[1;33m)\u001b[0m\u001b[1;33m\u001b[0m\u001b[1;33m\u001b[0m\u001b[0m\n\u001b[0;32m    606\u001b[0m     \u001b[1;32melse\u001b[0m\u001b[1;33m:\u001b[0m\u001b[1;33m\u001b[0m\u001b[1;33m\u001b[0m\u001b[0m\n\u001b[1;32m--> 607\u001b[1;33m         \u001b[0mscores\u001b[0m \u001b[1;33m=\u001b[0m \u001b[0mscorer\u001b[0m\u001b[1;33m(\u001b[0m\u001b[0mestimator\u001b[0m\u001b[1;33m,\u001b[0m \u001b[0mX_test\u001b[0m\u001b[1;33m,\u001b[0m \u001b[0my_test\u001b[0m\u001b[1;33m)\u001b[0m\u001b[1;33m\u001b[0m\u001b[1;33m\u001b[0m\u001b[0m\n\u001b[0m\u001b[0;32m    608\u001b[0m \u001b[1;33m\u001b[0m\u001b[0m\n\u001b[0;32m    609\u001b[0m     error_msg = (\"scoring must return a number, got %s (%s) \"\n",
      "\u001b[1;32m~\\Miniconda3\\lib\\site-packages\\sklearn\\metrics\\_scorer.py\u001b[0m in \u001b[0;36m__call__\u001b[1;34m(self, estimator, *args, **kwargs)\u001b[0m\n\u001b[0;32m     85\u001b[0m         \u001b[1;32mfor\u001b[0m \u001b[0mname\u001b[0m\u001b[1;33m,\u001b[0m \u001b[0mscorer\u001b[0m \u001b[1;32min\u001b[0m \u001b[0mself\u001b[0m\u001b[1;33m.\u001b[0m\u001b[0m_scorers\u001b[0m\u001b[1;33m.\u001b[0m\u001b[0mitems\u001b[0m\u001b[1;33m(\u001b[0m\u001b[1;33m)\u001b[0m\u001b[1;33m:\u001b[0m\u001b[1;33m\u001b[0m\u001b[1;33m\u001b[0m\u001b[0m\n\u001b[0;32m     86\u001b[0m             \u001b[1;32mif\u001b[0m \u001b[0misinstance\u001b[0m\u001b[1;33m(\u001b[0m\u001b[0mscorer\u001b[0m\u001b[1;33m,\u001b[0m \u001b[0m_BaseScorer\u001b[0m\u001b[1;33m)\u001b[0m\u001b[1;33m:\u001b[0m\u001b[1;33m\u001b[0m\u001b[1;33m\u001b[0m\u001b[0m\n\u001b[1;32m---> 87\u001b[1;33m                 score = scorer._score(cached_call, estimator,\n\u001b[0m\u001b[0;32m     88\u001b[0m                                       *args, **kwargs)\n\u001b[0;32m     89\u001b[0m             \u001b[1;32melse\u001b[0m\u001b[1;33m:\u001b[0m\u001b[1;33m\u001b[0m\u001b[1;33m\u001b[0m\u001b[0m\n",
      "\u001b[1;32m~\\Miniconda3\\lib\\site-packages\\sklearn\\metrics\\_scorer.py\u001b[0m in \u001b[0;36m_score\u001b[1;34m(self, method_caller, estimator, X, y_true, sample_weight)\u001b[0m\n\u001b[0;32m    210\u001b[0m                                                  **self._kwargs)\n\u001b[0;32m    211\u001b[0m         \u001b[1;32melse\u001b[0m\u001b[1;33m:\u001b[0m\u001b[1;33m\u001b[0m\u001b[1;33m\u001b[0m\u001b[0m\n\u001b[1;32m--> 212\u001b[1;33m             return self._sign * self._score_func(y_true, y_pred,\n\u001b[0m\u001b[0;32m    213\u001b[0m                                                  **self._kwargs)\n\u001b[0;32m    214\u001b[0m \u001b[1;33m\u001b[0m\u001b[0m\n",
      "\u001b[1;32m~\\Miniconda3\\lib\\site-packages\\sklearn\\utils\\validation.py\u001b[0m in \u001b[0;36minner_f\u001b[1;34m(*args, **kwargs)\u001b[0m\n\u001b[0;32m     70\u001b[0m                           FutureWarning)\n\u001b[0;32m     71\u001b[0m         \u001b[0mkwargs\u001b[0m\u001b[1;33m.\u001b[0m\u001b[0mupdate\u001b[0m\u001b[1;33m(\u001b[0m\u001b[1;33m{\u001b[0m\u001b[0mk\u001b[0m\u001b[1;33m:\u001b[0m \u001b[0marg\u001b[0m \u001b[1;32mfor\u001b[0m \u001b[0mk\u001b[0m\u001b[1;33m,\u001b[0m \u001b[0marg\u001b[0m \u001b[1;32min\u001b[0m \u001b[0mzip\u001b[0m\u001b[1;33m(\u001b[0m\u001b[0msig\u001b[0m\u001b[1;33m.\u001b[0m\u001b[0mparameters\u001b[0m\u001b[1;33m,\u001b[0m \u001b[0margs\u001b[0m\u001b[1;33m)\u001b[0m\u001b[1;33m}\u001b[0m\u001b[1;33m)\u001b[0m\u001b[1;33m\u001b[0m\u001b[1;33m\u001b[0m\u001b[0m\n\u001b[1;32m---> 72\u001b[1;33m         \u001b[1;32mreturn\u001b[0m \u001b[0mf\u001b[0m\u001b[1;33m(\u001b[0m\u001b[1;33m**\u001b[0m\u001b[0mkwargs\u001b[0m\u001b[1;33m)\u001b[0m\u001b[1;33m\u001b[0m\u001b[1;33m\u001b[0m\u001b[0m\n\u001b[0m\u001b[0;32m     73\u001b[0m     \u001b[1;32mreturn\u001b[0m \u001b[0minner_f\u001b[0m\u001b[1;33m\u001b[0m\u001b[1;33m\u001b[0m\u001b[0m\n\u001b[0;32m     74\u001b[0m \u001b[1;33m\u001b[0m\u001b[0m\n",
      "\u001b[1;32m~\\Miniconda3\\lib\\site-packages\\sklearn\\metrics\\_classification.py\u001b[0m in \u001b[0;36maccuracy_score\u001b[1;34m(y_true, y_pred, normalize, sample_weight)\u001b[0m\n\u001b[0;32m    185\u001b[0m \u001b[1;33m\u001b[0m\u001b[0m\n\u001b[0;32m    186\u001b[0m     \u001b[1;31m# Compute accuracy for each possible representation\u001b[0m\u001b[1;33m\u001b[0m\u001b[1;33m\u001b[0m\u001b[1;33m\u001b[0m\u001b[0m\n\u001b[1;32m--> 187\u001b[1;33m     \u001b[0my_type\u001b[0m\u001b[1;33m,\u001b[0m \u001b[0my_true\u001b[0m\u001b[1;33m,\u001b[0m \u001b[0my_pred\u001b[0m \u001b[1;33m=\u001b[0m \u001b[0m_check_targets\u001b[0m\u001b[1;33m(\u001b[0m\u001b[0my_true\u001b[0m\u001b[1;33m,\u001b[0m \u001b[0my_pred\u001b[0m\u001b[1;33m)\u001b[0m\u001b[1;33m\u001b[0m\u001b[1;33m\u001b[0m\u001b[0m\n\u001b[0m\u001b[0;32m    188\u001b[0m     \u001b[0mcheck_consistent_length\u001b[0m\u001b[1;33m(\u001b[0m\u001b[0my_true\u001b[0m\u001b[1;33m,\u001b[0m \u001b[0my_pred\u001b[0m\u001b[1;33m,\u001b[0m \u001b[0msample_weight\u001b[0m\u001b[1;33m)\u001b[0m\u001b[1;33m\u001b[0m\u001b[1;33m\u001b[0m\u001b[0m\n\u001b[0;32m    189\u001b[0m     \u001b[1;32mif\u001b[0m \u001b[0my_type\u001b[0m\u001b[1;33m.\u001b[0m\u001b[0mstartswith\u001b[0m\u001b[1;33m(\u001b[0m\u001b[1;34m'multilabel'\u001b[0m\u001b[1;33m)\u001b[0m\u001b[1;33m:\u001b[0m\u001b[1;33m\u001b[0m\u001b[1;33m\u001b[0m\u001b[0m\n",
      "\u001b[1;32m~\\Miniconda3\\lib\\site-packages\\sklearn\\metrics\\_classification.py\u001b[0m in \u001b[0;36m_check_targets\u001b[1;34m(y_true, y_pred)\u001b[0m\n\u001b[0;32m     88\u001b[0m \u001b[1;33m\u001b[0m\u001b[0m\n\u001b[0;32m     89\u001b[0m     \u001b[1;32mif\u001b[0m \u001b[0mlen\u001b[0m\u001b[1;33m(\u001b[0m\u001b[0my_type\u001b[0m\u001b[1;33m)\u001b[0m \u001b[1;33m>\u001b[0m \u001b[1;36m1\u001b[0m\u001b[1;33m:\u001b[0m\u001b[1;33m\u001b[0m\u001b[1;33m\u001b[0m\u001b[0m\n\u001b[1;32m---> 90\u001b[1;33m         raise ValueError(\"Classification metrics can't handle a mix of {0} \"\n\u001b[0m\u001b[0;32m     91\u001b[0m                          \"and {1} targets\".format(type_true, type_pred))\n\u001b[0;32m     92\u001b[0m \u001b[1;33m\u001b[0m\u001b[0m\n",
      "\u001b[1;31mValueError\u001b[0m: Classification metrics can't handle a mix of binary and continuous targets"
     ]
    }
   ],
   "source": [
    "# scores = cross_validate(model, x, y, cv=5, scoring=('accuracy'),\n",
    "#                         return_train_score=True)\n",
    "# print(scores)"
   ]
  },
  {
   "cell_type": "code",
   "execution_count": null,
   "metadata": {},
   "outputs": [],
   "source": []
  },
  {
   "cell_type": "code",
   "execution_count": 104,
   "metadata": {},
   "outputs": [],
   "source": [
    "from tensorflow.keras.optimizers import SGD\n",
    "# Compile model\n",
    "epochs = 100\n",
    "lr = 0.0001\n",
    "# decay = lr/epochs\n",
    "# sgd = SGD(lr=lr, momentum=0.9, decay=decay, nesterov=False)\n",
    "model.compile(loss='categorical_crossentropy', optimizer=keras.optimizers.SGD(lr=lr), metrics=['accuracy'])"
   ]
  },
  {
   "cell_type": "code",
   "execution_count": 105,
   "metadata": {},
   "outputs": [
    {
     "name": "stdout",
     "output_type": "stream",
     "text": [
      "Epoch 1/100\n",
      "6/6 [==============================] - 1s 90ms/step - loss: 106.5856 - accuracy: 0.2000 - val_loss: 36.6477 - val_accuracy: 0.1429\n",
      "Epoch 2/100\n",
      "6/6 [==============================] - 0s 15ms/step - loss: 55.1880 - accuracy: 0.2560 - val_loss: 23.7516 - val_accuracy: 0.1746\n",
      "Epoch 3/100\n",
      "6/6 [==============================] - 0s 16ms/step - loss: 34.8773 - accuracy: 0.2278 - val_loss: 18.1597 - val_accuracy: 0.1746\n",
      "Epoch 4/100\n",
      "6/6 [==============================] - 0s 15ms/step - loss: 25.4378 - accuracy: 0.3139 - val_loss: 11.7561 - val_accuracy: 0.1905\n",
      "Epoch 5/100\n",
      "6/6 [==============================] - 0s 14ms/step - loss: 19.1707 - accuracy: 0.3757 - val_loss: 8.7423 - val_accuracy: 0.2698\n",
      "Epoch 6/100\n",
      "6/6 [==============================] - 0s 17ms/step - loss: 14.6790 - accuracy: 0.3461 - val_loss: 7.7812 - val_accuracy: 0.3333\n",
      "Epoch 7/100\n",
      "6/6 [==============================] - 0s 17ms/step - loss: 11.2915 - accuracy: 0.4126 - val_loss: 6.9811 - val_accuracy: 0.2540\n",
      "Epoch 8/100\n",
      "6/6 [==============================] - 0s 13ms/step - loss: 10.2222 - accuracy: 0.4266 - val_loss: 6.0161 - val_accuracy: 0.2857\n",
      "Epoch 9/100\n",
      "6/6 [==============================] - 0s 13ms/step - loss: 8.7613 - accuracy: 0.4115 - val_loss: 5.4616 - val_accuracy: 0.3968\n",
      "Epoch 10/100\n",
      "6/6 [==============================] - 0s 16ms/step - loss: 6.5408 - accuracy: 0.4082 - val_loss: 4.7550 - val_accuracy: 0.3968\n",
      "Epoch 11/100\n",
      "6/6 [==============================] - 0s 15ms/step - loss: 5.4428 - accuracy: 0.4365 - val_loss: 4.9794 - val_accuracy: 0.3810\n",
      "Epoch 12/100\n",
      "6/6 [==============================] - 0s 15ms/step - loss: 5.9454 - accuracy: 0.4329 - val_loss: 4.4478 - val_accuracy: 0.4762\n",
      "Epoch 13/100\n",
      "6/6 [==============================] - 0s 15ms/step - loss: 6.5410 - accuracy: 0.4060 - val_loss: 6.0778 - val_accuracy: 0.3968\n",
      "Epoch 14/100\n",
      "6/6 [==============================] - 0s 14ms/step - loss: 6.7199 - accuracy: 0.4238 - val_loss: 4.6603 - val_accuracy: 0.4286\n",
      "Epoch 15/100\n",
      "6/6 [==============================] - 0s 16ms/step - loss: 4.9864 - accuracy: 0.4072 - val_loss: 4.1559 - val_accuracy: 0.4286\n",
      "Epoch 16/100\n",
      "6/6 [==============================] - 0s 16ms/step - loss: 5.7935 - accuracy: 0.3966 - val_loss: 3.9955 - val_accuracy: 0.3968\n",
      "Epoch 17/100\n",
      "6/6 [==============================] - 0s 15ms/step - loss: 4.5375 - accuracy: 0.3963 - val_loss: 4.0194 - val_accuracy: 0.5238\n",
      "Epoch 18/100\n",
      "6/6 [==============================] - 0s 14ms/step - loss: 5.2172 - accuracy: 0.4748 - val_loss: 3.8320 - val_accuracy: 0.4286\n",
      "Epoch 19/100\n",
      "6/6 [==============================] - 0s 14ms/step - loss: 4.7179 - accuracy: 0.4050 - val_loss: 3.7352 - val_accuracy: 0.4444\n",
      "Epoch 20/100\n",
      "6/6 [==============================] - 0s 14ms/step - loss: 4.7815 - accuracy: 0.4653 - val_loss: 5.1873 - val_accuracy: 0.4286\n",
      "Epoch 21/100\n",
      "6/6 [==============================] - 0s 15ms/step - loss: 4.4918 - accuracy: 0.4711 - val_loss: 3.8949 - val_accuracy: 0.5079\n",
      "Epoch 22/100\n",
      "6/6 [==============================] - 0s 15ms/step - loss: 4.1872 - accuracy: 0.4929 - val_loss: 4.1354 - val_accuracy: 0.3651\n",
      "Epoch 23/100\n",
      "6/6 [==============================] - 0s 16ms/step - loss: 3.6615 - accuracy: 0.4193 - val_loss: 4.3383 - val_accuracy: 0.4286\n",
      "Epoch 24/100\n",
      "6/6 [==============================] - 0s 14ms/step - loss: 3.8373 - accuracy: 0.4180 - val_loss: 2.9915 - val_accuracy: 0.4444\n",
      "Epoch 25/100\n",
      "6/6 [==============================] - 0s 14ms/step - loss: 3.7534 - accuracy: 0.4274 - val_loss: 3.0213 - val_accuracy: 0.4127\n",
      "Epoch 26/100\n",
      "6/6 [==============================] - 0s 14ms/step - loss: 3.7015 - accuracy: 0.5057 - val_loss: 3.3116 - val_accuracy: 0.3968\n",
      "Epoch 27/100\n",
      "6/6 [==============================] - 0s 16ms/step - loss: 4.2422 - accuracy: 0.4360 - val_loss: 2.8046 - val_accuracy: 0.4127\n",
      "Epoch 28/100\n",
      "6/6 [==============================] - 0s 16ms/step - loss: 3.5904 - accuracy: 0.4850 - val_loss: 2.6950 - val_accuracy: 0.4762\n",
      "Epoch 29/100\n",
      "6/6 [==============================] - 0s 14ms/step - loss: 3.5012 - accuracy: 0.4469 - val_loss: 2.5710 - val_accuracy: 0.4603\n",
      "Epoch 30/100\n",
      "6/6 [==============================] - 0s 12ms/step - loss: 3.8260 - accuracy: 0.4576 - val_loss: 2.5608 - val_accuracy: 0.5079\n",
      "Epoch 31/100\n",
      "6/6 [==============================] - 0s 14ms/step - loss: 3.6492 - accuracy: 0.4969 - val_loss: 2.4724 - val_accuracy: 0.4921\n",
      "Epoch 32/100\n",
      "6/6 [==============================] - 0s 15ms/step - loss: 2.4803 - accuracy: 0.5180 - val_loss: 4.9575 - val_accuracy: 0.4286\n",
      "Epoch 33/100\n",
      "6/6 [==============================] - 0s 17ms/step - loss: 3.6639 - accuracy: 0.4705 - val_loss: 2.4321 - val_accuracy: 0.4444\n",
      "Epoch 34/100\n",
      "6/6 [==============================] - 0s 16ms/step - loss: 3.3377 - accuracy: 0.4669 - val_loss: 2.5697 - val_accuracy: 0.4127\n",
      "Epoch 35/100\n",
      "6/6 [==============================] - 0s 16ms/step - loss: 3.5031 - accuracy: 0.4333 - val_loss: 2.5192 - val_accuracy: 0.4127\n",
      "Epoch 36/100\n",
      "6/6 [==============================] - 0s 15ms/step - loss: 3.1537 - accuracy: 0.4231 - val_loss: 2.4819 - val_accuracy: 0.4127\n",
      "Epoch 37/100\n",
      "6/6 [==============================] - 0s 17ms/step - loss: 2.5601 - accuracy: 0.4465 - val_loss: 3.6180 - val_accuracy: 0.4127\n",
      "Epoch 38/100\n",
      "6/6 [==============================] - 0s 16ms/step - loss: 3.1977 - accuracy: 0.4922 - val_loss: 2.2690 - val_accuracy: 0.4762\n",
      "Epoch 39/100\n",
      "6/6 [==============================] - 0s 15ms/step - loss: 3.6155 - accuracy: 0.5034 - val_loss: 2.1719 - val_accuracy: 0.4762\n",
      "Epoch 40/100\n",
      "6/6 [==============================] - 0s 10ms/step - loss: 3.2500 - accuracy: 0.4412 - val_loss: 2.1723 - val_accuracy: 0.4444\n",
      "Epoch 41/100\n",
      "6/6 [==============================] - 0s 14ms/step - loss: 2.2712 - accuracy: 0.4872 - val_loss: 2.6443 - val_accuracy: 0.4127\n",
      "Epoch 42/100\n",
      "6/6 [==============================] - 0s 13ms/step - loss: 2.7151 - accuracy: 0.4434 - val_loss: 2.0641 - val_accuracy: 0.4444\n",
      "Epoch 43/100\n",
      "6/6 [==============================] - 0s 14ms/step - loss: 2.8868 - accuracy: 0.4429 - val_loss: 3.1709 - val_accuracy: 0.3968\n",
      "Epoch 44/100\n",
      "6/6 [==============================] - 0s 14ms/step - loss: 2.9848 - accuracy: 0.4695 - val_loss: 1.9939 - val_accuracy: 0.4762\n",
      "Epoch 45/100\n",
      "6/6 [==============================] - 0s 15ms/step - loss: 3.1499 - accuracy: 0.4874 - val_loss: 2.1383 - val_accuracy: 0.4127\n",
      "Epoch 46/100\n",
      "6/6 [==============================] - 0s 14ms/step - loss: 2.1624 - accuracy: 0.4966 - val_loss: 3.6708 - val_accuracy: 0.4444\n",
      "Epoch 47/100\n",
      "6/6 [==============================] - 0s 16ms/step - loss: 3.3439 - accuracy: 0.4290 - val_loss: 3.6981 - val_accuracy: 0.4603\n",
      "Epoch 48/100\n",
      "6/6 [==============================] - 0s 15ms/step - loss: 3.3782 - accuracy: 0.4548 - val_loss: 3.2349 - val_accuracy: 0.4127\n",
      "Epoch 49/100\n",
      "6/6 [==============================] - 0s 14ms/step - loss: 2.5225 - accuracy: 0.4545 - val_loss: 1.9919 - val_accuracy: 0.5238\n",
      "Epoch 50/100\n",
      "6/6 [==============================] - 0s 13ms/step - loss: 2.6544 - accuracy: 0.5607 - val_loss: 1.8919 - val_accuracy: 0.4286\n",
      "Epoch 51/100\n",
      "6/6 [==============================] - 0s 15ms/step - loss: 2.1959 - accuracy: 0.5095 - val_loss: 2.5668 - val_accuracy: 0.3968\n",
      "Epoch 52/100\n",
      "6/6 [==============================] - 0s 15ms/step - loss: 2.1989 - accuracy: 0.4697 - val_loss: 1.8597 - val_accuracy: 0.3968\n",
      "Epoch 53/100\n",
      "6/6 [==============================] - 0s 15ms/step - loss: 1.8941 - accuracy: 0.5052 - val_loss: 4.3899 - val_accuracy: 0.4603\n",
      "Epoch 54/100\n",
      "6/6 [==============================] - 0s 15ms/step - loss: 5.4031 - accuracy: 0.4334 - val_loss: 1.9661 - val_accuracy: 0.3968\n",
      "Epoch 55/100\n",
      "6/6 [==============================] - 0s 14ms/step - loss: 2.3003 - accuracy: 0.5073 - val_loss: 1.8481 - val_accuracy: 0.4286\n",
      "Epoch 56/100\n",
      "6/6 [==============================] - 0s 16ms/step - loss: 2.6830 - accuracy: 0.5233 - val_loss: 1.9509 - val_accuracy: 0.4127\n",
      "Epoch 57/100\n",
      "6/6 [==============================] - 0s 14ms/step - loss: 2.1152 - accuracy: 0.4785 - val_loss: 2.2144 - val_accuracy: 0.3968\n",
      "Epoch 58/100\n",
      "6/6 [==============================] - 0s 14ms/step - loss: 1.9663 - accuracy: 0.4881 - val_loss: 1.8179 - val_accuracy: 0.5238\n",
      "Epoch 59/100\n"
     ]
    },
    {
     "name": "stdout",
     "output_type": "stream",
     "text": [
      "6/6 [==============================] - 0s 14ms/step - loss: 2.0280 - accuracy: 0.4780 - val_loss: 1.8772 - val_accuracy: 0.4286\n",
      "Epoch 60/100\n",
      "6/6 [==============================] - 0s 16ms/step - loss: 2.3097 - accuracy: 0.4187 - val_loss: 1.8500 - val_accuracy: 0.4444\n",
      "Epoch 61/100\n",
      "6/6 [==============================] - 0s 16ms/step - loss: 1.9444 - accuracy: 0.4810 - val_loss: 1.8363 - val_accuracy: 0.5079\n",
      "Epoch 62/100\n",
      "6/6 [==============================] - 0s 16ms/step - loss: 2.0020 - accuracy: 0.5277 - val_loss: 1.7938 - val_accuracy: 0.4127\n",
      "Epoch 63/100\n",
      "6/6 [==============================] - 0s 14ms/step - loss: 2.0092 - accuracy: 0.5035 - val_loss: 2.2163 - val_accuracy: 0.3968\n",
      "Epoch 64/100\n",
      "6/6 [==============================] - 0s 14ms/step - loss: 2.4344 - accuracy: 0.4805 - val_loss: 1.7300 - val_accuracy: 0.4762\n",
      "Epoch 65/100\n",
      "6/6 [==============================] - 0s 16ms/step - loss: 1.9722 - accuracy: 0.5113 - val_loss: 1.7458 - val_accuracy: 0.4127\n",
      "Epoch 66/100\n",
      "6/6 [==============================] - 0s 16ms/step - loss: 2.2077 - accuracy: 0.5486 - val_loss: 1.7112 - val_accuracy: 0.4127\n",
      "Epoch 67/100\n",
      "6/6 [==============================] - 0s 16ms/step - loss: 1.7591 - accuracy: 0.4844 - val_loss: 1.7549 - val_accuracy: 0.5397\n",
      "Epoch 68/100\n",
      "6/6 [==============================] - 0s 15ms/step - loss: 2.2839 - accuracy: 0.5376 - val_loss: 1.5876 - val_accuracy: 0.4444\n",
      "Epoch 69/100\n",
      "6/6 [==============================] - 0s 16ms/step - loss: 1.8362 - accuracy: 0.5240 - val_loss: 1.5557 - val_accuracy: 0.4444\n",
      "Epoch 70/100\n",
      "6/6 [==============================] - 0s 13ms/step - loss: 2.0714 - accuracy: 0.5217 - val_loss: 2.9773 - val_accuracy: 0.4127\n",
      "Epoch 71/100\n",
      "6/6 [==============================] - 0s 15ms/step - loss: 1.8666 - accuracy: 0.5238 - val_loss: 1.2972 - val_accuracy: 0.5714\n",
      "Epoch 72/100\n",
      "6/6 [==============================] - 0s 16ms/step - loss: 1.7706 - accuracy: 0.5960 - val_loss: 2.1752 - val_accuracy: 0.3651\n",
      "Epoch 73/100\n",
      "6/6 [==============================] - 0s 15ms/step - loss: 1.8486 - accuracy: 0.5107 - val_loss: 1.7762 - val_accuracy: 0.4127\n",
      "Epoch 74/100\n",
      "6/6 [==============================] - 0s 16ms/step - loss: 1.9554 - accuracy: 0.5273 - val_loss: 1.6947 - val_accuracy: 0.4444\n",
      "Epoch 75/100\n",
      "6/6 [==============================] - 0s 16ms/step - loss: 1.5532 - accuracy: 0.5095 - val_loss: 1.7882 - val_accuracy: 0.4762\n",
      "Epoch 76/100\n",
      "6/6 [==============================] - 0s 15ms/step - loss: 1.9139 - accuracy: 0.5578 - val_loss: 1.6618 - val_accuracy: 0.4762\n",
      "Epoch 77/100\n",
      "6/6 [==============================] - 0s 16ms/step - loss: 1.5663 - accuracy: 0.4974 - val_loss: 1.5875 - val_accuracy: 0.5079\n",
      "Epoch 78/100\n",
      "6/6 [==============================] - 0s 15ms/step - loss: 1.9328 - accuracy: 0.5099 - val_loss: 1.5962 - val_accuracy: 0.5238\n",
      "Epoch 79/100\n",
      "6/6 [==============================] - 0s 16ms/step - loss: 1.5419 - accuracy: 0.5650 - val_loss: 1.6063 - val_accuracy: 0.4921\n",
      "Epoch 80/100\n",
      "6/6 [==============================] - 0s 13ms/step - loss: 1.8083 - accuracy: 0.5314 - val_loss: 1.8956 - val_accuracy: 0.3968\n",
      "Epoch 81/100\n",
      "6/6 [==============================] - 0s 16ms/step - loss: 2.0367 - accuracy: 0.5358 - val_loss: 2.3289 - val_accuracy: 0.3651\n",
      "Epoch 82/100\n",
      "6/6 [==============================] - 0s 15ms/step - loss: 2.3520 - accuracy: 0.4236 - val_loss: 1.7789 - val_accuracy: 0.4444\n",
      "Epoch 83/100\n",
      "6/6 [==============================] - 0s 16ms/step - loss: 1.5024 - accuracy: 0.5101 - val_loss: 1.5105 - val_accuracy: 0.4921\n",
      "Epoch 84/100\n",
      "6/6 [==============================] - 0s 15ms/step - loss: 1.4902 - accuracy: 0.5139 - val_loss: 1.6256 - val_accuracy: 0.4286\n",
      "Epoch 85/100\n",
      "6/6 [==============================] - 0s 14ms/step - loss: 1.3821 - accuracy: 0.5498 - val_loss: 1.7529 - val_accuracy: 0.5079\n",
      "Epoch 86/100\n",
      "6/6 [==============================] - 0s 15ms/step - loss: 2.0827 - accuracy: 0.5452 - val_loss: 1.4761 - val_accuracy: 0.4762\n",
      "Epoch 87/100\n",
      "6/6 [==============================] - 0s 16ms/step - loss: 1.4969 - accuracy: 0.5185 - val_loss: 1.7815 - val_accuracy: 0.4286\n",
      "Epoch 88/100\n",
      "6/6 [==============================] - 0s 17ms/step - loss: 1.6175 - accuracy: 0.4994 - val_loss: 1.5972 - val_accuracy: 0.5714\n",
      "Epoch 89/100\n",
      "6/6 [==============================] - 0s 16ms/step - loss: 1.8307 - accuracy: 0.5600 - val_loss: 1.5149 - val_accuracy: 0.4762\n",
      "Epoch 90/100\n",
      "6/6 [==============================] - 0s 14ms/step - loss: 1.4210 - accuracy: 0.5394 - val_loss: 1.3177 - val_accuracy: 0.5873\n",
      "Epoch 91/100\n",
      "6/6 [==============================] - 0s 15ms/step - loss: 1.7928 - accuracy: 0.5695 - val_loss: 1.5343 - val_accuracy: 0.5714\n",
      "Epoch 92/100\n",
      "6/6 [==============================] - 0s 14ms/step - loss: 1.7656 - accuracy: 0.5463 - val_loss: 1.9002 - val_accuracy: 0.4286\n",
      "Epoch 93/100\n",
      "6/6 [==============================] - 0s 16ms/step - loss: 1.7567 - accuracy: 0.5502 - val_loss: 1.2982 - val_accuracy: 0.5714\n",
      "Epoch 94/100\n",
      "6/6 [==============================] - 0s 20ms/step - loss: 1.1802 - accuracy: 0.6234 - val_loss: 1.6269 - val_accuracy: 0.6667\n",
      "Epoch 95/100\n",
      "6/6 [==============================] - 0s 14ms/step - loss: 3.8728 - accuracy: 0.5320 - val_loss: 1.5920 - val_accuracy: 0.5556\n",
      "Epoch 96/100\n",
      "6/6 [==============================] - 0s 14ms/step - loss: 1.7388 - accuracy: 0.6013 - val_loss: 1.8519 - val_accuracy: 0.4444\n",
      "Epoch 97/100\n",
      "6/6 [==============================] - 0s 16ms/step - loss: 2.2456 - accuracy: 0.4854 - val_loss: 1.9570 - val_accuracy: 0.4603\n",
      "Epoch 98/100\n",
      "6/6 [==============================] - 0s 15ms/step - loss: 1.7647 - accuracy: 0.4994 - val_loss: 1.5239 - val_accuracy: 0.4921\n",
      "Epoch 99/100\n",
      "6/6 [==============================] - 0s 16ms/step - loss: 1.9084 - accuracy: 0.5309 - val_loss: 1.4792 - val_accuracy: 0.5238\n",
      "Epoch 100/100\n",
      "6/6 [==============================] - 0s 15ms/step - loss: 1.7313 - accuracy: 0.5880 - val_loss: 1.5443 - val_accuracy: 0.5238\n"
     ]
    }
   ],
   "source": [
    "history = model.fit(x_train, y_train,\n",
    "                    batch_size=32,\n",
    "                    epochs=epochs,\n",
    "                    verbose=True,\n",
    "                    validation_data=(x_val, y_val))"
   ]
  },
  {
   "cell_type": "code",
   "execution_count": 96,
   "metadata": {},
   "outputs": [
    {
     "name": "stdout",
     "output_type": "stream",
     "text": [
      "Saved model to disk\n"
     ]
    }
   ],
   "source": [
    "# save model as json\n",
    "model_json = model.to_json()\n",
    "with open(\"model.json\", \"w\") as json_file:\n",
    "    json_file.write(model_json)\n",
    "\n",
    "model.save_weights(\"model.h5\")\n",
    "print(\"Saved model to disk\")"
   ]
  },
  {
   "cell_type": "code",
   "execution_count": 106,
   "metadata": {},
   "outputs": [
    {
     "name": "stdout",
     "output_type": "stream",
     "text": [
      "dict_keys(['loss', 'accuracy', 'val_loss', 'val_accuracy'])\n"
     ]
    },
    {
     "data": {
      "image/png": "[encoded data removed]",
      "text/plain": [
       "<Figure size 432x288 with 1 Axes>"
      ]
     },
     "metadata": {
      "needs_background": "light"
     },
     "output_type": "display_data"
    },
    {
     "data": {
      "image/png": "[encoded data removed]",
      "text/plain": [
       "<Figure size 432x288 with 1 Axes>"
      ]
     },
     "metadata": {
      "needs_background": "light"
     },
     "output_type": "display_data"
    }
   ],
   "source": [
    "print(history.history.keys())\n",
    "# summarize history for accuracy\n",
    "plt.plot(history.history['accuracy'], marker = \"*\")\n",
    "plt.plot(history.history['val_accuracy'], marker = \"*\")\n",
    "plt.title('model accuracy')\n",
    "plt.ylabel('accuracy')\n",
    "plt.xlabel('epoch')\n",
    "plt.legend(['train', 'val'], loc='upper left')\n",
    "plt.show()\n",
    "\n",
    "# summarize history for loss\n",
    "plt.plot(history.history['loss'], marker = \"*\")\n",
    "plt.plot(history.history['val_loss'], marker = \"*\")\n",
    "plt.title('model loss')\n",
    "plt.ylabel('loss')\n",
    "plt.xlabel('epoch')\n",
    "plt.legend(['train', 'val'], loc='upper left')\n",
    "plt.show()"
   ]
  },
  {
   "cell_type": "code",
   "execution_count": 107,
   "metadata": {},
   "outputs": [
    {
     "name": "stdout",
     "output_type": "stream",
     "text": [
      "2/2 [==============================] - 0s 9ms/step - loss: 2.2158 - accuracy: 0.5397\n",
      "Test loss: 2.2158308029174805\n",
      "Test accuracy: 0.5396825671195984\n"
     ]
    }
   ],
   "source": [
    "score = model.evaluate(x_test, y_test, verbose=True)\n",
    "print('Test loss:', score[0])\n",
    "print('Test accuracy:', score[1])"
   ]
  },
  {
   "cell_type": "code",
   "execution_count": 14,
   "metadata": {},
   "outputs": [
    {
     "name": "stdout",
     "output_type": "stream",
     "text": [
      "[[ True  True]]\n"
     ]
    }
   ],
   "source": [
    "result = model.predict(x_test[100].reshape((1,30)))\n",
    "print(result.round(1)==y_test[100])"
   ]
  },
  {
   "cell_type": "code",
   "execution_count": 82,
   "metadata": {},
   "outputs": [],
   "source": [
    "y_scores = model.predict(x_test)\n",
    "fpr_nn, tpr_nn, threshold = roc_curve(y_test, y_scores, pos_label= 1)\n",
    "roc_auc = auc(fpr_nn, tpr_nn)"
   ]
  },
  {
   "cell_type": "code",
   "execution_count": 84,
   "metadata": {},
   "outputs": [
    {
     "data": {
      "image/png": "[encoded data removed]",
      "text/plain": [
       "<Figure size 864x720 with 1 Axes>"
      ]
     },
     "metadata": {
      "needs_background": "light"
     },
     "output_type": "display_data"
    }
   ],
   "source": [
    "import matplotlib.pyplot as plt\n",
    "fig = plt.figure(figsize=(12,10))          # Create window frame\n",
    "ax = fig.add_subplot(111)   # Create axes\n",
    "# 9.2 Also connect diagonals\n",
    "ax.plot([0, 1], [0, 1], ls=\"--\")   # Dashed diagonal line\n",
    "# 9.3 Labels etc\n",
    "ax.set_xlabel('False Positive Rate')  # Final plot decorations\n",
    "ax.set_ylabel('True Positive Rate')\n",
    "ax.set_title('ROC curve')\n",
    "# 9.4 Set graph limits\n",
    "ax.set_xlim([0.0, 1.0])\n",
    "ax.set_ylim([0.0, 1.0])\n",
    "\n",
    "# 9.5 Plot each graph now\n",
    "ax.plot(fpr_nn, tpr_nn, label = \"NN\")\n",
    "# 9.6 Set legend and show plot\n",
    "ax.legend(loc=\"lower right\")\n",
    "plt.show()"
   ]
  },
  {
   "cell_type": "code",
   "execution_count": null,
   "metadata": {},
   "outputs": [],
   "source": []
  }
 ],
 "metadata": {
  "kernelspec": {
   "display_name": "Python 3",
   "language": "python",
   "name": "python3"
  },
  "language_info": {
   "codemirror_mode": {
    "name": "ipython",
    "version": 3
   },
   "file_extension": ".py",
   "mimetype": "text/x-python",
   "name": "python",
   "nbconvert_exporter": "python",
   "pygments_lexer": "ipython3",
   "version": "3.8.3"
  }
 },
 "nbformat": 4,
 "nbformat_minor": 4
}
