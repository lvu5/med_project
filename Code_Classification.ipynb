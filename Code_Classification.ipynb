{
 "cells": [
  {
   "cell_type": "code",
   "execution_count": 1,
   "metadata": {},
   "outputs": [],
   "source": [
    "import sklearn\n",
    "from sklearn.datasets import load_breast_cancer\n",
    "from sklearn.model_selection import train_test_split\n",
    "from sklearn.neighbors import KNeighborsRegressor\n",
    "import numpy as np\n",
    "from sklearn.metrics import accuracy_score\n",
    "import matplotlib.pyplot as plt"
   ]
  },
  {
   "cell_type": "code",
   "execution_count": 2,
   "metadata": {},
   "outputs": [],
   "source": [
    "# data = load_breast_cancer()\n",
    "# x = data.data\n",
    "# y = data.target"
   ]
  },
  {
   "cell_type": "code",
   "execution_count": 2,
   "metadata": {},
   "outputs": [
    {
     "data": {
      "text/html": [
       "<div>\n",
       "<style scoped>\n",
       "    .dataframe tbody tr th:only-of-type {\n",
       "        vertical-align: middle;\n",
       "    }\n",
       "\n",
       "    .dataframe tbody tr th {\n",
       "        vertical-align: top;\n",
       "    }\n",
       "\n",
       "    .dataframe thead th {\n",
       "        text-align: right;\n",
       "    }\n",
       "</style>\n",
       "<table border=\"1\" class=\"dataframe\">\n",
       "  <thead>\n",
       "    <tr style=\"text-align: right;\">\n",
       "      <th></th>\n",
       "      <th>ID</th>\n",
       "      <th>background_tissue</th>\n",
       "      <th>class</th>\n",
       "      <th>severity</th>\n",
       "      <th>x</th>\n",
       "      <th>y</th>\n",
       "      <th>rad</th>\n",
       "      <th>mean</th>\n",
       "      <th>var</th>\n",
       "      <th>std</th>\n",
       "      <th>min_pixel</th>\n",
       "      <th>max_pixel</th>\n",
       "      <th>min_coor_x</th>\n",
       "      <th>min_coor_y</th>\n",
       "      <th>max_coor_x</th>\n",
       "      <th>max_coor_y</th>\n",
       "    </tr>\n",
       "  </thead>\n",
       "  <tbody>\n",
       "    <tr>\n",
       "      <th>0</th>\n",
       "      <td>mdb001</td>\n",
       "      <td>G</td>\n",
       "      <td>CIRC</td>\n",
       "      <td>B</td>\n",
       "      <td>535</td>\n",
       "      <td>425</td>\n",
       "      <td>197</td>\n",
       "      <td>150.781051</td>\n",
       "      <td>3205.504934</td>\n",
       "      <td>56.617179</td>\n",
       "      <td>5</td>\n",
       "      <td>221</td>\n",
       "      <td>373</td>\n",
       "      <td>710</td>\n",
       "      <td>487</td>\n",
       "      <td>632</td>\n",
       "    </tr>\n",
       "    <tr>\n",
       "      <th>1</th>\n",
       "      <td>mdb002</td>\n",
       "      <td>G</td>\n",
       "      <td>CIRC</td>\n",
       "      <td>B</td>\n",
       "      <td>522</td>\n",
       "      <td>280</td>\n",
       "      <td>69</td>\n",
       "      <td>197.870827</td>\n",
       "      <td>764.537398</td>\n",
       "      <td>27.650269</td>\n",
       "      <td>75</td>\n",
       "      <td>229</td>\n",
       "      <td>571</td>\n",
       "      <td>792</td>\n",
       "      <td>531</td>\n",
       "      <td>679</td>\n",
       "    </tr>\n",
       "    <tr>\n",
       "      <th>2</th>\n",
       "      <td>mdb005</td>\n",
       "      <td>F</td>\n",
       "      <td>CIRC</td>\n",
       "      <td>B</td>\n",
       "      <td>477</td>\n",
       "      <td>133</td>\n",
       "      <td>30</td>\n",
       "      <td>149.605105</td>\n",
       "      <td>409.222292</td>\n",
       "      <td>20.229243</td>\n",
       "      <td>84</td>\n",
       "      <td>187</td>\n",
       "      <td>481</td>\n",
       "      <td>920</td>\n",
       "      <td>476</td>\n",
       "      <td>876</td>\n",
       "    </tr>\n",
       "    <tr>\n",
       "      <th>3</th>\n",
       "      <td>mdb005</td>\n",
       "      <td>F</td>\n",
       "      <td>CIRC</td>\n",
       "      <td>B</td>\n",
       "      <td>500</td>\n",
       "      <td>168</td>\n",
       "      <td>26</td>\n",
       "      <td>162.426214</td>\n",
       "      <td>80.178549</td>\n",
       "      <td>8.954248</td>\n",
       "      <td>128</td>\n",
       "      <td>181</td>\n",
       "      <td>520</td>\n",
       "      <td>841</td>\n",
       "      <td>522</td>\n",
       "      <td>859</td>\n",
       "    </tr>\n",
       "    <tr>\n",
       "      <th>4</th>\n",
       "      <td>mdb010</td>\n",
       "      <td>F</td>\n",
       "      <td>CIRC</td>\n",
       "      <td>B</td>\n",
       "      <td>525</td>\n",
       "      <td>425</td>\n",
       "      <td>33</td>\n",
       "      <td>184.385157</td>\n",
       "      <td>127.091607</td>\n",
       "      <td>11.273491</td>\n",
       "      <td>155</td>\n",
       "      <td>208</td>\n",
       "      <td>557</td>\n",
       "      <td>599</td>\n",
       "      <td>519</td>\n",
       "      <td>598</td>\n",
       "    </tr>\n",
       "  </tbody>\n",
       "</table>\n",
       "</div>"
      ],
      "text/plain": [
       "       ID background_tissue class severity    x    y  rad        mean  \\\n",
       "0  mdb001                 G  CIRC        B  535  425  197  150.781051   \n",
       "1  mdb002                 G  CIRC        B  522  280   69  197.870827   \n",
       "2  mdb005                 F  CIRC        B  477  133   30  149.605105   \n",
       "3  mdb005                 F  CIRC        B  500  168   26  162.426214   \n",
       "4  mdb010                 F  CIRC        B  525  425   33  184.385157   \n",
       "\n",
       "           var        std  min_pixel  max_pixel  min_coor_x  min_coor_y  \\\n",
       "0  3205.504934  56.617179          5        221         373         710   \n",
       "1   764.537398  27.650269         75        229         571         792   \n",
       "2   409.222292  20.229243         84        187         481         920   \n",
       "3    80.178549   8.954248        128        181         520         841   \n",
       "4   127.091607  11.273491        155        208         557         599   \n",
       "\n",
       "   max_coor_x  max_coor_y  \n",
       "0         487         632  \n",
       "1         531         679  \n",
       "2         476         876  \n",
       "3         522         859  \n",
       "4         519         598  "
      ]
     },
     "execution_count": 2,
     "metadata": {},
     "output_type": "execute_result"
    }
   ],
   "source": [
    "import pandas as pd\n",
    "data = pd.read_csv('datasets/final.csv')\n",
    "del data['Unnamed: 0']\n",
    "data.head()"
   ]
  },
  {
   "cell_type": "code",
   "execution_count": 3,
   "metadata": {},
   "outputs": [
    {
     "data": {
      "text/plain": [
       "0      1\n",
       "1      1\n",
       "2      1\n",
       "3      1\n",
       "4      1\n",
       "      ..\n",
       "307    0\n",
       "308    0\n",
       "309    0\n",
       "310    0\n",
       "311    0\n",
       "Name: severity, Length: 312, dtype: int64"
      ]
     },
     "execution_count": 3,
     "metadata": {},
     "output_type": "execute_result"
    }
   ],
   "source": [
    "x = data.iloc[:,7:12]\n",
    "y = data['severity']\n",
    "di = {'N':0, 'B':1, 'M':2}\n",
    "y = y.map(di)\n",
    "y\n"
   ]
  },
  {
   "cell_type": "code",
   "execution_count": 4,
   "metadata": {},
   "outputs": [],
   "source": [
    "x_train, x_test, y_train, y_test = train_test_split(x, y,test_size = 0.2, random_state=42)"
   ]
  },
  {
   "cell_type": "markdown",
   "metadata": {},
   "source": [
    "# KNN"
   ]
  },
  {
   "cell_type": "code",
   "execution_count": 90,
   "metadata": {},
   "outputs": [
    {
     "name": "stderr",
     "output_type": "stream",
     "text": [
      "C:\\Users\\huyenntx1\\Miniconda3\\lib\\site-packages\\sklearn\\model_selection\\_validation.py:548: FitFailedWarning: Estimator fit failed. The score on this train-test partition for these parameters will be set to nan. Details: \n",
      "Traceback (most recent call last):\n",
      "  File \"C:\\Users\\huyenntx1\\Miniconda3\\lib\\site-packages\\sklearn\\model_selection\\_validation.py\", line 531, in _fit_and_score\n",
      "    estimator.fit(X_train, y_train, **fit_params)\n",
      "  File \"C:\\Users\\huyenntx1\\Miniconda3\\lib\\site-packages\\sklearn\\neighbors\\_base.py\", line 1110, in fit\n",
      "    return self._fit(X)\n",
      "  File \"C:\\Users\\huyenntx1\\Miniconda3\\lib\\site-packages\\sklearn\\neighbors\\_base.py\", line 467, in _fit\n",
      "    raise ValueError(\n",
      "ValueError: Expected n_neighbors > 0. Got 0\n",
      "\n",
      "  warnings.warn(\"Estimator fit failed. The score on this train-test\"\n",
      "C:\\Users\\huyenntx1\\Miniconda3\\lib\\site-packages\\sklearn\\model_selection\\_validation.py:548: FitFailedWarning: Estimator fit failed. The score on this train-test partition for these parameters will be set to nan. Details: \n",
      "Traceback (most recent call last):\n",
      "  File \"C:\\Users\\huyenntx1\\Miniconda3\\lib\\site-packages\\sklearn\\model_selection\\_validation.py\", line 531, in _fit_and_score\n",
      "    estimator.fit(X_train, y_train, **fit_params)\n",
      "  File \"C:\\Users\\huyenntx1\\Miniconda3\\lib\\site-packages\\sklearn\\neighbors\\_base.py\", line 1110, in fit\n",
      "    return self._fit(X)\n",
      "  File \"C:\\Users\\huyenntx1\\Miniconda3\\lib\\site-packages\\sklearn\\neighbors\\_base.py\", line 467, in _fit\n",
      "    raise ValueError(\n",
      "ValueError: Expected n_neighbors > 0. Got 0\n",
      "\n",
      "  warnings.warn(\"Estimator fit failed. The score on this train-test\"\n",
      "C:\\Users\\huyenntx1\\Miniconda3\\lib\\site-packages\\sklearn\\model_selection\\_validation.py:548: FitFailedWarning: Estimator fit failed. The score on this train-test partition for these parameters will be set to nan. Details: \n",
      "Traceback (most recent call last):\n",
      "  File \"C:\\Users\\huyenntx1\\Miniconda3\\lib\\site-packages\\sklearn\\model_selection\\_validation.py\", line 531, in _fit_and_score\n",
      "    estimator.fit(X_train, y_train, **fit_params)\n",
      "  File \"C:\\Users\\huyenntx1\\Miniconda3\\lib\\site-packages\\sklearn\\neighbors\\_base.py\", line 1110, in fit\n",
      "    return self._fit(X)\n",
      "  File \"C:\\Users\\huyenntx1\\Miniconda3\\lib\\site-packages\\sklearn\\neighbors\\_base.py\", line 467, in _fit\n",
      "    raise ValueError(\n",
      "ValueError: Expected n_neighbors > 0. Got 0\n",
      "\n",
      "  warnings.warn(\"Estimator fit failed. The score on this train-test\"\n",
      "C:\\Users\\huyenntx1\\Miniconda3\\lib\\site-packages\\sklearn\\model_selection\\_validation.py:548: FitFailedWarning: Estimator fit failed. The score on this train-test partition for these parameters will be set to nan. Details: \n",
      "Traceback (most recent call last):\n",
      "  File \"C:\\Users\\huyenntx1\\Miniconda3\\lib\\site-packages\\sklearn\\model_selection\\_validation.py\", line 531, in _fit_and_score\n",
      "    estimator.fit(X_train, y_train, **fit_params)\n",
      "  File \"C:\\Users\\huyenntx1\\Miniconda3\\lib\\site-packages\\sklearn\\neighbors\\_base.py\", line 1110, in fit\n",
      "    return self._fit(X)\n",
      "  File \"C:\\Users\\huyenntx1\\Miniconda3\\lib\\site-packages\\sklearn\\neighbors\\_base.py\", line 467, in _fit\n",
      "    raise ValueError(\n",
      "ValueError: Expected n_neighbors > 0. Got 0\n",
      "\n",
      "  warnings.warn(\"Estimator fit failed. The score on this train-test\"\n",
      "C:\\Users\\huyenntx1\\Miniconda3\\lib\\site-packages\\sklearn\\model_selection\\_validation.py:548: FitFailedWarning: Estimator fit failed. The score on this train-test partition for these parameters will be set to nan. Details: \n",
      "Traceback (most recent call last):\n",
      "  File \"C:\\Users\\huyenntx1\\Miniconda3\\lib\\site-packages\\sklearn\\model_selection\\_validation.py\", line 531, in _fit_and_score\n",
      "    estimator.fit(X_train, y_train, **fit_params)\n",
      "  File \"C:\\Users\\huyenntx1\\Miniconda3\\lib\\site-packages\\sklearn\\neighbors\\_base.py\", line 1110, in fit\n",
      "    return self._fit(X)\n",
      "  File \"C:\\Users\\huyenntx1\\Miniconda3\\lib\\site-packages\\sklearn\\neighbors\\_base.py\", line 467, in _fit\n",
      "    raise ValueError(\n",
      "ValueError: Expected n_neighbors > 0. Got 0\n",
      "\n",
      "  warnings.warn(\"Estimator fit failed. The score on this train-test\"\n"
     ]
    },
    {
     "data": {
      "text/plain": [
       "{'n_neighbors': 11}"
      ]
     },
     "execution_count": 90,
     "metadata": {},
     "output_type": "execute_result"
    }
   ],
   "source": [
    "from sklearn.model_selection import GridSearchCV\n",
    "params = {'n_neighbors':np.arange(15)}\n",
    "reg = KNeighborsRegressor()\n",
    "model = GridSearchCV(reg, params, cv=5)\n",
    "model.fit(x_train,y_train)\n",
    "model.best_params_"
   ]
  },
  {
   "cell_type": "code",
   "execution_count": 92,
   "metadata": {},
   "outputs": [
    {
     "name": "stdout",
     "output_type": "stream",
     "text": [
      "Test set R^2: -0.05\n"
     ]
    },
    {
     "data": {
      "text/plain": [
       "array([[0.6, 0.1, 0.3],\n",
       "       [0.3, 0.3, 0.4],\n",
       "       [0.4, 0.2, 0.4],\n",
       "       [0.4, 0.4, 0.2],\n",
       "       [0.5, 0.4, 0.1],\n",
       "       [0.7, 0.2, 0.1],\n",
       "       [0.7, 0.3, 0. ],\n",
       "       [0.3, 0.3, 0.4],\n",
       "       [0.8, 0. , 0.2],\n",
       "       [0.9, 0. , 0.1],\n",
       "       [0.7, 0.1, 0.2],\n",
       "       [0.2, 0.4, 0.4],\n",
       "       [0.7, 0.3, 0. ],\n",
       "       [0.5, 0.3, 0.2],\n",
       "       [0.9, 0. , 0.1],\n",
       "       [0.7, 0.3, 0. ],\n",
       "       [0.9, 0.1, 0. ],\n",
       "       [0.4, 0.3, 0.3],\n",
       "       [0.8, 0.1, 0.1],\n",
       "       [1. , 0. , 0. ],\n",
       "       [0.7, 0.1, 0.2],\n",
       "       [0.2, 0.4, 0.4],\n",
       "       [0.1, 0.6, 0.3],\n",
       "       [1. , 0. , 0. ],\n",
       "       [0.3, 0.4, 0.3],\n",
       "       [1. , 0. , 0. ],\n",
       "       [0.4, 0.2, 0.4],\n",
       "       [0.2, 0.4, 0.4],\n",
       "       [0.3, 0.2, 0.5],\n",
       "       [1. , 0. , 0. ],\n",
       "       [0.6, 0.2, 0.2],\n",
       "       [0.9, 0.1, 0. ],\n",
       "       [0.1, 0.5, 0.4],\n",
       "       [0.7, 0.1, 0.2],\n",
       "       [0.5, 0.4, 0.1],\n",
       "       [0.3, 0.4, 0.3],\n",
       "       [0.3, 0.4, 0.3],\n",
       "       [0.4, 0.5, 0.1],\n",
       "       [0.7, 0.2, 0.1],\n",
       "       [0.6, 0.2, 0.2],\n",
       "       [0.6, 0.2, 0.2],\n",
       "       [0.2, 0.5, 0.3],\n",
       "       [0.5, 0.2, 0.3],\n",
       "       [0.6, 0.4, 0. ],\n",
       "       [0.3, 0.3, 0.4],\n",
       "       [0.8, 0. , 0.2],\n",
       "       [0.4, 0.3, 0.3],\n",
       "       [0.4, 0.3, 0.3],\n",
       "       [0.6, 0.1, 0.3],\n",
       "       [0.3, 0.2, 0.5],\n",
       "       [0.5, 0.5, 0. ],\n",
       "       [0.1, 0.6, 0.3],\n",
       "       [0.5, 0.2, 0.3],\n",
       "       [0.6, 0.2, 0.2],\n",
       "       [0.9, 0.1, 0. ],\n",
       "       [0.4, 0.3, 0.3],\n",
       "       [0.5, 0.3, 0.2],\n",
       "       [0.6, 0.1, 0.3],\n",
       "       [0.9, 0.1, 0. ],\n",
       "       [0.2, 0.6, 0.2],\n",
       "       [0.9, 0.1, 0. ],\n",
       "       [0.6, 0.2, 0.2],\n",
       "       [0.5, 0.3, 0.2]], dtype=float32)"
      ]
     },
     "execution_count": 92,
     "metadata": {},
     "output_type": "execute_result"
    }
   ],
   "source": [
    "knn = KNeighborsRegressor(n_neighbors=10)\n",
    "knn.fit(x_train, y_train)\n",
    "print(\"Test set R^2: {:.2f}\".format(knn.score(x_test, y_test)))\n",
    "y_pred = knn.predict(x_test)\n",
    "y_pred"
   ]
  },
  {
   "cell_type": "code",
   "execution_count": 43,
   "metadata": {},
   "outputs": [
    {
     "data": {
      "text/plain": [
       "228    False\n",
       "9       True\n",
       "57     False\n",
       "60      True\n",
       "25     False\n",
       "       ...  \n",
       "196     True\n",
       "211    False\n",
       "225     True\n",
       "109    False\n",
       "114    False\n",
       "Name: severity, Length: 63, dtype: bool"
      ]
     },
     "execution_count": 43,
     "metadata": {},
     "output_type": "execute_result"
    }
   ],
   "source": [
    "for i in range(len(y_pred)):\n",
    "    if y_pred[i] < 0.5: \n",
    "        y_pred[i] = 0\n",
    "    else: y_pred[i] = 1\n",
    "y_pred == y_test"
   ]
  },
  {
   "cell_type": "markdown",
   "metadata": {},
   "source": [
    "# Naive Bayes\n"
   ]
  },
  {
   "cell_type": "code",
   "execution_count": null,
   "metadata": {},
   "outputs": [],
   "source": []
  },
  {
   "cell_type": "code",
   "execution_count": null,
   "metadata": {},
   "outputs": [],
   "source": []
  },
  {
   "cell_type": "markdown",
   "metadata": {},
   "source": [
    "# SVM\n"
   ]
  },
  {
   "cell_type": "code",
   "execution_count": 44,
   "metadata": {},
   "outputs": [
    {
     "data": {
      "text/plain": [
       "SVC(C=30)"
      ]
     },
     "execution_count": 44,
     "metadata": {},
     "output_type": "execute_result"
    }
   ],
   "source": [
    "svm = sklearn.svm.SVC(C = 30, kernel='rbf')\n",
    "svm.fit(x_train, y_train)"
   ]
  },
  {
   "cell_type": "code",
   "execution_count": 45,
   "metadata": {},
   "outputs": [
    {
     "data": {
      "text/plain": [
       "0.6706827309236948"
      ]
     },
     "execution_count": 45,
     "metadata": {},
     "output_type": "execute_result"
    }
   ],
   "source": [
    "svm.score(x_train, y_train)\n"
   ]
  },
  {
   "cell_type": "code",
   "execution_count": 46,
   "metadata": {},
   "outputs": [
    {
     "data": {
      "text/plain": [
       "0.5555555555555556"
      ]
     },
     "execution_count": 46,
     "metadata": {},
     "output_type": "execute_result"
    }
   ],
   "source": [
    "svm.score(x_test, y_test)\n"
   ]
  },
  {
   "cell_type": "code",
   "execution_count": 47,
   "metadata": {},
   "outputs": [
    {
     "data": {
      "text/plain": [
       "228     True\n",
       "9      False\n",
       "57     False\n",
       "60     False\n",
       "25     False\n",
       "       ...  \n",
       "196     True\n",
       "211     True\n",
       "225     True\n",
       "109    False\n",
       "114    False\n",
       "Name: severity, Length: 63, dtype: bool"
      ]
     },
     "execution_count": 47,
     "metadata": {},
     "output_type": "execute_result"
    }
   ],
   "source": [
    "y_pred = svm.predict(x_test)\n",
    "y_pred == y_test"
   ]
  },
  {
   "cell_type": "markdown",
   "metadata": {},
   "source": [
    "# Decision Tree\n"
   ]
  },
  {
   "cell_type": "code",
   "execution_count": 48,
   "metadata": {},
   "outputs": [],
   "source": [
    "from sklearn.tree import DecisionTreeClassifier\n"
   ]
  },
  {
   "cell_type": "code",
   "execution_count": 49,
   "metadata": {},
   "outputs": [],
   "source": [
    "# tree=DecisionTreeClassifier(max_depth=2,random_state=42)\n",
    "tree = DecisionTreeClassifier(random_state=42)"
   ]
  },
  {
   "cell_type": "code",
   "execution_count": 50,
   "metadata": {},
   "outputs": [
    {
     "data": {
      "text/plain": [
       "DecisionTreeClassifier(random_state=42)"
      ]
     },
     "execution_count": 50,
     "metadata": {},
     "output_type": "execute_result"
    }
   ],
   "source": [
    "tree.fit(x_train, y_train)"
   ]
  },
  {
   "cell_type": "code",
   "execution_count": 51,
   "metadata": {},
   "outputs": [],
   "source": [
    "y_pred = tree.predict(x_test)"
   ]
  },
  {
   "cell_type": "code",
   "execution_count": 52,
   "metadata": {},
   "outputs": [
    {
     "name": "stdout",
     "output_type": "stream",
     "text": [
      "Độ chính xác tập huấn luyện: 1.0000\n",
      "Độ chính xác tập kiểm tra: 0.4762\n"
     ]
    }
   ],
   "source": [
    "print('Độ chính xác tập huấn luyện: {:.4f}'.format(tree.score(x_train, y_train)))\n",
    "print('Độ chính xác tập kiểm tra: {:.4f}'.format(tree.score(x_test, y_test)))"
   ]
  },
  {
   "cell_type": "code",
   "execution_count": 53,
   "metadata": {},
   "outputs": [],
   "source": [
    "from sklearn.model_selection import cross_val_score, cross_val_predict\n",
    "from sklearn.metrics import accuracy_score, classification_report, confusion_matrix\n",
    "def print_score(clf, X_train, y_train, X_test, y_test, train=True):\n",
    "    '''\n",
    "    print the accuracy score, classification report and confusion matrix of classifier\n",
    "    '''\n",
    "    if train:\n",
    "        '''\n",
    "        training performance\n",
    "        '''\n",
    "        print(\"Train Result:\\n\")\n",
    "        print(\"accuracy score: {0:.4f}\\n\".format(accuracy_score(y_train, clf.predict(X_train))))\n",
    "        print(\"Classification Report: \\n {}\\n\".format(classification_report(y_train, clf.predict(X_train))))\n",
    "        print(\"Confusion Matrix: \\n {}\\n\".format(confusion_matrix(y_train, clf.predict(X_train))))\n",
    "\n",
    "        res = cross_val_score(clf, X_train, y_train.ravel(), cv=10, scoring='accuracy')\n",
    "        print(\"Average Accuracy: \\t {0:.4f}\".format(np.mean(res)))\n",
    "        print(\"Accuracy SD: \\t\\t {0:.4f}\".format(np.std(res)))\n",
    "        \n",
    "    elif train==False:\n",
    "        '''\n",
    "        test performance\n",
    "        '''\n",
    "        print(\"Test Result:\\n\")        \n",
    "        print(\"accuracy score: {0:.4f}\\n\".format(accuracy_score(y_test, clf.predict(X_test))))\n",
    "        print(\"Classification Report: \\n {}\\n\".format(classification_report(y_test, clf.predict(X_test))))\n",
    "        print(\"Confusion Matrix: \\n {}\\n\".format(confusion_matrix(y_test, clf.predict(X_test))))    \n",
    "        "
   ]
  },
  {
   "cell_type": "code",
   "execution_count": 54,
   "metadata": {},
   "outputs": [
    {
     "name": "stdout",
     "output_type": "stream",
     "text": [
      "Test Result:\n",
      "\n",
      "accuracy score: 0.4762\n",
      "\n",
      "Classification Report: \n",
      "               precision    recall  f1-score   support\n",
      "\n",
      "           0       0.64      0.62      0.63        37\n",
      "           1       0.36      0.25      0.30        16\n",
      "           2       0.19      0.30      0.23        10\n",
      "\n",
      "    accuracy                           0.48        63\n",
      "   macro avg       0.40      0.39      0.39        63\n",
      "weighted avg       0.50      0.48      0.48        63\n",
      "\n",
      "\n",
      "Confusion Matrix: \n",
      " [[23  6  8]\n",
      " [ 7  4  5]\n",
      " [ 6  1  3]]\n",
      "\n"
     ]
    }
   ],
   "source": [
    "print_score(tree, x_train, y_train, x_test, y_test, train=False)"
   ]
  },
  {
   "cell_type": "markdown",
   "metadata": {},
   "source": [
    "# Random forest\n"
   ]
  },
  {
   "cell_type": "code",
   "execution_count": 55,
   "metadata": {},
   "outputs": [],
   "source": [
    "from sklearn.ensemble import RandomForestClassifier"
   ]
  },
  {
   "cell_type": "code",
   "execution_count": 56,
   "metadata": {},
   "outputs": [
    {
     "data": {
      "text/plain": [
       "RandomForestClassifier(n_estimators=10)"
      ]
     },
     "execution_count": 56,
     "metadata": {},
     "output_type": "execute_result"
    }
   ],
   "source": [
    "rf = RandomForestClassifier(n_estimators=10)\n",
    "rf.fit(x_train, y_train)"
   ]
  },
  {
   "cell_type": "code",
   "execution_count": 57,
   "metadata": {},
   "outputs": [
    {
     "name": "stdout",
     "output_type": "stream",
     "text": [
      "Train Result:\n",
      "\n",
      "accuracy score: 0.9679\n",
      "\n",
      "Classification Report: \n",
      "               precision    recall  f1-score   support\n",
      "\n",
      "           0       0.97      0.98      0.98       156\n",
      "           1       0.94      0.94      0.94        52\n",
      "           2       0.97      0.95      0.96        41\n",
      "\n",
      "    accuracy                           0.97       249\n",
      "   macro avg       0.96      0.96      0.96       249\n",
      "weighted avg       0.97      0.97      0.97       249\n",
      "\n",
      "\n",
      "Confusion Matrix: \n",
      " [[153   2   1]\n",
      " [  3  49   0]\n",
      " [  1   1  39]]\n",
      "\n",
      "Average Accuracy: \t 0.5945\n",
      "Accuracy SD: \t\t 0.0509\n",
      "\n",
      "\n",
      "Test Result:\n",
      "\n",
      "accuracy score: 0.4921\n",
      "\n",
      "Classification Report: \n",
      "               precision    recall  f1-score   support\n",
      "\n",
      "           0       0.62      0.68      0.65        37\n",
      "           1       0.31      0.25      0.28        16\n",
      "           2       0.20      0.20      0.20        10\n",
      "\n",
      "    accuracy                           0.49        63\n",
      "   macro avg       0.38      0.38      0.38        63\n",
      "weighted avg       0.48      0.49      0.48        63\n",
      "\n",
      "\n",
      "Confusion Matrix: \n",
      " [[25  7  5]\n",
      " [ 9  4  3]\n",
      " [ 6  2  2]]\n",
      "\n"
     ]
    }
   ],
   "source": [
    "print_score(rf, x_train, y_train, x_test, y_test, train=True)\n",
    "print('\\n')\n",
    "print_score(rf, x_train, y_train, x_test, y_test, train=False)"
   ]
  },
  {
   "cell_type": "markdown",
   "metadata": {},
   "source": [
    "# Neural Network\n"
   ]
  },
  {
   "cell_type": "code",
   "execution_count": 102,
   "metadata": {},
   "outputs": [
    {
     "name": "stdout",
     "output_type": "stream",
     "text": [
      "Model: \"sequential_5\"\n",
      "_________________________________________________________________\n",
      "Layer (type)                 Output Shape              Param #   \n",
      "=================================================================\n",
      "dense_15 (Dense)             (None, 16)                96        \n",
      "_________________________________________________________________\n",
      "dense_16 (Dense)             (None, 16)                272       \n",
      "_________________________________________________________________\n",
      "dense_17 (Dense)             (None, 3)                 51        \n",
      "=================================================================\n",
      "Total params: 419\n",
      "Trainable params: 419\n",
      "Non-trainable params: 0\n",
      "_________________________________________________________________\n"
     ]
    }
   ],
   "source": [
    "# build model\n",
    "import tensorflow.keras as keras\n",
    "from tensorflow.keras.models import Sequential\n",
    "from tensorflow.keras.layers import Dense, Dropout, Activation\n",
    "\n",
    "model = Sequential()\n",
    "model.add(Dense(units=16, activation='relu', input_shape=(5,)))\n",
    "Dropout(0.25)\n",
    "model.add(Dense(units=16, activation='relu'))\n",
    "Dropout(0.25)\n",
    "model.add(Dense(units=3, activation='softmax'))\n",
    "model.summary()\n"
   ]
  },
  {
   "cell_type": "code",
   "execution_count": 76,
   "metadata": {},
   "outputs": [],
   "source": [
    "# x_train, x_val, y_train, y_val = train_test_split(x_train, y_train, test_size=0.25, random_state=42)"
   ]
  },
  {
   "cell_type": "code",
   "execution_count": 77,
   "metadata": {},
   "outputs": [
    {
     "name": "stdout",
     "output_type": "stream",
     "text": [
      "categorical y_train:  (186, 3)\n",
      "categorical y_val :  (63, 3)\n",
      "categorical y_test :  (63, 3)\n"
     ]
    }
   ],
   "source": [
    "# y_train = keras.utils.to_categorical(y_train, 3)\n",
    "# y_val = keras.utils.to_categorical(y_val, 3)\n",
    "# y_test = keras.utils.to_categorical(y_test, 3)\n",
    "# print('categorical y_train: ', y_train.shape)\n",
    "# print('categorical y_val : ', y_val.shape)\n",
    "# print('categorical y_test : ', y_test.shape)"
   ]
  },
  {
   "cell_type": "code",
   "execution_count": 104,
   "metadata": {},
   "outputs": [],
   "source": [
    "from tensorflow.keras.optimizers import SGD\n",
    "# Compile model\n",
    "epochs = 100\n",
    "lr = 0.0001\n",
    "# decay = lr/epochs\n",
    "# sgd = SGD(lr=lr, momentum=0.9, decay=decay, nesterov=False)\n",
    "model.compile(loss='categorical_crossentropy', optimizer=keras.optimizers.SGD(lr=lr), metrics=['accuracy'])"
   ]
  },
  {
   "cell_type": "code",
   "execution_count": 105,
   "metadata": {},
   "outputs": [
    {
     "name": "stdout",
     "output_type": "stream",
     "text": [
      "Epoch 1/100\n",
      "6/6 [==============================] - 1s 90ms/step - loss: 106.5856 - accuracy: 0.2000 - val_loss: 36.6477 - val_accuracy: 0.1429\n",
      "Epoch 2/100\n",
      "6/6 [==============================] - 0s 15ms/step - loss: 55.1880 - accuracy: 0.2560 - val_loss: 23.7516 - val_accuracy: 0.1746\n",
      "Epoch 3/100\n",
      "6/6 [==============================] - 0s 16ms/step - loss: 34.8773 - accuracy: 0.2278 - val_loss: 18.1597 - val_accuracy: 0.1746\n",
      "Epoch 4/100\n",
      "6/6 [==============================] - 0s 15ms/step - loss: 25.4378 - accuracy: 0.3139 - val_loss: 11.7561 - val_accuracy: 0.1905\n",
      "Epoch 5/100\n",
      "6/6 [==============================] - 0s 14ms/step - loss: 19.1707 - accuracy: 0.3757 - val_loss: 8.7423 - val_accuracy: 0.2698\n",
      "Epoch 6/100\n",
      "6/6 [==============================] - 0s 17ms/step - loss: 14.6790 - accuracy: 0.3461 - val_loss: 7.7812 - val_accuracy: 0.3333\n",
      "Epoch 7/100\n",
      "6/6 [==============================] - 0s 17ms/step - loss: 11.2915 - accuracy: 0.4126 - val_loss: 6.9811 - val_accuracy: 0.2540\n",
      "Epoch 8/100\n",
      "6/6 [==============================] - 0s 13ms/step - loss: 10.2222 - accuracy: 0.4266 - val_loss: 6.0161 - val_accuracy: 0.2857\n",
      "Epoch 9/100\n",
      "6/6 [==============================] - 0s 13ms/step - loss: 8.7613 - accuracy: 0.4115 - val_loss: 5.4616 - val_accuracy: 0.3968\n",
      "Epoch 10/100\n",
      "6/6 [==============================] - 0s 16ms/step - loss: 6.5408 - accuracy: 0.4082 - val_loss: 4.7550 - val_accuracy: 0.3968\n",
      "Epoch 11/100\n",
      "6/6 [==============================] - 0s 15ms/step - loss: 5.4428 - accuracy: 0.4365 - val_loss: 4.9794 - val_accuracy: 0.3810\n",
      "Epoch 12/100\n",
      "6/6 [==============================] - 0s 15ms/step - loss: 5.9454 - accuracy: 0.4329 - val_loss: 4.4478 - val_accuracy: 0.4762\n",
      "Epoch 13/100\n",
      "6/6 [==============================] - 0s 15ms/step - loss: 6.5410 - accuracy: 0.4060 - val_loss: 6.0778 - val_accuracy: 0.3968\n",
      "Epoch 14/100\n",
      "6/6 [==============================] - 0s 14ms/step - loss: 6.7199 - accuracy: 0.4238 - val_loss: 4.6603 - val_accuracy: 0.4286\n",
      "Epoch 15/100\n",
      "6/6 [==============================] - 0s 16ms/step - loss: 4.9864 - accuracy: 0.4072 - val_loss: 4.1559 - val_accuracy: 0.4286\n",
      "Epoch 16/100\n",
      "6/6 [==============================] - 0s 16ms/step - loss: 5.7935 - accuracy: 0.3966 - val_loss: 3.9955 - val_accuracy: 0.3968\n",
      "Epoch 17/100\n",
      "6/6 [==============================] - 0s 15ms/step - loss: 4.5375 - accuracy: 0.3963 - val_loss: 4.0194 - val_accuracy: 0.5238\n",
      "Epoch 18/100\n",
      "6/6 [==============================] - 0s 14ms/step - loss: 5.2172 - accuracy: 0.4748 - val_loss: 3.8320 - val_accuracy: 0.4286\n",
      "Epoch 19/100\n",
      "6/6 [==============================] - 0s 14ms/step - loss: 4.7179 - accuracy: 0.4050 - val_loss: 3.7352 - val_accuracy: 0.4444\n",
      "Epoch 20/100\n",
      "6/6 [==============================] - 0s 14ms/step - loss: 4.7815 - accuracy: 0.4653 - val_loss: 5.1873 - val_accuracy: 0.4286\n",
      "Epoch 21/100\n",
      "6/6 [==============================] - 0s 15ms/step - loss: 4.4918 - accuracy: 0.4711 - val_loss: 3.8949 - val_accuracy: 0.5079\n",
      "Epoch 22/100\n",
      "6/6 [==============================] - 0s 15ms/step - loss: 4.1872 - accuracy: 0.4929 - val_loss: 4.1354 - val_accuracy: 0.3651\n",
      "Epoch 23/100\n",
      "6/6 [==============================] - 0s 16ms/step - loss: 3.6615 - accuracy: 0.4193 - val_loss: 4.3383 - val_accuracy: 0.4286\n",
      "Epoch 24/100\n",
      "6/6 [==============================] - 0s 14ms/step - loss: 3.8373 - accuracy: 0.4180 - val_loss: 2.9915 - val_accuracy: 0.4444\n",
      "Epoch 25/100\n",
      "6/6 [==============================] - 0s 14ms/step - loss: 3.7534 - accuracy: 0.4274 - val_loss: 3.0213 - val_accuracy: 0.4127\n",
      "Epoch 26/100\n",
      "6/6 [==============================] - 0s 14ms/step - loss: 3.7015 - accuracy: 0.5057 - val_loss: 3.3116 - val_accuracy: 0.3968\n",
      "Epoch 27/100\n",
      "6/6 [==============================] - 0s 16ms/step - loss: 4.2422 - accuracy: 0.4360 - val_loss: 2.8046 - val_accuracy: 0.4127\n",
      "Epoch 28/100\n",
      "6/6 [==============================] - 0s 16ms/step - loss: 3.5904 - accuracy: 0.4850 - val_loss: 2.6950 - val_accuracy: 0.4762\n",
      "Epoch 29/100\n",
      "6/6 [==============================] - 0s 14ms/step - loss: 3.5012 - accuracy: 0.4469 - val_loss: 2.5710 - val_accuracy: 0.4603\n",
      "Epoch 30/100\n",
      "6/6 [==============================] - 0s 12ms/step - loss: 3.8260 - accuracy: 0.4576 - val_loss: 2.5608 - val_accuracy: 0.5079\n",
      "Epoch 31/100\n",
      "6/6 [==============================] - 0s 14ms/step - loss: 3.6492 - accuracy: 0.4969 - val_loss: 2.4724 - val_accuracy: 0.4921\n",
      "Epoch 32/100\n",
      "6/6 [==============================] - 0s 15ms/step - loss: 2.4803 - accuracy: 0.5180 - val_loss: 4.9575 - val_accuracy: 0.4286\n",
      "Epoch 33/100\n",
      "6/6 [==============================] - 0s 17ms/step - loss: 3.6639 - accuracy: 0.4705 - val_loss: 2.4321 - val_accuracy: 0.4444\n",
      "Epoch 34/100\n",
      "6/6 [==============================] - 0s 16ms/step - loss: 3.3377 - accuracy: 0.4669 - val_loss: 2.5697 - val_accuracy: 0.4127\n",
      "Epoch 35/100\n",
      "6/6 [==============================] - 0s 16ms/step - loss: 3.5031 - accuracy: 0.4333 - val_loss: 2.5192 - val_accuracy: 0.4127\n",
      "Epoch 36/100\n",
      "6/6 [==============================] - 0s 15ms/step - loss: 3.1537 - accuracy: 0.4231 - val_loss: 2.4819 - val_accuracy: 0.4127\n",
      "Epoch 37/100\n",
      "6/6 [==============================] - 0s 17ms/step - loss: 2.5601 - accuracy: 0.4465 - val_loss: 3.6180 - val_accuracy: 0.4127\n",
      "Epoch 38/100\n",
      "6/6 [==============================] - 0s 16ms/step - loss: 3.1977 - accuracy: 0.4922 - val_loss: 2.2690 - val_accuracy: 0.4762\n",
      "Epoch 39/100\n",
      "6/6 [==============================] - 0s 15ms/step - loss: 3.6155 - accuracy: 0.5034 - val_loss: 2.1719 - val_accuracy: 0.4762\n",
      "Epoch 40/100\n",
      "6/6 [==============================] - 0s 10ms/step - loss: 3.2500 - accuracy: 0.4412 - val_loss: 2.1723 - val_accuracy: 0.4444\n",
      "Epoch 41/100\n",
      "6/6 [==============================] - 0s 14ms/step - loss: 2.2712 - accuracy: 0.4872 - val_loss: 2.6443 - val_accuracy: 0.4127\n",
      "Epoch 42/100\n",
      "6/6 [==============================] - 0s 13ms/step - loss: 2.7151 - accuracy: 0.4434 - val_loss: 2.0641 - val_accuracy: 0.4444\n",
      "Epoch 43/100\n",
      "6/6 [==============================] - 0s 14ms/step - loss: 2.8868 - accuracy: 0.4429 - val_loss: 3.1709 - val_accuracy: 0.3968\n",
      "Epoch 44/100\n",
      "6/6 [==============================] - 0s 14ms/step - loss: 2.9848 - accuracy: 0.4695 - val_loss: 1.9939 - val_accuracy: 0.4762\n",
      "Epoch 45/100\n",
      "6/6 [==============================] - 0s 15ms/step - loss: 3.1499 - accuracy: 0.4874 - val_loss: 2.1383 - val_accuracy: 0.4127\n",
      "Epoch 46/100\n",
      "6/6 [==============================] - 0s 14ms/step - loss: 2.1624 - accuracy: 0.4966 - val_loss: 3.6708 - val_accuracy: 0.4444\n",
      "Epoch 47/100\n",
      "6/6 [==============================] - 0s 16ms/step - loss: 3.3439 - accuracy: 0.4290 - val_loss: 3.6981 - val_accuracy: 0.4603\n",
      "Epoch 48/100\n",
      "6/6 [==============================] - 0s 15ms/step - loss: 3.3782 - accuracy: 0.4548 - val_loss: 3.2349 - val_accuracy: 0.4127\n",
      "Epoch 49/100\n",
      "6/6 [==============================] - 0s 14ms/step - loss: 2.5225 - accuracy: 0.4545 - val_loss: 1.9919 - val_accuracy: 0.5238\n",
      "Epoch 50/100\n",
      "6/6 [==============================] - 0s 13ms/step - loss: 2.6544 - accuracy: 0.5607 - val_loss: 1.8919 - val_accuracy: 0.4286\n",
      "Epoch 51/100\n",
      "6/6 [==============================] - 0s 15ms/step - loss: 2.1959 - accuracy: 0.5095 - val_loss: 2.5668 - val_accuracy: 0.3968\n",
      "Epoch 52/100\n",
      "6/6 [==============================] - 0s 15ms/step - loss: 2.1989 - accuracy: 0.4697 - val_loss: 1.8597 - val_accuracy: 0.3968\n",
      "Epoch 53/100\n",
      "6/6 [==============================] - 0s 15ms/step - loss: 1.8941 - accuracy: 0.5052 - val_loss: 4.3899 - val_accuracy: 0.4603\n",
      "Epoch 54/100\n",
      "6/6 [==============================] - 0s 15ms/step - loss: 5.4031 - accuracy: 0.4334 - val_loss: 1.9661 - val_accuracy: 0.3968\n",
      "Epoch 55/100\n",
      "6/6 [==============================] - 0s 14ms/step - loss: 2.3003 - accuracy: 0.5073 - val_loss: 1.8481 - val_accuracy: 0.4286\n",
      "Epoch 56/100\n",
      "6/6 [==============================] - 0s 16ms/step - loss: 2.6830 - accuracy: 0.5233 - val_loss: 1.9509 - val_accuracy: 0.4127\n",
      "Epoch 57/100\n",
      "6/6 [==============================] - 0s 14ms/step - loss: 2.1152 - accuracy: 0.4785 - val_loss: 2.2144 - val_accuracy: 0.3968\n",
      "Epoch 58/100\n",
      "6/6 [==============================] - 0s 14ms/step - loss: 1.9663 - accuracy: 0.4881 - val_loss: 1.8179 - val_accuracy: 0.5238\n",
      "Epoch 59/100\n"
     ]
    },
    {
     "name": "stdout",
     "output_type": "stream",
     "text": [
      "6/6 [==============================] - 0s 14ms/step - loss: 2.0280 - accuracy: 0.4780 - val_loss: 1.8772 - val_accuracy: 0.4286\n",
      "Epoch 60/100\n",
      "6/6 [==============================] - 0s 16ms/step - loss: 2.3097 - accuracy: 0.4187 - val_loss: 1.8500 - val_accuracy: 0.4444\n",
      "Epoch 61/100\n",
      "6/6 [==============================] - 0s 16ms/step - loss: 1.9444 - accuracy: 0.4810 - val_loss: 1.8363 - val_accuracy: 0.5079\n",
      "Epoch 62/100\n",
      "6/6 [==============================] - 0s 16ms/step - loss: 2.0020 - accuracy: 0.5277 - val_loss: 1.7938 - val_accuracy: 0.4127\n",
      "Epoch 63/100\n",
      "6/6 [==============================] - 0s 14ms/step - loss: 2.0092 - accuracy: 0.5035 - val_loss: 2.2163 - val_accuracy: 0.3968\n",
      "Epoch 64/100\n",
      "6/6 [==============================] - 0s 14ms/step - loss: 2.4344 - accuracy: 0.4805 - val_loss: 1.7300 - val_accuracy: 0.4762\n",
      "Epoch 65/100\n",
      "6/6 [==============================] - 0s 16ms/step - loss: 1.9722 - accuracy: 0.5113 - val_loss: 1.7458 - val_accuracy: 0.4127\n",
      "Epoch 66/100\n",
      "6/6 [==============================] - 0s 16ms/step - loss: 2.2077 - accuracy: 0.5486 - val_loss: 1.7112 - val_accuracy: 0.4127\n",
      "Epoch 67/100\n",
      "6/6 [==============================] - 0s 16ms/step - loss: 1.7591 - accuracy: 0.4844 - val_loss: 1.7549 - val_accuracy: 0.5397\n",
      "Epoch 68/100\n",
      "6/6 [==============================] - 0s 15ms/step - loss: 2.2839 - accuracy: 0.5376 - val_loss: 1.5876 - val_accuracy: 0.4444\n",
      "Epoch 69/100\n",
      "6/6 [==============================] - 0s 16ms/step - loss: 1.8362 - accuracy: 0.5240 - val_loss: 1.5557 - val_accuracy: 0.4444\n",
      "Epoch 70/100\n",
      "6/6 [==============================] - 0s 13ms/step - loss: 2.0714 - accuracy: 0.5217 - val_loss: 2.9773 - val_accuracy: 0.4127\n",
      "Epoch 71/100\n",
      "6/6 [==============================] - 0s 15ms/step - loss: 1.8666 - accuracy: 0.5238 - val_loss: 1.2972 - val_accuracy: 0.5714\n",
      "Epoch 72/100\n",
      "6/6 [==============================] - 0s 16ms/step - loss: 1.7706 - accuracy: 0.5960 - val_loss: 2.1752 - val_accuracy: 0.3651\n",
      "Epoch 73/100\n",
      "6/6 [==============================] - 0s 15ms/step - loss: 1.8486 - accuracy: 0.5107 - val_loss: 1.7762 - val_accuracy: 0.4127\n",
      "Epoch 74/100\n",
      "6/6 [==============================] - 0s 16ms/step - loss: 1.9554 - accuracy: 0.5273 - val_loss: 1.6947 - val_accuracy: 0.4444\n",
      "Epoch 75/100\n",
      "6/6 [==============================] - 0s 16ms/step - loss: 1.5532 - accuracy: 0.5095 - val_loss: 1.7882 - val_accuracy: 0.4762\n",
      "Epoch 76/100\n",
      "6/6 [==============================] - 0s 15ms/step - loss: 1.9139 - accuracy: 0.5578 - val_loss: 1.6618 - val_accuracy: 0.4762\n",
      "Epoch 77/100\n",
      "6/6 [==============================] - 0s 16ms/step - loss: 1.5663 - accuracy: 0.4974 - val_loss: 1.5875 - val_accuracy: 0.5079\n",
      "Epoch 78/100\n",
      "6/6 [==============================] - 0s 15ms/step - loss: 1.9328 - accuracy: 0.5099 - val_loss: 1.5962 - val_accuracy: 0.5238\n",
      "Epoch 79/100\n",
      "6/6 [==============================] - 0s 16ms/step - loss: 1.5419 - accuracy: 0.5650 - val_loss: 1.6063 - val_accuracy: 0.4921\n",
      "Epoch 80/100\n",
      "6/6 [==============================] - 0s 13ms/step - loss: 1.8083 - accuracy: 0.5314 - val_loss: 1.8956 - val_accuracy: 0.3968\n",
      "Epoch 81/100\n",
      "6/6 [==============================] - 0s 16ms/step - loss: 2.0367 - accuracy: 0.5358 - val_loss: 2.3289 - val_accuracy: 0.3651\n",
      "Epoch 82/100\n",
      "6/6 [==============================] - 0s 15ms/step - loss: 2.3520 - accuracy: 0.4236 - val_loss: 1.7789 - val_accuracy: 0.4444\n",
      "Epoch 83/100\n",
      "6/6 [==============================] - 0s 16ms/step - loss: 1.5024 - accuracy: 0.5101 - val_loss: 1.5105 - val_accuracy: 0.4921\n",
      "Epoch 84/100\n",
      "6/6 [==============================] - 0s 15ms/step - loss: 1.4902 - accuracy: 0.5139 - val_loss: 1.6256 - val_accuracy: 0.4286\n",
      "Epoch 85/100\n",
      "6/6 [==============================] - 0s 14ms/step - loss: 1.3821 - accuracy: 0.5498 - val_loss: 1.7529 - val_accuracy: 0.5079\n",
      "Epoch 86/100\n",
      "6/6 [==============================] - 0s 15ms/step - loss: 2.0827 - accuracy: 0.5452 - val_loss: 1.4761 - val_accuracy: 0.4762\n",
      "Epoch 87/100\n",
      "6/6 [==============================] - 0s 16ms/step - loss: 1.4969 - accuracy: 0.5185 - val_loss: 1.7815 - val_accuracy: 0.4286\n",
      "Epoch 88/100\n",
      "6/6 [==============================] - 0s 17ms/step - loss: 1.6175 - accuracy: 0.4994 - val_loss: 1.5972 - val_accuracy: 0.5714\n",
      "Epoch 89/100\n",
      "6/6 [==============================] - 0s 16ms/step - loss: 1.8307 - accuracy: 0.5600 - val_loss: 1.5149 - val_accuracy: 0.4762\n",
      "Epoch 90/100\n",
      "6/6 [==============================] - 0s 14ms/step - loss: 1.4210 - accuracy: 0.5394 - val_loss: 1.3177 - val_accuracy: 0.5873\n",
      "Epoch 91/100\n",
      "6/6 [==============================] - 0s 15ms/step - loss: 1.7928 - accuracy: 0.5695 - val_loss: 1.5343 - val_accuracy: 0.5714\n",
      "Epoch 92/100\n",
      "6/6 [==============================] - 0s 14ms/step - loss: 1.7656 - accuracy: 0.5463 - val_loss: 1.9002 - val_accuracy: 0.4286\n",
      "Epoch 93/100\n",
      "6/6 [==============================] - 0s 16ms/step - loss: 1.7567 - accuracy: 0.5502 - val_loss: 1.2982 - val_accuracy: 0.5714\n",
      "Epoch 94/100\n",
      "6/6 [==============================] - 0s 20ms/step - loss: 1.1802 - accuracy: 0.6234 - val_loss: 1.6269 - val_accuracy: 0.6667\n",
      "Epoch 95/100\n",
      "6/6 [==============================] - 0s 14ms/step - loss: 3.8728 - accuracy: 0.5320 - val_loss: 1.5920 - val_accuracy: 0.5556\n",
      "Epoch 96/100\n",
      "6/6 [==============================] - 0s 14ms/step - loss: 1.7388 - accuracy: 0.6013 - val_loss: 1.8519 - val_accuracy: 0.4444\n",
      "Epoch 97/100\n",
      "6/6 [==============================] - 0s 16ms/step - loss: 2.2456 - accuracy: 0.4854 - val_loss: 1.9570 - val_accuracy: 0.4603\n",
      "Epoch 98/100\n",
      "6/6 [==============================] - 0s 15ms/step - loss: 1.7647 - accuracy: 0.4994 - val_loss: 1.5239 - val_accuracy: 0.4921\n",
      "Epoch 99/100\n",
      "6/6 [==============================] - 0s 16ms/step - loss: 1.9084 - accuracy: 0.5309 - val_loss: 1.4792 - val_accuracy: 0.5238\n",
      "Epoch 100/100\n",
      "6/6 [==============================] - 0s 15ms/step - loss: 1.7313 - accuracy: 0.5880 - val_loss: 1.5443 - val_accuracy: 0.5238\n"
     ]
    }
   ],
   "source": [
    "history = model.fit(x_train, y_train,\n",
    "                    batch_size=32,\n",
    "                    epochs=epochs,\n",
    "                    verbose=True,\n",
    "                    validation_data=(x_val, y_val))"
   ]
  },
  {
   "cell_type": "code",
   "execution_count": 96,
   "metadata": {},
   "outputs": [
    {
     "name": "stdout",
     "output_type": "stream",
     "text": [
      "Saved model to disk\n"
     ]
    }
   ],
   "source": [
    "# save model as json\n",
    "model_json = model.to_json()\n",
    "with open(\"model.json\", \"w\") as json_file:\n",
    "    json_file.write(model_json)\n",
    "\n",
    "model.save_weights(\"model.h5\")\n",
    "print(\"Saved model to disk\")"
   ]
  },
  {
   "cell_type": "code",
   "execution_count": 106,
   "metadata": {},
   "outputs": [
    {
     "name": "stdout",
     "output_type": "stream",
     "text": [
      "dict_keys(['loss', 'accuracy', 'val_loss', 'val_accuracy'])\n"
     ]
    },
    {
     "data": {
      "image/png": "[encoded data removed]",
      "text/plain": [
       "<Figure size 432x288 with 1 Axes>"
      ]
     },
     "metadata": {
      "needs_background": "light"
     },
     "output_type": "display_data"
    },
    {
     "data": {
      "image/png": "[encoded data removed]",
      "text/plain": [
       "<Figure size 432x288 with 1 Axes>"
      ]
     },
     "metadata": {
      "needs_background": "light"
     },
     "output_type": "display_data"
    }
   ],
   "source": [
    "print(history.history.keys())\n",
    "# summarize history for accuracy\n",
    "plt.plot(history.history['accuracy'], marker = \"*\")\n",
    "plt.plot(history.history['val_accuracy'], marker = \"*\")\n",
    "plt.title('model accuracy')\n",
    "plt.ylabel('accuracy')\n",
    "plt.xlabel('epoch')\n",
    "plt.legend(['train', 'val'], loc='upper left')\n",
    "plt.show()\n",
    "\n",
    "# summarize history for loss\n",
    "plt.plot(history.history['loss'], marker = \"*\")\n",
    "plt.plot(history.history['val_loss'], marker = \"*\")\n",
    "plt.title('model loss')\n",
    "plt.ylabel('loss')\n",
    "plt.xlabel('epoch')\n",
    "plt.legend(['train', 'val'], loc='upper left')\n",
    "plt.show()"
   ]
  },
  {
   "cell_type": "code",
   "execution_count": 107,
   "metadata": {},
   "outputs": [
    {
     "name": "stdout",
     "output_type": "stream",
     "text": [
      "2/2 [==============================] - 0s 9ms/step - loss: 2.2158 - accuracy: 0.5397\n",
      "Test loss: 2.2158308029174805\n",
      "Test accuracy: 0.5396825671195984\n"
     ]
    }
   ],
   "source": [
    "score = model.evaluate(x_test, y_test, verbose=True)\n",
    "print('Test loss:', score[0])\n",
    "print('Test accuracy:', score[1])"
   ]
  },
  {
   "cell_type": "code",
   "execution_count": 14,
   "metadata": {},
   "outputs": [
    {
     "name": "stdout",
     "output_type": "stream",
     "text": [
      "[[ True  True]]\n"
     ]
    }
   ],
   "source": [
    "result = model.predict(x_test[100].reshape((1,30)))\n",
    "print(result.round(1)==y_test[100])"
   ]
  },
  {
   "cell_type": "code",
   "execution_count": null,
   "metadata": {},
   "outputs": [],
   "source": []
  }
 ],
 "metadata": {
  "kernelspec": {
   "display_name": "Python 3",
   "language": "python",
   "name": "python3"
  },
  "language_info": {
   "codemirror_mode": {
    "name": "ipython",
    "version": 3
   },
   "file_extension": ".py",
   "mimetype": "text/x-python",
   "name": "python",
   "nbconvert_exporter": "python",
   "pygments_lexer": "ipython3",
   "version": "3.8.5"
  }
 },
 "nbformat": 4,
 "nbformat_minor": 4
}
