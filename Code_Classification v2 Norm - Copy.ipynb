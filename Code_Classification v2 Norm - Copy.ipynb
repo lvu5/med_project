{
 "cells": [
  {
   "cell_type": "code",
   "execution_count": 204,
   "metadata": {},
   "outputs": [],
   "source": [
    "import sklearn\n",
    "from sklearn.datasets import load_breast_cancer\n",
    "from sklearn.model_selection import train_test_split\n",
    "from sklearn.neighbors import KNeighborsClassifier\n",
    "import numpy as np\n",
    "from sklearn.metrics import accuracy_score\n",
    "import matplotlib.pyplot as plt\n",
    "from sklearn.metrics import roc_curve, auc\n",
    "from sklearn.model_selection import cross_validate"
   ]
  },
  {
   "cell_type": "code",
   "execution_count": 205,
   "metadata": {},
   "outputs": [],
   "source": [
    "# data = load_breast_cancer()\n",
    "# x = data.data\n",
    "# y = data.target"
   ]
  },
  {
   "cell_type": "code",
   "execution_count": 206,
   "metadata": {},
   "outputs": [
    {
     "data": {
      "text/html": [
       "<div>\n",
       "<style scoped>\n",
       "    .dataframe tbody tr th:only-of-type {\n",
       "        vertical-align: middle;\n",
       "    }\n",
       "\n",
       "    .dataframe tbody tr th {\n",
       "        vertical-align: top;\n",
       "    }\n",
       "\n",
       "    .dataframe thead th {\n",
       "        text-align: right;\n",
       "    }\n",
       "</style>\n",
       "<table border=\"1\" class=\"dataframe\">\n",
       "  <thead>\n",
       "    <tr style=\"text-align: right;\">\n",
       "      <th></th>\n",
       "      <th>ID</th>\n",
       "      <th>background_tissue</th>\n",
       "      <th>class</th>\n",
       "      <th>severity</th>\n",
       "      <th>x</th>\n",
       "      <th>y</th>\n",
       "      <th>rad</th>\n",
       "      <th>mean</th>\n",
       "      <th>var</th>\n",
       "      <th>std</th>\n",
       "      <th>...</th>\n",
       "      <th>80</th>\n",
       "      <th>81</th>\n",
       "      <th>82</th>\n",
       "      <th>83</th>\n",
       "      <th>84</th>\n",
       "      <th>85</th>\n",
       "      <th>86</th>\n",
       "      <th>87</th>\n",
       "      <th>88</th>\n",
       "      <th>89</th>\n",
       "    </tr>\n",
       "  </thead>\n",
       "  <tbody>\n",
       "    <tr>\n",
       "      <th>302</th>\n",
       "      <td>mdb318</td>\n",
       "      <td>D</td>\n",
       "      <td>NORM</td>\n",
       "      <td>2</td>\n",
       "      <td>442</td>\n",
       "      <td>68</td>\n",
       "      <td>50.0</td>\n",
       "      <td>14.033015</td>\n",
       "      <td>0.505857</td>\n",
       "      <td>0.711236</td>\n",
       "      <td>...</td>\n",
       "      <td>0.005631</td>\n",
       "      <td>0.005673</td>\n",
       "      <td>0.005622</td>\n",
       "      <td>0.005519</td>\n",
       "      <td>0.005574</td>\n",
       "      <td>0.005585</td>\n",
       "      <td>0.005657</td>\n",
       "      <td>0.005522</td>\n",
       "      <td>0.005617</td>\n",
       "      <td>0.005573</td>\n",
       "    </tr>\n",
       "    <tr>\n",
       "      <th>303</th>\n",
       "      <td>mdb319</td>\n",
       "      <td>D</td>\n",
       "      <td>NORM</td>\n",
       "      <td>2</td>\n",
       "      <td>590</td>\n",
       "      <td>281</td>\n",
       "      <td>50.0</td>\n",
       "      <td>145.912938</td>\n",
       "      <td>28.130725</td>\n",
       "      <td>5.303841</td>\n",
       "      <td>...</td>\n",
       "      <td>0.057100</td>\n",
       "      <td>0.056467</td>\n",
       "      <td>0.057069</td>\n",
       "      <td>0.055745</td>\n",
       "      <td>0.056172</td>\n",
       "      <td>0.057144</td>\n",
       "      <td>0.057615</td>\n",
       "      <td>0.062998</td>\n",
       "      <td>0.055317</td>\n",
       "      <td>0.056784</td>\n",
       "    </tr>\n",
       "    <tr>\n",
       "      <th>304</th>\n",
       "      <td>mdb320</td>\n",
       "      <td>D</td>\n",
       "      <td>NORM</td>\n",
       "      <td>2</td>\n",
       "      <td>495</td>\n",
       "      <td>264</td>\n",
       "      <td>50.0</td>\n",
       "      <td>195.578840</td>\n",
       "      <td>470.810515</td>\n",
       "      <td>21.698168</td>\n",
       "      <td>...</td>\n",
       "      <td>0.086635</td>\n",
       "      <td>0.090627</td>\n",
       "      <td>0.078840</td>\n",
       "      <td>0.089521</td>\n",
       "      <td>0.072025</td>\n",
       "      <td>0.071708</td>\n",
       "      <td>0.072373</td>\n",
       "      <td>0.084510</td>\n",
       "      <td>0.090469</td>\n",
       "      <td>0.090238</td>\n",
       "    </tr>\n",
       "    <tr>\n",
       "      <th>305</th>\n",
       "      <td>mdb321</td>\n",
       "      <td>D</td>\n",
       "      <td>NORM</td>\n",
       "      <td>2</td>\n",
       "      <td>604</td>\n",
       "      <td>271</td>\n",
       "      <td>50.0</td>\n",
       "      <td>177.764946</td>\n",
       "      <td>30.464061</td>\n",
       "      <td>5.519426</td>\n",
       "      <td>...</td>\n",
       "      <td>0.071060</td>\n",
       "      <td>0.066745</td>\n",
       "      <td>0.070574</td>\n",
       "      <td>0.076844</td>\n",
       "      <td>0.071334</td>\n",
       "      <td>0.068290</td>\n",
       "      <td>0.067408</td>\n",
       "      <td>0.066900</td>\n",
       "      <td>0.066901</td>\n",
       "      <td>0.070000</td>\n",
       "    </tr>\n",
       "    <tr>\n",
       "      <th>306</th>\n",
       "      <td>mdb322</td>\n",
       "      <td>D</td>\n",
       "      <td>NORM</td>\n",
       "      <td>2</td>\n",
       "      <td>460</td>\n",
       "      <td>115</td>\n",
       "      <td>50.0</td>\n",
       "      <td>8.994009</td>\n",
       "      <td>7.767332</td>\n",
       "      <td>2.786993</td>\n",
       "      <td>...</td>\n",
       "      <td>0.007118</td>\n",
       "      <td>0.003161</td>\n",
       "      <td>0.002935</td>\n",
       "      <td>0.003165</td>\n",
       "      <td>0.005478</td>\n",
       "      <td>0.006992</td>\n",
       "      <td>0.005488</td>\n",
       "      <td>0.006882</td>\n",
       "      <td>0.003087</td>\n",
       "      <td>0.003116</td>\n",
       "    </tr>\n",
       "  </tbody>\n",
       "</table>\n",
       "<p>5 rows × 112 columns</p>\n",
       "</div>"
      ],
      "text/plain": [
       "         ID background_tissue class  severity    x    y   rad        mean  \\\n",
       "302  mdb318                 D  NORM         2  442   68  50.0   14.033015   \n",
       "303  mdb319                 D  NORM         2  590  281  50.0  145.912938   \n",
       "304  mdb320                 D  NORM         2  495  264  50.0  195.578840   \n",
       "305  mdb321                 D  NORM         2  604  271  50.0  177.764946   \n",
       "306  mdb322                 D  NORM         2  460  115  50.0    8.994009   \n",
       "\n",
       "            var        std  ...        80        81        82        83  \\\n",
       "302    0.505857   0.711236  ...  0.005631  0.005673  0.005622  0.005519   \n",
       "303   28.130725   5.303841  ...  0.057100  0.056467  0.057069  0.055745   \n",
       "304  470.810515  21.698168  ...  0.086635  0.090627  0.078840  0.089521   \n",
       "305   30.464061   5.519426  ...  0.071060  0.066745  0.070574  0.076844   \n",
       "306    7.767332   2.786993  ...  0.007118  0.003161  0.002935  0.003165   \n",
       "\n",
       "           84        85        86        87        88        89  \n",
       "302  0.005574  0.005585  0.005657  0.005522  0.005617  0.005573  \n",
       "303  0.056172  0.057144  0.057615  0.062998  0.055317  0.056784  \n",
       "304  0.072025  0.071708  0.072373  0.084510  0.090469  0.090238  \n",
       "305  0.071334  0.068290  0.067408  0.066900  0.066901  0.070000  \n",
       "306  0.005478  0.006992  0.005488  0.006882  0.003087  0.003116  \n",
       "\n",
       "[5 rows x 112 columns]"
      ]
     },
     "execution_count": 206,
     "metadata": {},
     "output_type": "execute_result"
    }
   ],
   "source": [
    "import pandas as pd\n",
    "data = pd.read_csv('pleaseFinal/final_with_wavelets.csv', index_col=0)\n",
    "data.tail()"
   ]
  },
  {
   "cell_type": "code",
   "execution_count": 207,
   "metadata": {},
   "outputs": [],
   "source": [
    "x = data.loc[:,'mean':]\n",
    "y = data['severity']"
   ]
  },
  {
   "cell_type": "code",
   "execution_count": 156,
   "metadata": {},
   "outputs": [
    {
     "data": {
      "text/plain": [
       "[235.79521708846062,\n",
       " 9077.42759925985,\n",
       " 95.27553515598773,\n",
       " 214.0,\n",
       " 242.0,\n",
       " 0.9554140127388534]"
      ]
     },
     "execution_count": 156,
     "metadata": {},
     "output_type": "execute_result"
    }
   ],
   "source": [
    "max_list = [max(x.iloc[:,i]) for i in range(6)]\n",
    "max_list"
   ]
  },
  {
   "cell_type": "code",
   "execution_count": 157,
   "metadata": {},
   "outputs": [],
   "source": [
    "#Normalize data\n",
    "for i in range(6):\n",
    "    for j in range(len(x)):\n",
    "        x.iloc[j,i] = x.iloc[j,i]/max_list[i]"
   ]
  },
  {
   "cell_type": "code",
   "execution_count": 158,
   "metadata": {},
   "outputs": [
    {
     "data": {
      "text/html": [
       "<div>\n",
       "<style scoped>\n",
       "    .dataframe tbody tr th:only-of-type {\n",
       "        vertical-align: middle;\n",
       "    }\n",
       "\n",
       "    .dataframe tbody tr th {\n",
       "        vertical-align: top;\n",
       "    }\n",
       "\n",
       "    .dataframe thead th {\n",
       "        text-align: right;\n",
       "    }\n",
       "</style>\n",
       "<table border=\"1\" class=\"dataframe\">\n",
       "  <thead>\n",
       "    <tr style=\"text-align: right;\">\n",
       "      <th></th>\n",
       "      <th>mean</th>\n",
       "      <th>var</th>\n",
       "      <th>std</th>\n",
       "      <th>min_pixel</th>\n",
       "      <th>max_pixel</th>\n",
       "      <th>bdips</th>\n",
       "      <th>mean_canny</th>\n",
       "      <th>var_canny</th>\n",
       "      <th>std_canny</th>\n",
       "      <th>mean_erode</th>\n",
       "      <th>...</th>\n",
       "      <th>80</th>\n",
       "      <th>81</th>\n",
       "      <th>82</th>\n",
       "      <th>83</th>\n",
       "      <th>84</th>\n",
       "      <th>85</th>\n",
       "      <th>86</th>\n",
       "      <th>87</th>\n",
       "      <th>88</th>\n",
       "      <th>89</th>\n",
       "    </tr>\n",
       "  </thead>\n",
       "  <tbody>\n",
       "    <tr>\n",
       "      <th>0</th>\n",
       "      <td>0.639458</td>\n",
       "      <td>0.353129</td>\n",
       "      <td>0.594247</td>\n",
       "      <td>0.023364</td>\n",
       "      <td>0.913223</td>\n",
       "      <td>0.000007</td>\n",
       "      <td>68.343054</td>\n",
       "      <td>12756.705742</td>\n",
       "      <td>112.945588</td>\n",
       "      <td>145.328215</td>\n",
       "      <td>...</td>\n",
       "      <td>0.077495</td>\n",
       "      <td>0.057131</td>\n",
       "      <td>0.000132</td>\n",
       "      <td>0.047860</td>\n",
       "      <td>0.047598</td>\n",
       "      <td>0.047088</td>\n",
       "      <td>0.047985</td>\n",
       "      <td>0.026360</td>\n",
       "      <td>0.048619</td>\n",
       "      <td>0.055781</td>\n",
       "    </tr>\n",
       "    <tr>\n",
       "      <th>1</th>\n",
       "      <td>0.839164</td>\n",
       "      <td>0.084224</td>\n",
       "      <td>0.290214</td>\n",
       "      <td>0.350467</td>\n",
       "      <td>0.946281</td>\n",
       "      <td>0.000058</td>\n",
       "      <td>52.692153</td>\n",
       "      <td>10660.036075</td>\n",
       "      <td>103.247451</td>\n",
       "      <td>193.119138</td>\n",
       "      <td>...</td>\n",
       "      <td>0.086103</td>\n",
       "      <td>0.076059</td>\n",
       "      <td>0.075255</td>\n",
       "      <td>0.083965</td>\n",
       "      <td>0.086875</td>\n",
       "      <td>0.086078</td>\n",
       "      <td>0.074783</td>\n",
       "      <td>0.070293</td>\n",
       "      <td>0.085699</td>\n",
       "      <td>0.085855</td>\n",
       "    </tr>\n",
       "    <tr>\n",
       "      <th>2</th>\n",
       "      <td>0.634470</td>\n",
       "      <td>0.045081</td>\n",
       "      <td>0.212324</td>\n",
       "      <td>0.392523</td>\n",
       "      <td>0.772727</td>\n",
       "      <td>0.000091</td>\n",
       "      <td>78.099965</td>\n",
       "      <td>13815.886498</td>\n",
       "      <td>117.540999</td>\n",
       "      <td>142.003899</td>\n",
       "      <td>...</td>\n",
       "      <td>0.035906</td>\n",
       "      <td>0.038000</td>\n",
       "      <td>0.039495</td>\n",
       "      <td>0.037046</td>\n",
       "      <td>0.035816</td>\n",
       "      <td>0.037235</td>\n",
       "      <td>0.054409</td>\n",
       "      <td>0.064430</td>\n",
       "      <td>0.037220</td>\n",
       "      <td>0.053017</td>\n",
       "    </tr>\n",
       "    <tr>\n",
       "      <th>3</th>\n",
       "      <td>0.688844</td>\n",
       "      <td>0.008833</td>\n",
       "      <td>0.093983</td>\n",
       "      <td>0.598131</td>\n",
       "      <td>0.747934</td>\n",
       "      <td>0.000605</td>\n",
       "      <td>75.261669</td>\n",
       "      <td>13527.406777</td>\n",
       "      <td>116.307381</td>\n",
       "      <td>156.487977</td>\n",
       "      <td>...</td>\n",
       "      <td>0.061391</td>\n",
       "      <td>0.052185</td>\n",
       "      <td>0.068811</td>\n",
       "      <td>0.053869</td>\n",
       "      <td>0.055789</td>\n",
       "      <td>0.062539</td>\n",
       "      <td>0.069416</td>\n",
       "      <td>0.051520</td>\n",
       "      <td>0.068235</td>\n",
       "      <td>0.068537</td>\n",
       "    </tr>\n",
       "    <tr>\n",
       "      <th>4</th>\n",
       "      <td>0.781972</td>\n",
       "      <td>0.014001</td>\n",
       "      <td>0.118325</td>\n",
       "      <td>0.724299</td>\n",
       "      <td>0.859504</td>\n",
       "      <td>0.000300</td>\n",
       "      <td>82.057788</td>\n",
       "      <td>14191.255387</td>\n",
       "      <td>119.127056</td>\n",
       "      <td>178.766207</td>\n",
       "      <td>...</td>\n",
       "      <td>0.064772</td>\n",
       "      <td>0.064836</td>\n",
       "      <td>0.065186</td>\n",
       "      <td>0.063458</td>\n",
       "      <td>0.065509</td>\n",
       "      <td>0.065687</td>\n",
       "      <td>0.066656</td>\n",
       "      <td>0.068120</td>\n",
       "      <td>0.064197</td>\n",
       "      <td>0.064024</td>\n",
       "    </tr>\n",
       "    <tr>\n",
       "      <th>...</th>\n",
       "      <td>...</td>\n",
       "      <td>...</td>\n",
       "      <td>...</td>\n",
       "      <td>...</td>\n",
       "      <td>...</td>\n",
       "      <td>...</td>\n",
       "      <td>...</td>\n",
       "      <td>...</td>\n",
       "      <td>...</td>\n",
       "      <td>...</td>\n",
       "      <td>...</td>\n",
       "      <td>...</td>\n",
       "      <td>...</td>\n",
       "      <td>...</td>\n",
       "      <td>...</td>\n",
       "      <td>...</td>\n",
       "      <td>...</td>\n",
       "      <td>...</td>\n",
       "      <td>...</td>\n",
       "      <td>...</td>\n",
       "      <td>...</td>\n",
       "    </tr>\n",
       "    <tr>\n",
       "      <th>302</th>\n",
       "      <td>0.059514</td>\n",
       "      <td>0.000056</td>\n",
       "      <td>0.007465</td>\n",
       "      <td>0.051402</td>\n",
       "      <td>0.144628</td>\n",
       "      <td>0.000670</td>\n",
       "      <td>0.585086</td>\n",
       "      <td>148.854615</td>\n",
       "      <td>12.200599</td>\n",
       "      <td>13.095857</td>\n",
       "      <td>...</td>\n",
       "      <td>0.005631</td>\n",
       "      <td>0.005673</td>\n",
       "      <td>0.005622</td>\n",
       "      <td>0.005519</td>\n",
       "      <td>0.005574</td>\n",
       "      <td>0.005585</td>\n",
       "      <td>0.005657</td>\n",
       "      <td>0.005522</td>\n",
       "      <td>0.005617</td>\n",
       "      <td>0.005573</td>\n",
       "    </tr>\n",
       "    <tr>\n",
       "      <th>303</th>\n",
       "      <td>0.618812</td>\n",
       "      <td>0.003099</td>\n",
       "      <td>0.055668</td>\n",
       "      <td>0.607477</td>\n",
       "      <td>0.694215</td>\n",
       "      <td>0.000120</td>\n",
       "      <td>80.319312</td>\n",
       "      <td>14030.232648</td>\n",
       "      <td>118.449283</td>\n",
       "      <td>141.277884</td>\n",
       "      <td>...</td>\n",
       "      <td>0.057100</td>\n",
       "      <td>0.056467</td>\n",
       "      <td>0.057069</td>\n",
       "      <td>0.055745</td>\n",
       "      <td>0.056172</td>\n",
       "      <td>0.057144</td>\n",
       "      <td>0.057615</td>\n",
       "      <td>0.062998</td>\n",
       "      <td>0.055317</td>\n",
       "      <td>0.056784</td>\n",
       "    </tr>\n",
       "    <tr>\n",
       "      <th>304</th>\n",
       "      <td>0.829444</td>\n",
       "      <td>0.051866</td>\n",
       "      <td>0.227741</td>\n",
       "      <td>0.682243</td>\n",
       "      <td>0.938017</td>\n",
       "      <td>0.000004</td>\n",
       "      <td>60.491396</td>\n",
       "      <td>11766.096962</td>\n",
       "      <td>108.471641</td>\n",
       "      <td>190.905163</td>\n",
       "      <td>...</td>\n",
       "      <td>0.086635</td>\n",
       "      <td>0.090627</td>\n",
       "      <td>0.078840</td>\n",
       "      <td>0.089521</td>\n",
       "      <td>0.072025</td>\n",
       "      <td>0.071708</td>\n",
       "      <td>0.072373</td>\n",
       "      <td>0.084510</td>\n",
       "      <td>0.090469</td>\n",
       "      <td>0.090238</td>\n",
       "    </tr>\n",
       "    <tr>\n",
       "      <th>305</th>\n",
       "      <td>0.753895</td>\n",
       "      <td>0.003356</td>\n",
       "      <td>0.057931</td>\n",
       "      <td>0.761682</td>\n",
       "      <td>0.822314</td>\n",
       "      <td>0.000027</td>\n",
       "      <td>79.701721</td>\n",
       "      <td>13971.574509</td>\n",
       "      <td>118.201415</td>\n",
       "      <td>173.387763</td>\n",
       "      <td>...</td>\n",
       "      <td>0.071060</td>\n",
       "      <td>0.066745</td>\n",
       "      <td>0.070574</td>\n",
       "      <td>0.076844</td>\n",
       "      <td>0.071334</td>\n",
       "      <td>0.068290</td>\n",
       "      <td>0.067408</td>\n",
       "      <td>0.066900</td>\n",
       "      <td>0.066901</td>\n",
       "      <td>0.070000</td>\n",
       "    </tr>\n",
       "    <tr>\n",
       "      <th>306</th>\n",
       "      <td>0.038143</td>\n",
       "      <td>0.000856</td>\n",
       "      <td>0.029252</td>\n",
       "      <td>0.028037</td>\n",
       "      <td>0.099174</td>\n",
       "      <td>0.000822</td>\n",
       "      <td>0.455067</td>\n",
       "      <td>115.834979</td>\n",
       "      <td>10.762666</td>\n",
       "      <td>8.040153</td>\n",
       "      <td>...</td>\n",
       "      <td>0.007118</td>\n",
       "      <td>0.003161</td>\n",
       "      <td>0.002935</td>\n",
       "      <td>0.003165</td>\n",
       "      <td>0.005478</td>\n",
       "      <td>0.006992</td>\n",
       "      <td>0.005488</td>\n",
       "      <td>0.006882</td>\n",
       "      <td>0.003087</td>\n",
       "      <td>0.003116</td>\n",
       "    </tr>\n",
       "  </tbody>\n",
       "</table>\n",
       "<p>307 rows × 105 columns</p>\n",
       "</div>"
      ],
      "text/plain": [
       "         mean       var       std  min_pixel  max_pixel     bdips  mean_canny  \\\n",
       "0    0.639458  0.353129  0.594247   0.023364   0.913223  0.000007   68.343054   \n",
       "1    0.839164  0.084224  0.290214   0.350467   0.946281  0.000058   52.692153   \n",
       "2    0.634470  0.045081  0.212324   0.392523   0.772727  0.000091   78.099965   \n",
       "3    0.688844  0.008833  0.093983   0.598131   0.747934  0.000605   75.261669   \n",
       "4    0.781972  0.014001  0.118325   0.724299   0.859504  0.000300   82.057788   \n",
       "..        ...       ...       ...        ...        ...       ...         ...   \n",
       "302  0.059514  0.000056  0.007465   0.051402   0.144628  0.000670    0.585086   \n",
       "303  0.618812  0.003099  0.055668   0.607477   0.694215  0.000120   80.319312   \n",
       "304  0.829444  0.051866  0.227741   0.682243   0.938017  0.000004   60.491396   \n",
       "305  0.753895  0.003356  0.057931   0.761682   0.822314  0.000027   79.701721   \n",
       "306  0.038143  0.000856  0.029252   0.028037   0.099174  0.000822    0.455067   \n",
       "\n",
       "        var_canny   std_canny  mean_erode  ...        80        81        82  \\\n",
       "0    12756.705742  112.945588  145.328215  ...  0.077495  0.057131  0.000132   \n",
       "1    10660.036075  103.247451  193.119138  ...  0.086103  0.076059  0.075255   \n",
       "2    13815.886498  117.540999  142.003899  ...  0.035906  0.038000  0.039495   \n",
       "3    13527.406777  116.307381  156.487977  ...  0.061391  0.052185  0.068811   \n",
       "4    14191.255387  119.127056  178.766207  ...  0.064772  0.064836  0.065186   \n",
       "..            ...         ...         ...  ...       ...       ...       ...   \n",
       "302    148.854615   12.200599   13.095857  ...  0.005631  0.005673  0.005622   \n",
       "303  14030.232648  118.449283  141.277884  ...  0.057100  0.056467  0.057069   \n",
       "304  11766.096962  108.471641  190.905163  ...  0.086635  0.090627  0.078840   \n",
       "305  13971.574509  118.201415  173.387763  ...  0.071060  0.066745  0.070574   \n",
       "306    115.834979   10.762666    8.040153  ...  0.007118  0.003161  0.002935   \n",
       "\n",
       "           83        84        85        86        87        88        89  \n",
       "0    0.047860  0.047598  0.047088  0.047985  0.026360  0.048619  0.055781  \n",
       "1    0.083965  0.086875  0.086078  0.074783  0.070293  0.085699  0.085855  \n",
       "2    0.037046  0.035816  0.037235  0.054409  0.064430  0.037220  0.053017  \n",
       "3    0.053869  0.055789  0.062539  0.069416  0.051520  0.068235  0.068537  \n",
       "4    0.063458  0.065509  0.065687  0.066656  0.068120  0.064197  0.064024  \n",
       "..        ...       ...       ...       ...       ...       ...       ...  \n",
       "302  0.005519  0.005574  0.005585  0.005657  0.005522  0.005617  0.005573  \n",
       "303  0.055745  0.056172  0.057144  0.057615  0.062998  0.055317  0.056784  \n",
       "304  0.089521  0.072025  0.071708  0.072373  0.084510  0.090469  0.090238  \n",
       "305  0.076844  0.071334  0.068290  0.067408  0.066900  0.066901  0.070000  \n",
       "306  0.003165  0.005478  0.006992  0.005488  0.006882  0.003087  0.003116  \n",
       "\n",
       "[307 rows x 105 columns]"
      ]
     },
     "execution_count": 158,
     "metadata": {},
     "output_type": "execute_result"
    }
   ],
   "source": [
    "x"
   ]
  },
  {
   "cell_type": "code",
   "execution_count": 208,
   "metadata": {},
   "outputs": [],
   "source": [
    "x_train, x_test, y_train, y_test = train_test_split(x, y,test_size = 0.2, random_state=42, stratify = y)"
   ]
  },
  {
   "cell_type": "markdown",
   "metadata": {},
   "source": [
    "# KNN"
   ]
  },
  {
   "cell_type": "code",
   "execution_count": 209,
   "metadata": {
    "scrolled": true
   },
   "outputs": [
    {
     "name": "stderr",
     "output_type": "stream",
     "text": [
      "C:\\Users\\linhvt22\\Anaconda3\\lib\\site-packages\\sklearn\\model_selection\\_validation.py:548: FitFailedWarning: Estimator fit failed. The score on this train-test partition for these parameters will be set to nan. Details: \n",
      "Traceback (most recent call last):\n",
      "  File \"C:\\Users\\linhvt22\\Anaconda3\\lib\\site-packages\\sklearn\\model_selection\\_validation.py\", line 531, in _fit_and_score\n",
      "    estimator.fit(X_train, y_train, **fit_params)\n",
      "  File \"C:\\Users\\linhvt22\\Anaconda3\\lib\\site-packages\\sklearn\\neighbors\\_base.py\", line 1157, in fit\n",
      "    return self._fit(X)\n",
      "  File \"C:\\Users\\linhvt22\\Anaconda3\\lib\\site-packages\\sklearn\\neighbors\\_base.py\", line 467, in _fit\n",
      "    raise ValueError(\n",
      "ValueError: Expected n_neighbors > 0. Got 0\n",
      "\n",
      "  warnings.warn(\"Estimator fit failed. The score on this train-test\"\n",
      "C:\\Users\\linhvt22\\Anaconda3\\lib\\site-packages\\sklearn\\model_selection\\_validation.py:548: FitFailedWarning: Estimator fit failed. The score on this train-test partition for these parameters will be set to nan. Details: \n",
      "Traceback (most recent call last):\n",
      "  File \"C:\\Users\\linhvt22\\Anaconda3\\lib\\site-packages\\sklearn\\model_selection\\_validation.py\", line 531, in _fit_and_score\n",
      "    estimator.fit(X_train, y_train, **fit_params)\n",
      "  File \"C:\\Users\\linhvt22\\Anaconda3\\lib\\site-packages\\sklearn\\neighbors\\_base.py\", line 1157, in fit\n",
      "    return self._fit(X)\n",
      "  File \"C:\\Users\\linhvt22\\Anaconda3\\lib\\site-packages\\sklearn\\neighbors\\_base.py\", line 467, in _fit\n",
      "    raise ValueError(\n",
      "ValueError: Expected n_neighbors > 0. Got 0\n",
      "\n",
      "  warnings.warn(\"Estimator fit failed. The score on this train-test\"\n",
      "C:\\Users\\linhvt22\\Anaconda3\\lib\\site-packages\\sklearn\\model_selection\\_validation.py:548: FitFailedWarning: Estimator fit failed. The score on this train-test partition for these parameters will be set to nan. Details: \n",
      "Traceback (most recent call last):\n",
      "  File \"C:\\Users\\linhvt22\\Anaconda3\\lib\\site-packages\\sklearn\\model_selection\\_validation.py\", line 531, in _fit_and_score\n",
      "    estimator.fit(X_train, y_train, **fit_params)\n",
      "  File \"C:\\Users\\linhvt22\\Anaconda3\\lib\\site-packages\\sklearn\\neighbors\\_base.py\", line 1157, in fit\n",
      "    return self._fit(X)\n",
      "  File \"C:\\Users\\linhvt22\\Anaconda3\\lib\\site-packages\\sklearn\\neighbors\\_base.py\", line 467, in _fit\n",
      "    raise ValueError(\n",
      "ValueError: Expected n_neighbors > 0. Got 0\n",
      "\n",
      "  warnings.warn(\"Estimator fit failed. The score on this train-test\"\n",
      "C:\\Users\\linhvt22\\Anaconda3\\lib\\site-packages\\sklearn\\model_selection\\_validation.py:548: FitFailedWarning: Estimator fit failed. The score on this train-test partition for these parameters will be set to nan. Details: \n",
      "Traceback (most recent call last):\n",
      "  File \"C:\\Users\\linhvt22\\Anaconda3\\lib\\site-packages\\sklearn\\model_selection\\_validation.py\", line 531, in _fit_and_score\n",
      "    estimator.fit(X_train, y_train, **fit_params)\n",
      "  File \"C:\\Users\\linhvt22\\Anaconda3\\lib\\site-packages\\sklearn\\neighbors\\_base.py\", line 1157, in fit\n",
      "    return self._fit(X)\n",
      "  File \"C:\\Users\\linhvt22\\Anaconda3\\lib\\site-packages\\sklearn\\neighbors\\_base.py\", line 467, in _fit\n",
      "    raise ValueError(\n",
      "ValueError: Expected n_neighbors > 0. Got 0\n",
      "\n",
      "  warnings.warn(\"Estimator fit failed. The score on this train-test\"\n",
      "C:\\Users\\linhvt22\\Anaconda3\\lib\\site-packages\\sklearn\\model_selection\\_validation.py:548: FitFailedWarning: Estimator fit failed. The score on this train-test partition for these parameters will be set to nan. Details: \n",
      "Traceback (most recent call last):\n",
      "  File \"C:\\Users\\linhvt22\\Anaconda3\\lib\\site-packages\\sklearn\\model_selection\\_validation.py\", line 531, in _fit_and_score\n",
      "    estimator.fit(X_train, y_train, **fit_params)\n",
      "  File \"C:\\Users\\linhvt22\\Anaconda3\\lib\\site-packages\\sklearn\\neighbors\\_base.py\", line 1157, in fit\n",
      "    return self._fit(X)\n",
      "  File \"C:\\Users\\linhvt22\\Anaconda3\\lib\\site-packages\\sklearn\\neighbors\\_base.py\", line 467, in _fit\n",
      "    raise ValueError(\n",
      "ValueError: Expected n_neighbors > 0. Got 0\n",
      "\n",
      "  warnings.warn(\"Estimator fit failed. The score on this train-test\"\n"
     ]
    },
    {
     "data": {
      "text/plain": [
       "{'n_neighbors': 10}"
      ]
     },
     "execution_count": 209,
     "metadata": {},
     "output_type": "execute_result"
    }
   ],
   "source": [
    "from sklearn.model_selection import GridSearchCV\n",
    "params = {'n_neighbors': np.arange(15)}\n",
    "reg = KNeighborsClassifier()\n",
    "model = GridSearchCV(reg, params, cv=5)\n",
    "model.fit(x_train,y_train)\n",
    "model.best_params_"
   ]
  },
  {
   "cell_type": "code",
   "execution_count": 210,
   "metadata": {},
   "outputs": [
    {
     "name": "stdout",
     "output_type": "stream",
     "text": [
      "Test set R^2: 0.53\n"
     ]
    },
    {
     "data": {
      "text/plain": [
       "array([2, 2, 2, 2, 2, 2, 2, 2, 2, 2, 2, 2, 0, 2, 2, 2, 2, 2, 2, 0, 1, 0,\n",
       "       2, 0, 2, 2, 2, 0, 2, 2, 2, 2, 2, 2, 2, 0, 2, 2, 2, 2, 2, 0, 2, 2,\n",
       "       2, 2, 2, 1, 2, 2, 2, 0, 2, 2, 2, 2, 0, 2, 2, 2, 2, 2], dtype=int64)"
      ]
     },
     "execution_count": 210,
     "metadata": {},
     "output_type": "execute_result"
    }
   ],
   "source": [
    "knn = KNeighborsClassifier(n_neighbors=10)\n",
    "knn.fit(x_train, y_train)\n",
    "print(\"Test set R^2: {:.2f}\".format(knn.score(x_test, y_test)))\n",
    "y_pred = knn.predict(x_test)\n",
    "y_pred"
   ]
  },
  {
   "cell_type": "code",
   "execution_count": 211,
   "metadata": {},
   "outputs": [
    {
     "data": {
      "text/plain": [
       "array([2, 1, 2, 2, 0, 2, 0, 1, 0, 2, 2, 0, 2, 0, 2, 2, 0, 2, 2, 1, 0, 2,\n",
       "       2, 2, 2, 2, 2, 2, 0, 1, 2, 2, 2, 2, 2, 0, 1, 2, 2, 0, 2, 0, 0, 2,\n",
       "       2, 2, 0, 2, 1, 2, 1, 2, 2, 1, 2, 1, 2, 2, 2, 2, 1, 0], dtype=int64)"
      ]
     },
     "execution_count": 211,
     "metadata": {},
     "output_type": "execute_result"
    }
   ],
   "source": [
    "np.array(y_test)"
   ]
  },
  {
   "cell_type": "code",
   "execution_count": 212,
   "metadata": {},
   "outputs": [],
   "source": [
    "y_scores = knn.predict_proba(x_test)\n",
    "fpr_knn, tpr_knn, threshold = roc_curve(y_test, y_scores[:, 1], pos_label= 1)\n",
    "roc_auc_knn = auc(fpr_knn, tpr_knn)"
   ]
  },
  {
   "cell_type": "code",
   "execution_count": 213,
   "metadata": {},
   "outputs": [
    {
     "name": "stdout",
     "output_type": "stream",
     "text": [
      "{'fit_time': array([0.01563668, 0.        , 0.01562524, 0.        , 0.        ]), 'score_time': array([0.        , 0.01557803, 0.        , 0.        , 0.        ]), 'test_score': array([0.56451613, 0.56451613, 0.52459016, 0.52459016, 0.55737705]), 'train_score': array([0.62040816, 0.63265306, 0.62601626, 0.67073171, 0.6504065 ])}\n"
     ]
    }
   ],
   "source": [
    "scores = cross_validate(knn, x, y, cv=5, scoring=('accuracy'),\n",
    "                        return_train_score=True)\n",
    "print(scores)\n"
   ]
  },
  {
   "cell_type": "markdown",
   "metadata": {},
   "source": [
    "# SVM\n"
   ]
  },
  {
   "cell_type": "code",
   "execution_count": 214,
   "metadata": {},
   "outputs": [
    {
     "data": {
      "text/plain": [
       "SVC(C=30)"
      ]
     },
     "execution_count": 214,
     "metadata": {},
     "output_type": "execute_result"
    }
   ],
   "source": [
    "svm = sklearn.svm.SVC(C = 30, kernel='rbf')\n",
    "svm.fit(x_train, y_train)"
   ]
  },
  {
   "cell_type": "code",
   "execution_count": 215,
   "metadata": {},
   "outputs": [
    {
     "data": {
      "text/plain": [
       "0.6204081632653061"
      ]
     },
     "execution_count": 215,
     "metadata": {},
     "output_type": "execute_result"
    }
   ],
   "source": [
    "svm.score(x_train, y_train)\n"
   ]
  },
  {
   "cell_type": "code",
   "execution_count": 216,
   "metadata": {},
   "outputs": [
    {
     "data": {
      "text/plain": [
       "0.6129032258064516"
      ]
     },
     "execution_count": 216,
     "metadata": {},
     "output_type": "execute_result"
    }
   ],
   "source": [
    "svm.score(x_test, y_test)\n"
   ]
  },
  {
   "cell_type": "code",
   "execution_count": 168,
   "metadata": {},
   "outputs": [
    {
     "data": {
      "text/plain": [
       "array([2, 2, 2, 2, 2, 2, 2, 2, 2, 2, 2, 2, 2, 2, 2, 2, 2, 2, 2, 2, 2, 2,\n",
       "       2, 2, 2, 2, 2, 2, 2, 2, 2, 2, 2, 2, 2, 2, 2, 2, 2, 2, 2, 2, 2, 2,\n",
       "       2, 2, 2, 2, 2, 2, 2, 2, 2, 2, 2, 2, 2, 2, 2, 2, 2, 2], dtype=int64)"
      ]
     },
     "execution_count": 168,
     "metadata": {},
     "output_type": "execute_result"
    }
   ],
   "source": [
    "y_pred = svm.predict(x_test)\n",
    "y_pred"
   ]
  },
  {
   "cell_type": "code",
   "execution_count": 169,
   "metadata": {},
   "outputs": [],
   "source": [
    "y_scores = svm.predict(x_test)\n",
    "fpr_svm, tpr_svm, threshold = roc_curve(y_test, y_scores, pos_label= 1)\n",
    "roc_auc_svm = auc(fpr_svm, tpr_svm)"
   ]
  },
  {
   "cell_type": "code",
   "execution_count": 170,
   "metadata": {},
   "outputs": [
    {
     "name": "stdout",
     "output_type": "stream",
     "text": [
      "{'fit_time': array([0.03128862, 0.01573014, 0.        , 0.01565981, 0.01562738]), 'score_time': array([0.        , 0.        , 0.01559854, 0.        , 0.        ]), 'test_score': array([0.62903226, 0.62903226, 0.60655738, 0.60655738, 0.62295082]), 'train_score': array([0.61632653, 0.61632653, 0.62195122, 0.62195122, 0.61788618])}\n"
     ]
    }
   ],
   "source": [
    "from sklearn.model_selection import cross_validate\n",
    "scores = cross_validate(svm, x, y, cv=5, scoring=('accuracy'),\n",
    "                        return_train_score=True)\n",
    "print(scores)"
   ]
  },
  {
   "cell_type": "markdown",
   "metadata": {},
   "source": [
    "# Decision Tree\n"
   ]
  },
  {
   "cell_type": "code",
   "execution_count": 171,
   "metadata": {},
   "outputs": [],
   "source": [
    "from sklearn.tree import DecisionTreeClassifier\n"
   ]
  },
  {
   "cell_type": "code",
   "execution_count": 172,
   "metadata": {},
   "outputs": [],
   "source": [
    "\n",
    "# tree=DecisionTreeClassifier(max_depth=2,random_state=42)\n",
    "tree = DecisionTreeClassifier(max_depth=5,random_state=42)"
   ]
  },
  {
   "cell_type": "code",
   "execution_count": 173,
   "metadata": {},
   "outputs": [
    {
     "data": {
      "text/plain": [
       "DecisionTreeClassifier(max_depth=5, random_state=42)"
      ]
     },
     "execution_count": 173,
     "metadata": {},
     "output_type": "execute_result"
    }
   ],
   "source": [
    "tree.fit(x_train, y_train)"
   ]
  },
  {
   "cell_type": "code",
   "execution_count": null,
   "metadata": {},
   "outputs": [],
   "source": []
  },
  {
   "cell_type": "code",
   "execution_count": 174,
   "metadata": {},
   "outputs": [],
   "source": [
    "y_pred = tree.predict(x_test)"
   ]
  },
  {
   "cell_type": "code",
   "execution_count": 175,
   "metadata": {},
   "outputs": [
    {
     "name": "stdout",
     "output_type": "stream",
     "text": [
      "Độ chính xác tập huấn luyện: 0.8735\n",
      "Độ chính xác tập kiểm tra: 0.6935\n"
     ]
    }
   ],
   "source": [
    "print('Độ chính xác tập huấn luyện: {:.4f}'.format(tree.score(x_train, y_train)))\n",
    "print('Độ chính xác tập kiểm tra: {:.4f}'.format(tree.score(x_test, y_test)))"
   ]
  },
  {
   "cell_type": "code",
   "execution_count": 176,
   "metadata": {},
   "outputs": [],
   "source": [
    "from sklearn.model_selection import cross_val_score, cross_val_predict\n",
    "from sklearn.metrics import accuracy_score, classification_report, confusion_matrix\n",
    "def print_score(clf, X_train, y_train, X_test, y_test, train=True):\n",
    "    '''\n",
    "    print the accuracy score, classification report and confusion matrix of classifier\n",
    "    '''\n",
    "    if train:\n",
    "        '''\n",
    "        training performance\n",
    "        '''\n",
    "        print(\"Train Result:\\n\")\n",
    "        print(\"accuracy score: {0:.4f}\\n\".format(accuracy_score(y_train, clf.predict(X_train))))\n",
    "        print(\"Classification Report: \\n {}\\n\".format(classification_report(y_train, clf.predict(X_train))))\n",
    "        print(\"Confusion Matrix: \\n {}\\n\".format(confusion_matrix(y_train, clf.predict(X_train))))\n",
    "\n",
    "        res = cross_val_score(clf, X_train, y_train.ravel(), cv=10, scoring='accuracy')\n",
    "        print(\"Average Accuracy: \\t {0:.4f}\".format(np.mean(res)))\n",
    "        print(\"Accuracy SD: \\t\\t {0:.4f}\".format(np.std(res)))\n",
    "        \n",
    "    elif train==False:\n",
    "        '''\n",
    "        test performance\n",
    "        '''\n",
    "        print(\"Test Result:\\n\")        \n",
    "        print(\"accuracy score: {0:.4f}\\n\".format(accuracy_score(y_test, clf.predict(X_test))))\n",
    "        print(\"Classification Report: \\n {}\\n\".format(classification_report(y_test, clf.predict(X_test))))\n",
    "        print(\"Confusion Matrix: \\n {}\\n\".format(confusion_matrix(y_test, clf.predict(X_test))))    \n",
    "        "
   ]
  },
  {
   "cell_type": "code",
   "execution_count": 177,
   "metadata": {},
   "outputs": [
    {
     "name": "stdout",
     "output_type": "stream",
     "text": [
      "Train Result:\n",
      "\n",
      "accuracy score: 0.8735\n",
      "\n",
      "Classification Report: \n",
      "               precision    recall  f1-score   support\n",
      "\n",
      "           0       0.92      0.65      0.76        54\n",
      "           1       0.94      0.73      0.82        41\n",
      "           2       0.85      0.99      0.92       150\n",
      "\n",
      "    accuracy                           0.87       245\n",
      "   macro avg       0.90      0.79      0.83       245\n",
      "weighted avg       0.88      0.87      0.87       245\n",
      "\n",
      "\n",
      "Confusion Matrix: \n",
      " [[ 35   1  18]\n",
      " [  3  30   8]\n",
      " [  0   1 149]]\n",
      "\n",
      "Average Accuracy: \t 0.5922\n",
      "Accuracy SD: \t\t 0.0959\n"
     ]
    }
   ],
   "source": [
    "print_score(tree, x_train, y_train, x_test, y_test, train=True)"
   ]
  },
  {
   "cell_type": "code",
   "execution_count": 178,
   "metadata": {},
   "outputs": [
    {
     "name": "stdout",
     "output_type": "stream",
     "text": [
      "Test Result:\n",
      "\n",
      "accuracy score: 0.6935\n",
      "\n",
      "Classification Report: \n",
      "               precision    recall  f1-score   support\n",
      "\n",
      "           0       0.75      0.64      0.69        14\n",
      "           1       0.33      0.30      0.32        10\n",
      "           2       0.76      0.82      0.78        38\n",
      "\n",
      "    accuracy                           0.69        62\n",
      "   macro avg       0.61      0.59      0.60        62\n",
      "weighted avg       0.69      0.69      0.69        62\n",
      "\n",
      "\n",
      "Confusion Matrix: \n",
      " [[ 9  0  5]\n",
      " [ 2  3  5]\n",
      " [ 1  6 31]]\n",
      "\n"
     ]
    }
   ],
   "source": [
    "print_score(tree, x_train, y_train, x_test, y_test, train=False)"
   ]
  },
  {
   "cell_type": "code",
   "execution_count": 179,
   "metadata": {},
   "outputs": [],
   "source": [
    "y_scores = tree.predict_proba(x_test)\n",
    "fpr_tree, tpr_tree, threshold = roc_curve(y_test, y_scores[:, 1], pos_label= 1)\n",
    "roc_auc_tree = auc(fpr_tree, tpr_tree)"
   ]
  },
  {
   "cell_type": "code",
   "execution_count": 180,
   "metadata": {},
   "outputs": [
    {
     "name": "stdout",
     "output_type": "stream",
     "text": [
      "{'fit_time': array([0.00973773, 0.01560879, 0.        , 0.00951076, 0.0156374 ]), 'score_time': array([0.01566029, 0.        , 0.01562333, 0.        , 0.        ]), 'test_score': array([0.58064516, 0.62903226, 0.67213115, 0.59016393, 0.72131148]), 'train_score': array([0.89795918, 0.87346939, 0.87398374, 0.87398374, 0.86178862])}\n"
     ]
    }
   ],
   "source": [
    "scores = cross_validate(tree, x, y, cv=5, scoring=('accuracy'),\n",
    "                        return_train_score=True)\n",
    "print(scores)"
   ]
  },
  {
   "cell_type": "markdown",
   "metadata": {},
   "source": [
    "# Random forest\n"
   ]
  },
  {
   "cell_type": "code",
   "execution_count": 181,
   "metadata": {},
   "outputs": [],
   "source": [
    "from sklearn.ensemble import RandomForestClassifier"
   ]
  },
  {
   "cell_type": "code",
   "execution_count": 182,
   "metadata": {},
   "outputs": [
    {
     "data": {
      "text/plain": [
       "RandomForestClassifier(max_depth=5, n_estimators=10)"
      ]
     },
     "execution_count": 182,
     "metadata": {},
     "output_type": "execute_result"
    }
   ],
   "source": [
    "rf = RandomForestClassifier(n_estimators=10,max_depth=5)\n",
    "rf.fit(x_train, y_train)"
   ]
  },
  {
   "cell_type": "code",
   "execution_count": 183,
   "metadata": {},
   "outputs": [
    {
     "name": "stdout",
     "output_type": "stream",
     "text": [
      "Train Result:\n",
      "\n",
      "accuracy score: 0.8980\n",
      "\n",
      "Classification Report: \n",
      "               precision    recall  f1-score   support\n",
      "\n",
      "           0       0.88      0.85      0.87        54\n",
      "           1       1.00      0.59      0.74        41\n",
      "           2       0.89      1.00      0.94       150\n",
      "\n",
      "    accuracy                           0.90       245\n",
      "   macro avg       0.92      0.81      0.85       245\n",
      "weighted avg       0.91      0.90      0.89       245\n",
      "\n",
      "\n",
      "Confusion Matrix: \n",
      " [[ 46   0   8]\n",
      " [  6  24  11]\n",
      " [  0   0 150]]\n",
      "\n",
      "Average Accuracy: \t 0.6335\n",
      "Accuracy SD: \t\t 0.1052\n",
      "\n",
      "\n",
      "Test Result:\n",
      "\n",
      "accuracy score: 0.6935\n",
      "\n",
      "Classification Report: \n",
      "               precision    recall  f1-score   support\n",
      "\n",
      "           0       0.45      0.36      0.40        14\n",
      "           1       0.60      0.30      0.40        10\n",
      "           2       0.76      0.92      0.83        38\n",
      "\n",
      "    accuracy                           0.69        62\n",
      "   macro avg       0.61      0.53      0.54        62\n",
      "weighted avg       0.67      0.69      0.67        62\n",
      "\n",
      "\n",
      "Confusion Matrix: \n",
      " [[ 5  1  8]\n",
      " [ 4  3  3]\n",
      " [ 2  1 35]]\n",
      "\n"
     ]
    }
   ],
   "source": [
    "print_score(rf, x_train, y_train, x_test, y_test, train=True)\n",
    "print('\\n')\n",
    "print_score(rf, x_train, y_train, x_test, y_test, train=False)"
   ]
  },
  {
   "cell_type": "code",
   "execution_count": 184,
   "metadata": {},
   "outputs": [],
   "source": [
    "y_scores = rf.predict_proba(x_test)\n",
    "fpr_rf, tpr_rf, threshold = roc_curve(y_test, y_scores[:, 1], pos_label= 1)\n",
    "roc_auc_rf = auc(fpr_rf, tpr_rf)"
   ]
  },
  {
   "cell_type": "code",
   "execution_count": 185,
   "metadata": {},
   "outputs": [
    {
     "name": "stdout",
     "output_type": "stream",
     "text": [
      "{'fit_time': array([0.03647184, 0.03127623, 0.03128457, 0.02076077, 0.02076054]), 'score_time': array([0.01561475, 0.        , 0.        , 0.00218892, 0.01031661]), 'test_score': array([0.67741935, 0.53225806, 0.62295082, 0.63934426, 0.72131148]), 'train_score': array([0.91836735, 0.88571429, 0.91056911, 0.91869919, 0.91056911])}\n"
     ]
    }
   ],
   "source": [
    "scores = cross_validate(rf, x, y, cv=5, scoring=('accuracy'),\n",
    "                        return_train_score=True)\n",
    "print(scores)"
   ]
  },
  {
   "cell_type": "code",
   "execution_count": 186,
   "metadata": {},
   "outputs": [
    {
     "data": {
      "text/html": [
       "<div>\n",
       "<style scoped>\n",
       "    .dataframe tbody tr th:only-of-type {\n",
       "        vertical-align: middle;\n",
       "    }\n",
       "\n",
       "    .dataframe tbody tr th {\n",
       "        vertical-align: top;\n",
       "    }\n",
       "\n",
       "    .dataframe thead th {\n",
       "        text-align: right;\n",
       "    }\n",
       "</style>\n",
       "<table border=\"1\" class=\"dataframe\">\n",
       "  <thead>\n",
       "    <tr style=\"text-align: right;\">\n",
       "      <th></th>\n",
       "      <th>mean</th>\n",
       "      <th>var</th>\n",
       "      <th>std</th>\n",
       "      <th>min_pixel</th>\n",
       "      <th>max_pixel</th>\n",
       "      <th>bdips</th>\n",
       "      <th>mean_canny</th>\n",
       "      <th>var_canny</th>\n",
       "      <th>std_canny</th>\n",
       "      <th>mean_erode</th>\n",
       "      <th>...</th>\n",
       "      <th>80</th>\n",
       "      <th>81</th>\n",
       "      <th>82</th>\n",
       "      <th>83</th>\n",
       "      <th>84</th>\n",
       "      <th>85</th>\n",
       "      <th>86</th>\n",
       "      <th>87</th>\n",
       "      <th>88</th>\n",
       "      <th>89</th>\n",
       "    </tr>\n",
       "  </thead>\n",
       "  <tbody>\n",
       "    <tr>\n",
       "      <th>0</th>\n",
       "      <td>0.639458</td>\n",
       "      <td>0.353129</td>\n",
       "      <td>0.594247</td>\n",
       "      <td>0.023364</td>\n",
       "      <td>0.913223</td>\n",
       "      <td>0.000007</td>\n",
       "      <td>68.343054</td>\n",
       "      <td>12756.705742</td>\n",
       "      <td>112.945588</td>\n",
       "      <td>145.328215</td>\n",
       "      <td>...</td>\n",
       "      <td>0.077495</td>\n",
       "      <td>0.057131</td>\n",
       "      <td>0.000132</td>\n",
       "      <td>0.047860</td>\n",
       "      <td>0.047598</td>\n",
       "      <td>0.047088</td>\n",
       "      <td>0.047985</td>\n",
       "      <td>0.026360</td>\n",
       "      <td>0.048619</td>\n",
       "      <td>0.055781</td>\n",
       "    </tr>\n",
       "    <tr>\n",
       "      <th>1</th>\n",
       "      <td>0.839164</td>\n",
       "      <td>0.084224</td>\n",
       "      <td>0.290214</td>\n",
       "      <td>0.350467</td>\n",
       "      <td>0.946281</td>\n",
       "      <td>0.000058</td>\n",
       "      <td>52.692153</td>\n",
       "      <td>10660.036075</td>\n",
       "      <td>103.247451</td>\n",
       "      <td>193.119138</td>\n",
       "      <td>...</td>\n",
       "      <td>0.086103</td>\n",
       "      <td>0.076059</td>\n",
       "      <td>0.075255</td>\n",
       "      <td>0.083965</td>\n",
       "      <td>0.086875</td>\n",
       "      <td>0.086078</td>\n",
       "      <td>0.074783</td>\n",
       "      <td>0.070293</td>\n",
       "      <td>0.085699</td>\n",
       "      <td>0.085855</td>\n",
       "    </tr>\n",
       "    <tr>\n",
       "      <th>2</th>\n",
       "      <td>0.634470</td>\n",
       "      <td>0.045081</td>\n",
       "      <td>0.212324</td>\n",
       "      <td>0.392523</td>\n",
       "      <td>0.772727</td>\n",
       "      <td>0.000091</td>\n",
       "      <td>78.099965</td>\n",
       "      <td>13815.886498</td>\n",
       "      <td>117.540999</td>\n",
       "      <td>142.003899</td>\n",
       "      <td>...</td>\n",
       "      <td>0.035906</td>\n",
       "      <td>0.038000</td>\n",
       "      <td>0.039495</td>\n",
       "      <td>0.037046</td>\n",
       "      <td>0.035816</td>\n",
       "      <td>0.037235</td>\n",
       "      <td>0.054409</td>\n",
       "      <td>0.064430</td>\n",
       "      <td>0.037220</td>\n",
       "      <td>0.053017</td>\n",
       "    </tr>\n",
       "    <tr>\n",
       "      <th>3</th>\n",
       "      <td>0.688844</td>\n",
       "      <td>0.008833</td>\n",
       "      <td>0.093983</td>\n",
       "      <td>0.598131</td>\n",
       "      <td>0.747934</td>\n",
       "      <td>0.000605</td>\n",
       "      <td>75.261669</td>\n",
       "      <td>13527.406777</td>\n",
       "      <td>116.307381</td>\n",
       "      <td>156.487977</td>\n",
       "      <td>...</td>\n",
       "      <td>0.061391</td>\n",
       "      <td>0.052185</td>\n",
       "      <td>0.068811</td>\n",
       "      <td>0.053869</td>\n",
       "      <td>0.055789</td>\n",
       "      <td>0.062539</td>\n",
       "      <td>0.069416</td>\n",
       "      <td>0.051520</td>\n",
       "      <td>0.068235</td>\n",
       "      <td>0.068537</td>\n",
       "    </tr>\n",
       "    <tr>\n",
       "      <th>4</th>\n",
       "      <td>0.781972</td>\n",
       "      <td>0.014001</td>\n",
       "      <td>0.118325</td>\n",
       "      <td>0.724299</td>\n",
       "      <td>0.859504</td>\n",
       "      <td>0.000300</td>\n",
       "      <td>82.057788</td>\n",
       "      <td>14191.255387</td>\n",
       "      <td>119.127056</td>\n",
       "      <td>178.766207</td>\n",
       "      <td>...</td>\n",
       "      <td>0.064772</td>\n",
       "      <td>0.064836</td>\n",
       "      <td>0.065186</td>\n",
       "      <td>0.063458</td>\n",
       "      <td>0.065509</td>\n",
       "      <td>0.065687</td>\n",
       "      <td>0.066656</td>\n",
       "      <td>0.068120</td>\n",
       "      <td>0.064197</td>\n",
       "      <td>0.064024</td>\n",
       "    </tr>\n",
       "    <tr>\n",
       "      <th>...</th>\n",
       "      <td>...</td>\n",
       "      <td>...</td>\n",
       "      <td>...</td>\n",
       "      <td>...</td>\n",
       "      <td>...</td>\n",
       "      <td>...</td>\n",
       "      <td>...</td>\n",
       "      <td>...</td>\n",
       "      <td>...</td>\n",
       "      <td>...</td>\n",
       "      <td>...</td>\n",
       "      <td>...</td>\n",
       "      <td>...</td>\n",
       "      <td>...</td>\n",
       "      <td>...</td>\n",
       "      <td>...</td>\n",
       "      <td>...</td>\n",
       "      <td>...</td>\n",
       "      <td>...</td>\n",
       "      <td>...</td>\n",
       "      <td>...</td>\n",
       "    </tr>\n",
       "    <tr>\n",
       "      <th>302</th>\n",
       "      <td>0.059514</td>\n",
       "      <td>0.000056</td>\n",
       "      <td>0.007465</td>\n",
       "      <td>0.051402</td>\n",
       "      <td>0.144628</td>\n",
       "      <td>0.000670</td>\n",
       "      <td>0.585086</td>\n",
       "      <td>148.854615</td>\n",
       "      <td>12.200599</td>\n",
       "      <td>13.095857</td>\n",
       "      <td>...</td>\n",
       "      <td>0.005631</td>\n",
       "      <td>0.005673</td>\n",
       "      <td>0.005622</td>\n",
       "      <td>0.005519</td>\n",
       "      <td>0.005574</td>\n",
       "      <td>0.005585</td>\n",
       "      <td>0.005657</td>\n",
       "      <td>0.005522</td>\n",
       "      <td>0.005617</td>\n",
       "      <td>0.005573</td>\n",
       "    </tr>\n",
       "    <tr>\n",
       "      <th>303</th>\n",
       "      <td>0.618812</td>\n",
       "      <td>0.003099</td>\n",
       "      <td>0.055668</td>\n",
       "      <td>0.607477</td>\n",
       "      <td>0.694215</td>\n",
       "      <td>0.000120</td>\n",
       "      <td>80.319312</td>\n",
       "      <td>14030.232648</td>\n",
       "      <td>118.449283</td>\n",
       "      <td>141.277884</td>\n",
       "      <td>...</td>\n",
       "      <td>0.057100</td>\n",
       "      <td>0.056467</td>\n",
       "      <td>0.057069</td>\n",
       "      <td>0.055745</td>\n",
       "      <td>0.056172</td>\n",
       "      <td>0.057144</td>\n",
       "      <td>0.057615</td>\n",
       "      <td>0.062998</td>\n",
       "      <td>0.055317</td>\n",
       "      <td>0.056784</td>\n",
       "    </tr>\n",
       "    <tr>\n",
       "      <th>304</th>\n",
       "      <td>0.829444</td>\n",
       "      <td>0.051866</td>\n",
       "      <td>0.227741</td>\n",
       "      <td>0.682243</td>\n",
       "      <td>0.938017</td>\n",
       "      <td>0.000004</td>\n",
       "      <td>60.491396</td>\n",
       "      <td>11766.096962</td>\n",
       "      <td>108.471641</td>\n",
       "      <td>190.905163</td>\n",
       "      <td>...</td>\n",
       "      <td>0.086635</td>\n",
       "      <td>0.090627</td>\n",
       "      <td>0.078840</td>\n",
       "      <td>0.089521</td>\n",
       "      <td>0.072025</td>\n",
       "      <td>0.071708</td>\n",
       "      <td>0.072373</td>\n",
       "      <td>0.084510</td>\n",
       "      <td>0.090469</td>\n",
       "      <td>0.090238</td>\n",
       "    </tr>\n",
       "    <tr>\n",
       "      <th>305</th>\n",
       "      <td>0.753895</td>\n",
       "      <td>0.003356</td>\n",
       "      <td>0.057931</td>\n",
       "      <td>0.761682</td>\n",
       "      <td>0.822314</td>\n",
       "      <td>0.000027</td>\n",
       "      <td>79.701721</td>\n",
       "      <td>13971.574509</td>\n",
       "      <td>118.201415</td>\n",
       "      <td>173.387763</td>\n",
       "      <td>...</td>\n",
       "      <td>0.071060</td>\n",
       "      <td>0.066745</td>\n",
       "      <td>0.070574</td>\n",
       "      <td>0.076844</td>\n",
       "      <td>0.071334</td>\n",
       "      <td>0.068290</td>\n",
       "      <td>0.067408</td>\n",
       "      <td>0.066900</td>\n",
       "      <td>0.066901</td>\n",
       "      <td>0.070000</td>\n",
       "    </tr>\n",
       "    <tr>\n",
       "      <th>306</th>\n",
       "      <td>0.038143</td>\n",
       "      <td>0.000856</td>\n",
       "      <td>0.029252</td>\n",
       "      <td>0.028037</td>\n",
       "      <td>0.099174</td>\n",
       "      <td>0.000822</td>\n",
       "      <td>0.455067</td>\n",
       "      <td>115.834979</td>\n",
       "      <td>10.762666</td>\n",
       "      <td>8.040153</td>\n",
       "      <td>...</td>\n",
       "      <td>0.007118</td>\n",
       "      <td>0.003161</td>\n",
       "      <td>0.002935</td>\n",
       "      <td>0.003165</td>\n",
       "      <td>0.005478</td>\n",
       "      <td>0.006992</td>\n",
       "      <td>0.005488</td>\n",
       "      <td>0.006882</td>\n",
       "      <td>0.003087</td>\n",
       "      <td>0.003116</td>\n",
       "    </tr>\n",
       "  </tbody>\n",
       "</table>\n",
       "<p>307 rows × 105 columns</p>\n",
       "</div>"
      ],
      "text/plain": [
       "         mean       var       std  min_pixel  max_pixel     bdips  mean_canny  \\\n",
       "0    0.639458  0.353129  0.594247   0.023364   0.913223  0.000007   68.343054   \n",
       "1    0.839164  0.084224  0.290214   0.350467   0.946281  0.000058   52.692153   \n",
       "2    0.634470  0.045081  0.212324   0.392523   0.772727  0.000091   78.099965   \n",
       "3    0.688844  0.008833  0.093983   0.598131   0.747934  0.000605   75.261669   \n",
       "4    0.781972  0.014001  0.118325   0.724299   0.859504  0.000300   82.057788   \n",
       "..        ...       ...       ...        ...        ...       ...         ...   \n",
       "302  0.059514  0.000056  0.007465   0.051402   0.144628  0.000670    0.585086   \n",
       "303  0.618812  0.003099  0.055668   0.607477   0.694215  0.000120   80.319312   \n",
       "304  0.829444  0.051866  0.227741   0.682243   0.938017  0.000004   60.491396   \n",
       "305  0.753895  0.003356  0.057931   0.761682   0.822314  0.000027   79.701721   \n",
       "306  0.038143  0.000856  0.029252   0.028037   0.099174  0.000822    0.455067   \n",
       "\n",
       "        var_canny   std_canny  mean_erode  ...        80        81        82  \\\n",
       "0    12756.705742  112.945588  145.328215  ...  0.077495  0.057131  0.000132   \n",
       "1    10660.036075  103.247451  193.119138  ...  0.086103  0.076059  0.075255   \n",
       "2    13815.886498  117.540999  142.003899  ...  0.035906  0.038000  0.039495   \n",
       "3    13527.406777  116.307381  156.487977  ...  0.061391  0.052185  0.068811   \n",
       "4    14191.255387  119.127056  178.766207  ...  0.064772  0.064836  0.065186   \n",
       "..            ...         ...         ...  ...       ...       ...       ...   \n",
       "302    148.854615   12.200599   13.095857  ...  0.005631  0.005673  0.005622   \n",
       "303  14030.232648  118.449283  141.277884  ...  0.057100  0.056467  0.057069   \n",
       "304  11766.096962  108.471641  190.905163  ...  0.086635  0.090627  0.078840   \n",
       "305  13971.574509  118.201415  173.387763  ...  0.071060  0.066745  0.070574   \n",
       "306    115.834979   10.762666    8.040153  ...  0.007118  0.003161  0.002935   \n",
       "\n",
       "           83        84        85        86        87        88        89  \n",
       "0    0.047860  0.047598  0.047088  0.047985  0.026360  0.048619  0.055781  \n",
       "1    0.083965  0.086875  0.086078  0.074783  0.070293  0.085699  0.085855  \n",
       "2    0.037046  0.035816  0.037235  0.054409  0.064430  0.037220  0.053017  \n",
       "3    0.053869  0.055789  0.062539  0.069416  0.051520  0.068235  0.068537  \n",
       "4    0.063458  0.065509  0.065687  0.066656  0.068120  0.064197  0.064024  \n",
       "..        ...       ...       ...       ...       ...       ...       ...  \n",
       "302  0.005519  0.005574  0.005585  0.005657  0.005522  0.005617  0.005573  \n",
       "303  0.055745  0.056172  0.057144  0.057615  0.062998  0.055317  0.056784  \n",
       "304  0.089521  0.072025  0.071708  0.072373  0.084510  0.090469  0.090238  \n",
       "305  0.076844  0.071334  0.068290  0.067408  0.066900  0.066901  0.070000  \n",
       "306  0.003165  0.005478  0.006992  0.005488  0.006882  0.003087  0.003116  \n",
       "\n",
       "[307 rows x 105 columns]"
      ]
     },
     "execution_count": 186,
     "metadata": {},
     "output_type": "execute_result"
    }
   ],
   "source": [
    "x"
   ]
  },
  {
   "cell_type": "markdown",
   "metadata": {},
   "source": [
    "# Neural Network\n"
   ]
  },
  {
   "cell_type": "code",
   "execution_count": 201,
   "metadata": {},
   "outputs": [
    {
     "name": "stdout",
     "output_type": "stream",
     "text": [
      "Model: \"sequential_6\"\n",
      "_________________________________________________________________\n",
      "Layer (type)                 Output Shape              Param #   \n",
      "=================================================================\n",
      "dense_18 (Dense)             (None, 256)               27136     \n",
      "_________________________________________________________________\n",
      "dense_19 (Dense)             (None, 256)               65792     \n",
      "_________________________________________________________________\n",
      "dense_20 (Dense)             (None, 3)                 771       \n",
      "=================================================================\n",
      "Total params: 93,699\n",
      "Trainable params: 93,699\n",
      "Non-trainable params: 0\n",
      "_________________________________________________________________\n"
     ]
    }
   ],
   "source": [
    "# build model\n",
    "import tensorflow.keras as keras\n",
    "from tensorflow.keras.models import Sequential\n",
    "from tensorflow.keras.layers import Dense, Dropout, Activation\n",
    "\n",
    "model = Sequential()\n",
    "model.add(Dense(units=256, activation='relu', input_shape=(105,)))\n",
    "Dropout(0.25)\n",
    "model.add(Dense(units=256, activation='relu'))\n",
    "Dropout(0.25)\n",
    "model.add(Dense(units=3, activation='softmax'))\n",
    "model.summary()\n"
   ]
  },
  {
   "cell_type": "code",
   "execution_count": 188,
   "metadata": {},
   "outputs": [],
   "source": [
    "x_train, x_val, y_train, y_val = train_test_split(x_train, y_train, test_size=0.25, random_state=42, stratify = y_train)"
   ]
  },
  {
   "cell_type": "code",
   "execution_count": 189,
   "metadata": {},
   "outputs": [],
   "source": [
    "y_train = keras.utils.to_categorical(y_train, 3)\n",
    "y_val = keras.utils.to_categorical(y_val, 3)\n",
    "y_test = keras.utils.to_categorical(y_test, 3)\n",
    "# print('categorical y_train: ', y_train.shape)\n",
    "# print('categorical y_val : ', y_val.shape)\n",
    "# print('categorical y_test : ', y_test.shape)"
   ]
  },
  {
   "cell_type": "code",
   "execution_count": 202,
   "metadata": {},
   "outputs": [],
   "source": [
    "from tensorflow.keras.optimizers import SGD\n",
    "# Compile model\n",
    "epochs = 100\n",
    "lr = 0.001\n",
    "# decay = lr/epochs\n",
    "# sgd = SGD(lr=lr, momentum=0.9, decay=decay, nesterov=False)\n",
    "model.compile(loss='categorical_crossentropy', optimizer=keras.optimizers.SGD(lr=lr), metrics=['accuracy'])"
   ]
  },
  {
   "cell_type": "code",
   "execution_count": 203,
   "metadata": {
    "scrolled": true
   },
   "outputs": [
    {
     "name": "stdout",
     "output_type": "stream",
     "text": [
      "Epoch 1/100\n",
      "3/3 [==============================] - 1s 152ms/step - loss: 135032.3815 - accuracy: 0.3815 - val_loss: 45371.2266 - val_accuracy: 0.2258\n",
      "Epoch 2/100\n",
      "3/3 [==============================] - 0s 29ms/step - loss: 669754.2139 - accuracy: 0.2015 - val_loss: 165382684672.0000 - val_accuracy: 0.6129\n",
      "Epoch 3/100\n",
      "3/3 [==============================] - 0s 24ms/step - loss: 102191357952.0000 - accuracy: 0.4912 - val_loss: 91196992.0000 - val_accuracy: 0.2258\n",
      "Epoch 4/100\n",
      "3/3 [==============================] - 0s 34ms/step - loss: 7957984991774009982976.0000 - accuracy: 0.2964 - val_loss: 172850287738880.0000 - val_accuracy: 0.2258\n",
      "Epoch 5/100\n",
      "3/3 [==============================] - 0s 31ms/step - loss: 3294636481952347724972032.0000 - accuracy: 0.3053 - val_loss: 34121057620823577571717283840.0000 - val_accuracy: 0.6129\n",
      "Epoch 6/100\n",
      "3/3 [==============================] - 0s 31ms/step - loss: 19052782483034713588737507328.0000 - accuracy: 0.4721 - val_loss: 648366.0000 - val_accuracy: 0.6129\n",
      "Epoch 7/100\n",
      "3/3 [==============================] - 0s 35ms/step - loss: 425652.0234 - accuracy: 0.6029 - val_loss: 1.0929 - val_accuracy: 0.6129\n",
      "Epoch 8/100\n",
      "3/3 [==============================] - 0s 29ms/step - loss: 1.0913 - accuracy: 0.6127 - val_loss: 1.0864 - val_accuracy: 0.6129\n",
      "Epoch 9/100\n",
      "3/3 [==============================] - 0s 39ms/step - loss: 1.0846 - accuracy: 0.6302 - val_loss: 1.0804 - val_accuracy: 0.6129\n",
      "Epoch 10/100\n",
      "3/3 [==============================] - 0s 31ms/step - loss: 1.0787 - accuracy: 0.6185 - val_loss: 1.0749 - val_accuracy: 0.6129\n",
      "Epoch 11/100\n",
      "3/3 [==============================] - 0s 35ms/step - loss: 1.0735 - accuracy: 0.6029 - val_loss: 1.0698 - val_accuracy: 0.6129\n",
      "Epoch 12/100\n",
      "3/3 [==============================] - 0s 34ms/step - loss: 1.0667 - accuracy: 0.6185 - val_loss: 1.0651 - val_accuracy: 0.6129\n",
      "Epoch 13/100\n",
      "3/3 [==============================] - 0s 31ms/step - loss: 1.0620 - accuracy: 0.6185 - val_loss: 1.0609 - val_accuracy: 0.6129\n",
      "Epoch 14/100\n",
      "3/3 [==============================] - 0s 23ms/step - loss: 1.0558 - accuracy: 0.6166 - val_loss: 1.0570 - val_accuracy: 0.6129\n",
      "Epoch 15/100\n",
      "3/3 [==============================] - 0s 27ms/step - loss: 1.0557 - accuracy: 0.6185 - val_loss: 1.0533 - val_accuracy: 0.6129\n",
      "Epoch 16/100\n",
      "3/3 [==============================] - 0s 23ms/step - loss: 1.0432 - accuracy: 0.6419 - val_loss: 1.0500 - val_accuracy: 0.6129\n",
      "Epoch 17/100\n",
      "3/3 [==============================] - 0s 27ms/step - loss: 1.0428 - accuracy: 0.6068 - val_loss: 1.0468 - val_accuracy: 0.6129\n",
      "Epoch 18/100\n",
      "3/3 [==============================] - 0s 23ms/step - loss: 1.0400 - accuracy: 0.6205 - val_loss: 1.0439 - val_accuracy: 0.6129\n",
      "Epoch 19/100\n",
      "3/3 [==============================] - 0s 27ms/step - loss: 1.0417 - accuracy: 0.6185 - val_loss: 1.0411 - val_accuracy: 0.6129\n",
      "Epoch 20/100\n",
      "3/3 [==============================] - 0s 19ms/step - loss: 1.0491 - accuracy: 0.5736 - val_loss: 1.0385 - val_accuracy: 0.6129\n",
      "Epoch 21/100\n",
      "3/3 [==============================] - 0s 23ms/step - loss: 1.0283 - accuracy: 0.6302 - val_loss: 1.0362 - val_accuracy: 0.6129\n",
      "Epoch 22/100\n",
      "3/3 [==============================] - 0s 27ms/step - loss: 1.0431 - accuracy: 0.5892 - val_loss: 1.0340 - val_accuracy: 0.6129\n",
      "Epoch 23/100\n",
      "3/3 [==============================] - 0s 35ms/step - loss: 1.0317 - accuracy: 0.6146 - val_loss: 1.0320 - val_accuracy: 0.6129\n",
      "Epoch 24/100\n",
      "3/3 [==============================] - 0s 31ms/step - loss: 1.0190 - accuracy: 0.6341 - val_loss: 1.0301 - val_accuracy: 0.6129\n",
      "Epoch 25/100\n",
      "3/3 [==============================] - 0s 35ms/step - loss: 1.0333 - accuracy: 0.6029 - val_loss: 1.0284 - val_accuracy: 0.6129\n",
      "Epoch 26/100\n",
      "3/3 [==============================] - 0s 31ms/step - loss: 1.0114 - accuracy: 0.6419 - val_loss: 1.0268 - val_accuracy: 0.6129\n",
      "Epoch 27/100\n",
      "3/3 [==============================] - 0s 31ms/step - loss: 1.0268 - accuracy: 0.6127 - val_loss: 1.0253 - val_accuracy: 0.6129\n",
      "Epoch 28/100\n",
      "3/3 [==============================] - 0s 27ms/step - loss: 1.0295 - accuracy: 0.6068 - val_loss: 1.0238 - val_accuracy: 0.6129\n",
      "Epoch 29/100\n",
      "3/3 [==============================] - 0s 29ms/step - loss: 1.0254 - accuracy: 0.6127 - val_loss: 1.0224 - val_accuracy: 0.6129\n",
      "Epoch 30/100\n",
      "3/3 [==============================] - 0s 29ms/step - loss: 1.0150 - accuracy: 0.6244 - val_loss: 1.0211 - val_accuracy: 0.6129\n",
      "Epoch 31/100\n",
      "3/3 [==============================] - 0s 31ms/step - loss: 1.0249 - accuracy: 0.6009 - val_loss: 1.0200 - val_accuracy: 0.6129\n",
      "Epoch 32/100\n",
      "3/3 [==============================] - 0s 26ms/step - loss: 1.0200 - accuracy: 0.5970 - val_loss: 1.0189 - val_accuracy: 0.6129\n",
      "Epoch 33/100\n",
      "3/3 [==============================] - 0s 32ms/step - loss: 1.0115 - accuracy: 0.6224 - val_loss: 1.0179 - val_accuracy: 0.6129\n",
      "Epoch 34/100\n",
      "3/3 [==============================] - 0s 23ms/step - loss: 1.0228 - accuracy: 0.5853 - val_loss: 1.0169 - val_accuracy: 0.6129\n",
      "Epoch 35/100\n",
      "3/3 [==============================] - 0s 19ms/step - loss: 1.0195 - accuracy: 0.6068 - val_loss: 1.0160 - val_accuracy: 0.6129\n",
      "Epoch 36/100\n",
      "3/3 [==============================] - 0s 31ms/step - loss: 1.0270 - accuracy: 0.5834 - val_loss: 1.0151 - val_accuracy: 0.6129\n",
      "Epoch 37/100\n",
      "3/3 [==============================] - 0s 31ms/step - loss: 1.0082 - accuracy: 0.6224 - val_loss: 1.0143 - val_accuracy: 0.6129\n",
      "Epoch 38/100\n",
      "3/3 [==============================] - 0s 35ms/step - loss: 1.0171 - accuracy: 0.5912 - val_loss: 1.0135 - val_accuracy: 0.6129\n",
      "Epoch 39/100\n",
      "3/3 [==============================] - 0s 35ms/step - loss: 1.0161 - accuracy: 0.5892 - val_loss: 1.0128 - val_accuracy: 0.6129\n",
      "Epoch 40/100\n",
      "3/3 [==============================] - 0s 34ms/step - loss: 1.0155 - accuracy: 0.6048 - val_loss: 1.0122 - val_accuracy: 0.6129\n",
      "Epoch 41/100\n",
      "3/3 [==============================] - 0s 32ms/step - loss: 1.0134 - accuracy: 0.5970 - val_loss: 1.0116 - val_accuracy: 0.6129\n",
      "Epoch 42/100\n",
      "3/3 [==============================] - 0s 27ms/step - loss: 0.9800 - accuracy: 0.6576 - val_loss: 1.0110 - val_accuracy: 0.6129\n",
      "Epoch 43/100\n",
      "3/3 [==============================] - 0s 23ms/step - loss: 1.0122 - accuracy: 0.6068 - val_loss: 1.0105 - val_accuracy: 0.6129\n",
      "Epoch 44/100\n",
      "3/3 [==============================] - 0s 27ms/step - loss: 1.0230 - accuracy: 0.5775 - val_loss: 1.0099 - val_accuracy: 0.6129\n",
      "Epoch 45/100\n",
      "3/3 [==============================] - 0s 27ms/step - loss: 0.9902 - accuracy: 0.6439 - val_loss: 1.0094 - val_accuracy: 0.6129\n",
      "Epoch 46/100\n",
      "3/3 [==============================] - 0s 23ms/step - loss: 1.0226 - accuracy: 0.5892 - val_loss: 1.0089 - val_accuracy: 0.6129\n",
      "Epoch 47/100\n",
      "3/3 [==============================] - 0s 27ms/step - loss: 0.9975 - accuracy: 0.6205 - val_loss: 1.0085 - val_accuracy: 0.6129\n",
      "Epoch 48/100\n",
      "3/3 [==============================] - 0s 31ms/step - loss: 1.0098 - accuracy: 0.6068 - val_loss: 1.0081 - val_accuracy: 0.6129\n",
      "Epoch 49/100\n",
      "3/3 [==============================] - 0s 27ms/step - loss: 1.0271 - accuracy: 0.5951 - val_loss: 1.0077 - val_accuracy: 0.6129\n",
      "Epoch 50/100\n",
      "3/3 [==============================] - 0s 27ms/step - loss: 1.0131 - accuracy: 0.5951 - val_loss: 1.0073 - val_accuracy: 0.6129\n",
      "Epoch 51/100\n",
      "3/3 [==============================] - 0s 31ms/step - loss: 0.9896 - accuracy: 0.6341 - val_loss: 1.0070 - val_accuracy: 0.6129\n",
      "Epoch 52/100\n",
      "3/3 [==============================] - 0s 27ms/step - loss: 1.0090 - accuracy: 0.5990 - val_loss: 1.0066 - val_accuracy: 0.6129\n",
      "Epoch 53/100\n",
      "3/3 [==============================] - 0s 23ms/step - loss: 1.0126 - accuracy: 0.5970 - val_loss: 1.0063 - val_accuracy: 0.6129\n",
      "Epoch 54/100\n",
      "3/3 [==============================] - 0s 27ms/step - loss: 1.0161 - accuracy: 0.5834 - val_loss: 1.0060 - val_accuracy: 0.6129\n",
      "Epoch 55/100\n",
      "3/3 [==============================] - 0s 35ms/step - loss: 0.9944 - accuracy: 0.6185 - val_loss: 1.0057 - val_accuracy: 0.6129\n",
      "Epoch 56/100\n",
      "3/3 [==============================] - 0s 31ms/step - loss: 1.0053 - accuracy: 0.6087 - val_loss: 1.0054 - val_accuracy: 0.6129\n",
      "Epoch 57/100\n",
      "3/3 [==============================] - 0s 27ms/step - loss: 1.0078 - accuracy: 0.5892 - val_loss: 1.0051 - val_accuracy: 0.6129\n"
     ]
    },
    {
     "name": "stdout",
     "output_type": "stream",
     "text": [
      "Epoch 58/100\n",
      "3/3 [==============================] - 0s 27ms/step - loss: 1.0049 - accuracy: 0.6146 - val_loss: 1.0049 - val_accuracy: 0.6129\n",
      "Epoch 59/100\n",
      "3/3 [==============================] - 0s 31ms/step - loss: 1.0157 - accuracy: 0.5970 - val_loss: 1.0046 - val_accuracy: 0.6129\n",
      "Epoch 60/100\n",
      "3/3 [==============================] - 0s 27ms/step - loss: 1.0114 - accuracy: 0.6048 - val_loss: 1.0044 - val_accuracy: 0.6129\n",
      "Epoch 61/100\n",
      "3/3 [==============================] - 0s 34ms/step - loss: 1.0126 - accuracy: 0.5892 - val_loss: 1.0041 - val_accuracy: 0.6129\n",
      "Epoch 62/100\n",
      "3/3 [==============================] - 0s 31ms/step - loss: 1.0093 - accuracy: 0.5912 - val_loss: 1.0039 - val_accuracy: 0.6129\n",
      "Epoch 63/100\n",
      "3/3 [==============================] - 0s 29ms/step - loss: 1.0016 - accuracy: 0.6107 - val_loss: 1.0037 - val_accuracy: 0.6129\n",
      "Epoch 64/100\n",
      "3/3 [==============================] - 0s 32ms/step - loss: 0.9979 - accuracy: 0.6107 - val_loss: 1.0034 - val_accuracy: 0.6129\n",
      "Epoch 65/100\n",
      "3/3 [==============================] - 0s 34ms/step - loss: 0.9886 - accuracy: 0.6283 - val_loss: 1.0032 - val_accuracy: 0.6129\n",
      "Epoch 66/100\n",
      "3/3 [==============================] - 0s 39ms/step - loss: 1.0211 - accuracy: 0.5892 - val_loss: 1.0030 - val_accuracy: 0.6129\n",
      "Epoch 67/100\n",
      "3/3 [==============================] - 0s 23ms/step - loss: 1.0102 - accuracy: 0.6048 - val_loss: 1.0028 - val_accuracy: 0.6129\n",
      "Epoch 68/100\n",
      "3/3 [==============================] - 0s 19ms/step - loss: 1.0103 - accuracy: 0.6009 - val_loss: 1.0027 - val_accuracy: 0.6129\n",
      "Epoch 69/100\n",
      "3/3 [==============================] - 0s 23ms/step - loss: 0.9937 - accuracy: 0.6127 - val_loss: 1.0025 - val_accuracy: 0.6129\n",
      "Epoch 70/100\n",
      "3/3 [==============================] - 0s 27ms/step - loss: 0.9975 - accuracy: 0.6146 - val_loss: 1.0023 - val_accuracy: 0.6129\n",
      "Epoch 71/100\n",
      "3/3 [==============================] - 0s 23ms/step - loss: 0.9874 - accuracy: 0.6244 - val_loss: 1.0021 - val_accuracy: 0.6129\n",
      "Epoch 72/100\n",
      "3/3 [==============================] - 0s 24ms/step - loss: 0.9837 - accuracy: 0.6302 - val_loss: 1.0020 - val_accuracy: 0.6129\n",
      "Epoch 73/100\n",
      "3/3 [==============================] - 0s 30ms/step - loss: 1.0069 - accuracy: 0.5990 - val_loss: 1.0018 - val_accuracy: 0.6129\n",
      "Epoch 74/100\n",
      "3/3 [==============================] - 0s 34ms/step - loss: 0.9987 - accuracy: 0.6244 - val_loss: 1.0016 - val_accuracy: 0.6129\n",
      "Epoch 75/100\n",
      "3/3 [==============================] - 0s 40ms/step - loss: 0.9953 - accuracy: 0.6146 - val_loss: 1.0015 - val_accuracy: 0.6129\n",
      "Epoch 76/100\n",
      "3/3 [==============================] - 0s 34ms/step - loss: 1.0129 - accuracy: 0.5951 - val_loss: 1.0013 - val_accuracy: 0.6129\n",
      "Epoch 77/100\n",
      "3/3 [==============================] - 0s 27ms/step - loss: 0.9810 - accuracy: 0.6224 - val_loss: 1.0011 - val_accuracy: 0.6129\n",
      "Epoch 78/100\n",
      "3/3 [==============================] - 0s 24ms/step - loss: 0.9992 - accuracy: 0.6127 - val_loss: 1.0010 - val_accuracy: 0.6129\n",
      "Epoch 79/100\n",
      "3/3 [==============================] - 0s 20ms/step - loss: 1.0167 - accuracy: 0.5853 - val_loss: 1.0008 - val_accuracy: 0.6129\n",
      "Epoch 80/100\n",
      "3/3 [==============================] - 0s 23ms/step - loss: 0.9860 - accuracy: 0.6087 - val_loss: 1.0007 - val_accuracy: 0.6129\n",
      "Epoch 81/100\n",
      "3/3 [==============================] - 0s 27ms/step - loss: 0.9973 - accuracy: 0.6048 - val_loss: 1.0006 - val_accuracy: 0.6129\n",
      "Epoch 82/100\n",
      "3/3 [==============================] - 0s 27ms/step - loss: 0.9851 - accuracy: 0.6244 - val_loss: 1.0004 - val_accuracy: 0.6129\n",
      "Epoch 83/100\n",
      "3/3 [==============================] - 0s 31ms/step - loss: 0.9866 - accuracy: 0.6205 - val_loss: 1.0003 - val_accuracy: 0.6129\n",
      "Epoch 84/100\n",
      "3/3 [==============================] - 0s 35ms/step - loss: 0.9910 - accuracy: 0.6127 - val_loss: 1.0002 - val_accuracy: 0.6129\n",
      "Epoch 85/100\n",
      "3/3 [==============================] - 0s 35ms/step - loss: 0.9834 - accuracy: 0.6302 - val_loss: 1.0000 - val_accuracy: 0.6129\n",
      "Epoch 86/100\n",
      "3/3 [==============================] - 0s 31ms/step - loss: 0.9732 - accuracy: 0.6419 - val_loss: 0.9999 - val_accuracy: 0.6129\n",
      "Epoch 87/100\n",
      "3/3 [==============================] - 0s 23ms/step - loss: 1.0080 - accuracy: 0.6009 - val_loss: 0.9998 - val_accuracy: 0.6129\n",
      "Epoch 88/100\n",
      "3/3 [==============================] - 0s 27ms/step - loss: 0.9834 - accuracy: 0.6205 - val_loss: 0.9996 - val_accuracy: 0.6129\n",
      "Epoch 89/100\n",
      "3/3 [==============================] - 0s 23ms/step - loss: 1.0014 - accuracy: 0.6127 - val_loss: 0.9995 - val_accuracy: 0.6129\n",
      "Epoch 90/100\n",
      "3/3 [==============================] - 0s 35ms/step - loss: 1.0105 - accuracy: 0.6029 - val_loss: 0.9994 - val_accuracy: 0.6129\n",
      "Epoch 91/100\n",
      "3/3 [==============================] - 0s 40ms/step - loss: 0.9810 - accuracy: 0.6166 - val_loss: 0.9992 - val_accuracy: 0.6129\n",
      "Epoch 92/100\n",
      "3/3 [==============================] - 0s 31ms/step - loss: 0.9934 - accuracy: 0.6244 - val_loss: 0.9991 - val_accuracy: 0.6129\n",
      "Epoch 93/100\n",
      "3/3 [==============================] - 0s 32ms/step - loss: 0.9842 - accuracy: 0.6224 - val_loss: 0.9990 - val_accuracy: 0.6129\n",
      "Epoch 94/100\n",
      "3/3 [==============================] - 0s 42ms/step - loss: 1.0031 - accuracy: 0.6048 - val_loss: 0.9989 - val_accuracy: 0.6129\n",
      "Epoch 95/100\n",
      "3/3 [==============================] - 0s 44ms/step - loss: 1.0132 - accuracy: 0.5873 - val_loss: 0.9987 - val_accuracy: 0.6129\n",
      "Epoch 96/100\n",
      "3/3 [==============================] - 0s 29ms/step - loss: 0.9894 - accuracy: 0.6127 - val_loss: 0.9986 - val_accuracy: 0.6129\n",
      "Epoch 97/100\n",
      "3/3 [==============================] - 0s 35ms/step - loss: 1.0148 - accuracy: 0.5970 - val_loss: 0.9985 - val_accuracy: 0.6129\n",
      "Epoch 98/100\n",
      "3/3 [==============================] - 0s 31ms/step - loss: 1.0252 - accuracy: 0.5931 - val_loss: 0.9984 - val_accuracy: 0.6129\n",
      "Epoch 99/100\n",
      "3/3 [==============================] - 0s 27ms/step - loss: 1.0148 - accuracy: 0.5912 - val_loss: 0.9983 - val_accuracy: 0.6129\n",
      "Epoch 100/100\n",
      "3/3 [==============================] - 0s 35ms/step - loss: 0.9933 - accuracy: 0.6166 - val_loss: 0.9981 - val_accuracy: 0.6129\n"
     ]
    }
   ],
   "source": [
    "history = model.fit(x_train, y_train,\n",
    "                    batch_size=64,\n",
    "                    epochs=epochs,\n",
    "                    verbose=True,\n",
    "                    validation_data=(x_val, y_val))"
   ]
  },
  {
   "cell_type": "code",
   "execution_count": 146,
   "metadata": {},
   "outputs": [
    {
     "name": "stdout",
     "output_type": "stream",
     "text": [
      "Saved model to disk\n"
     ]
    }
   ],
   "source": [
    "# save model as json\n",
    "model_json = model.to_json()\n",
    "with open(\"model.json\", \"w\") as json_file:\n",
    "    json_file.write(model_json)\n",
    "\n",
    "model.save_weights(\"model-norm2.h5\")\n",
    "print(\"Saved model to disk\")"
   ]
  },
  {
   "cell_type": "code",
   "execution_count": 198,
   "metadata": {},
   "outputs": [
    {
     "name": "stdout",
     "output_type": "stream",
     "text": [
      "dict_keys(['loss', 'accuracy', 'val_loss', 'val_accuracy'])\n"
     ]
    },
    {
     "data": {
      "image/png": "[encoded data removed]",
      "text/plain": [
       "<Figure size 432x288 with 1 Axes>"
      ]
     },
     "metadata": {
      "needs_background": "light"
     },
     "output_type": "display_data"
    },
    {
     "data": {
      "image/png": "[encoded data removed]",
      "text/plain": [
       "<Figure size 432x288 with 1 Axes>"
      ]
     },
     "metadata": {
      "needs_background": "light"
     },
     "output_type": "display_data"
    }
   ],
   "source": [
    "print(history.history.keys())\n",
    "# summarize history for accuracy\n",
    "plt.plot(history.history['accuracy'], marker = \"*\")\n",
    "plt.plot(history.history['val_accuracy'], marker = \"*\")\n",
    "plt.title('model accuracy')\n",
    "plt.ylabel('accuracy')\n",
    "plt.xlabel('epoch')\n",
    "plt.legend(['train', 'val'], loc='upper left')\n",
    "plt.show()\n",
    "\n",
    "# summarize history for loss\n",
    "plt.plot(history.history['loss'], marker = \"*\")\n",
    "plt.plot(history.history['val_loss'], marker = \"*\")\n",
    "plt.title('model loss')\n",
    "plt.ylabel('loss')\n",
    "plt.xlabel('epoch')\n",
    "plt.legend(['train', 'val'], loc='upper left')\n",
    "plt.show()"
   ]
  },
  {
   "cell_type": "code",
   "execution_count": 199,
   "metadata": {},
   "outputs": [
    {
     "name": "stdout",
     "output_type": "stream",
     "text": [
      "2/2 [==============================] - 0s 4ms/step - loss: 0.9323 - accuracy: 0.6129\n",
      "Test loss: 0.9323426485061646\n",
      "Test accuracy: 0.6129032373428345\n"
     ]
    }
   ],
   "source": [
    "score = model.evaluate(x_test, y_test, verbose=True)\n",
    "print('Test loss:', score[0])\n",
    "print('Test accuracy:', score[1])"
   ]
  },
  {
   "cell_type": "code",
   "execution_count": 200,
   "metadata": {},
   "outputs": [
    {
     "ename": "ValueError",
     "evalue": "multilabel-indicator format is not supported",
     "output_type": "error",
     "traceback": [
      "\u001b[1;31m---------------------------------------------------------------------------\u001b[0m",
      "\u001b[1;31mValueError\u001b[0m                                Traceback (most recent call last)",
      "\u001b[1;32m<ipython-input-200-c3aab4bb1ca5>\u001b[0m in \u001b[0;36m<module>\u001b[1;34m\u001b[0m\n\u001b[0;32m      1\u001b[0m \u001b[0my_scores\u001b[0m \u001b[1;33m=\u001b[0m \u001b[0mmodel\u001b[0m\u001b[1;33m.\u001b[0m\u001b[0mpredict\u001b[0m\u001b[1;33m(\u001b[0m\u001b[0mx_test\u001b[0m\u001b[1;33m)\u001b[0m\u001b[1;33m\u001b[0m\u001b[1;33m\u001b[0m\u001b[0m\n\u001b[1;32m----> 2\u001b[1;33m \u001b[0mfpr_nn\u001b[0m\u001b[1;33m,\u001b[0m \u001b[0mtpr_nn\u001b[0m\u001b[1;33m,\u001b[0m \u001b[0mthreshold\u001b[0m \u001b[1;33m=\u001b[0m \u001b[0mroc_curve\u001b[0m\u001b[1;33m(\u001b[0m\u001b[0my_test\u001b[0m\u001b[1;33m,\u001b[0m \u001b[0my_scores\u001b[0m\u001b[1;33m,\u001b[0m \u001b[0mpos_label\u001b[0m\u001b[1;33m=\u001b[0m \u001b[1;36m1\u001b[0m\u001b[1;33m)\u001b[0m\u001b[1;33m\u001b[0m\u001b[1;33m\u001b[0m\u001b[0m\n\u001b[0m\u001b[0;32m      3\u001b[0m \u001b[0mroc_auc_nn\u001b[0m \u001b[1;33m=\u001b[0m \u001b[0mauc\u001b[0m\u001b[1;33m(\u001b[0m\u001b[0mfpr_nn\u001b[0m\u001b[1;33m,\u001b[0m \u001b[0mtpr_nn\u001b[0m\u001b[1;33m)\u001b[0m\u001b[1;33m\u001b[0m\u001b[1;33m\u001b[0m\u001b[0m\n",
      "\u001b[1;32m~\\Anaconda3\\lib\\site-packages\\sklearn\\utils\\validation.py\u001b[0m in \u001b[0;36minner_f\u001b[1;34m(*args, **kwargs)\u001b[0m\n\u001b[0;32m     71\u001b[0m                           FutureWarning)\n\u001b[0;32m     72\u001b[0m         \u001b[0mkwargs\u001b[0m\u001b[1;33m.\u001b[0m\u001b[0mupdate\u001b[0m\u001b[1;33m(\u001b[0m\u001b[1;33m{\u001b[0m\u001b[0mk\u001b[0m\u001b[1;33m:\u001b[0m \u001b[0marg\u001b[0m \u001b[1;32mfor\u001b[0m \u001b[0mk\u001b[0m\u001b[1;33m,\u001b[0m \u001b[0marg\u001b[0m \u001b[1;32min\u001b[0m \u001b[0mzip\u001b[0m\u001b[1;33m(\u001b[0m\u001b[0msig\u001b[0m\u001b[1;33m.\u001b[0m\u001b[0mparameters\u001b[0m\u001b[1;33m,\u001b[0m \u001b[0margs\u001b[0m\u001b[1;33m)\u001b[0m\u001b[1;33m}\u001b[0m\u001b[1;33m)\u001b[0m\u001b[1;33m\u001b[0m\u001b[1;33m\u001b[0m\u001b[0m\n\u001b[1;32m---> 73\u001b[1;33m         \u001b[1;32mreturn\u001b[0m \u001b[0mf\u001b[0m\u001b[1;33m(\u001b[0m\u001b[1;33m**\u001b[0m\u001b[0mkwargs\u001b[0m\u001b[1;33m)\u001b[0m\u001b[1;33m\u001b[0m\u001b[1;33m\u001b[0m\u001b[0m\n\u001b[0m\u001b[0;32m     74\u001b[0m     \u001b[1;32mreturn\u001b[0m \u001b[0minner_f\u001b[0m\u001b[1;33m\u001b[0m\u001b[1;33m\u001b[0m\u001b[0m\n\u001b[0;32m     75\u001b[0m \u001b[1;33m\u001b[0m\u001b[0m\n",
      "\u001b[1;32m~\\Anaconda3\\lib\\site-packages\\sklearn\\metrics\\_ranking.py\u001b[0m in \u001b[0;36mroc_curve\u001b[1;34m(y_true, y_score, pos_label, sample_weight, drop_intermediate)\u001b[0m\n\u001b[0;32m    773\u001b[0m \u001b[1;33m\u001b[0m\u001b[0m\n\u001b[0;32m    774\u001b[0m     \"\"\"\n\u001b[1;32m--> 775\u001b[1;33m     fps, tps, thresholds = _binary_clf_curve(\n\u001b[0m\u001b[0;32m    776\u001b[0m         y_true, y_score, pos_label=pos_label, sample_weight=sample_weight)\n\u001b[0;32m    777\u001b[0m \u001b[1;33m\u001b[0m\u001b[0m\n",
      "\u001b[1;32m~\\Anaconda3\\lib\\site-packages\\sklearn\\metrics\\_ranking.py\u001b[0m in \u001b[0;36m_binary_clf_curve\u001b[1;34m(y_true, y_score, pos_label, sample_weight)\u001b[0m\n\u001b[0;32m    537\u001b[0m     if not (y_type == \"binary\" or\n\u001b[0;32m    538\u001b[0m             (y_type == \"multiclass\" and pos_label is not None)):\n\u001b[1;32m--> 539\u001b[1;33m         \u001b[1;32mraise\u001b[0m \u001b[0mValueError\u001b[0m\u001b[1;33m(\u001b[0m\u001b[1;34m\"{0} format is not supported\"\u001b[0m\u001b[1;33m.\u001b[0m\u001b[0mformat\u001b[0m\u001b[1;33m(\u001b[0m\u001b[0my_type\u001b[0m\u001b[1;33m)\u001b[0m\u001b[1;33m)\u001b[0m\u001b[1;33m\u001b[0m\u001b[1;33m\u001b[0m\u001b[0m\n\u001b[0m\u001b[0;32m    540\u001b[0m \u001b[1;33m\u001b[0m\u001b[0m\n\u001b[0;32m    541\u001b[0m     \u001b[0mcheck_consistent_length\u001b[0m\u001b[1;33m(\u001b[0m\u001b[0my_true\u001b[0m\u001b[1;33m,\u001b[0m \u001b[0my_score\u001b[0m\u001b[1;33m,\u001b[0m \u001b[0msample_weight\u001b[0m\u001b[1;33m)\u001b[0m\u001b[1;33m\u001b[0m\u001b[1;33m\u001b[0m\u001b[0m\n",
      "\u001b[1;31mValueError\u001b[0m: multilabel-indicator format is not supported"
     ]
    }
   ],
   "source": [
    "y_scores = model.predict(x_test)\n",
    "fpr_nn, tpr_nn, threshold = roc_curve(y_test, y_scores, pos_label= 1)\n",
    "roc_auc_nn = auc(fpr_nn, tpr_nn)"
   ]
  },
  {
   "cell_type": "code",
   "execution_count": null,
   "metadata": {},
   "outputs": [],
   "source": [
    "import matplotlib.pyplot as plt\n",
    "fig = plt.figure(figsize=(12,10))          # Create window frame\n",
    "ax = fig.add_subplot(111)   # Create axes\n",
    "# 9.2 Also connect diagonals\n",
    "ax.plot([0, 1], [0, 1], ls=\"--\")   # Dashed diagonal line\n",
    "# 9.3 Labels etc\n",
    "ax.set_xlabel('False Positive Rate')  # Final plot decorations\n",
    "ax.set_ylabel('True Positive Rate')\n",
    "ax.set_title('ROC curve')\n",
    "# 9.4 Set graph limits\n",
    "ax.set_xlim([0.0, 1.0])\n",
    "ax.set_ylim([0.0, 1.0])\n",
    "\n",
    "# 9.5 Plot each graph now\n",
    "ax.plot(fpr_knn, tpr_knn, label = \"knn\")\n",
    "ax.plot(fpr_svm, tpr_svm, label = \"svm\")\n",
    "ax.plot(fpr_tree, tpr_tree, label = \"tree\")\n",
    "ax.plot(fpr_rf, tpr_rf, label = \"rf\")\n",
    "ax.plot(fpr_nn, tpr_nn, label = \"nn\")\n",
    "\n",
    "# 9.6 Set legend and show plot\n",
    "ax.legend(loc=\"lower right\")\n",
    "plt.show()"
   ]
  },
  {
   "cell_type": "code",
   "execution_count": null,
   "metadata": {},
   "outputs": [],
   "source": []
  },
  {
   "cell_type": "code",
   "execution_count": null,
   "metadata": {},
   "outputs": [],
   "source": []
  }
 ],
 "metadata": {
  "kernelspec": {
   "display_name": "Python 3",
   "language": "python",
   "name": "python3"
  },
  "language_info": {
   "codemirror_mode": {
    "name": "ipython",
    "version": 3
   },
   "file_extension": ".py",
   "mimetype": "text/x-python",
   "name": "python",
   "nbconvert_exporter": "python",
   "pygments_lexer": "ipython3",
   "version": "3.8.3"
  }
 },
 "nbformat": 4,
 "nbformat_minor": 4
}
