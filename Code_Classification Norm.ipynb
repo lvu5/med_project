{
 "cells": [
  {
   "cell_type": "code",
   "execution_count": 1,
   "metadata": {},
   "outputs": [],
   "source": [
    "import sklearn\n",
    "from sklearn.datasets import load_breast_cancer\n",
    "from sklearn.model_selection import train_test_split\n",
    "from sklearn.neighbors import KNeighborsClassifier\n",
    "import numpy as np\n",
    "from sklearn.metrics import accuracy_score\n",
    "import matplotlib.pyplot as plt\n",
    "from sklearn.metrics import roc_curve, auc"
   ]
  },
  {
   "cell_type": "code",
   "execution_count": 2,
   "metadata": {},
   "outputs": [],
   "source": [
    "# data = load_breast_cancer()\n",
    "# x = data.data\n",
    "# y = data.target"
   ]
  },
  {
   "cell_type": "code",
   "execution_count": 3,
   "metadata": {},
   "outputs": [
    {
     "data": {
      "text/html": [
       "<div>\n",
       "<style scoped>\n",
       "    .dataframe tbody tr th:only-of-type {\n",
       "        vertical-align: middle;\n",
       "    }\n",
       "\n",
       "    .dataframe tbody tr th {\n",
       "        vertical-align: top;\n",
       "    }\n",
       "\n",
       "    .dataframe thead th {\n",
       "        text-align: right;\n",
       "    }\n",
       "</style>\n",
       "<table border=\"1\" class=\"dataframe\">\n",
       "  <thead>\n",
       "    <tr style=\"text-align: right;\">\n",
       "      <th></th>\n",
       "      <th>ID</th>\n",
       "      <th>background_tissue</th>\n",
       "      <th>class</th>\n",
       "      <th>severity</th>\n",
       "      <th>x</th>\n",
       "      <th>y</th>\n",
       "      <th>rad</th>\n",
       "      <th>mean</th>\n",
       "      <th>var</th>\n",
       "      <th>std</th>\n",
       "      <th>min_pixel</th>\n",
       "      <th>max_pixel</th>\n",
       "      <th>min_coor_x</th>\n",
       "      <th>min_coor_y</th>\n",
       "      <th>max_coor_x</th>\n",
       "      <th>max_coor_y</th>\n",
       "    </tr>\n",
       "  </thead>\n",
       "  <tbody>\n",
       "    <tr>\n",
       "      <th>0</th>\n",
       "      <td>mdb001</td>\n",
       "      <td>G</td>\n",
       "      <td>CIRC</td>\n",
       "      <td>B</td>\n",
       "      <td>535</td>\n",
       "      <td>425</td>\n",
       "      <td>197</td>\n",
       "      <td>150.781051</td>\n",
       "      <td>3205.504934</td>\n",
       "      <td>56.617179</td>\n",
       "      <td>5</td>\n",
       "      <td>221</td>\n",
       "      <td>373</td>\n",
       "      <td>710</td>\n",
       "      <td>487</td>\n",
       "      <td>632</td>\n",
       "    </tr>\n",
       "    <tr>\n",
       "      <th>1</th>\n",
       "      <td>mdb002</td>\n",
       "      <td>G</td>\n",
       "      <td>CIRC</td>\n",
       "      <td>B</td>\n",
       "      <td>522</td>\n",
       "      <td>280</td>\n",
       "      <td>69</td>\n",
       "      <td>197.870827</td>\n",
       "      <td>764.537398</td>\n",
       "      <td>27.650269</td>\n",
       "      <td>75</td>\n",
       "      <td>229</td>\n",
       "      <td>571</td>\n",
       "      <td>792</td>\n",
       "      <td>531</td>\n",
       "      <td>679</td>\n",
       "    </tr>\n",
       "    <tr>\n",
       "      <th>2</th>\n",
       "      <td>mdb005</td>\n",
       "      <td>F</td>\n",
       "      <td>CIRC</td>\n",
       "      <td>B</td>\n",
       "      <td>477</td>\n",
       "      <td>133</td>\n",
       "      <td>30</td>\n",
       "      <td>149.605105</td>\n",
       "      <td>409.222292</td>\n",
       "      <td>20.229243</td>\n",
       "      <td>84</td>\n",
       "      <td>187</td>\n",
       "      <td>481</td>\n",
       "      <td>920</td>\n",
       "      <td>476</td>\n",
       "      <td>876</td>\n",
       "    </tr>\n",
       "    <tr>\n",
       "      <th>3</th>\n",
       "      <td>mdb005</td>\n",
       "      <td>F</td>\n",
       "      <td>CIRC</td>\n",
       "      <td>B</td>\n",
       "      <td>500</td>\n",
       "      <td>168</td>\n",
       "      <td>26</td>\n",
       "      <td>162.426214</td>\n",
       "      <td>80.178549</td>\n",
       "      <td>8.954248</td>\n",
       "      <td>128</td>\n",
       "      <td>181</td>\n",
       "      <td>520</td>\n",
       "      <td>841</td>\n",
       "      <td>522</td>\n",
       "      <td>859</td>\n",
       "    </tr>\n",
       "    <tr>\n",
       "      <th>4</th>\n",
       "      <td>mdb010</td>\n",
       "      <td>F</td>\n",
       "      <td>CIRC</td>\n",
       "      <td>B</td>\n",
       "      <td>525</td>\n",
       "      <td>425</td>\n",
       "      <td>33</td>\n",
       "      <td>184.385157</td>\n",
       "      <td>127.091607</td>\n",
       "      <td>11.273491</td>\n",
       "      <td>155</td>\n",
       "      <td>208</td>\n",
       "      <td>557</td>\n",
       "      <td>599</td>\n",
       "      <td>519</td>\n",
       "      <td>598</td>\n",
       "    </tr>\n",
       "  </tbody>\n",
       "</table>\n",
       "</div>"
      ],
      "text/plain": [
       "       ID background_tissue class severity    x    y  rad        mean  \\\n",
       "0  mdb001                 G  CIRC        B  535  425  197  150.781051   \n",
       "1  mdb002                 G  CIRC        B  522  280   69  197.870827   \n",
       "2  mdb005                 F  CIRC        B  477  133   30  149.605105   \n",
       "3  mdb005                 F  CIRC        B  500  168   26  162.426214   \n",
       "4  mdb010                 F  CIRC        B  525  425   33  184.385157   \n",
       "\n",
       "           var        std  min_pixel  max_pixel  min_coor_x  min_coor_y  \\\n",
       "0  3205.504934  56.617179          5        221         373         710   \n",
       "1   764.537398  27.650269         75        229         571         792   \n",
       "2   409.222292  20.229243         84        187         481         920   \n",
       "3    80.178549   8.954248        128        181         520         841   \n",
       "4   127.091607  11.273491        155        208         557         599   \n",
       "\n",
       "   max_coor_x  max_coor_y  \n",
       "0         487         632  \n",
       "1         531         679  \n",
       "2         476         876  \n",
       "3         522         859  \n",
       "4         519         598  "
      ]
     },
     "execution_count": 3,
     "metadata": {},
     "output_type": "execute_result"
    }
   ],
   "source": [
    "import pandas as pd\n",
    "data = pd.read_csv('datasets/final.csv')\n",
    "del data['Unnamed: 0']\n",
    "data.head()"
   ]
  },
  {
   "cell_type": "code",
   "execution_count": 4,
   "metadata": {},
   "outputs": [
    {
     "data": {
      "text/plain": [
       "0      1\n",
       "1      1\n",
       "2      1\n",
       "3      1\n",
       "4      1\n",
       "      ..\n",
       "307    0\n",
       "308    0\n",
       "309    0\n",
       "310    0\n",
       "311    0\n",
       "Name: severity, Length: 312, dtype: int64"
      ]
     },
     "execution_count": 4,
     "metadata": {},
     "output_type": "execute_result"
    }
   ],
   "source": [
    "x = data.iloc[:,7:12]\n",
    "y = data['severity']\n",
    "di = {'N':0, 'B':1, 'M':2}\n",
    "y = y.map(di)\n",
    "y\n"
   ]
  },
  {
   "cell_type": "code",
   "execution_count": 5,
   "metadata": {},
   "outputs": [
    {
     "data": {
      "text/plain": [
       "[235.7952171, 9077.427598999999, 95.27553516, 214, 242]"
      ]
     },
     "execution_count": 5,
     "metadata": {},
     "output_type": "execute_result"
    }
   ],
   "source": [
    "max_list = [max(x.iloc[:,i]) for i in range(5)]\n",
    "max_list"
   ]
  },
  {
   "cell_type": "code",
   "execution_count": 6,
   "metadata": {},
   "outputs": [],
   "source": [
    "#Normalize data\n",
    "for i in range(5):\n",
    "    for j in range(len(x)):\n",
    "        x.iloc[j,i] = x.iloc[j,i]/max_list[i]"
   ]
  },
  {
   "cell_type": "code",
   "execution_count": 7,
   "metadata": {},
   "outputs": [
    {
     "data": {
      "text/html": [
       "<div>\n",
       "<style scoped>\n",
       "    .dataframe tbody tr th:only-of-type {\n",
       "        vertical-align: middle;\n",
       "    }\n",
       "\n",
       "    .dataframe tbody tr th {\n",
       "        vertical-align: top;\n",
       "    }\n",
       "\n",
       "    .dataframe thead th {\n",
       "        text-align: right;\n",
       "    }\n",
       "</style>\n",
       "<table border=\"1\" class=\"dataframe\">\n",
       "  <thead>\n",
       "    <tr style=\"text-align: right;\">\n",
       "      <th></th>\n",
       "      <th>mean</th>\n",
       "      <th>var</th>\n",
       "      <th>std</th>\n",
       "      <th>min_pixel</th>\n",
       "      <th>max_pixel</th>\n",
       "    </tr>\n",
       "  </thead>\n",
       "  <tbody>\n",
       "    <tr>\n",
       "      <th>0</th>\n",
       "      <td>0.639458</td>\n",
       "      <td>0.353129</td>\n",
       "      <td>0.594247</td>\n",
       "      <td>0.023364</td>\n",
       "      <td>0.913223</td>\n",
       "    </tr>\n",
       "    <tr>\n",
       "      <th>1</th>\n",
       "      <td>0.839164</td>\n",
       "      <td>0.084224</td>\n",
       "      <td>0.290214</td>\n",
       "      <td>0.350467</td>\n",
       "      <td>0.946281</td>\n",
       "    </tr>\n",
       "    <tr>\n",
       "      <th>2</th>\n",
       "      <td>0.634470</td>\n",
       "      <td>0.045081</td>\n",
       "      <td>0.212324</td>\n",
       "      <td>0.392523</td>\n",
       "      <td>0.772727</td>\n",
       "    </tr>\n",
       "    <tr>\n",
       "      <th>3</th>\n",
       "      <td>0.688844</td>\n",
       "      <td>0.008833</td>\n",
       "      <td>0.093983</td>\n",
       "      <td>0.598131</td>\n",
       "      <td>0.747934</td>\n",
       "    </tr>\n",
       "    <tr>\n",
       "      <th>4</th>\n",
       "      <td>0.781972</td>\n",
       "      <td>0.014001</td>\n",
       "      <td>0.118325</td>\n",
       "      <td>0.724299</td>\n",
       "      <td>0.859504</td>\n",
       "    </tr>\n",
       "    <tr>\n",
       "      <th>...</th>\n",
       "      <td>...</td>\n",
       "      <td>...</td>\n",
       "      <td>...</td>\n",
       "      <td>...</td>\n",
       "      <td>...</td>\n",
       "    </tr>\n",
       "    <tr>\n",
       "      <th>307</th>\n",
       "      <td>0.059514</td>\n",
       "      <td>0.000056</td>\n",
       "      <td>0.007465</td>\n",
       "      <td>0.051402</td>\n",
       "      <td>0.144628</td>\n",
       "    </tr>\n",
       "    <tr>\n",
       "      <th>308</th>\n",
       "      <td>0.618812</td>\n",
       "      <td>0.003099</td>\n",
       "      <td>0.055668</td>\n",
       "      <td>0.607477</td>\n",
       "      <td>0.694215</td>\n",
       "    </tr>\n",
       "    <tr>\n",
       "      <th>309</th>\n",
       "      <td>0.829444</td>\n",
       "      <td>0.051866</td>\n",
       "      <td>0.227741</td>\n",
       "      <td>0.682243</td>\n",
       "      <td>0.938017</td>\n",
       "    </tr>\n",
       "    <tr>\n",
       "      <th>310</th>\n",
       "      <td>0.753895</td>\n",
       "      <td>0.003356</td>\n",
       "      <td>0.057931</td>\n",
       "      <td>0.761682</td>\n",
       "      <td>0.822314</td>\n",
       "    </tr>\n",
       "    <tr>\n",
       "      <th>311</th>\n",
       "      <td>0.038143</td>\n",
       "      <td>0.000856</td>\n",
       "      <td>0.029252</td>\n",
       "      <td>0.028037</td>\n",
       "      <td>0.099174</td>\n",
       "    </tr>\n",
       "  </tbody>\n",
       "</table>\n",
       "<p>312 rows × 5 columns</p>\n",
       "</div>"
      ],
      "text/plain": [
       "         mean       var       std  min_pixel  max_pixel\n",
       "0    0.639458  0.353129  0.594247   0.023364   0.913223\n",
       "1    0.839164  0.084224  0.290214   0.350467   0.946281\n",
       "2    0.634470  0.045081  0.212324   0.392523   0.772727\n",
       "3    0.688844  0.008833  0.093983   0.598131   0.747934\n",
       "4    0.781972  0.014001  0.118325   0.724299   0.859504\n",
       "..        ...       ...       ...        ...        ...\n",
       "307  0.059514  0.000056  0.007465   0.051402   0.144628\n",
       "308  0.618812  0.003099  0.055668   0.607477   0.694215\n",
       "309  0.829444  0.051866  0.227741   0.682243   0.938017\n",
       "310  0.753895  0.003356  0.057931   0.761682   0.822314\n",
       "311  0.038143  0.000856  0.029252   0.028037   0.099174\n",
       "\n",
       "[312 rows x 5 columns]"
      ]
     },
     "execution_count": 7,
     "metadata": {},
     "output_type": "execute_result"
    }
   ],
   "source": [
    "x"
   ]
  },
  {
   "cell_type": "code",
   "execution_count": 8,
   "metadata": {},
   "outputs": [],
   "source": [
    "x_train, x_test, y_train, y_test = train_test_split(x, y,test_size = 0.2, random_state=42, stratify = y)"
   ]
  },
  {
   "cell_type": "markdown",
   "metadata": {},
   "source": [
    "# KNN"
   ]
  },
  {
   "cell_type": "code",
   "execution_count": 9,
   "metadata": {},
   "outputs": [
    {
     "name": "stderr",
     "output_type": "stream",
     "text": [
      "C:\\Users\\huyenntx1\\Miniconda3\\lib\\site-packages\\sklearn\\model_selection\\_validation.py:548: FitFailedWarning: Estimator fit failed. The score on this train-test partition for these parameters will be set to nan. Details: \n",
      "Traceback (most recent call last):\n",
      "  File \"C:\\Users\\huyenntx1\\Miniconda3\\lib\\site-packages\\sklearn\\model_selection\\_validation.py\", line 531, in _fit_and_score\n",
      "    estimator.fit(X_train, y_train, **fit_params)\n",
      "  File \"C:\\Users\\huyenntx1\\Miniconda3\\lib\\site-packages\\sklearn\\neighbors\\_base.py\", line 1157, in fit\n",
      "    return self._fit(X)\n",
      "  File \"C:\\Users\\huyenntx1\\Miniconda3\\lib\\site-packages\\sklearn\\neighbors\\_base.py\", line 467, in _fit\n",
      "    raise ValueError(\n",
      "ValueError: Expected n_neighbors > 0. Got 0\n",
      "\n",
      "  warnings.warn(\"Estimator fit failed. The score on this train-test\"\n",
      "C:\\Users\\huyenntx1\\Miniconda3\\lib\\site-packages\\sklearn\\model_selection\\_validation.py:548: FitFailedWarning: Estimator fit failed. The score on this train-test partition for these parameters will be set to nan. Details: \n",
      "Traceback (most recent call last):\n",
      "  File \"C:\\Users\\huyenntx1\\Miniconda3\\lib\\site-packages\\sklearn\\model_selection\\_validation.py\", line 531, in _fit_and_score\n",
      "    estimator.fit(X_train, y_train, **fit_params)\n",
      "  File \"C:\\Users\\huyenntx1\\Miniconda3\\lib\\site-packages\\sklearn\\neighbors\\_base.py\", line 1157, in fit\n",
      "    return self._fit(X)\n",
      "  File \"C:\\Users\\huyenntx1\\Miniconda3\\lib\\site-packages\\sklearn\\neighbors\\_base.py\", line 467, in _fit\n",
      "    raise ValueError(\n",
      "ValueError: Expected n_neighbors > 0. Got 0\n",
      "\n",
      "  warnings.warn(\"Estimator fit failed. The score on this train-test\"\n",
      "C:\\Users\\huyenntx1\\Miniconda3\\lib\\site-packages\\sklearn\\model_selection\\_validation.py:548: FitFailedWarning: Estimator fit failed. The score on this train-test partition for these parameters will be set to nan. Details: \n",
      "Traceback (most recent call last):\n",
      "  File \"C:\\Users\\huyenntx1\\Miniconda3\\lib\\site-packages\\sklearn\\model_selection\\_validation.py\", line 531, in _fit_and_score\n",
      "    estimator.fit(X_train, y_train, **fit_params)\n",
      "  File \"C:\\Users\\huyenntx1\\Miniconda3\\lib\\site-packages\\sklearn\\neighbors\\_base.py\", line 1157, in fit\n",
      "    return self._fit(X)\n",
      "  File \"C:\\Users\\huyenntx1\\Miniconda3\\lib\\site-packages\\sklearn\\neighbors\\_base.py\", line 467, in _fit\n",
      "    raise ValueError(\n",
      "ValueError: Expected n_neighbors > 0. Got 0\n",
      "\n",
      "  warnings.warn(\"Estimator fit failed. The score on this train-test\"\n",
      "C:\\Users\\huyenntx1\\Miniconda3\\lib\\site-packages\\sklearn\\model_selection\\_validation.py:548: FitFailedWarning: Estimator fit failed. The score on this train-test partition for these parameters will be set to nan. Details: \n",
      "Traceback (most recent call last):\n",
      "  File \"C:\\Users\\huyenntx1\\Miniconda3\\lib\\site-packages\\sklearn\\model_selection\\_validation.py\", line 531, in _fit_and_score\n",
      "    estimator.fit(X_train, y_train, **fit_params)\n",
      "  File \"C:\\Users\\huyenntx1\\Miniconda3\\lib\\site-packages\\sklearn\\neighbors\\_base.py\", line 1157, in fit\n",
      "    return self._fit(X)\n",
      "  File \"C:\\Users\\huyenntx1\\Miniconda3\\lib\\site-packages\\sklearn\\neighbors\\_base.py\", line 467, in _fit\n",
      "    raise ValueError(\n",
      "ValueError: Expected n_neighbors > 0. Got 0\n",
      "\n",
      "  warnings.warn(\"Estimator fit failed. The score on this train-test\"\n",
      "C:\\Users\\huyenntx1\\Miniconda3\\lib\\site-packages\\sklearn\\model_selection\\_validation.py:548: FitFailedWarning: Estimator fit failed. The score on this train-test partition for these parameters will be set to nan. Details: \n",
      "Traceback (most recent call last):\n",
      "  File \"C:\\Users\\huyenntx1\\Miniconda3\\lib\\site-packages\\sklearn\\model_selection\\_validation.py\", line 531, in _fit_and_score\n",
      "    estimator.fit(X_train, y_train, **fit_params)\n",
      "  File \"C:\\Users\\huyenntx1\\Miniconda3\\lib\\site-packages\\sklearn\\neighbors\\_base.py\", line 1157, in fit\n",
      "    return self._fit(X)\n",
      "  File \"C:\\Users\\huyenntx1\\Miniconda3\\lib\\site-packages\\sklearn\\neighbors\\_base.py\", line 467, in _fit\n",
      "    raise ValueError(\n",
      "ValueError: Expected n_neighbors > 0. Got 0\n",
      "\n",
      "  warnings.warn(\"Estimator fit failed. The score on this train-test\"\n"
     ]
    },
    {
     "data": {
      "text/plain": [
       "{'n_neighbors': 12}"
      ]
     },
     "execution_count": 9,
     "metadata": {},
     "output_type": "execute_result"
    }
   ],
   "source": [
    "from sklearn.model_selection import GridSearchCV\n",
    "params = {'n_neighbors':np.arange(15)}\n",
    "reg = KNeighborsClassifier()\n",
    "model = GridSearchCV(reg, params, cv=5)\n",
    "model.fit(x_train,y_train)\n",
    "model.best_params_"
   ]
  },
  {
   "cell_type": "code",
   "execution_count": 10,
   "metadata": {},
   "outputs": [
    {
     "name": "stdout",
     "output_type": "stream",
     "text": [
      "Test set R^2: 0.59\n"
     ]
    },
    {
     "data": {
      "text/plain": [
       "array([0, 0, 0, 0, 0, 0, 1, 1, 0, 0, 0, 0, 0, 0, 0, 0, 0, 0, 1, 0, 0, 0,\n",
       "       0, 0, 2, 0, 0, 0, 0, 0, 0, 0, 0, 1, 0, 1, 0, 0, 0, 0, 0, 0, 0, 1,\n",
       "       0, 0, 0, 0, 0, 0, 0, 0, 1, 0, 1, 1, 0, 1, 0, 0, 0, 0, 0],\n",
       "      dtype=int64)"
      ]
     },
     "execution_count": 10,
     "metadata": {},
     "output_type": "execute_result"
    }
   ],
   "source": [
    "knn = KNeighborsClassifier(n_neighbors=12)\n",
    "knn.fit(x_train, y_train)\n",
    "print(\"Test set R^2: {:.2f}\".format(knn.score(x_test, y_test)))\n",
    "y_pred = knn.predict(x_test)\n",
    "y_pred"
   ]
  },
  {
   "cell_type": "code",
   "execution_count": 13,
   "metadata": {},
   "outputs": [
    {
     "data": {
      "text/plain": [
       "array([0, 0, 0, 2, 0, 0, 1, 0, 0, 0, 0, 1, 2, 1, 0, 1, 0, 1, 2, 2, 1, 0,\n",
       "       0, 1, 1, 2, 0, 0, 0, 0, 0, 0, 1, 0, 0, 0, 0, 0, 1, 1, 2, 0, 0, 2,\n",
       "       0, 1, 0, 0, 0, 1, 0, 0, 2, 0, 2, 1, 0, 0, 2, 0, 0, 0, 0],\n",
       "      dtype=int64)"
      ]
     },
     "execution_count": 13,
     "metadata": {},
     "output_type": "execute_result"
    }
   ],
   "source": [
    "np.array(y_test)"
   ]
  },
  {
   "cell_type": "code",
   "execution_count": 48,
   "metadata": {},
   "outputs": [],
   "source": [
    "y_scores = knn.predict_proba(x_test)\n",
    "fpr_knn, tpr_knn, threshold = roc_curve(y_test, y_scores[:, 1], pos_label= 1)\n",
    "roc_auc_knn = auc(fpr_knn, tpr_knn)"
   ]
  },
  {
   "cell_type": "code",
   "execution_count": 56,
   "metadata": {},
   "outputs": [
    {
     "name": "stdout",
     "output_type": "stream",
     "text": [
      "{'fit_time': array([0.00883293, 0.        , 0.        , 0.00199342, 0.00200152]), 'score_time': array([0.00327587, 0.        , 0.        , 0.00402141, 0.00398874]), 'test_score': array([0.53968254, 0.61904762, 0.5483871 , 0.5       , 0.64516129]), 'train_score': array([0.64658635, 0.6626506 , 0.668     , 0.652     , 0.636     ])}\n"
     ]
    }
   ],
   "source": [
    "scores = cross_validate(knn, x, y, cv=5, scoring=('accuracy'),\n",
    "                        return_train_score=True)\n",
    "print(scores)"
   ]
  },
  {
   "cell_type": "markdown",
   "metadata": {},
   "source": [
    "# SVM\n"
   ]
  },
  {
   "cell_type": "code",
   "execution_count": 15,
   "metadata": {},
   "outputs": [
    {
     "data": {
      "text/plain": [
       "SVC(C=30)"
      ]
     },
     "execution_count": 15,
     "metadata": {},
     "output_type": "execute_result"
    }
   ],
   "source": [
    "svm = sklearn.svm.SVC(C = 30, kernel='rbf')\n",
    "svm.fit(x_train, y_train)"
   ]
  },
  {
   "cell_type": "code",
   "execution_count": 16,
   "metadata": {},
   "outputs": [
    {
     "data": {
      "text/plain": [
       "0.6907630522088354"
      ]
     },
     "execution_count": 16,
     "metadata": {},
     "output_type": "execute_result"
    }
   ],
   "source": [
    "svm.score(x_train, y_train)\n"
   ]
  },
  {
   "cell_type": "code",
   "execution_count": 17,
   "metadata": {},
   "outputs": [
    {
     "data": {
      "text/plain": [
       "0.5714285714285714"
      ]
     },
     "execution_count": 17,
     "metadata": {},
     "output_type": "execute_result"
    }
   ],
   "source": [
    "svm.score(x_test, y_test)\n"
   ]
  },
  {
   "cell_type": "code",
   "execution_count": 18,
   "metadata": {},
   "outputs": [],
   "source": [
    "y_pred = svm.predict(x_test)\n"
   ]
  },
  {
   "cell_type": "code",
   "execution_count": 50,
   "metadata": {},
   "outputs": [],
   "source": [
    "y_scores = svm.predict(x_test)\n",
    "fpr_svm, tpr_svm, threshold = roc_curve(y_test, y_scores, pos_label= 1)\n",
    "roc_auc_svm = auc(fpr_svm, tpr_svm)"
   ]
  },
  {
   "cell_type": "code",
   "execution_count": 19,
   "metadata": {},
   "outputs": [
    {
     "name": "stdout",
     "output_type": "stream",
     "text": [
      "{'fit_time': array([0.00798392, 0.00549316, 0.00698161, 0.00797749, 0.00603414]), 'score_time': array([0.00249815, 0.00150394, 0.0030086 , 0.0039897 , 0.00198317]), 'test_score': array([0.61904762, 0.68253968, 0.62903226, 0.48387097, 0.61290323]), 'train_score': array([0.6746988 , 0.67871486, 0.672     , 0.736     , 0.68      ])}\n"
     ]
    }
   ],
   "source": [
    "from sklearn.model_selection import cross_validate\n",
    "scores = cross_validate(svm, x, y, cv=5, scoring=('accuracy'),\n",
    "                        return_train_score=True)\n",
    "print(scores)"
   ]
  },
  {
   "cell_type": "markdown",
   "metadata": {},
   "source": [
    "# Decision Tree\n"
   ]
  },
  {
   "cell_type": "code",
   "execution_count": 11,
   "metadata": {},
   "outputs": [],
   "source": [
    "from sklearn.tree import DecisionTreeClassifier\n"
   ]
  },
  {
   "cell_type": "code",
   "execution_count": 12,
   "metadata": {},
   "outputs": [],
   "source": [
    "# tree=DecisionTreeClassifier(max_depth=2,random_state=42)\n",
    "tree = DecisionTreeClassifier(random_state=42, max_depth=5)"
   ]
  },
  {
   "cell_type": "code",
   "execution_count": 13,
   "metadata": {},
   "outputs": [
    {
     "data": {
      "text/plain": [
       "DecisionTreeClassifier(max_depth=5, random_state=42)"
      ]
     },
     "execution_count": 13,
     "metadata": {},
     "output_type": "execute_result"
    }
   ],
   "source": [
    "tree.fit(x_train, y_train)"
   ]
  },
  {
   "cell_type": "code",
   "execution_count": 14,
   "metadata": {},
   "outputs": [],
   "source": [
    "y_pred = tree.predict(x_test)"
   ]
  },
  {
   "cell_type": "code",
   "execution_count": 15,
   "metadata": {},
   "outputs": [
    {
     "name": "stdout",
     "output_type": "stream",
     "text": [
      "Độ chính xác tập huấn luyện: 0.7751\n",
      "Độ chính xác tập kiểm tra: 0.5873\n"
     ]
    }
   ],
   "source": [
    "print('Độ chính xác tập huấn luyện: {:.4f}'.format(tree.score(x_train, y_train)))\n",
    "print('Độ chính xác tập kiểm tra: {:.4f}'.format(tree.score(x_test, y_test)))"
   ]
  },
  {
   "cell_type": "code",
   "execution_count": 16,
   "metadata": {},
   "outputs": [],
   "source": [
    "from sklearn.model_selection import cross_val_score, cross_val_predict\n",
    "from sklearn.metrics import accuracy_score, classification_report, confusion_matrix\n",
    "def print_score(clf, X_train, y_train, X_test, y_test, train=True):\n",
    "    '''\n",
    "    print the accuracy score, classification report and confusion matrix of classifier\n",
    "    '''\n",
    "    if train:\n",
    "        '''\n",
    "        training performance\n",
    "        '''\n",
    "        print(\"Train Result:\\n\")\n",
    "        print(\"accuracy score: {0:.4f}\\n\".format(accuracy_score(y_train, clf.predict(X_train))))\n",
    "        print(\"Classification Report: \\n {}\\n\".format(classification_report(y_train, clf.predict(X_train))))\n",
    "        print(\"Confusion Matrix: \\n {}\\n\".format(confusion_matrix(y_train, clf.predict(X_train))))\n",
    "\n",
    "        res = cross_val_score(clf, X_train, y_train.ravel(), cv=10, scoring='accuracy')\n",
    "        print(\"Average Accuracy: \\t {0:.4f}\".format(np.mean(res)))\n",
    "        print(\"Accuracy SD: \\t\\t {0:.4f}\".format(np.std(res)))\n",
    "        \n",
    "    elif train==False:\n",
    "        '''\n",
    "        test performance\n",
    "        '''\n",
    "        print(\"Test Result:\\n\")        \n",
    "        print(\"accuracy score: {0:.4f}\\n\".format(accuracy_score(y_test, clf.predict(X_test))))\n",
    "        print(\"Classification Report: \\n {}\\n\".format(classification_report(y_test, clf.predict(X_test))))\n",
    "        print(\"Confusion Matrix: \\n {}\\n\".format(confusion_matrix(y_test, clf.predict(X_test))))    \n",
    "        "
   ]
  },
  {
   "cell_type": "code",
   "execution_count": 17,
   "metadata": {},
   "outputs": [
    {
     "name": "stdout",
     "output_type": "stream",
     "text": [
      "Test Result:\n",
      "\n",
      "accuracy score: 0.5873\n",
      "\n",
      "Classification Report: \n",
      "               precision    recall  f1-score   support\n",
      "\n",
      "           0       0.68      0.87      0.76        39\n",
      "           1       0.25      0.14      0.18        14\n",
      "           2       0.20      0.10      0.13        10\n",
      "\n",
      "    accuracy                           0.59        63\n",
      "   macro avg       0.38      0.37      0.36        63\n",
      "weighted avg       0.51      0.59      0.53        63\n",
      "\n",
      "\n",
      "Confusion Matrix: \n",
      " [[34  3  2]\n",
      " [10  2  2]\n",
      " [ 6  3  1]]\n",
      "\n"
     ]
    }
   ],
   "source": [
    "print_score(tree, x_train, y_train, x_test, y_test, train=False)"
   ]
  },
  {
   "cell_type": "code",
   "execution_count": 51,
   "metadata": {},
   "outputs": [],
   "source": [
    "y_scores = tree.predict_proba(x_test)\n",
    "fpr_tree, tpr_tree, threshold = roc_curve(y_test, y_scores[:, 1], pos_label= 1)\n",
    "roc_auc_tree = auc(fpr_tree, tpr_tree)"
   ]
  },
  {
   "cell_type": "code",
   "execution_count": 27,
   "metadata": {},
   "outputs": [
    {
     "name": "stdout",
     "output_type": "stream",
     "text": [
      "{'fit_time': array([0.005584  , 0.00357151, 0.00395918, 0.00397038, 0.00396061]), 'score_time': array([0.00199652, 0.00154519, 0.00299597, 0.00299311, 0.00103235]), 'test_score': array([0.58730159, 0.55555556, 0.51612903, 0.4516129 , 0.56451613]), 'train_score': array([1., 1., 1., 1., 1.])}\n"
     ]
    }
   ],
   "source": [
    "scores = cross_validate(tree, x, y, cv=5, scoring=('accuracy'),\n",
    "                        return_train_score=True)\n",
    "print(scores)"
   ]
  },
  {
   "cell_type": "markdown",
   "metadata": {},
   "source": [
    "# Random forest\n"
   ]
  },
  {
   "cell_type": "code",
   "execution_count": 21,
   "metadata": {},
   "outputs": [],
   "source": [
    "from sklearn.ensemble import RandomForestClassifier"
   ]
  },
  {
   "cell_type": "code",
   "execution_count": 22,
   "metadata": {},
   "outputs": [
    {
     "data": {
      "text/plain": [
       "RandomForestClassifier(n_estimators=10)"
      ]
     },
     "execution_count": 22,
     "metadata": {},
     "output_type": "execute_result"
    }
   ],
   "source": [
    "rf = RandomForestClassifier(n_estimators=10)\n",
    "rf.fit(x_train, y_train)"
   ]
  },
  {
   "cell_type": "code",
   "execution_count": 23,
   "metadata": {},
   "outputs": [
    {
     "name": "stdout",
     "output_type": "stream",
     "text": [
      "Train Result:\n",
      "\n",
      "accuracy score: 0.9719\n",
      "\n",
      "Classification Report: \n",
      "               precision    recall  f1-score   support\n",
      "\n",
      "           0       0.98      0.99      0.98       154\n",
      "           1       0.96      0.96      0.96        54\n",
      "           2       0.95      0.93      0.94        41\n",
      "\n",
      "    accuracy                           0.97       249\n",
      "   macro avg       0.96      0.96      0.96       249\n",
      "weighted avg       0.97      0.97      0.97       249\n",
      "\n",
      "\n",
      "Confusion Matrix: \n",
      " [[152   1   1]\n",
      " [  1  52   1]\n",
      " [  2   1  38]]\n",
      "\n",
      "Average Accuracy: \t 0.5778\n",
      "Accuracy SD: \t\t 0.0834\n",
      "\n",
      "\n",
      "Test Result:\n",
      "\n",
      "accuracy score: 0.6349\n",
      "\n",
      "Classification Report: \n",
      "               precision    recall  f1-score   support\n",
      "\n",
      "           0       0.71      0.90      0.80        39\n",
      "           1       0.33      0.21      0.26        14\n",
      "           2       0.40      0.20      0.27        10\n",
      "\n",
      "    accuracy                           0.63        63\n",
      "   macro avg       0.48      0.44      0.44        63\n",
      "weighted avg       0.58      0.63      0.59        63\n",
      "\n",
      "\n",
      "Confusion Matrix: \n",
      " [[35  3  1]\n",
      " [ 9  3  2]\n",
      " [ 5  3  2]]\n",
      "\n"
     ]
    }
   ],
   "source": [
    "print_score(rf, x_train, y_train, x_test, y_test, train=True)\n",
    "print('\\n')\n",
    "print_score(rf, x_train, y_train, x_test, y_test, train=False)"
   ]
  },
  {
   "cell_type": "code",
   "execution_count": 52,
   "metadata": {},
   "outputs": [],
   "source": [
    "y_scores = rf.predict_proba(x_test)\n",
    "fpr_rf, tpr_rf, threshold = roc_curve(y_test, y_scores[:, 1], pos_label= 1)\n",
    "roc_auc_rf = auc(fpr_rf, tpr_rf)"
   ]
  },
  {
   "cell_type": "code",
   "execution_count": 31,
   "metadata": {},
   "outputs": [
    {
     "name": "stdout",
     "output_type": "stream",
     "text": [
      "{'fit_time': array([0.02995563, 0.01495862, 0.01596785, 0.00611329, 0.01565886]), 'score_time': array([0.00398469, 0.00299287, 0.00199795, 0.        , 0.        ]), 'test_score': array([0.57142857, 0.53968254, 0.56451613, 0.5       , 0.56451613]), 'train_score': array([0.97590361, 0.96787149, 0.988     , 0.96      , 0.976     ])}\n"
     ]
    }
   ],
   "source": [
    "scores = cross_validate(rf, x, y, cv=5, scoring=('accuracy'),\n",
    "                        return_train_score=True)\n",
    "print(scores)"
   ]
  },
  {
   "cell_type": "markdown",
   "metadata": {},
   "source": [
    "# Neural Network\n"
   ]
  },
  {
   "cell_type": "code",
   "execution_count": 36,
   "metadata": {},
   "outputs": [
    {
     "name": "stdout",
     "output_type": "stream",
     "text": [
      "Model: \"sequential_2\"\n",
      "_________________________________________________________________\n",
      "Layer (type)                 Output Shape              Param #   \n",
      "=================================================================\n",
      "dense_6 (Dense)              (None, 16)                96        \n",
      "_________________________________________________________________\n",
      "dense_7 (Dense)              (None, 16)                272       \n",
      "_________________________________________________________________\n",
      "dense_8 (Dense)              (None, 3)                 51        \n",
      "=================================================================\n",
      "Total params: 419\n",
      "Trainable params: 419\n",
      "Non-trainable params: 0\n",
      "_________________________________________________________________\n"
     ]
    }
   ],
   "source": [
    "# build model\n",
    "import tensorflow.keras as keras\n",
    "from tensorflow.keras.models import Sequential\n",
    "from tensorflow.keras.layers import Dense, Dropout, Activation\n",
    "\n",
    "model = Sequential()\n",
    "model.add(Dense(units=16, activation='relu', input_shape=(5,)))\n",
    "Dropout(0.25)\n",
    "model.add(Dense(units=16, activation='relu'))\n",
    "Dropout(0.25)\n",
    "model.add(Dense(units=3, activation='softmax'))\n",
    "model.summary()\n"
   ]
  },
  {
   "cell_type": "code",
   "execution_count": 37,
   "metadata": {},
   "outputs": [],
   "source": [
    "# x_train, x_val, y_train, y_val = train_test_split(x_train, y_train, test_size=0.25, random_state=42, stratify = y_train)"
   ]
  },
  {
   "cell_type": "code",
   "execution_count": 38,
   "metadata": {},
   "outputs": [],
   "source": [
    "# y_train = keras.utils.to_categorical(y_train, 3)\n",
    "# y_val = keras.utils.to_categorical(y_val, 3)\n",
    "# y_test = keras.utils.to_categorical(y_test, 3)\n",
    "# print('categorical y_train: ', y_train.shape)\n",
    "# print('categorical y_val : ', y_val.shape)\n",
    "# print('categorical y_test : ', y_test.shape)"
   ]
  },
  {
   "cell_type": "code",
   "execution_count": 39,
   "metadata": {},
   "outputs": [],
   "source": [
    "from tensorflow.keras.optimizers import SGD\n",
    "# Compile model\n",
    "epochs = 100\n",
    "lr = 0.0001\n",
    "# decay = lr/epochs\n",
    "# sgd = SGD(lr=lr, momentum=0.9, decay=decay, nesterov=False)\n",
    "model.compile(loss='categorical_crossentropy', optimizer=keras.optimizers.SGD(lr=lr), metrics=['accuracy'])"
   ]
  },
  {
   "cell_type": "code",
   "execution_count": 40,
   "metadata": {},
   "outputs": [
    {
     "name": "stdout",
     "output_type": "stream",
     "text": [
      "Epoch 1/100\n",
      "6/6 [==============================] - 0s 34ms/step - loss: 1.0705 - accuracy: 0.4885 - val_loss: 1.0746 - val_accuracy: 0.4921\n",
      "Epoch 2/100\n",
      "6/6 [==============================] - 0s 8ms/step - loss: 1.0809 - accuracy: 0.5218 - val_loss: 1.0744 - val_accuracy: 0.5079\n",
      "Epoch 3/100\n",
      "6/6 [==============================] - 0s 8ms/step - loss: 1.0735 - accuracy: 0.5376 - val_loss: 1.0742 - val_accuracy: 0.5397\n",
      "Epoch 4/100\n",
      "6/6 [==============================] - 0s 8ms/step - loss: 1.0683 - accuracy: 0.6355 - val_loss: 1.0741 - val_accuracy: 0.5556\n",
      "Epoch 5/100\n",
      "6/6 [==============================] - 0s 7ms/step - loss: 1.0732 - accuracy: 0.5708 - val_loss: 1.0739 - val_accuracy: 0.5714\n",
      "Epoch 6/100\n",
      "6/6 [==============================] - 0s 8ms/step - loss: 1.0715 - accuracy: 0.5657 - val_loss: 1.0738 - val_accuracy: 0.5873\n",
      "Epoch 7/100\n",
      "6/6 [==============================] - 0s 8ms/step - loss: 1.0688 - accuracy: 0.5937 - val_loss: 1.0736 - val_accuracy: 0.6032\n",
      "Epoch 8/100\n",
      "6/6 [==============================] - 0s 8ms/step - loss: 1.0690 - accuracy: 0.5969 - val_loss: 1.0735 - val_accuracy: 0.6032\n",
      "Epoch 9/100\n",
      "6/6 [==============================] - 0s 8ms/step - loss: 1.0665 - accuracy: 0.6177 - val_loss: 1.0733 - val_accuracy: 0.6190\n",
      "Epoch 10/100\n",
      "6/6 [==============================] - 0s 8ms/step - loss: 1.0700 - accuracy: 0.5884 - val_loss: 1.0731 - val_accuracy: 0.6190\n",
      "Epoch 11/100\n",
      "6/6 [==============================] - 0s 8ms/step - loss: 1.0689 - accuracy: 0.6265 - val_loss: 1.0730 - val_accuracy: 0.6190\n",
      "Epoch 12/100\n",
      "6/6 [==============================] - 0s 9ms/step - loss: 1.0768 - accuracy: 0.6020 - val_loss: 1.0728 - val_accuracy: 0.6190\n",
      "Epoch 13/100\n",
      "6/6 [==============================] - 0s 8ms/step - loss: 1.0764 - accuracy: 0.6020 - val_loss: 1.0727 - val_accuracy: 0.5873\n",
      "Epoch 14/100\n",
      "6/6 [==============================] - 0s 9ms/step - loss: 1.0717 - accuracy: 0.6288 - val_loss: 1.0725 - val_accuracy: 0.5873\n",
      "Epoch 15/100\n",
      "6/6 [==============================] - 0s 8ms/step - loss: 1.0698 - accuracy: 0.5969 - val_loss: 1.0724 - val_accuracy: 0.5873\n",
      "Epoch 16/100\n",
      "6/6 [==============================] - 0s 8ms/step - loss: 1.0761 - accuracy: 0.6014 - val_loss: 1.0722 - val_accuracy: 0.5873\n",
      "Epoch 17/100\n",
      "6/6 [==============================] - 0s 8ms/step - loss: 1.0692 - accuracy: 0.6337 - val_loss: 1.0720 - val_accuracy: 0.5873\n",
      "Epoch 18/100\n",
      "6/6 [==============================] - 0s 8ms/step - loss: 1.0775 - accuracy: 0.6195 - val_loss: 1.0719 - val_accuracy: 0.5873\n",
      "Epoch 19/100\n",
      "6/6 [==============================] - 0s 8ms/step - loss: 1.0666 - accuracy: 0.6065 - val_loss: 1.0717 - val_accuracy: 0.5873\n",
      "Epoch 20/100\n",
      "6/6 [==============================] - 0s 8ms/step - loss: 1.0816 - accuracy: 0.5891 - val_loss: 1.0716 - val_accuracy: 0.6032\n",
      "Epoch 21/100\n",
      "6/6 [==============================] - 0s 8ms/step - loss: 1.0682 - accuracy: 0.6410 - val_loss: 1.0714 - val_accuracy: 0.6032\n",
      "Epoch 22/100\n",
      "6/6 [==============================] - 0s 8ms/step - loss: 1.0760 - accuracy: 0.6158 - val_loss: 1.0713 - val_accuracy: 0.6032\n",
      "Epoch 23/100\n",
      "6/6 [==============================] - 0s 8ms/step - loss: 1.0642 - accuracy: 0.6323 - val_loss: 1.0711 - val_accuracy: 0.6032\n",
      "Epoch 24/100\n",
      "6/6 [==============================] - 0s 8ms/step - loss: 1.0663 - accuracy: 0.6723 - val_loss: 1.0710 - val_accuracy: 0.6032\n",
      "Epoch 25/100\n",
      "6/6 [==============================] - 0s 8ms/step - loss: 1.0699 - accuracy: 0.6296 - val_loss: 1.0708 - val_accuracy: 0.6032\n",
      "Epoch 26/100\n",
      "6/6 [==============================] - 0s 8ms/step - loss: 1.0673 - accuracy: 0.6238 - val_loss: 1.0706 - val_accuracy: 0.6032\n",
      "Epoch 27/100\n",
      "6/6 [==============================] - 0s 8ms/step - loss: 1.0799 - accuracy: 0.5949 - val_loss: 1.0705 - val_accuracy: 0.6032\n",
      "Epoch 28/100\n",
      "6/6 [==============================] - 0s 8ms/step - loss: 1.0553 - accuracy: 0.6437 - val_loss: 1.0703 - val_accuracy: 0.6032\n",
      "Epoch 29/100\n",
      "6/6 [==============================] - 0s 8ms/step - loss: 1.0827 - accuracy: 0.5608 - val_loss: 1.0702 - val_accuracy: 0.6190\n",
      "Epoch 30/100\n",
      "6/6 [==============================] - 0s 8ms/step - loss: 1.0730 - accuracy: 0.6410 - val_loss: 1.0700 - val_accuracy: 0.6190\n",
      "Epoch 31/100\n",
      "6/6 [==============================] - 0s 8ms/step - loss: 1.0739 - accuracy: 0.5978 - val_loss: 1.0699 - val_accuracy: 0.6190\n",
      "Epoch 32/100\n",
      "6/6 [==============================] - 0s 9ms/step - loss: 1.0699 - accuracy: 0.6134 - val_loss: 1.0697 - val_accuracy: 0.6190\n",
      "Epoch 33/100\n",
      "6/6 [==============================] - 0s 8ms/step - loss: 1.0708 - accuracy: 0.6314 - val_loss: 1.0696 - val_accuracy: 0.6190\n",
      "Epoch 34/100\n",
      "6/6 [==============================] - 0s 9ms/step - loss: 1.0747 - accuracy: 0.6026 - val_loss: 1.0694 - val_accuracy: 0.6190\n",
      "Epoch 35/100\n",
      "6/6 [==============================] - 0s 9ms/step - loss: 1.0754 - accuracy: 0.6165 - val_loss: 1.0693 - val_accuracy: 0.6190\n",
      "Epoch 36/100\n",
      "6/6 [==============================] - 0s 9ms/step - loss: 1.0731 - accuracy: 0.6113 - val_loss: 1.0691 - val_accuracy: 0.6190\n",
      "Epoch 37/100\n",
      "6/6 [==============================] - 0s 9ms/step - loss: 1.0715 - accuracy: 0.6109 - val_loss: 1.0690 - val_accuracy: 0.6190\n",
      "Epoch 38/100\n",
      "6/6 [==============================] - 0s 9ms/step - loss: 1.0803 - accuracy: 0.6133 - val_loss: 1.0688 - val_accuracy: 0.6190\n",
      "Epoch 39/100\n",
      "6/6 [==============================] - 0s 9ms/step - loss: 1.0702 - accuracy: 0.5943 - val_loss: 1.0687 - val_accuracy: 0.6190\n",
      "Epoch 40/100\n",
      "6/6 [==============================] - 0s 9ms/step - loss: 1.0766 - accuracy: 0.5742 - val_loss: 1.0685 - val_accuracy: 0.6190\n",
      "Epoch 41/100\n",
      "6/6 [==============================] - 0s 10ms/step - loss: 1.0797 - accuracy: 0.5806 - val_loss: 1.0684 - val_accuracy: 0.6190\n",
      "Epoch 42/100\n",
      "6/6 [==============================] - 0s 12ms/step - loss: 1.0570 - accuracy: 0.6372 - val_loss: 1.0682 - val_accuracy: 0.6190\n",
      "Epoch 43/100\n",
      "6/6 [==============================] - 0s 11ms/step - loss: 1.0640 - accuracy: 0.6256 - val_loss: 1.0681 - val_accuracy: 0.6190\n",
      "Epoch 44/100\n",
      "6/6 [==============================] - 0s 9ms/step - loss: 1.0692 - accuracy: 0.6084 - val_loss: 1.0679 - val_accuracy: 0.6190\n",
      "Epoch 45/100\n",
      "6/6 [==============================] - 0s 10ms/step - loss: 1.0696 - accuracy: 0.6356 - val_loss: 1.0678 - val_accuracy: 0.6190\n",
      "Epoch 46/100\n",
      "6/6 [==============================] - 0s 9ms/step - loss: 1.0709 - accuracy: 0.5947 - val_loss: 1.0676 - val_accuracy: 0.6190\n",
      "Epoch 47/100\n",
      "6/6 [==============================] - 0s 8ms/step - loss: 1.0764 - accuracy: 0.6104 - val_loss: 1.0675 - val_accuracy: 0.6190\n",
      "Epoch 48/100\n",
      "6/6 [==============================] - ETA: 0s - loss: 1.0644 - accuracy: 0.62 - 0s 10ms/step - loss: 1.0686 - accuracy: 0.6267 - val_loss: 1.0673 - val_accuracy: 0.6190\n",
      "Epoch 49/100\n",
      "6/6 [==============================] - 0s 10ms/step - loss: 1.0676 - accuracy: 0.6072 - val_loss: 1.0672 - val_accuracy: 0.6190\n",
      "Epoch 50/100\n",
      "6/6 [==============================] - 0s 9ms/step - loss: 1.0645 - accuracy: 0.6302 - val_loss: 1.0670 - val_accuracy: 0.6190\n",
      "Epoch 51/100\n",
      "6/6 [==============================] - 0s 9ms/step - loss: 1.0653 - accuracy: 0.6226 - val_loss: 1.0669 - val_accuracy: 0.6190\n",
      "Epoch 52/100\n",
      "6/6 [==============================] - 0s 9ms/step - loss: 1.0703 - accuracy: 0.6269 - val_loss: 1.0667 - val_accuracy: 0.6190\n",
      "Epoch 53/100\n",
      "6/6 [==============================] - 0s 9ms/step - loss: 1.0676 - accuracy: 0.6325 - val_loss: 1.0666 - val_accuracy: 0.6190\n",
      "Epoch 54/100\n",
      "6/6 [==============================] - 0s 8ms/step - loss: 1.0758 - accuracy: 0.5926 - val_loss: 1.0664 - val_accuracy: 0.6190\n",
      "Epoch 55/100\n",
      "6/6 [==============================] - 0s 9ms/step - loss: 1.0658 - accuracy: 0.6374 - val_loss: 1.0663 - val_accuracy: 0.6190\n",
      "Epoch 56/100\n",
      "6/6 [==============================] - 0s 8ms/step - loss: 1.0597 - accuracy: 0.6706 - val_loss: 1.0661 - val_accuracy: 0.6190\n",
      "Epoch 57/100\n",
      "6/6 [==============================] - 0s 8ms/step - loss: 1.0640 - accuracy: 0.6432 - val_loss: 1.0660 - val_accuracy: 0.6190\n",
      "Epoch 58/100\n",
      "6/6 [==============================] - 0s 8ms/step - loss: 1.0811 - accuracy: 0.5673 - val_loss: 1.0658 - val_accuracy: 0.6190\n",
      "Epoch 59/100\n",
      "6/6 [==============================] - 0s 9ms/step - loss: 1.0699 - accuracy: 0.6069 - val_loss: 1.0657 - val_accuracy: 0.6190\n",
      "Epoch 60/100\n",
      "6/6 [==============================] - 0s 8ms/step - loss: 1.0717 - accuracy: 0.5824 - val_loss: 1.0655 - val_accuracy: 0.6190\n",
      "Epoch 61/100\n",
      "6/6 [==============================] - 0s 9ms/step - loss: 1.0681 - accuracy: 0.6235 - val_loss: 1.0654 - val_accuracy: 0.6190\n",
      "Epoch 62/100\n",
      "6/6 [==============================] - 0s 9ms/step - loss: 1.0701 - accuracy: 0.6116 - val_loss: 1.0652 - val_accuracy: 0.6190\n",
      "Epoch 63/100\n",
      "6/6 [==============================] - 0s 9ms/step - loss: 1.0669 - accuracy: 0.5906 - val_loss: 1.0651 - val_accuracy: 0.6190\n",
      "Epoch 64/100\n",
      "6/6 [==============================] - 0s 9ms/step - loss: 1.0732 - accuracy: 0.5979 - val_loss: 1.0649 - val_accuracy: 0.6190\n",
      "Epoch 65/100\n",
      "6/6 [==============================] - 0s 7ms/step - loss: 1.0679 - accuracy: 0.6094 - val_loss: 1.0648 - val_accuracy: 0.6190\n",
      "Epoch 66/100\n",
      "6/6 [==============================] - 0s 8ms/step - loss: 1.0614 - accuracy: 0.6261 - val_loss: 1.0647 - val_accuracy: 0.6190\n",
      "Epoch 67/100\n",
      "6/6 [==============================] - 0s 8ms/step - loss: 1.0593 - accuracy: 0.6293 - val_loss: 1.0645 - val_accuracy: 0.6190\n",
      "Epoch 68/100\n",
      "6/6 [==============================] - 0s 9ms/step - loss: 1.0575 - accuracy: 0.6442 - val_loss: 1.0644 - val_accuracy: 0.6190\n",
      "Epoch 69/100\n",
      "6/6 [==============================] - 0s 9ms/step - loss: 1.0658 - accuracy: 0.6041 - val_loss: 1.0642 - val_accuracy: 0.6190\n",
      "Epoch 70/100\n",
      "6/6 [==============================] - 0s 9ms/step - loss: 1.0548 - accuracy: 0.6595 - val_loss: 1.0641 - val_accuracy: 0.6190\n",
      "Epoch 71/100\n",
      "6/6 [==============================] - 0s 8ms/step - loss: 1.0690 - accuracy: 0.5850 - val_loss: 1.0639 - val_accuracy: 0.6190\n",
      "Epoch 72/100\n",
      "6/6 [==============================] - 0s 8ms/step - loss: 1.0587 - accuracy: 0.6244 - val_loss: 1.0638 - val_accuracy: 0.6190\n",
      "Epoch 73/100\n",
      "6/6 [==============================] - 0s 9ms/step - loss: 1.0660 - accuracy: 0.5968 - val_loss: 1.0637 - val_accuracy: 0.6190\n",
      "Epoch 74/100\n",
      "6/6 [==============================] - 0s 8ms/step - loss: 1.0618 - accuracy: 0.6188 - val_loss: 1.0635 - val_accuracy: 0.6190\n",
      "Epoch 75/100\n",
      "6/6 [==============================] - 0s 9ms/step - loss: 1.0727 - accuracy: 0.5676 - val_loss: 1.0634 - val_accuracy: 0.6190\n",
      "Epoch 76/100\n",
      "6/6 [==============================] - 0s 8ms/step - loss: 1.0688 - accuracy: 0.6043 - val_loss: 1.0632 - val_accuracy: 0.6190\n",
      "Epoch 77/100\n",
      "6/6 [==============================] - 0s 8ms/step - loss: 1.0703 - accuracy: 0.5812 - val_loss: 1.0631 - val_accuracy: 0.6190\n",
      "Epoch 78/100\n",
      "6/6 [==============================] - 0s 9ms/step - loss: 1.0714 - accuracy: 0.6198 - val_loss: 1.0629 - val_accuracy: 0.6190\n",
      "Epoch 79/100\n",
      "6/6 [==============================] - 0s 9ms/step - loss: 1.0552 - accuracy: 0.6199 - val_loss: 1.0628 - val_accuracy: 0.6190\n",
      "Epoch 80/100\n",
      "6/6 [==============================] - 0s 9ms/step - loss: 1.0628 - accuracy: 0.6339 - val_loss: 1.0626 - val_accuracy: 0.6190\n",
      "Epoch 81/100\n",
      "6/6 [==============================] - 0s 8ms/step - loss: 1.0627 - accuracy: 0.6235 - val_loss: 1.0625 - val_accuracy: 0.6190\n",
      "Epoch 82/100\n",
      "6/6 [==============================] - 0s 9ms/step - loss: 1.0640 - accuracy: 0.6134 - val_loss: 1.0624 - val_accuracy: 0.6190\n",
      "Epoch 83/100\n",
      "6/6 [==============================] - 0s 8ms/step - loss: 1.0627 - accuracy: 0.6293 - val_loss: 1.0622 - val_accuracy: 0.6190\n",
      "Epoch 84/100\n",
      "6/6 [==============================] - 0s 8ms/step - loss: 1.0709 - accuracy: 0.5831 - val_loss: 1.0621 - val_accuracy: 0.6190\n",
      "Epoch 85/100\n",
      "6/6 [==============================] - 0s 9ms/step - loss: 1.0632 - accuracy: 0.5861 - val_loss: 1.0619 - val_accuracy: 0.6190\n",
      "Epoch 86/100\n",
      "6/6 [==============================] - 0s 8ms/step - loss: 1.0533 - accuracy: 0.6665 - val_loss: 1.0618 - val_accuracy: 0.6190\n",
      "Epoch 87/100\n",
      "6/6 [==============================] - 0s 8ms/step - loss: 1.0561 - accuracy: 0.6379 - val_loss: 1.0617 - val_accuracy: 0.6190\n",
      "Epoch 88/100\n",
      "6/6 [==============================] - 0s 9ms/step - loss: 1.0634 - accuracy: 0.6174 - val_loss: 1.0615 - val_accuracy: 0.6190\n",
      "Epoch 89/100\n",
      "6/6 [==============================] - 0s 8ms/step - loss: 1.0743 - accuracy: 0.5999 - val_loss: 1.0614 - val_accuracy: 0.6190\n",
      "Epoch 90/100\n",
      "6/6 [==============================] - 0s 8ms/step - loss: 1.0649 - accuracy: 0.6081 - val_loss: 1.0612 - val_accuracy: 0.6190\n",
      "Epoch 91/100\n",
      "6/6 [==============================] - 0s 8ms/step - loss: 1.0521 - accuracy: 0.6543 - val_loss: 1.0611 - val_accuracy: 0.6190\n",
      "Epoch 92/100\n",
      "6/6 [==============================] - 0s 8ms/step - loss: 1.0614 - accuracy: 0.6209 - val_loss: 1.0610 - val_accuracy: 0.6190\n",
      "Epoch 93/100\n",
      "6/6 [==============================] - 0s 8ms/step - loss: 1.0545 - accuracy: 0.6286 - val_loss: 1.0608 - val_accuracy: 0.6190\n",
      "Epoch 94/100\n",
      "6/6 [==============================] - 0s 8ms/step - loss: 1.0609 - accuracy: 0.6206 - val_loss: 1.0607 - val_accuracy: 0.6190\n",
      "Epoch 95/100\n",
      "6/6 [==============================] - 0s 8ms/step - loss: 1.0594 - accuracy: 0.6174 - val_loss: 1.0606 - val_accuracy: 0.6190\n",
      "Epoch 96/100\n",
      "6/6 [==============================] - 0s 9ms/step - loss: 1.0590 - accuracy: 0.6118 - val_loss: 1.0604 - val_accuracy: 0.6190\n",
      "Epoch 97/100\n",
      "6/6 [==============================] - 0s 8ms/step - loss: 1.0695 - accuracy: 0.5860 - val_loss: 1.0603 - val_accuracy: 0.6190\n",
      "Epoch 98/100\n",
      "6/6 [==============================] - 0s 8ms/step - loss: 1.0639 - accuracy: 0.6242 - val_loss: 1.0601 - val_accuracy: 0.6190\n",
      "Epoch 99/100\n",
      "6/6 [==============================] - 0s 9ms/step - loss: 1.0645 - accuracy: 0.6053 - val_loss: 1.0600 - val_accuracy: 0.6190\n",
      "Epoch 100/100\n",
      "6/6 [==============================] - 0s 8ms/step - loss: 1.0685 - accuracy: 0.6088 - val_loss: 1.0599 - val_accuracy: 0.6190\n"
     ]
    }
   ],
   "source": [
    "history = model.fit(x_train, y_train,\n",
    "                    batch_size=32,\n",
    "                    epochs=epochs,\n",
    "                    verbose=True,\n",
    "                    validation_data=(x_val, y_val))"
   ]
  },
  {
   "cell_type": "code",
   "execution_count": 49,
   "metadata": {},
   "outputs": [
    {
     "name": "stdout",
     "output_type": "stream",
     "text": [
      "Saved model to disk\n"
     ]
    }
   ],
   "source": [
    "# save model as json\n",
    "model_json = model.to_json()\n",
    "with open(\"model.json\", \"w\") as json_file:\n",
    "    json_file.write(model_json)\n",
    "\n",
    "model.save_weights(\"model-norm1.h5\")\n",
    "print(\"Saved model to disk\")"
   ]
  },
  {
   "cell_type": "code",
   "execution_count": 41,
   "metadata": {},
   "outputs": [
    {
     "name": "stdout",
     "output_type": "stream",
     "text": [
      "dict_keys(['loss', 'accuracy', 'val_loss', 'val_accuracy'])\n"
     ]
    },
    {
     "data": {
      "image/png": "[encoded data removed]",
      "text/plain": [
       "<Figure size 432x288 with 1 Axes>"
      ]
     },
     "metadata": {
      "needs_background": "light"
     },
     "output_type": "display_data"
    },
    {
     "data": {
      "image/png": "[encoded data removed]",
      "text/plain": [
       "<Figure size 432x288 with 1 Axes>"
      ]
     },
     "metadata": {
      "needs_background": "light"
     },
     "output_type": "display_data"
    }
   ],
   "source": [
    "print(history.history.keys())\n",
    "# summarize history for accuracy\n",
    "plt.plot(history.history['accuracy'], marker = \"*\")\n",
    "plt.plot(history.history['val_accuracy'], marker = \"*\")\n",
    "plt.title('model accuracy')\n",
    "plt.ylabel('accuracy')\n",
    "plt.xlabel('epoch')\n",
    "plt.legend(['train', 'val'], loc='upper left')\n",
    "plt.show()\n",
    "\n",
    "# summarize history for loss\n",
    "plt.plot(history.history['loss'], marker = \"*\")\n",
    "plt.plot(history.history['val_loss'], marker = \"*\")\n",
    "plt.title('model loss')\n",
    "plt.ylabel('loss')\n",
    "plt.xlabel('epoch')\n",
    "plt.legend(['train', 'val'], loc='upper left')\n",
    "plt.show()"
   ]
  },
  {
   "cell_type": "code",
   "execution_count": 50,
   "metadata": {},
   "outputs": [
    {
     "name": "stdout",
     "output_type": "stream",
     "text": [
      "2/2 [==============================] - 0s 2ms/step - loss: 1.0599 - accuracy: 0.6190\n",
      "Test loss: 1.0599404573440552\n",
      "Test accuracy: 0.6190476417541504\n"
     ]
    }
   ],
   "source": [
    "score = model.evaluate(x_test, y_test, verbose=True)\n",
    "print('Test loss:', score[0])\n",
    "print('Test accuracy:', score[1])"
   ]
  },
  {
   "cell_type": "code",
   "execution_count": 54,
   "metadata": {},
   "outputs": [],
   "source": [
    "y_scores = model.predict(x_test)\n",
    "fpr_nn, tpr_nn, threshold = roc_curve(y_test, y_scores, pos_label= 1)\n",
    "roc_auc_nn = auc(fpr_nn, tpr_nn)"
   ]
  },
  {
   "cell_type": "code",
   "execution_count": 55,
   "metadata": {},
   "outputs": [
    {
     "data": {
      "image/png": "[encoded data removed]",
      "text/plain": [
       "<Figure size 864x720 with 1 Axes>"
      ]
     },
     "metadata": {
      "needs_background": "light"
     },
     "output_type": "display_data"
    }
   ],
   "source": [
    "import matplotlib.pyplot as plt\n",
    "fig = plt.figure(figsize=(12,10))          # Create window frame\n",
    "ax = fig.add_subplot(111)   # Create axes\n",
    "# 9.2 Also connect diagonals\n",
    "ax.plot([0, 1], [0, 1], ls=\"--\")   # Dashed diagonal line\n",
    "# 9.3 Labels etc\n",
    "ax.set_xlabel('False Positive Rate')  # Final plot decorations\n",
    "ax.set_ylabel('True Positive Rate')\n",
    "ax.set_title('ROC curve')\n",
    "# 9.4 Set graph limits\n",
    "ax.set_xlim([0.0, 1.0])\n",
    "ax.set_ylim([0.0, 1.0])\n",
    "\n",
    "# 9.5 Plot each graph now\n",
    "ax.plot(fpr_knn, tpr_knn, label = \"knn\")\n",
    "ax.plot(fpr_svm, tpr_svm, label = \"svm\")\n",
    "ax.plot(fpr_tree, tpr_tree, label = \"tree\")\n",
    "ax.plot(fpr_rf, tpr_rf, label = \"rf\")\n",
    "ax.plot(fpr_nn, tpr_nn, label = \"nn\")\n",
    "\n",
    "# 9.6 Set legend and show plot\n",
    "ax.legend(loc=\"lower right\")\n",
    "plt.show()"
   ]
  },
  {
   "cell_type": "code",
   "execution_count": null,
   "metadata": {},
   "outputs": [],
   "source": []
  }
 ],
 "metadata": {
  "kernelspec": {
   "display_name": "Python 3",
   "language": "python",
   "name": "python3"
  },
  "language_info": {
   "codemirror_mode": {
    "name": "ipython",
    "version": 3
   },
   "file_extension": ".py",
   "mimetype": "text/x-python",
   "name": "python",
   "nbconvert_exporter": "python",
   "pygments_lexer": "ipython3",
   "version": "3.8.5"
  }
 },
 "nbformat": 4,
 "nbformat_minor": 4
}
