{
 "cells": [
  {
   "cell_type": "code",
   "execution_count": 1410,
   "metadata": {},
   "outputs": [],
   "source": [
    "from PIL import Image, ImageDraw\n",
    "import numpy as np\n",
    "import pandas as pd\n",
    "import cv2\n",
    "import fnmatch\n",
    "import os\n",
    "import glob\n",
    "from sklearn.metrics import classification_report, confusion_matrix "
   ]
  },
  {
   "cell_type": "code",
   "execution_count": 1411,
   "metadata": {},
   "outputs": [],
   "source": [
    "from sklearn.ensemble import RandomForestClassifier\n",
    "from sklearn.ensemble import GradientBoostingClassifier\n",
    "from xgboost.sklearn import XGBClassifier\n",
    "from sklearn.tree import DecisionTreeClassifier\n",
    "from sklearn.ensemble import ExtraTreesClassifier\n",
    "from sklearn.neighbors import KNeighborsClassifier \n",
    "from sklearn.datasets import make_hastie_10_2\n",
    "from sklearn.svm import SVC"
   ]
  },
  {
   "cell_type": "code",
   "execution_count": 1412,
   "metadata": {},
   "outputs": [],
   "source": [
    "df = pd.read_csv(\"pleaseFinal/final_with_wavelets.csv\", index_col=0)"
   ]
  },
  {
   "cell_type": "code",
   "execution_count": 1413,
   "metadata": {},
   "outputs": [
    {
     "data": {
      "text/html": [
       "<div>\n",
       "<style scoped>\n",
       "    .dataframe tbody tr th:only-of-type {\n",
       "        vertical-align: middle;\n",
       "    }\n",
       "\n",
       "    .dataframe tbody tr th {\n",
       "        vertical-align: top;\n",
       "    }\n",
       "\n",
       "    .dataframe thead th {\n",
       "        text-align: right;\n",
       "    }\n",
       "</style>\n",
       "<table border=\"1\" class=\"dataframe\">\n",
       "  <thead>\n",
       "    <tr style=\"text-align: right;\">\n",
       "      <th></th>\n",
       "      <th>ID</th>\n",
       "      <th>background_tissue</th>\n",
       "      <th>class</th>\n",
       "      <th>severity</th>\n",
       "      <th>x</th>\n",
       "      <th>y</th>\n",
       "      <th>rad</th>\n",
       "      <th>mean</th>\n",
       "      <th>var</th>\n",
       "      <th>std</th>\n",
       "      <th>...</th>\n",
       "      <th>80</th>\n",
       "      <th>81</th>\n",
       "      <th>82</th>\n",
       "      <th>83</th>\n",
       "      <th>84</th>\n",
       "      <th>85</th>\n",
       "      <th>86</th>\n",
       "      <th>87</th>\n",
       "      <th>88</th>\n",
       "      <th>89</th>\n",
       "    </tr>\n",
       "  </thead>\n",
       "  <tbody>\n",
       "    <tr>\n",
       "      <th>0</th>\n",
       "      <td>mdb001</td>\n",
       "      <td>G</td>\n",
       "      <td>CIRC</td>\n",
       "      <td>0</td>\n",
       "      <td>535</td>\n",
       "      <td>425</td>\n",
       "      <td>197.0</td>\n",
       "      <td>150.781051</td>\n",
       "      <td>3205.504934</td>\n",
       "      <td>56.617179</td>\n",
       "      <td>...</td>\n",
       "      <td>0.077495</td>\n",
       "      <td>0.057131</td>\n",
       "      <td>0.000132</td>\n",
       "      <td>0.047860</td>\n",
       "      <td>0.047598</td>\n",
       "      <td>0.047088</td>\n",
       "      <td>0.047985</td>\n",
       "      <td>0.026360</td>\n",
       "      <td>0.048619</td>\n",
       "      <td>0.055781</td>\n",
       "    </tr>\n",
       "    <tr>\n",
       "      <th>1</th>\n",
       "      <td>mdb002</td>\n",
       "      <td>G</td>\n",
       "      <td>CIRC</td>\n",
       "      <td>0</td>\n",
       "      <td>522</td>\n",
       "      <td>280</td>\n",
       "      <td>69.0</td>\n",
       "      <td>197.870827</td>\n",
       "      <td>764.537398</td>\n",
       "      <td>27.650269</td>\n",
       "      <td>...</td>\n",
       "      <td>0.086103</td>\n",
       "      <td>0.076059</td>\n",
       "      <td>0.075255</td>\n",
       "      <td>0.083965</td>\n",
       "      <td>0.086875</td>\n",
       "      <td>0.086078</td>\n",
       "      <td>0.074783</td>\n",
       "      <td>0.070293</td>\n",
       "      <td>0.085699</td>\n",
       "      <td>0.085855</td>\n",
       "    </tr>\n",
       "    <tr>\n",
       "      <th>2</th>\n",
       "      <td>mdb005</td>\n",
       "      <td>F</td>\n",
       "      <td>CIRC</td>\n",
       "      <td>0</td>\n",
       "      <td>477</td>\n",
       "      <td>133</td>\n",
       "      <td>30.0</td>\n",
       "      <td>149.605105</td>\n",
       "      <td>409.222292</td>\n",
       "      <td>20.229243</td>\n",
       "      <td>...</td>\n",
       "      <td>0.035906</td>\n",
       "      <td>0.038000</td>\n",
       "      <td>0.039495</td>\n",
       "      <td>0.037046</td>\n",
       "      <td>0.035816</td>\n",
       "      <td>0.037235</td>\n",
       "      <td>0.054409</td>\n",
       "      <td>0.064430</td>\n",
       "      <td>0.037220</td>\n",
       "      <td>0.053017</td>\n",
       "    </tr>\n",
       "    <tr>\n",
       "      <th>3</th>\n",
       "      <td>mdb005</td>\n",
       "      <td>F</td>\n",
       "      <td>CIRC</td>\n",
       "      <td>0</td>\n",
       "      <td>500</td>\n",
       "      <td>168</td>\n",
       "      <td>26.0</td>\n",
       "      <td>162.426214</td>\n",
       "      <td>80.178549</td>\n",
       "      <td>8.954248</td>\n",
       "      <td>...</td>\n",
       "      <td>0.061391</td>\n",
       "      <td>0.052185</td>\n",
       "      <td>0.068811</td>\n",
       "      <td>0.053869</td>\n",
       "      <td>0.055789</td>\n",
       "      <td>0.062539</td>\n",
       "      <td>0.069416</td>\n",
       "      <td>0.051520</td>\n",
       "      <td>0.068235</td>\n",
       "      <td>0.068537</td>\n",
       "    </tr>\n",
       "    <tr>\n",
       "      <th>4</th>\n",
       "      <td>mdb010</td>\n",
       "      <td>F</td>\n",
       "      <td>CIRC</td>\n",
       "      <td>0</td>\n",
       "      <td>525</td>\n",
       "      <td>425</td>\n",
       "      <td>33.0</td>\n",
       "      <td>184.385157</td>\n",
       "      <td>127.091607</td>\n",
       "      <td>11.273491</td>\n",
       "      <td>...</td>\n",
       "      <td>0.064772</td>\n",
       "      <td>0.064836</td>\n",
       "      <td>0.065186</td>\n",
       "      <td>0.063458</td>\n",
       "      <td>0.065509</td>\n",
       "      <td>0.065687</td>\n",
       "      <td>0.066656</td>\n",
       "      <td>0.068120</td>\n",
       "      <td>0.064197</td>\n",
       "      <td>0.064024</td>\n",
       "    </tr>\n",
       "  </tbody>\n",
       "</table>\n",
       "<p>5 rows × 112 columns</p>\n",
       "</div>"
      ],
      "text/plain": [
       "       ID background_tissue class  severity    x    y    rad        mean  \\\n",
       "0  mdb001                 G  CIRC         0  535  425  197.0  150.781051   \n",
       "1  mdb002                 G  CIRC         0  522  280   69.0  197.870827   \n",
       "2  mdb005                 F  CIRC         0  477  133   30.0  149.605105   \n",
       "3  mdb005                 F  CIRC         0  500  168   26.0  162.426214   \n",
       "4  mdb010                 F  CIRC         0  525  425   33.0  184.385157   \n",
       "\n",
       "           var        std  ...        80        81        82        83  \\\n",
       "0  3205.504934  56.617179  ...  0.077495  0.057131  0.000132  0.047860   \n",
       "1   764.537398  27.650269  ...  0.086103  0.076059  0.075255  0.083965   \n",
       "2   409.222292  20.229243  ...  0.035906  0.038000  0.039495  0.037046   \n",
       "3    80.178549   8.954248  ...  0.061391  0.052185  0.068811  0.053869   \n",
       "4   127.091607  11.273491  ...  0.064772  0.064836  0.065186  0.063458   \n",
       "\n",
       "         84        85        86        87        88        89  \n",
       "0  0.047598  0.047088  0.047985  0.026360  0.048619  0.055781  \n",
       "1  0.086875  0.086078  0.074783  0.070293  0.085699  0.085855  \n",
       "2  0.035816  0.037235  0.054409  0.064430  0.037220  0.053017  \n",
       "3  0.055789  0.062539  0.069416  0.051520  0.068235  0.068537  \n",
       "4  0.065509  0.065687  0.066656  0.068120  0.064197  0.064024  \n",
       "\n",
       "[5 rows x 112 columns]"
      ]
     },
     "execution_count": 1413,
     "metadata": {},
     "output_type": "execute_result"
    }
   ],
   "source": [
    "df.head()"
   ]
  },
  {
   "cell_type": "code",
   "execution_count": 1414,
   "metadata": {},
   "outputs": [],
   "source": [
    "x = df.loc[:,'x':]\n",
    "y = df.loc[:,'severity']"
   ]
  },
  {
   "cell_type": "code",
   "execution_count": 1415,
   "metadata": {},
   "outputs": [],
   "source": [
    "X_train, X_test, y_train, y_test = train_test_split(x ,y, test_size = 0.2,shuffle=True,stratify=y)"
   ]
  },
  {
   "cell_type": "code",
   "execution_count": 1416,
   "metadata": {},
   "outputs": [
    {
     "name": "stdout",
     "output_type": "stream",
     "text": [
      "Fitting 5 folds for each of 24 candidates, totalling 120 fits\n",
      "[CV] C=4, kernel=rbf .................................................\n",
      "[CV] ..................... C=4, kernel=rbf, score=0.612, total=   0.0s\n",
      "[CV] C=4, kernel=rbf .................................................\n",
      "[CV] ..................... C=4, kernel=rbf, score=0.612, total=   0.0s\n",
      "[CV] C=4, kernel=rbf .................................................\n",
      "[CV] ..................... C=4, kernel=rbf, score=0.612, total=   0.0s\n",
      "[CV] C=4, kernel=rbf .................................................\n",
      "[CV] ..................... C=4, kernel=rbf, score=0.612, total=   0.0s\n",
      "[CV] C=4, kernel=rbf .................................................\n",
      "[CV] ..................... C=4, kernel=rbf, score=0.612, total=   0.0s\n",
      "[CV] C=8, kernel=rbf .................................................\n",
      "[CV] ..................... C=8, kernel=rbf, score=0.612, total=   0.0s\n",
      "[CV] C=8, kernel=rbf .................................................\n",
      "[CV] ..................... C=8, kernel=rbf, score=0.612, total=   0.0s\n",
      "[CV] C=8, kernel=rbf .................................................\n",
      "[CV] ..................... C=8, kernel=rbf, score=0.612, total=   0.0s\n",
      "[CV] C=8, kernel=rbf .................................................\n",
      "[CV] ..................... C=8, kernel=rbf, score=0.612, total=   0.0s\n",
      "[CV] C=8, kernel=rbf .................................................\n",
      "[CV] ..................... C=8, kernel=rbf, score=0.612, total=   0.0s\n",
      "[CV] C=12, kernel=rbf ................................................\n",
      "[CV] .................... C=12, kernel=rbf, score=0.612, total=   0.0s\n",
      "[CV] C=12, kernel=rbf ................................................\n",
      "[CV] .................... C=12, kernel=rbf, score=0.612, total=   0.0s\n",
      "[CV] C=12, kernel=rbf ................................................\n",
      "[CV] .................... C=12, kernel=rbf, score=0.612, total=   0.0s\n",
      "[CV] C=12, kernel=rbf ................................................\n",
      "[CV] .................... C=12, kernel=rbf, score=0.612, total=   0.0s\n",
      "[CV] C=12, kernel=rbf ................................................\n",
      "[CV] .................... C=12, kernel=rbf, score=0.612, total=   0.0s\n",
      "[CV] C=16, kernel=rbf ................................................\n"
     ]
    },
    {
     "name": "stderr",
     "output_type": "stream",
     "text": [
      "[Parallel(n_jobs=1)]: Using backend SequentialBackend with 1 concurrent workers.\n",
      "[Parallel(n_jobs=1)]: Done   1 out of   1 | elapsed:    0.0s remaining:    0.0s\n",
      "[Parallel(n_jobs=1)]: Done   2 out of   2 | elapsed:    0.0s remaining:    0.0s\n"
     ]
    },
    {
     "name": "stdout",
     "output_type": "stream",
     "text": [
      "[CV] .................... C=16, kernel=rbf, score=0.612, total=   0.0s\n",
      "[CV] C=16, kernel=rbf ................................................\n",
      "[CV] .................... C=16, kernel=rbf, score=0.612, total=   0.0s\n",
      "[CV] C=16, kernel=rbf ................................................\n",
      "[CV] .................... C=16, kernel=rbf, score=0.612, total=   0.0s\n",
      "[CV] C=16, kernel=rbf ................................................\n",
      "[CV] .................... C=16, kernel=rbf, score=0.612, total=   0.0s\n",
      "[CV] C=16, kernel=rbf ................................................\n",
      "[CV] .................... C=16, kernel=rbf, score=0.612, total=   0.0s\n",
      "[CV] C=20, kernel=rbf ................................................\n",
      "[CV] .................... C=20, kernel=rbf, score=0.612, total=   0.0s\n",
      "[CV] C=20, kernel=rbf ................................................\n",
      "[CV] .................... C=20, kernel=rbf, score=0.612, total=   0.0s\n",
      "[CV] C=20, kernel=rbf ................................................\n",
      "[CV] .................... C=20, kernel=rbf, score=0.612, total=   0.0s\n",
      "[CV] C=20, kernel=rbf ................................................\n",
      "[CV] .................... C=20, kernel=rbf, score=0.612, total=   0.0s\n",
      "[CV] C=20, kernel=rbf ................................................\n",
      "[CV] .................... C=20, kernel=rbf, score=0.612, total=   0.0s\n",
      "[CV] C=24, kernel=rbf ................................................\n",
      "[CV] .................... C=24, kernel=rbf, score=0.612, total=   0.0s\n",
      "[CV] C=24, kernel=rbf ................................................\n",
      "[CV] .................... C=24, kernel=rbf, score=0.612, total=   0.0s\n",
      "[CV] C=24, kernel=rbf ................................................\n",
      "[CV] .................... C=24, kernel=rbf, score=0.612, total=   0.0s\n",
      "[CV] C=24, kernel=rbf ................................................\n",
      "[CV] .................... C=24, kernel=rbf, score=0.612, total=   0.0s\n",
      "[CV] C=24, kernel=rbf ................................................\n",
      "[CV] .................... C=24, kernel=rbf, score=0.633, total=   0.0s\n",
      "[CV] C=28, kernel=rbf ................................................\n",
      "[CV] .................... C=28, kernel=rbf, score=0.633, total=   0.0s\n",
      "[CV] C=28, kernel=rbf ................................................\n",
      "[CV] .................... C=28, kernel=rbf, score=0.633, total=   0.0s\n",
      "[CV] C=28, kernel=rbf ................................................\n",
      "[CV] .................... C=28, kernel=rbf, score=0.612, total=   0.0s\n",
      "[CV] C=28, kernel=rbf ................................................\n",
      "[CV] .................... C=28, kernel=rbf, score=0.612, total=   0.0s\n",
      "[CV] C=28, kernel=rbf ................................................\n",
      "[CV] .................... C=28, kernel=rbf, score=0.633, total=   0.0s\n",
      "[CV] C=32, kernel=rbf ................................................\n",
      "[CV] .................... C=32, kernel=rbf, score=0.633, total=   0.0s\n",
      "[CV] C=32, kernel=rbf ................................................\n",
      "[CV] .................... C=32, kernel=rbf, score=0.612, total=   0.0s\n",
      "[CV] C=32, kernel=rbf ................................................\n",
      "[CV] .................... C=32, kernel=rbf, score=0.653, total=   0.0s\n",
      "[CV] C=32, kernel=rbf ................................................\n",
      "[CV] .................... C=32, kernel=rbf, score=0.612, total=   0.0s\n",
      "[CV] C=32, kernel=rbf ................................................\n",
      "[CV] .................... C=32, kernel=rbf, score=0.633, total=   0.0s\n",
      "[CV] C=36, kernel=rbf ................................................\n",
      "[CV] .................... C=36, kernel=rbf, score=0.633, total=   0.0s\n",
      "[CV] C=36, kernel=rbf ................................................\n",
      "[CV] .................... C=36, kernel=rbf, score=0.612, total=   0.0s\n",
      "[CV] C=36, kernel=rbf ................................................\n",
      "[CV] .................... C=36, kernel=rbf, score=0.653, total=   0.0s\n",
      "[CV] C=36, kernel=rbf ................................................\n",
      "[CV] .................... C=36, kernel=rbf, score=0.612, total=   0.0s\n",
      "[CV] C=36, kernel=rbf ................................................\n",
      "[CV] .................... C=36, kernel=rbf, score=0.633, total=   0.0s\n",
      "[CV] C=40, kernel=rbf ................................................\n",
      "[CV] .................... C=40, kernel=rbf, score=0.633, total=   0.0s\n",
      "[CV] C=40, kernel=rbf ................................................\n",
      "[CV] .................... C=40, kernel=rbf, score=0.592, total=   0.0s\n",
      "[CV] C=40, kernel=rbf ................................................\n",
      "[CV] .................... C=40, kernel=rbf, score=0.673, total=   0.0s\n",
      "[CV] C=40, kernel=rbf ................................................\n",
      "[CV] .................... C=40, kernel=rbf, score=0.633, total=   0.0s\n",
      "[CV] C=40, kernel=rbf ................................................\n",
      "[CV] .................... C=40, kernel=rbf, score=0.653, total=   0.0s\n",
      "[CV] C=44, kernel=rbf ................................................\n",
      "[CV] .................... C=44, kernel=rbf, score=0.633, total=   0.0s\n",
      "[CV] C=44, kernel=rbf ................................................\n",
      "[CV] .................... C=44, kernel=rbf, score=0.592, total=   0.0s\n",
      "[CV] C=44, kernel=rbf ................................................\n",
      "[CV] .................... C=44, kernel=rbf, score=0.673, total=   0.0s\n",
      "[CV] C=44, kernel=rbf ................................................\n",
      "[CV] .................... C=44, kernel=rbf, score=0.653, total=   0.0s\n",
      "[CV] C=44, kernel=rbf ................................................\n",
      "[CV] .................... C=44, kernel=rbf, score=0.653, total=   0.0s\n",
      "[CV] C=48, kernel=rbf ................................................\n",
      "[CV] .................... C=48, kernel=rbf, score=0.653, total=   0.0s\n",
      "[CV] C=48, kernel=rbf ................................................\n",
      "[CV] .................... C=48, kernel=rbf, score=0.612, total=   0.0s\n",
      "[CV] C=48, kernel=rbf ................................................\n",
      "[CV] .................... C=48, kernel=rbf, score=0.673, total=   0.0s\n",
      "[CV] C=48, kernel=rbf ................................................\n",
      "[CV] .................... C=48, kernel=rbf, score=0.633, total=   0.0s\n",
      "[CV] C=48, kernel=rbf ................................................\n",
      "[CV] .................... C=48, kernel=rbf, score=0.653, total=   0.0s\n",
      "[CV] C=52, kernel=rbf ................................................\n",
      "[CV] .................... C=52, kernel=rbf, score=0.673, total=   0.0s\n",
      "[CV] C=52, kernel=rbf ................................................\n",
      "[CV] .................... C=52, kernel=rbf, score=0.633, total=   0.0s\n",
      "[CV] C=52, kernel=rbf ................................................\n",
      "[CV] .................... C=52, kernel=rbf, score=0.673, total=   0.0s\n",
      "[CV] C=52, kernel=rbf ................................................\n",
      "[CV] .................... C=52, kernel=rbf, score=0.633, total=   0.0s\n",
      "[CV] C=52, kernel=rbf ................................................\n",
      "[CV] .................... C=52, kernel=rbf, score=0.694, total=   0.0s\n",
      "[CV] C=56, kernel=rbf ................................................\n",
      "[CV] .................... C=56, kernel=rbf, score=0.694, total=   0.0s\n",
      "[CV] C=56, kernel=rbf ................................................\n",
      "[CV] .................... C=56, kernel=rbf, score=0.633, total=   0.0s\n",
      "[CV] C=56, kernel=rbf ................................................\n",
      "[CV] .................... C=56, kernel=rbf, score=0.673, total=   0.0s\n",
      "[CV] C=56, kernel=rbf ................................................\n",
      "[CV] .................... C=56, kernel=rbf, score=0.653, total=   0.0s\n",
      "[CV] C=56, kernel=rbf ................................................\n",
      "[CV] .................... C=56, kernel=rbf, score=0.714, total=   0.0s\n",
      "[CV] C=60, kernel=rbf ................................................\n",
      "[CV] .................... C=60, kernel=rbf, score=0.694, total=   0.0s\n",
      "[CV] C=60, kernel=rbf ................................................\n",
      "[CV] .................... C=60, kernel=rbf, score=0.653, total=   0.0s\n",
      "[CV] C=60, kernel=rbf ................................................\n",
      "[CV] .................... C=60, kernel=rbf, score=0.673, total=   0.0s\n",
      "[CV] C=60, kernel=rbf ................................................\n",
      "[CV] .................... C=60, kernel=rbf, score=0.653, total=   0.0s\n",
      "[CV] C=60, kernel=rbf ................................................\n",
      "[CV] .................... C=60, kernel=rbf, score=0.714, total=   0.0s\n",
      "[CV] C=64, kernel=rbf ................................................\n",
      "[CV] .................... C=64, kernel=rbf, score=0.735, total=   0.0s\n",
      "[CV] C=64, kernel=rbf ................................................\n",
      "[CV] .................... C=64, kernel=rbf, score=0.653, total=   0.0s\n",
      "[CV] C=64, kernel=rbf ................................................\n",
      "[CV] .................... C=64, kernel=rbf, score=0.694, total=   0.0s\n",
      "[CV] C=64, kernel=rbf ................................................\n",
      "[CV] .................... C=64, kernel=rbf, score=0.653, total=   0.0s\n",
      "[CV] C=64, kernel=rbf ................................................\n",
      "[CV] .................... C=64, kernel=rbf, score=0.714, total=   0.0s\n",
      "[CV] C=68, kernel=rbf ................................................\n"
     ]
    },
    {
     "name": "stdout",
     "output_type": "stream",
     "text": [
      "[CV] .................... C=68, kernel=rbf, score=0.714, total=   0.0s\n",
      "[CV] C=68, kernel=rbf ................................................\n",
      "[CV] .................... C=68, kernel=rbf, score=0.633, total=   0.0s\n",
      "[CV] C=68, kernel=rbf ................................................\n",
      "[CV] .................... C=68, kernel=rbf, score=0.694, total=   0.0s\n",
      "[CV] C=68, kernel=rbf ................................................\n",
      "[CV] .................... C=68, kernel=rbf, score=0.653, total=   0.0s\n",
      "[CV] C=68, kernel=rbf ................................................\n",
      "[CV] .................... C=68, kernel=rbf, score=0.714, total=   0.0s\n",
      "[CV] C=72, kernel=rbf ................................................\n",
      "[CV] .................... C=72, kernel=rbf, score=0.735, total=   0.0s\n",
      "[CV] C=72, kernel=rbf ................................................\n",
      "[CV] .................... C=72, kernel=rbf, score=0.633, total=   0.0s\n",
      "[CV] C=72, kernel=rbf ................................................\n",
      "[CV] .................... C=72, kernel=rbf, score=0.694, total=   0.0s\n",
      "[CV] C=72, kernel=rbf ................................................\n",
      "[CV] .................... C=72, kernel=rbf, score=0.653, total=   0.0s\n",
      "[CV] C=72, kernel=rbf ................................................\n",
      "[CV] .................... C=72, kernel=rbf, score=0.714, total=   0.0s\n",
      "[CV] C=76, kernel=rbf ................................................\n",
      "[CV] .................... C=76, kernel=rbf, score=0.735, total=   0.0s\n",
      "[CV] C=76, kernel=rbf ................................................\n",
      "[CV] .................... C=76, kernel=rbf, score=0.633, total=   0.0s\n",
      "[CV] C=76, kernel=rbf ................................................\n",
      "[CV] .................... C=76, kernel=rbf, score=0.694, total=   0.0s\n",
      "[CV] C=76, kernel=rbf ................................................\n",
      "[CV] .................... C=76, kernel=rbf, score=0.653, total=   0.0s\n",
      "[CV] C=76, kernel=rbf ................................................\n",
      "[CV] .................... C=76, kernel=rbf, score=0.714, total=   0.0s\n",
      "[CV] C=80, kernel=rbf ................................................\n",
      "[CV] .................... C=80, kernel=rbf, score=0.776, total=   0.0s\n",
      "[CV] C=80, kernel=rbf ................................................\n",
      "[CV] .................... C=80, kernel=rbf, score=0.612, total=   0.0s\n",
      "[CV] C=80, kernel=rbf ................................................\n",
      "[CV] .................... C=80, kernel=rbf, score=0.694, total=   0.0s\n",
      "[CV] C=80, kernel=rbf ................................................\n",
      "[CV] .................... C=80, kernel=rbf, score=0.653, total=   0.0s\n",
      "[CV] C=80, kernel=rbf ................................................\n",
      "[CV] .................... C=80, kernel=rbf, score=0.714, total=   0.0s\n",
      "[CV] C=84, kernel=rbf ................................................\n",
      "[CV] .................... C=84, kernel=rbf, score=0.796, total=   0.0s\n",
      "[CV] C=84, kernel=rbf ................................................\n",
      "[CV] .................... C=84, kernel=rbf, score=0.612, total=   0.0s\n",
      "[CV] C=84, kernel=rbf ................................................\n",
      "[CV] .................... C=84, kernel=rbf, score=0.694, total=   0.0s\n",
      "[CV] C=84, kernel=rbf ................................................\n",
      "[CV] .................... C=84, kernel=rbf, score=0.653, total=   0.0s\n",
      "[CV] C=84, kernel=rbf ................................................\n",
      "[CV] .................... C=84, kernel=rbf, score=0.714, total=   0.0s\n",
      "[CV] C=88, kernel=rbf ................................................\n",
      "[CV] .................... C=88, kernel=rbf, score=0.796, total=   0.0s\n",
      "[CV] C=88, kernel=rbf ................................................\n",
      "[CV] .................... C=88, kernel=rbf, score=0.612, total=   0.0s\n",
      "[CV] C=88, kernel=rbf ................................................\n",
      "[CV] .................... C=88, kernel=rbf, score=0.694, total=   0.0s\n",
      "[CV] C=88, kernel=rbf ................................................\n",
      "[CV] .................... C=88, kernel=rbf, score=0.653, total=   0.0s\n",
      "[CV] C=88, kernel=rbf ................................................\n",
      "[CV] .................... C=88, kernel=rbf, score=0.714, total=   0.0s\n",
      "[CV] C=92, kernel=rbf ................................................\n",
      "[CV] .................... C=92, kernel=rbf, score=0.796, total=   0.0s\n",
      "[CV] C=92, kernel=rbf ................................................\n",
      "[CV] .................... C=92, kernel=rbf, score=0.612, total=   0.0s\n",
      "[CV] C=92, kernel=rbf ................................................\n",
      "[CV] .................... C=92, kernel=rbf, score=0.694, total=   0.0s\n",
      "[CV] C=92, kernel=rbf ................................................\n",
      "[CV] .................... C=92, kernel=rbf, score=0.653, total=   0.0s\n",
      "[CV] C=92, kernel=rbf ................................................\n",
      "[CV] .................... C=92, kernel=rbf, score=0.714, total=   0.0s\n",
      "[CV] C=96, kernel=rbf ................................................\n",
      "[CV] .................... C=96, kernel=rbf, score=0.796, total=   0.0s\n",
      "[CV] C=96, kernel=rbf ................................................\n",
      "[CV] .................... C=96, kernel=rbf, score=0.612, total=   0.0s\n",
      "[CV] C=96, kernel=rbf ................................................\n",
      "[CV] .................... C=96, kernel=rbf, score=0.694, total=   0.0s\n",
      "[CV] C=96, kernel=rbf ................................................\n",
      "[CV] .................... C=96, kernel=rbf, score=0.653, total=   0.0s\n",
      "[CV] C=96, kernel=rbf ................................................\n",
      "[CV] .................... C=96, kernel=rbf, score=0.714, total=   0.0s\n",
      "{'C': 84, 'kernel': 'rbf'}\n",
      "SVC(C=84)\n"
     ]
    },
    {
     "name": "stderr",
     "output_type": "stream",
     "text": [
      "[Parallel(n_jobs=1)]: Done 120 out of 120 | elapsed:    1.3s finished\n"
     ]
    }
   ],
   "source": [
    "from sklearn.model_selection import GridSearchCV \n",
    "  \n",
    "# defining parameter range \n",
    "param_grid = {'C': np.arange(4,100,4),  \n",
    "              'kernel': ['rbf']}  \n",
    "  \n",
    "grid = GridSearchCV(SVC(), param_grid, refit = True, verbose = 3) \n",
    "  \n",
    "# fitting the model for grid search \n",
    "grid.fit(X_train, y_train) \n",
    "\n",
    "# print best parameter after tuning \n",
    "print(grid.best_params_) \n",
    "  \n",
    "# print how our model looks after hyper-parameter tuning \n",
    "print(grid.best_estimator_) "
   ]
  },
  {
   "cell_type": "code",
   "execution_count": null,
   "metadata": {},
   "outputs": [],
   "source": []
  },
  {
   "cell_type": "code",
   "execution_count": null,
   "metadata": {},
   "outputs": [],
   "source": []
  },
  {
   "cell_type": "code",
   "execution_count": null,
   "metadata": {},
   "outputs": [],
   "source": []
  },
  {
   "cell_type": "code",
   "execution_count": 1417,
   "metadata": {},
   "outputs": [],
   "source": [
    "svm = SVC(probability=True)\n",
    "dt = DecisionTreeClassifier(max_depth=7, min_samples_split=3)\n",
    "rf = RandomForestClassifier(n_estimators=100)\n",
    "xg = XGBClassifier(learning_rate=0.5,\n",
    "                   reg_alpha= 5,\n",
    "                   reg_lambda= 0.1\n",
    "                   )\n",
    "gbm = GradientBoostingClassifier()\n",
    "et = ExtraTreesClassifier()\n",
    "knn = KNeighborsClassifier()"
   ]
  },
  {
   "cell_type": "code",
   "execution_count": 1418,
   "metadata": {},
   "outputs": [
    {
     "name": "stderr",
     "output_type": "stream",
     "text": [
      "C:\\Users\\linhvt22\\Anaconda3\\lib\\site-packages\\xgboost\\sklearn.py:892: UserWarning: The use of label encoder in XGBClassifier is deprecated and will be removed in a future release. To remove this warning, do the following: 1) Pass option use_label_encoder=False when constructing XGBClassifier object; and 2) Encode your labels (y) as integers starting with 0, i.e. 0, 1, 2, ..., [num_class - 1].\n",
      "  warnings.warn(label_encoder_deprecation_msg, UserWarning)\n"
     ]
    },
    {
     "name": "stdout",
     "output_type": "stream",
     "text": [
      "[23:09:42] WARNING: C:/Users/Administrator/workspace/xgboost-win64_release_1.3.0/src/learner.cc:1061: Starting in XGBoost 1.3.0, the default evaluation metric used with the objective 'multi:softprob' was changed from 'merror' to 'mlogloss'. Explicitly set eval_metric if you'd like to restore the old behavior.\n"
     ]
    }
   ],
   "source": [
    "svm1 = svm.fit(X_train,y_train)\n",
    "dt1 = dt.fit(X_train,y_train)\n",
    "rf1 = rf.fit(X_train,y_train)\n",
    "xg1 = xg.fit(X_train,y_train)\n",
    "gbm1 = gbm.fit(X_train,y_train)\n",
    "et1 = et.fit(X_train,y_train)\n",
    "knn1 = knn.fit(X_train,y_train)"
   ]
  },
  {
   "cell_type": "code",
   "execution_count": 1419,
   "metadata": {},
   "outputs": [],
   "source": [
    "y_pred_svm = svm1.predict(X_test)\n",
    "y_pred_dt = dt1.predict(X_test)\n",
    "y_pred_rf = rf1.predict(X_test)\n",
    "y_pred_xg= xg1.predict(X_test)\n",
    "y_pred_gbm= gbm1.predict(X_test)\n",
    "y_pred_et= et1.predict(X_test)\n",
    "y_pred_knn= knn1.predict(X_test)"
   ]
  },
  {
   "cell_type": "code",
   "execution_count": null,
   "metadata": {},
   "outputs": [],
   "source": []
  },
  {
   "cell_type": "code",
   "execution_count": 1420,
   "metadata": {},
   "outputs": [],
   "source": [
    "y_pred_svm_train = svm1.predict(X_train)\n",
    "y_pred_dt_train = dt1.predict(X_train)\n",
    "y_pred_rf_train = rf1.predict(X_train)\n",
    "y_pred_xg_train= xg1.predict(X_train)\n",
    "y_pred_gbm_train= gbm1.predict(X_train)\n",
    "y_pred_et_train= et1.predict(X_train)\n",
    "y_pred_knn_train= knn1.predict(X_train)"
   ]
  },
  {
   "cell_type": "code",
   "execution_count": null,
   "metadata": {},
   "outputs": [],
   "source": []
  },
  {
   "cell_type": "code",
   "execution_count": 1421,
   "metadata": {},
   "outputs": [],
   "source": [
    "y_pred_svm_prob = svm1.predict_proba(X_test)\n",
    "y_pred_dt_prob = dt1.predict_proba(X_test)\n",
    "y_pred_rf_prob = rf1.predict_proba(X_test)\n",
    "y_pred_xg_prob = xg1.predict_proba(X_test)\n",
    "y_pred_gbm_prob= gbm1.predict_proba(X_test)\n",
    "y_pred_et_prob= et1.predict_proba(X_test)\n",
    "y_pred_knn_prob= knn1.predict_proba(X_test)"
   ]
  },
  {
   "cell_type": "code",
   "execution_count": 1422,
   "metadata": {},
   "outputs": [
    {
     "name": "stdout",
     "output_type": "stream",
     "text": [
      "SVM 0.6129032258064516\n",
      "DecisionTreeClassifier 0.7419354838709677\n",
      "RandomForestClassifier 0.7419354838709677\n",
      "0.8064516129032258\n",
      "0.8064516129032258\n",
      "0.7580645161290323\n",
      "KNeighborsClassifier 0.6935483870967742\n"
     ]
    }
   ],
   "source": [
    "print(\"SVM\", accuracy_score(y_test,y_pred_svm))\n",
    "print (\"DecisionTreeClassifier\",accuracy_score(y_test,y_pred_dt))\n",
    "print (\"RandomForestClassifier\",accuracy_score(y_test,y_pred_rf))\n",
    "print (accuracy_score(y_test,y_pred_xg))\n",
    "print (accuracy_score(y_test,y_pred_gbm))\n",
    "print (accuracy_score(y_test,y_pred_et))\n",
    "print (\"KNeighborsClassifier\",accuracy_score(y_test,y_pred_knn))"
   ]
  },
  {
   "cell_type": "code",
   "execution_count": 1423,
   "metadata": {},
   "outputs": [
    {
     "name": "stdout",
     "output_type": "stream",
     "text": [
      "SVM 0.6122448979591837\n",
      "DecisionTreeClassifier 1.0\n",
      "RandomForestClassifier 1.0\n",
      "0.9918367346938776\n",
      "1.0\n",
      "1.0\n",
      "KNeighborsClassifier 0.726530612244898\n"
     ]
    }
   ],
   "source": [
    "print(\"SVM\", accuracy_score(y_train,y_pred_svm_train))\n",
    "print (\"DecisionTreeClassifier\",accuracy_score(y_train,y_pred_dt_train))\n",
    "print (\"RandomForestClassifier\",accuracy_score(y_train,y_pred_rf_train))\n",
    "print (accuracy_score(y_train,y_pred_xg_train))\n",
    "print (accuracy_score(y_train,y_pred_gbm_train))\n",
    "print (accuracy_score(y_train,y_pred_et_train))\n",
    "print (\"KNeighborsClassifier\",accuracy_score(y_train,y_pred_knn_train))"
   ]
  },
  {
   "cell_type": "code",
   "execution_count": null,
   "metadata": {},
   "outputs": [],
   "source": []
  },
  {
   "cell_type": "code",
   "execution_count": 1424,
   "metadata": {},
   "outputs": [
    {
     "data": {
      "text/plain": [
       "<function sklearn.metrics._classification.classification_report(y_true, y_pred, *, labels=None, target_names=None, sample_weight=None, digits=2, output_dict=False, zero_division='warn')>"
      ]
     },
     "execution_count": 1424,
     "metadata": {},
     "output_type": "execute_result"
    }
   ],
   "source": [
    "classification_report"
   ]
  },
  {
   "cell_type": "markdown",
   "metadata": {},
   "source": [
    "## PCA"
   ]
  },
  {
   "cell_type": "code",
   "execution_count": 1425,
   "metadata": {},
   "outputs": [],
   "source": [
    "scale = ss()\n",
    "x = scale.fit_transform(x)"
   ]
  },
  {
   "cell_type": "code",
   "execution_count": 1426,
   "metadata": {},
   "outputs": [
    {
     "data": {
      "text/plain": [
       "(307, 108)"
      ]
     },
     "execution_count": 1426,
     "metadata": {},
     "output_type": "execute_result"
    }
   ],
   "source": [
    "pca = PCA()\n",
    "out = pca.fit_transform(x)\n",
    "out.shape"
   ]
  },
  {
   "cell_type": "code",
   "execution_count": 1427,
   "metadata": {},
   "outputs": [
    {
     "data": {
      "text/plain": [
       "array([6.41292021e-01, 4.65614945e-02, 2.97510017e-02, 1.93910806e-02,\n",
       "       1.60458942e-02, 1.27291769e-02, 1.09175898e-02, 9.80351174e-03,\n",
       "       9.65197819e-03, 8.78369766e-03, 7.72967422e-03, 7.51510297e-03,\n",
       "       7.05186437e-03, 7.03121154e-03, 6.75810862e-03, 6.43415059e-03,\n",
       "       6.15296208e-03, 6.05289525e-03, 5.49257536e-03, 5.27554869e-03,\n",
       "       5.16755762e-03, 4.99468180e-03, 4.78417904e-03, 4.45819082e-03,\n",
       "       4.27812446e-03, 4.23172525e-03, 4.17528276e-03, 4.07944585e-03,\n",
       "       3.76532492e-03, 3.72042133e-03, 3.60463124e-03, 3.41887377e-03,\n",
       "       3.18769352e-03, 3.16872825e-03, 3.09593655e-03, 2.83690008e-03,\n",
       "       2.76919797e-03, 2.65176212e-03, 2.61967252e-03, 2.43495052e-03,\n",
       "       2.40379111e-03, 2.31466911e-03, 2.18675101e-03, 2.16546157e-03,\n",
       "       2.08044045e-03, 1.98469886e-03, 1.89510969e-03, 1.79933092e-03,\n",
       "       1.76905158e-03, 1.68437105e-03, 1.59787952e-03, 1.55496016e-03,\n",
       "       1.53473740e-03, 1.44446489e-03, 1.41480992e-03, 1.26197113e-03,\n",
       "       1.23336225e-03, 1.19267685e-03, 1.17502060e-03, 1.13597250e-03,\n",
       "       1.11740775e-03, 1.07827448e-03, 1.04914645e-03, 1.01560785e-03,\n",
       "       9.70037519e-04, 9.39221482e-04, 9.11845911e-04, 8.93443082e-04,\n",
       "       8.37015302e-04, 8.12773776e-04, 7.85189143e-04, 7.76987735e-04,\n",
       "       7.04851320e-04, 6.76135510e-04, 6.59427314e-04, 6.33625690e-04,\n",
       "       5.62617999e-04, 5.49083742e-04, 5.31476453e-04, 5.02194922e-04,\n",
       "       4.84578134e-04, 4.67652781e-04, 4.44697255e-04, 4.21600973e-04,\n",
       "       4.16844845e-04, 3.84236598e-04, 3.68673973e-04, 3.47167186e-04,\n",
       "       3.41890866e-04, 3.20274851e-04, 2.97173262e-04, 2.71045109e-04,\n",
       "       2.60928409e-04, 2.30826749e-04, 2.26492126e-04, 2.16939393e-04,\n",
       "       1.85599171e-04, 1.82265891e-04, 1.46662805e-04, 1.35705596e-04,\n",
       "       8.53161544e-05, 3.87615513e-05, 1.09668367e-05, 4.93449978e-06,\n",
       "       4.59158101e-06, 1.84376631e-06, 1.16679910e-06, 4.48910067e-07])"
      ]
     },
     "execution_count": 1427,
     "metadata": {},
     "output_type": "execute_result"
    }
   ],
   "source": [
    "pca.explained_variance_ratio_"
   ]
  },
  {
   "cell_type": "code",
   "execution_count": 1428,
   "metadata": {},
   "outputs": [
    {
     "data": {
      "text/plain": [
       "array([0.64129202, 0.68785352, 0.71760452, 0.7369956 , 0.75304149,\n",
       "       0.76577067, 0.77668826, 0.78649177, 0.79614375, 0.80492745,\n",
       "       0.81265712, 0.82017222, 0.82722409, 0.8342553 , 0.84101341,\n",
       "       0.84744756, 0.85360052, 0.85965342, 0.86514599, 0.87042154,\n",
       "       0.8755891 , 0.88058378, 0.88536796, 0.88982615, 0.89410427,\n",
       "       0.898336  , 0.90251128, 0.90659073, 0.91035605, 0.91407647,\n",
       "       0.9176811 , 0.92109998, 0.92428767, 0.9274564 , 0.93055234,\n",
       "       0.93338924, 0.93615843, 0.9388102 , 0.94142987, 0.94386482,\n",
       "       0.94626861, 0.94858328, 0.95077003, 0.95293549, 0.95501593,\n",
       "       0.95700063, 0.95889574, 0.96069507, 0.96246412, 0.9641485 ,\n",
       "       0.96574637, 0.96730133, 0.96883607, 0.97028054, 0.97169535,\n",
       "       0.97295732, 0.97419068, 0.97538336, 0.97655838, 0.97769435,\n",
       "       0.97881176, 0.97989003, 0.98093918, 0.98195479, 0.98292482,\n",
       "       0.98386405, 0.98477589, 0.98566934, 0.98650635, 0.98731912,\n",
       "       0.98810431, 0.9888813 , 0.98958615, 0.99026229, 0.99092172,\n",
       "       0.99155534, 0.99211796, 0.99266704, 0.99319852, 0.99370071,\n",
       "       0.99418529, 0.99465294, 0.99509764, 0.99551924, 0.99593609,\n",
       "       0.99632032, 0.996689  , 0.99703617, 0.99737806, 0.99769833,\n",
       "       0.9979955 , 0.99826655, 0.99852748, 0.9987583 , 0.9989848 ,\n",
       "       0.99920174, 0.99938734, 0.9995696 , 0.99971626, 0.99985197,\n",
       "       0.99993729, 0.99997605, 0.99998701, 0.99999195, 0.99999654,\n",
       "       0.99999838, 0.99999955, 1.        ])"
      ]
     },
     "execution_count": 1428,
     "metadata": {},
     "output_type": "execute_result"
    }
   ],
   "source": [
    "pca.explained_variance_ratio_.cumsum()"
   ]
  },
  {
   "cell_type": "code",
   "execution_count": 1429,
   "metadata": {},
   "outputs": [
    {
     "data": {
      "text/plain": [
       "42"
      ]
     },
     "execution_count": 1429,
     "metadata": {},
     "output_type": "execute_result"
    }
   ],
   "source": [
    "a = np.asarray(pca.explained_variance_ratio_.cumsum())\n",
    "za = (a < .95).sum()\n",
    "za"
   ]
  },
  {
   "cell_type": "code",
   "execution_count": 1430,
   "metadata": {},
   "outputs": [],
   "source": [
    "final_data = out[:,:za]"
   ]
  },
  {
   "cell_type": "code",
   "execution_count": 1431,
   "metadata": {},
   "outputs": [
    {
     "data": {
      "text/plain": [
       "(307, 42)"
      ]
     },
     "execution_count": 1431,
     "metadata": {},
     "output_type": "execute_result"
    }
   ],
   "source": [
    "final_data.shape"
   ]
  },
  {
   "cell_type": "code",
   "execution_count": 1432,
   "metadata": {},
   "outputs": [],
   "source": [
    "col = []\n",
    "for i in range(0, za):\n",
    "    col.append(str(i))"
   ]
  },
  {
   "cell_type": "code",
   "execution_count": 1433,
   "metadata": {},
   "outputs": [],
   "source": [
    "pcdf = pd.DataFrame( data =  final_data,columns=col)\n",
    "                    #columns = ['pc1', 'pc2','pc3', 'pc4','pc5','pc6'])"
   ]
  },
  {
   "cell_type": "code",
   "execution_count": 1434,
   "metadata": {},
   "outputs": [],
   "source": [
    "pcdf['target'] = df['severity'].reset_index(drop=True)"
   ]
  },
  {
   "cell_type": "code",
   "execution_count": null,
   "metadata": {},
   "outputs": [],
   "source": []
  },
  {
   "cell_type": "code",
   "execution_count": 1435,
   "metadata": {},
   "outputs": [],
   "source": [
    "X = pcdf.loc[: , '0':'39']\n",
    "y = pcdf.loc[:,'target']"
   ]
  },
  {
   "cell_type": "code",
   "execution_count": 1436,
   "metadata": {},
   "outputs": [],
   "source": [
    "X_train, X_test, y_train, y_test = train_test_split(x ,y, test_size = 0.2,shuffle=True)"
   ]
  },
  {
   "cell_type": "code",
   "execution_count": 1437,
   "metadata": {},
   "outputs": [],
   "source": [
    "svm = SVC(probability=True)\n",
    "dt = DecisionTreeClassifier(max_depth=7, min_samples_split=3)\n",
    "rf = RandomForestClassifier(n_estimators=100)\n",
    "xg = XGBClassifier(learning_rate=0.5,\n",
    "                   reg_alpha= 5,\n",
    "                   reg_lambda= 0.1\n",
    "                   )\n",
    "gbm = GradientBoostingClassifier()\n",
    "et = ExtraTreesClassifier()\n",
    "knn = KNeighborsClassifier()"
   ]
  },
  {
   "cell_type": "code",
   "execution_count": null,
   "metadata": {},
   "outputs": [
    {
     "name": "stderr",
     "output_type": "stream",
     "text": [
      "C:\\Users\\linhvt22\\Anaconda3\\lib\\site-packages\\xgboost\\sklearn.py:892: UserWarning: The use of label encoder in XGBClassifier is deprecated and will be removed in a future release. To remove this warning, do the following: 1) Pass option use_label_encoder=False when constructing XGBClassifier object; and 2) Encode your labels (y) as integers starting with 0, i.e. 0, 1, 2, ..., [num_class - 1].\n",
      "  warnings.warn(label_encoder_deprecation_msg, UserWarning)\n"
     ]
    },
    {
     "name": "stdout",
     "output_type": "stream",
     "text": [
      "[23:09:45] WARNING: C:/Users/Administrator/workspace/xgboost-win64_release_1.3.0/src/learner.cc:1061: Starting in XGBoost 1.3.0, the default evaluation metric used with the objective 'multi:softprob' was changed from 'merror' to 'mlogloss'. Explicitly set eval_metric if you'd like to restore the old behavior.\n"
     ]
    }
   ],
   "source": [
    "svm1 = svm.fit(X_train,y_train)\n",
    "dt1 = dt.fit(X_train,y_train)\n",
    "rf1 = rf.fit(X_train,y_train)\n",
    "xg1 = xg.fit(X_train,y_train)\n",
    "gbm1 = gbm.fit(X_train,y_train)\n",
    "et1 = et.fit(X_train,y_train)\n",
    "knn1 = knn.fit(X_train,y_train)"
   ]
  },
  {
   "cell_type": "code",
   "execution_count": null,
   "metadata": {},
   "outputs": [],
   "source": [
    "y_pred_svm = svm1.predict(X_test)\n",
    "y_pred_dt = dt1.predict(X_test)\n",
    "y_pred_rf = rf1.predict(X_test)\n",
    "y_pred_xg= xg1.predict(X_test)\n",
    "y_pred_gbm= gbm1.predict(X_test)\n",
    "y_pred_et= et1.predict(X_test)\n",
    "y_pred_knn= knn1.predict(X_test)"
   ]
  },
  {
   "cell_type": "code",
   "execution_count": null,
   "metadata": {},
   "outputs": [],
   "source": [
    "y_pred_svm_prob = svm1.predict_proba(X_test)\n",
    "y_pred_dt_prob = dt1.predict_proba(X_test)\n",
    "y_pred_rf_prob = rf1.predict_proba(X_test)\n",
    "y_pred_xg_prob = xg1.predict_proba(X_test)\n",
    "y_pred_gbm_prob= gbm1.predict_proba(X_test)\n",
    "y_pred_et_prob= et1.predict_proba(X_test)\n",
    "y_pred_knn_prob= knn1.predict_proba(X_test)"
   ]
  },
  {
   "cell_type": "code",
   "execution_count": null,
   "metadata": {},
   "outputs": [],
   "source": [
    "print(\"SVM\", accuracy_score(y_test,y_pred_svm))\n",
    "print (\"DecisionTreeClassifier\",accuracy_score(y_test,y_pred_dt))\n",
    "print (\"RandomForestClassifier\",accuracy_score(y_test,y_pred_rf))\n",
    "print (accuracy_score(y_test,y_pred_xg))\n",
    "print (accuracy_score(y_test,y_pred_gbm))\n",
    "print (accuracy_score(y_test,y_pred_et))\n",
    "print (\"KNeighborsClassifier\",accuracy_score(y_test,y_pred_knn))"
   ]
  },
  {
   "cell_type": "code",
   "execution_count": null,
   "metadata": {},
   "outputs": [],
   "source": [
    "\n",
    "from sklearn.model_selection import GridSearchCV \n",
    "  \n",
    "# defining parameter range \n",
    "param_grid = {'C': [0.1, 1, 10, 100, 1000],  \n",
    "              'gamma': [1, 0.1, 0.01, 0.001, 0.0001], \n",
    "              'kernel': ['rbf']}  \n",
    "  \n",
    "grid = GridSearchCV(SVC(), param_grid, refit = True, verbose = 3) \n",
    "  \n",
    "# fitting the model for grid search \n",
    "grid.fit(X_train, y_train) \n"
   ]
  },
  {
   "cell_type": "code",
   "execution_count": null,
   "metadata": {},
   "outputs": [],
   "source": [
    "\n",
    "# print best parameter after tuning \n",
    "print(grid.best_params_) \n",
    "  \n",
    "# print how our model looks after hyper-parameter tuning \n",
    "print(grid.best_estimator_) \n"
   ]
  },
  {
   "cell_type": "code",
   "execution_count": null,
   "metadata": {},
   "outputs": [],
   "source": [
    "\n",
    "grid_predictions = grid.predict(X_test) \n",
    "  \n",
    "# print classification report \n",
    "print(classification_report(y_test, grid_predictions)) \n"
   ]
  },
  {
   "cell_type": "code",
   "execution_count": null,
   "metadata": {},
   "outputs": [],
   "source": []
  },
  {
   "cell_type": "code",
   "execution_count": null,
   "metadata": {},
   "outputs": [],
   "source": []
  },
  {
   "cell_type": "code",
   "execution_count": null,
   "metadata": {},
   "outputs": [],
   "source": []
  }
 ],
 "metadata": {
  "kernelspec": {
   "display_name": "Python 3",
   "language": "python",
   "name": "python3"
  },
  "language_info": {
   "codemirror_mode": {
    "name": "ipython",
    "version": 3
   },
   "file_extension": ".py",
   "mimetype": "text/x-python",
   "name": "python",
   "nbconvert_exporter": "python",
   "pygments_lexer": "ipython3",
   "version": "3.8.3"
  }
 },
 "nbformat": 4,
 "nbformat_minor": 4
}
