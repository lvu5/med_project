{
  "nbformat": 4,
  "nbformat_minor": 0,
  "metadata": {
    "kernelspec": {
      "display_name": "Python 3",
      "language": "python",
      "name": "python3"
    },
    "language_info": {
      "codemirror_mode": {
        "name": "ipython",
        "version": 3
      },
      "file_extension": ".py",
      "mimetype": "text/x-python",
      "name": "python",
      "nbconvert_exporter": "python",
      "pygments_lexer": "ipython3",
      "version": "3.8.3"
    },
    "colab": {
      "name": "PhotoMarking.ipynb",
      "provenance": []
    }
  },
  "cells": [
    {
      "cell_type": "code",
      "metadata": {
        "id": "Er9xwN0qjw0W"
      },
      "source": [
        "from PIL import Image, ImageDraw\n",
        "import numpy as np\n",
        "import pandas as pd\n",
        "import cv2\n",
        "import fnmatch\n",
        "import os\n",
        "import glob"
      ],
      "execution_count": null,
      "outputs": []
    },
    {
      "cell_type": "code",
      "metadata": {
        "id": "wG2NN6-Yjw0d"
      },
      "source": [
        "df = pd.read_csv('data.txt', sep=\" \", header=None)\n",
        "df.columns = [\"ID\", \"background_tissue\", \"class\",\n",
        "              \"severity\", \"x\", \"y\", \"rad\"]\n",
        "df.index = df.index + 1\n",
        "df = df.dropna()"
      ],
      "execution_count": null,
      "outputs": []
    },
    {
      "cell_type": "code",
      "metadata": {
        "id": "S29ddFmcjw0e"
      },
      "source": [
        ""
      ],
      "execution_count": null,
      "outputs": []
    },
    {
      "cell_type": "code",
      "metadata": {
        "id": "FaqWabnmjw0e"
      },
      "source": [
        "im = Image.open('all-mias/mdb001.pgm')"
      ],
      "execution_count": null,
      "outputs": []
    },
    {
      "cell_type": "code",
      "metadata": {
        "id": "nOshHt-ojw0e",
        "outputId": "a4ee320b-a8a7-43d2-ea94-4787e97a5876"
      },
      "source": [
        "im.getpixel( (535,425) )"
      ],
      "execution_count": null,
      "outputs": [
        {
          "output_type": "execute_result",
          "data": {
            "text/plain": [
              "155"
            ]
          },
          "metadata": {
            "tags": []
          },
          "execution_count": 34
        }
      ]
    },
    {
      "cell_type": "code",
      "metadata": {
        "id": "iz1NemPFjw0g"
      },
      "source": [
        "last = 'start'"
      ],
      "execution_count": null,
      "outputs": []
    },
    {
      "cell_type": "code",
      "metadata": {
        "id": "clFIHedmjw0h"
      },
      "source": [
        "for index, row in df.iterrows():\n",
        "    path = 'all-mias/{name}.pgm'.format(name=row['ID'])\n",
        "    if last != path:\n",
        "        im = Image.open(path).convert(\"RGB\")\n",
        "    x = int(row['x'])\n",
        "    y = int(row['y'])\n",
        "    r = int(row['rad'])\n",
        "    c = row['severity']\n",
        "    img_draw(im, x, 1024 - y, r, c)\n",
        "    im.save(\"marked/{}.png\".format(row['ID']))\n",
        "    last = path"
      ],
      "execution_count": null,
      "outputs": []
    },
    {
      "cell_type": "code",
      "metadata": {
        "id": "TtZBhZrAjw0h",
        "outputId": "ef13cbb5-b8a5-4ba0-84e7-ae3e1fad58d0"
      },
      "source": [
        "df.head(1)"
      ],
      "execution_count": null,
      "outputs": [
        {
          "output_type": "execute_result",
          "data": {
            "text/html": [
              "<div>\n",
              "<style scoped>\n",
              "    .dataframe tbody tr th:only-of-type {\n",
              "        vertical-align: middle;\n",
              "    }\n",
              "\n",
              "    .dataframe tbody tr th {\n",
              "        vertical-align: top;\n",
              "    }\n",
              "\n",
              "    .dataframe thead th {\n",
              "        text-align: right;\n",
              "    }\n",
              "</style>\n",
              "<table border=\"1\" class=\"dataframe\">\n",
              "  <thead>\n",
              "    <tr style=\"text-align: right;\">\n",
              "      <th></th>\n",
              "      <th>ID</th>\n",
              "      <th>background_tissue</th>\n",
              "      <th>class</th>\n",
              "      <th>severity</th>\n",
              "      <th>x</th>\n",
              "      <th>y</th>\n",
              "      <th>rad</th>\n",
              "    </tr>\n",
              "  </thead>\n",
              "  <tbody>\n",
              "    <tr>\n",
              "      <th>1</th>\n",
              "      <td>mdb001</td>\n",
              "      <td>G</td>\n",
              "      <td>CIRC</td>\n",
              "      <td>B</td>\n",
              "      <td>535</td>\n",
              "      <td>425</td>\n",
              "      <td>197.0</td>\n",
              "    </tr>\n",
              "  </tbody>\n",
              "</table>\n",
              "</div>"
            ],
            "text/plain": [
              "       ID background_tissue class severity    x    y    rad\n",
              "1  mdb001                 G  CIRC        B  535  425  197.0"
            ]
          },
          "metadata": {
            "tags": []
          },
          "execution_count": 309
        }
      ]
    },
    {
      "cell_type": "code",
      "metadata": {
        "scrolled": true,
        "id": "rRyfhgemjw0i"
      },
      "source": [
        "im = cv2.imread('all-mias/mdb001.pgm')"
      ],
      "execution_count": null,
      "outputs": []
    },
    {
      "cell_type": "code",
      "metadata": {
        "id": "Fif5sw4Bjw0j"
      },
      "source": [
        "h,w,d = im.shape"
      ],
      "execution_count": null,
      "outputs": []
    },
    {
      "cell_type": "code",
      "metadata": {
        "id": "_O6ErcSsjw0j"
      },
      "source": [
        "mask = np.zeros((h,w), np.uint8)"
      ],
      "execution_count": null,
      "outputs": []
    },
    {
      "cell_type": "code",
      "metadata": {
        "id": "0Sq_RRopjw0j",
        "outputId": "aaa50e0a-6cba-41c5-9e77-6bf5647ddc6e"
      },
      "source": [
        "cv2.circle(mask,(535,1024-425),197,1,thickness=-1)"
      ],
      "execution_count": null,
      "outputs": [
        {
          "output_type": "execute_result",
          "data": {
            "text/plain": [
              "array([[0, 0, 0, ..., 0, 0, 0],\n",
              "       [0, 0, 0, ..., 0, 0, 0],\n",
              "       [0, 0, 0, ..., 0, 0, 0],\n",
              "       ...,\n",
              "       [0, 0, 0, ..., 0, 0, 0],\n",
              "       [0, 0, 0, ..., 0, 0, 0],\n",
              "       [0, 0, 0, ..., 0, 0, 0]], dtype=uint8)"
            ]
          },
          "metadata": {
            "tags": []
          },
          "execution_count": 51
        }
      ]
    },
    {
      "cell_type": "code",
      "metadata": {
        "scrolled": true,
        "id": "lts1dm85jw0k"
      },
      "source": [
        "masked_data = cv2.bitwise_and(im, im, mask=mask)"
      ],
      "execution_count": null,
      "outputs": []
    },
    {
      "cell_type": "code",
      "metadata": {
        "id": "Cx7Hc4NRjw0k",
        "outputId": "dac0db01-eb74-45d6-c00a-ac9c6382eb91"
      },
      "source": [
        "cv2.imshow(\"masked\", masked_data)\n",
        "cv2.waitKey(0)"
      ],
      "execution_count": null,
      "outputs": [
        {
          "output_type": "execute_result",
          "data": {
            "text/plain": [
              "-1"
            ]
          },
          "metadata": {
            "tags": []
          },
          "execution_count": 45
        }
      ]
    },
    {
      "cell_type": "code",
      "metadata": {
        "id": "BnoWmO_rjw0k",
        "outputId": "1a431338-04cd-4d88-c910-1b664a13d59a"
      },
      "source": [
        "cv2.mean(im, mask = mask)"
      ],
      "execution_count": null,
      "outputs": [
        {
          "output_type": "execute_result",
          "data": {
            "text/plain": [
              "(150.78105081826013, 150.78105081826013, 150.78105081826013, 0.0)"
            ]
          },
          "metadata": {
            "tags": []
          },
          "execution_count": 59
        }
      ]
    },
    {
      "cell_type": "code",
      "metadata": {
        "id": "f37WXju0jw0l",
        "outputId": "11aeacc1-edae-4383-b0c2-62ac26706ad2"
      },
      "source": [
        "np.pow(cv2.meanStdDev(im, mask = mask)[1])"
      ],
      "execution_count": null,
      "outputs": [
        {
          "output_type": "execute_result",
          "data": {
            "text/plain": [
              "array([[7.52443877],\n",
              "       [7.52443877],\n",
              "       [7.52443877]])"
            ]
          },
          "metadata": {
            "tags": []
          },
          "execution_count": 67
        }
      ]
    },
    {
      "cell_type": "code",
      "metadata": {
        "id": "iw8wziJBjw0l",
        "outputId": "a43d0689-8e02-4ac6-a9d3-434f2a904dcc"
      },
      "source": [
        "cv2.imwrite(\"masked.png\", masked_data)"
      ],
      "execution_count": null,
      "outputs": [
        {
          "output_type": "execute_result",
          "data": {
            "text/plain": [
              "True"
            ]
          },
          "metadata": {
            "tags": []
          },
          "execution_count": 61
        }
      ]
    },
    {
      "cell_type": "code",
      "metadata": {
        "id": "uLBoH2Qpjw0l"
      },
      "source": [
        "def get_ave():\n",
        "    "
      ],
      "execution_count": null,
      "outputs": []
    },
    {
      "cell_type": "code",
      "metadata": {
        "id": "qsUX9JyMjw0l"
      },
      "source": [
        ""
      ],
      "execution_count": null,
      "outputs": []
    },
    {
      "cell_type": "code",
      "metadata": {
        "id": "GJk-xLFVjw0m"
      },
      "source": [
        ""
      ],
      "execution_count": null,
      "outputs": []
    },
    {
      "cell_type": "code",
      "metadata": {
        "id": "2DJAXdlIjw0m"
      },
      "source": [
        ""
      ],
      "execution_count": null,
      "outputs": []
    }
  ]
}