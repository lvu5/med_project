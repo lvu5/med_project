{
  "nbformat": 4,
  "nbformat_minor": 0,
  "metadata": {
    "kernelspec": {
      "display_name": "Python 3",
      "language": "python",
      "name": "python3"
    },
    "language_info": {
      "codemirror_mode": {
        "name": "ipython",
        "version": 3
      },
      "file_extension": ".py",
      "mimetype": "text/x-python",
      "name": "python",
      "nbconvert_exporter": "python",
      "pygments_lexer": "ipython3",
      "version": "3.8.3"
    },
    "colab": {
      "name": "PhotoMarking.ipynb",
      "provenance": []
    }
  },
  "cells": [
    {
      "cell_type": "code",
      "metadata": {
        "id": "1MGvyTfriuj1"
      },
      "source": [
        "from PIL import Image, ImageDraw\n",
        "import numpy as np\n",
        "import pandas as pd\n",
        "import cv2\n",
        "import fnmatch\n",
        "import os\n",
        "import glob"
      ],
      "execution_count": null,
      "outputs": []
    },
    {
      "cell_type": "code",
      "metadata": {
        "id": "hfoIa1veiukD"
      },
      "source": [
        "df = pd.read_csv('data.txt', sep=\" \", header=None)\n",
        "df.columns = [\"ID\", \"background_tissue\", \"class\",\n",
        "              \"severity\", \"x\", \"y\", \"rad\"]\n",
        "df.index = df.index + 1\n",
        "df = df.dropna()"
      ],
      "execution_count": null,
      "outputs": []
    },
    {
      "cell_type": "code",
      "metadata": {
        "id": "-QMjVIUviukH"
      },
      "source": [
        ""
      ],
      "execution_count": null,
      "outputs": []
    },
    {
      "cell_type": "code",
      "metadata": {
        "id": "CfOqwkw7iukI"
      },
      "source": [
        "im = Image.open('all-mias/mdb001.pgm')"
      ],
      "execution_count": null,
      "outputs": []
    },
    {
      "cell_type": "code",
      "metadata": {
        "id": "ZsQ_2MWXiukK",
        "outputId": "50115b1b-cfbd-4a57-ceb2-747b4c578011"
      },
      "source": [
        "im.getpixel( (535,425) )"
      ],
      "execution_count": null,
      "outputs": [
        {
          "output_type": "execute_result",
          "data": {
            "text/plain": [
              "155"
            ]
          },
          "metadata": {
            "tags": []
          },
          "execution_count": 34
        }
      ]
    },
    {
      "cell_type": "code",
      "metadata": {
        "id": "6T8WFerYiukN"
      },
      "source": [
        "last = 'start'"
      ],
      "execution_count": null,
      "outputs": []
    },
    {
      "cell_type": "code",
      "metadata": {
        "id": "5dJD-oipiukO"
      },
      "source": [
        "for index, row in df.iterrows():\n",
        "    path = 'all-mias/{name}.pgm'.format(name=row['ID'])\n",
        "    if last != path:\n",
        "        im = Image.open(path).convert(\"RGB\")\n",
        "    x = int(row['x'])\n",
        "    y = int(row['y'])\n",
        "    r = int(row['rad'])\n",
        "    c = row['severity']\n",
        "    img_draw(im, x, 1024 - y, r, c)\n",
        "    im.save(\"marked/{}.png\".format(row['ID']))\n",
        "    last = path"
      ],
      "execution_count": null,
      "outputs": []
    },
    {
      "cell_type": "code",
      "metadata": {
        "id": "R04ABd8tiukO",
        "outputId": "5d8de505-7b27-40d6-ef0a-f150e91d4e5d"
      },
      "source": [
        "df.head(1)"
      ],
      "execution_count": null,
      "outputs": [
        {
          "output_type": "execute_result",
          "data": {
            "text/html": [
              "<div>\n",
              "<style scoped>\n",
              "    .dataframe tbody tr th:only-of-type {\n",
              "        vertical-align: middle;\n",
              "    }\n",
              "\n",
              "    .dataframe tbody tr th {\n",
              "        vertical-align: top;\n",
              "    }\n",
              "\n",
              "    .dataframe thead th {\n",
              "        text-align: right;\n",
              "    }\n",
              "</style>\n",
              "<table border=\"1\" class=\"dataframe\">\n",
              "  <thead>\n",
              "    <tr style=\"text-align: right;\">\n",
              "      <th></th>\n",
              "      <th>ID</th>\n",
              "      <th>background_tissue</th>\n",
              "      <th>class</th>\n",
              "      <th>severity</th>\n",
              "      <th>x</th>\n",
              "      <th>y</th>\n",
              "      <th>rad</th>\n",
              "    </tr>\n",
              "  </thead>\n",
              "  <tbody>\n",
              "    <tr>\n",
              "      <th>1</th>\n",
              "      <td>mdb001</td>\n",
              "      <td>G</td>\n",
              "      <td>CIRC</td>\n",
              "      <td>B</td>\n",
              "      <td>535</td>\n",
              "      <td>425</td>\n",
              "      <td>197.0</td>\n",
              "    </tr>\n",
              "  </tbody>\n",
              "</table>\n",
              "</div>"
            ],
            "text/plain": [
              "       ID background_tissue class severity    x    y    rad\n",
              "1  mdb001                 G  CIRC        B  535  425  197.0"
            ]
          },
          "metadata": {
            "tags": []
          },
          "execution_count": 309
        }
      ]
    },
    {
      "cell_type": "code",
      "metadata": {
        "scrolled": true,
        "id": "QAEZ7iAXiukQ"
      },
      "source": [
        "im = cv2.imread('all-mias/mdb001.pgm')"
      ],
      "execution_count": null,
      "outputs": []
    },
    {
      "cell_type": "code",
      "metadata": {
        "id": "0R7u3nwpiukS"
      },
      "source": [
        "h,w,d = im.shape"
      ],
      "execution_count": null,
      "outputs": []
    },
    {
      "cell_type": "code",
      "metadata": {
        "id": "Zmrm75rciukV"
      },
      "source": [
        "mask = np.zeros((h,w), np.uint8)"
      ],
      "execution_count": null,
      "outputs": []
    },
    {
      "cell_type": "code",
      "metadata": {
        "id": "LFSwGqkIiukY",
        "outputId": "82abe274-04ab-4b4e-883e-92f1e6d26ddf"
      },
      "source": [
        "cv2.circle(mask,(535,1024-425),197,1,thickness=-1)"
      ],
      "execution_count": null,
      "outputs": [
        {
          "output_type": "execute_result",
          "data": {
            "text/plain": [
              "array([[0, 0, 0, ..., 0, 0, 0],\n",
              "       [0, 0, 0, ..., 0, 0, 0],\n",
              "       [0, 0, 0, ..., 0, 0, 0],\n",
              "       ...,\n",
              "       [0, 0, 0, ..., 0, 0, 0],\n",
              "       [0, 0, 0, ..., 0, 0, 0],\n",
              "       [0, 0, 0, ..., 0, 0, 0]], dtype=uint8)"
            ]
          },
          "metadata": {
            "tags": []
          },
          "execution_count": 51
        }
      ]
    },
    {
      "cell_type": "code",
      "metadata": {
        "scrolled": true,
        "id": "cRYFKAOdiuka"
      },
      "source": [
        "masked_data = cv2.bitwise_and(im, im, mask=mask)"
      ],
      "execution_count": null,
      "outputs": []
    },
    {
      "cell_type": "code",
      "metadata": {
        "id": "R-_vEZ-oiukb",
        "outputId": "6a5aedc4-c97a-4335-b28a-cb6dc93ea007"
      },
      "source": [
        "cv2.imshow(\"masked\", masked_data)\n",
        "cv2.waitKey(0)"
      ],
      "execution_count": null,
      "outputs": [
        {
          "output_type": "execute_result",
          "data": {
            "text/plain": [
              "-1"
            ]
          },
          "metadata": {
            "tags": []
          },
          "execution_count": 45
        }
      ]
    },
    {
      "cell_type": "code",
      "metadata": {
        "id": "JiWhlolxiukb",
        "outputId": "80657043-d1f7-4c7b-e4ae-7f671de7fcdf"
      },
      "source": [
        "cv2.mean(im, mask = mask)"
      ],
      "execution_count": null,
      "outputs": [
        {
          "output_type": "execute_result",
          "data": {
            "text/plain": [
              "(150.78105081826013, 150.78105081826013, 150.78105081826013, 0.0)"
            ]
          },
          "metadata": {
            "tags": []
          },
          "execution_count": 59
        }
      ]
    },
    {
      "cell_type": "code",
      "metadata": {
        "id": "mAHb2uhyiukc",
        "outputId": "8ec6bafa-a9b4-497c-9402-354df922b8ce"
      },
      "source": [
        "np.pow(cv2.meanStdDev(im, mask = mask)[1])"
      ],
      "execution_count": null,
      "outputs": [
        {
          "output_type": "execute_result",
          "data": {
            "text/plain": [
              "array([[7.52443877],\n",
              "       [7.52443877],\n",
              "       [7.52443877]])"
            ]
          },
          "metadata": {
            "tags": []
          },
          "execution_count": 67
        }
      ]
    },
    {
      "cell_type": "code",
      "metadata": {
        "id": "VEyKGpFXiukd",
        "outputId": "9169682e-01e5-4592-8429-070e75836a84"
      },
      "source": [
        "cv2.imwrite(\"masked.png\", masked_data)"
      ],
      "execution_count": null,
      "outputs": [
        {
          "output_type": "execute_result",
          "data": {
            "text/plain": [
              "True"
            ]
          },
          "metadata": {
            "tags": []
          },
          "execution_count": 61
        }
      ]
    },
    {
      "cell_type": "code",
      "metadata": {
        "id": "xS79sgoLiuke"
      },
      "source": [
        "def get_ave():\n",
        "    "
      ],
      "execution_count": null,
      "outputs": []
    },
    {
      "cell_type": "code",
      "metadata": {
        "id": "ymMQdksriuke"
      },
      "source": [
        ""
      ],
      "execution_count": null,
      "outputs": []
    },
    {
      "cell_type": "code",
      "metadata": {
        "id": "6sHiCHeQiukf"
      },
      "source": [
        ""
      ],
      "execution_count": null,
      "outputs": []
    },
    {
      "cell_type": "code",
      "metadata": {
        "id": "uxUmzVCdiukf"
      },
      "source": [
        ""
      ],
      "execution_count": null,
      "outputs": []
    }
  ]
}