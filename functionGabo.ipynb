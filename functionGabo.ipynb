{
 "cells": [
  {
   "cell_type": "code",
   "execution_count": 1,
   "metadata": {},
   "outputs": [],
   "source": [
    "# Import python library for this notebook\n",
    "import numpy as np # fundamental package for scientific computing\n",
    "import matplotlib.pyplot as plt # package for plot function\n",
    "\n",
    "# show figures inline\n",
    "%matplotlib inline \n",
    "\n",
    "def myimshow(I, **kwargs):\n",
    "    # utility function to show image\n",
    "    plt.figure();\n",
    "    plt.axis('off')\n",
    "    plt.imshow(I, cmap=plt.gray(), **kwargs)"
   ]
  },
  {
   "cell_type": "code",
   "execution_count": 2,
   "metadata": {},
   "outputs": [],
   "source": [
    "def genSinusoid(sz, A, omega, rho):\n",
    "    # Generate Sinusoid grating\n",
    "    # sz: size of generated image (width, height)\n",
    "    radius = (int(sz[0]/2.0), int(sz[1]/2.0))\n",
    "    [x, y] = np.meshgrid(range(-radius[0], radius[0]+1), range(-radius[1], radius[1]+1)) # a BUG is fixed in this line\n",
    "\n",
    "    stimuli = A * np.cos(omega[0] * x  + omega[1] * y + rho)\n",
    "    return stimuli"
   ]
  },
  {
   "cell_type": "code",
   "execution_count": 3,
   "metadata": {},
   "outputs": [],
   "source": [
    "def genGabor(sz, omega, theta, func=np.cos, K=np.pi):\n",
    "    radius = (int(sz[0]/2.0), int(sz[1]/2.0))\n",
    "    [x, y] = np.meshgrid(range(-radius[0], radius[0]+1), range(-radius[1], radius[1]+1))\n",
    "\n",
    "    x1 = x * np.cos(theta) + y * np.sin(theta)\n",
    "    y1 = -x * np.sin(theta) + y * np.cos(theta)\n",
    "    \n",
    "    gauss = omega**2 / (4*np.pi * K**2) * np.exp(- omega**2 / (8*K**2) * ( 4 * x1**2 + y1**2))\n",
    "#     myimshow(gauss)\n",
    "    sinusoid = func(omega * x1) * np.exp(K**2 / 2)\n",
    "#     myimshow(sinusoid)\n",
    "    gabor = gauss * sinusoid\n",
    "    return gabor"
   ]
  },
  {
   "cell_type": "code",
   "execution_count": 4,
   "metadata": {},
   "outputs": [
    {
     "name": "stderr",
     "output_type": "stream",
     "text": [
      "C:\\Users\\linhvt22\\Anaconda3\\lib\\site-packages\\IPython\\html.py:12: ShimWarning: The `IPython.html` package has been deprecated since IPython 4.0. You should import from `notebook` instead. `IPython.html.widgets` has moved to `ipywidgets`.\n",
      "  warn(\"The `IPython.html` package has been deprecated since IPython 4.0. \"\n"
     ]
    }
   ],
   "source": [
    "from IPython.html.widgets import interact, interactive, fixed\n",
    "def demoGabor(theta, omega):\n",
    "    myimshow(genGabor((128,128), omega, theta))"
   ]
  },
  {
   "cell_type": "code",
   "execution_count": null,
   "metadata": {},
   "outputs": [],
   "source": []
  }
 ],
 "metadata": {
  "kernelspec": {
   "display_name": "Python 3",
   "language": "python",
   "name": "python3"
  },
  "language_info": {
   "codemirror_mode": {
    "name": "ipython",
    "version": 3
   },
   "file_extension": ".py",
   "mimetype": "text/x-python",
   "name": "python",
   "nbconvert_exporter": "python",
   "pygments_lexer": "ipython3",
   "version": "3.8.3"
  }
 },
 "nbformat": 4,
 "nbformat_minor": 4
}
