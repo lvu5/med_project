{
 "cells": [
  {
   "cell_type": "code",
   "execution_count": 1,
   "metadata": {},
   "outputs": [],
   "source": [
    "from PIL import Image, ImageDraw\n",
    "import numpy as np\n",
    "import pandas as pd\n",
    "import cv2\n",
    "import fnmatch\n",
    "import os\n",
    "import glob"
   ]
  },
  {
   "cell_type": "code",
   "execution_count": 2,
   "metadata": {},
   "outputs": [],
   "source": [
    "df = pd.read_csv('data.txt', sep=\" \", header=None)\n",
    "df.columns = [\"ID\", \"background_tissue\", \"class\",\n",
    "              \"severity\", \"x\", \"y\", \"rad\"]\n",
    "df.index = df.index + 1\n",
    "df = df.dropna()"
   ]
  },
  {
   "cell_type": "code",
   "execution_count": 3,
   "metadata": {},
   "outputs": [],
   "source": [
    "df_normal = pd.read_csv('data.txt', sep=\" \", header=None)\n",
    "df_normal.columns = [\"ID\", \"background_tissue\", \"class\",\n",
    "              \"severity\", \"x\", \"y\", \"rad\"]"
   ]
  },
  {
   "cell_type": "code",
   "execution_count": 4,
   "metadata": {},
   "outputs": [],
   "source": [
    "df_normal = df_normal.loc[df_normal['class']  == 'NORM']\n",
    "df_normal = df_normal.reset_index(drop=True)"
   ]
  },
  {
   "cell_type": "code",
   "execution_count": 26,
   "metadata": {},
   "outputs": [
    {
     "data": {
      "text/html": [
       "<div>\n",
       "<style scoped>\n",
       "    .dataframe tbody tr th:only-of-type {\n",
       "        vertical-align: middle;\n",
       "    }\n",
       "\n",
       "    .dataframe tbody tr th {\n",
       "        vertical-align: top;\n",
       "    }\n",
       "\n",
       "    .dataframe thead th {\n",
       "        text-align: right;\n",
       "    }\n",
       "</style>\n",
       "<table border=\"1\" class=\"dataframe\">\n",
       "  <thead>\n",
       "    <tr style=\"text-align: right;\">\n",
       "      <th></th>\n",
       "      <th>ID</th>\n",
       "      <th>background_tissue</th>\n",
       "      <th>class</th>\n",
       "      <th>severity</th>\n",
       "      <th>x</th>\n",
       "      <th>y</th>\n",
       "      <th>rad</th>\n",
       "    </tr>\n",
       "  </thead>\n",
       "  <tbody>\n",
       "    <tr>\n",
       "      <th>0</th>\n",
       "      <td>mdb003</td>\n",
       "      <td>D</td>\n",
       "      <td>NORM</td>\n",
       "      <td>NaN</td>\n",
       "      <td>NaN</td>\n",
       "      <td>NaN</td>\n",
       "      <td>NaN</td>\n",
       "    </tr>\n",
       "    <tr>\n",
       "      <th>1</th>\n",
       "      <td>mdb004</td>\n",
       "      <td>D</td>\n",
       "      <td>NORM</td>\n",
       "      <td>NaN</td>\n",
       "      <td>NaN</td>\n",
       "      <td>NaN</td>\n",
       "      <td>NaN</td>\n",
       "    </tr>\n",
       "    <tr>\n",
       "      <th>2</th>\n",
       "      <td>mdb006</td>\n",
       "      <td>F</td>\n",
       "      <td>NORM</td>\n",
       "      <td>NaN</td>\n",
       "      <td>NaN</td>\n",
       "      <td>NaN</td>\n",
       "      <td>NaN</td>\n",
       "    </tr>\n",
       "    <tr>\n",
       "      <th>3</th>\n",
       "      <td>mdb007</td>\n",
       "      <td>G</td>\n",
       "      <td>NORM</td>\n",
       "      <td>NaN</td>\n",
       "      <td>NaN</td>\n",
       "      <td>NaN</td>\n",
       "      <td>NaN</td>\n",
       "    </tr>\n",
       "    <tr>\n",
       "      <th>4</th>\n",
       "      <td>mdb008</td>\n",
       "      <td>G</td>\n",
       "      <td>NORM</td>\n",
       "      <td>NaN</td>\n",
       "      <td>NaN</td>\n",
       "      <td>NaN</td>\n",
       "      <td>NaN</td>\n",
       "    </tr>\n",
       "    <tr>\n",
       "      <th>...</th>\n",
       "      <td>...</td>\n",
       "      <td>...</td>\n",
       "      <td>...</td>\n",
       "      <td>...</td>\n",
       "      <td>...</td>\n",
       "      <td>...</td>\n",
       "      <td>...</td>\n",
       "    </tr>\n",
       "    <tr>\n",
       "      <th>202</th>\n",
       "      <td>mdb318</td>\n",
       "      <td>D</td>\n",
       "      <td>NORM</td>\n",
       "      <td>NaN</td>\n",
       "      <td>NaN</td>\n",
       "      <td>NaN</td>\n",
       "      <td>NaN</td>\n",
       "    </tr>\n",
       "    <tr>\n",
       "      <th>203</th>\n",
       "      <td>mdb319</td>\n",
       "      <td>D</td>\n",
       "      <td>NORM</td>\n",
       "      <td>NaN</td>\n",
       "      <td>NaN</td>\n",
       "      <td>NaN</td>\n",
       "      <td>NaN</td>\n",
       "    </tr>\n",
       "    <tr>\n",
       "      <th>204</th>\n",
       "      <td>mdb320</td>\n",
       "      <td>D</td>\n",
       "      <td>NORM</td>\n",
       "      <td>NaN</td>\n",
       "      <td>NaN</td>\n",
       "      <td>NaN</td>\n",
       "      <td>NaN</td>\n",
       "    </tr>\n",
       "    <tr>\n",
       "      <th>205</th>\n",
       "      <td>mdb321</td>\n",
       "      <td>D</td>\n",
       "      <td>NORM</td>\n",
       "      <td>NaN</td>\n",
       "      <td>NaN</td>\n",
       "      <td>NaN</td>\n",
       "      <td>NaN</td>\n",
       "    </tr>\n",
       "    <tr>\n",
       "      <th>206</th>\n",
       "      <td>mdb322</td>\n",
       "      <td>D</td>\n",
       "      <td>NORM</td>\n",
       "      <td>NaN</td>\n",
       "      <td>NaN</td>\n",
       "      <td>NaN</td>\n",
       "      <td>NaN</td>\n",
       "    </tr>\n",
       "  </tbody>\n",
       "</table>\n",
       "<p>207 rows × 7 columns</p>\n",
       "</div>"
      ],
      "text/plain": [
       "         ID background_tissue class severity    x    y  rad\n",
       "0    mdb003                 D  NORM      NaN  NaN  NaN  NaN\n",
       "1    mdb004                 D  NORM      NaN  NaN  NaN  NaN\n",
       "2    mdb006                 F  NORM      NaN  NaN  NaN  NaN\n",
       "3    mdb007                 G  NORM      NaN  NaN  NaN  NaN\n",
       "4    mdb008                 G  NORM      NaN  NaN  NaN  NaN\n",
       "..      ...               ...   ...      ...  ...  ...  ...\n",
       "202  mdb318                 D  NORM      NaN  NaN  NaN  NaN\n",
       "203  mdb319                 D  NORM      NaN  NaN  NaN  NaN\n",
       "204  mdb320                 D  NORM      NaN  NaN  NaN  NaN\n",
       "205  mdb321                 D  NORM      NaN  NaN  NaN  NaN\n",
       "206  mdb322                 D  NORM      NaN  NaN  NaN  NaN\n",
       "\n",
       "[207 rows x 7 columns]"
      ]
     },
     "execution_count": 26,
     "metadata": {},
     "output_type": "execute_result"
    }
   ],
   "source": [
    "df_normal"
   ]
  },
  {
   "cell_type": "code",
   "execution_count": null,
   "metadata": {},
   "outputs": [],
   "source": [
    "df['severity'].value_counts()"
   ]
  },
  {
   "cell_type": "code",
   "execution_count": null,
   "metadata": {},
   "outputs": [],
   "source": [
    "im = Image.open('all-mias/mdb001.pgm') # PILLOW image processing"
   ]
  },
  {
   "cell_type": "code",
   "execution_count": null,
   "metadata": {},
   "outputs": [],
   "source": [
    "im.getpixel( (535,425) )"
   ]
  },
  {
   "cell_type": "code",
   "execution_count": null,
   "metadata": {},
   "outputs": [],
   "source": [
    "last = 'start'"
   ]
  },
  {
   "cell_type": "code",
   "execution_count": null,
   "metadata": {},
   "outputs": [],
   "source": [
    "def img_draw(image, x, y, r, c):\n",
    "    if c=='M':\n",
    "        color = 'red'\n",
    "    else:\n",
    "        color = 'blue'\n",
    "    draw = ImageDraw.Draw(image)\n",
    "    leftUpPoint = (x-r, y-r)\n",
    "    rightDownPoint = (x+r, y+r)\n",
    "    twoPointList = [leftUpPoint, rightDownPoint]\n",
    "    draw.ellipse(twoPointList, outline=color, width=5)"
   ]
  },
  {
   "cell_type": "code",
   "execution_count": null,
   "metadata": {},
   "outputs": [],
   "source": [
    "for index, row in df.iterrows():\n",
    "    path = 'all-mias/{name}.pgm'.format(name=row['ID'])\n",
    "    if last != path:\n",
    "        im = Image.open(path).convert(\"RGB\")\n",
    "    x = int(row['x'])\n",
    "    y = int(row['y'])\n",
    "    r = int(row['rad'])\n",
    "    c = row['severity']\n",
    "    img_draw(im, x, 1024 - y, r, c)\n",
    "    im.save(\"marked/{}.png\".format(row['ID']))\n",
    "    last = path"
   ]
  },
  {
   "cell_type": "code",
   "execution_count": null,
   "metadata": {},
   "outputs": [],
   "source": []
  },
  {
   "cell_type": "code",
   "execution_count": 37,
   "metadata": {
    "scrolled": true
   },
   "outputs": [],
   "source": [
    "mean_B = []\n",
    "var_B = []\n",
    "mean_M = []\n",
    "var_M = []\n",
    "for index, row in df.iterrows():\n",
    "    path = 'all-mias/{name}.pgm'.format(name=row['ID'])\n",
    "    im = cv2.imread('all-mias/{name}.pgm'.format(name=row['ID']))\n",
    "    h,w,d = im.shape\n",
    "    x = int(row['x'])\n",
    "    y = int(row['y'])\n",
    "    r = int(row['rad'])\n",
    "    c = row['severity']\n",
    "    mask = np.zeros((h,w), np.uint8)\n",
    "    cv2.circle(mask,(x,1024-y),r ,1,thickness=-1)\n",
    "    masked_data = cv2.bitwise_and(im, im, mask=mask)\n",
    "    if (c == 'M'):\n",
    "        mean_M.append(cv2.meanStdDev(im, mask = mask)[0][0])\n",
    "        var_M.append(np.power(cv2.meanStdDev(im, mask = mask)[1][0], 2))\n",
    "    else:\n",
    "        mean_B.append(cv2.meanStdDev(im, mask = mask)[0][0])\n",
    "        var_B.append(np.power(cv2.meanStdDev(im, mask = mask)[1][0], 2))"
   ]
  },
  {
   "cell_type": "code",
   "execution_count": 38,
   "metadata": {},
   "outputs": [
    {
     "data": {
      "text/html": [
       "<div>\n",
       "<style scoped>\n",
       "    .dataframe tbody tr th:only-of-type {\n",
       "        vertical-align: middle;\n",
       "    }\n",
       "\n",
       "    .dataframe tbody tr th {\n",
       "        vertical-align: top;\n",
       "    }\n",
       "\n",
       "    .dataframe thead th {\n",
       "        text-align: right;\n",
       "    }\n",
       "</style>\n",
       "<table border=\"1\" class=\"dataframe\">\n",
       "  <thead>\n",
       "    <tr style=\"text-align: right;\">\n",
       "      <th></th>\n",
       "      <th>ID</th>\n",
       "      <th>background_tissue</th>\n",
       "      <th>class</th>\n",
       "      <th>severity</th>\n",
       "      <th>x</th>\n",
       "      <th>y</th>\n",
       "      <th>rad</th>\n",
       "    </tr>\n",
       "  </thead>\n",
       "  <tbody>\n",
       "    <tr>\n",
       "      <th>2</th>\n",
       "      <td>mdb003</td>\n",
       "      <td>D</td>\n",
       "      <td>NORM</td>\n",
       "      <td>NaN</td>\n",
       "      <td>NaN</td>\n",
       "      <td>NaN</td>\n",
       "      <td>NaN</td>\n",
       "    </tr>\n",
       "    <tr>\n",
       "      <th>3</th>\n",
       "      <td>mdb004</td>\n",
       "      <td>D</td>\n",
       "      <td>NORM</td>\n",
       "      <td>NaN</td>\n",
       "      <td>NaN</td>\n",
       "      <td>NaN</td>\n",
       "      <td>NaN</td>\n",
       "    </tr>\n",
       "    <tr>\n",
       "      <th>6</th>\n",
       "      <td>mdb006</td>\n",
       "      <td>F</td>\n",
       "      <td>NORM</td>\n",
       "      <td>NaN</td>\n",
       "      <td>NaN</td>\n",
       "      <td>NaN</td>\n",
       "      <td>NaN</td>\n",
       "    </tr>\n",
       "    <tr>\n",
       "      <th>7</th>\n",
       "      <td>mdb007</td>\n",
       "      <td>G</td>\n",
       "      <td>NORM</td>\n",
       "      <td>NaN</td>\n",
       "      <td>NaN</td>\n",
       "      <td>NaN</td>\n",
       "      <td>NaN</td>\n",
       "    </tr>\n",
       "    <tr>\n",
       "      <th>8</th>\n",
       "      <td>mdb008</td>\n",
       "      <td>G</td>\n",
       "      <td>NORM</td>\n",
       "      <td>NaN</td>\n",
       "      <td>NaN</td>\n",
       "      <td>NaN</td>\n",
       "      <td>NaN</td>\n",
       "    </tr>\n",
       "    <tr>\n",
       "      <th>...</th>\n",
       "      <td>...</td>\n",
       "      <td>...</td>\n",
       "      <td>...</td>\n",
       "      <td>...</td>\n",
       "      <td>...</td>\n",
       "      <td>...</td>\n",
       "      <td>...</td>\n",
       "    </tr>\n",
       "    <tr>\n",
       "      <th>325</th>\n",
       "      <td>mdb318</td>\n",
       "      <td>D</td>\n",
       "      <td>NORM</td>\n",
       "      <td>NaN</td>\n",
       "      <td>NaN</td>\n",
       "      <td>NaN</td>\n",
       "      <td>NaN</td>\n",
       "    </tr>\n",
       "    <tr>\n",
       "      <th>326</th>\n",
       "      <td>mdb319</td>\n",
       "      <td>D</td>\n",
       "      <td>NORM</td>\n",
       "      <td>NaN</td>\n",
       "      <td>NaN</td>\n",
       "      <td>NaN</td>\n",
       "      <td>NaN</td>\n",
       "    </tr>\n",
       "    <tr>\n",
       "      <th>327</th>\n",
       "      <td>mdb320</td>\n",
       "      <td>D</td>\n",
       "      <td>NORM</td>\n",
       "      <td>NaN</td>\n",
       "      <td>NaN</td>\n",
       "      <td>NaN</td>\n",
       "      <td>NaN</td>\n",
       "    </tr>\n",
       "    <tr>\n",
       "      <th>328</th>\n",
       "      <td>mdb321</td>\n",
       "      <td>D</td>\n",
       "      <td>NORM</td>\n",
       "      <td>NaN</td>\n",
       "      <td>NaN</td>\n",
       "      <td>NaN</td>\n",
       "      <td>NaN</td>\n",
       "    </tr>\n",
       "    <tr>\n",
       "      <th>329</th>\n",
       "      <td>mdb322</td>\n",
       "      <td>D</td>\n",
       "      <td>NORM</td>\n",
       "      <td>NaN</td>\n",
       "      <td>NaN</td>\n",
       "      <td>NaN</td>\n",
       "      <td>NaN</td>\n",
       "    </tr>\n",
       "  </tbody>\n",
       "</table>\n",
       "<p>207 rows × 7 columns</p>\n",
       "</div>"
      ],
      "text/plain": [
       "         ID background_tissue class severity    x    y  rad\n",
       "2    mdb003                 D  NORM      NaN  NaN  NaN  NaN\n",
       "3    mdb004                 D  NORM      NaN  NaN  NaN  NaN\n",
       "6    mdb006                 F  NORM      NaN  NaN  NaN  NaN\n",
       "7    mdb007                 G  NORM      NaN  NaN  NaN  NaN\n",
       "8    mdb008                 G  NORM      NaN  NaN  NaN  NaN\n",
       "..      ...               ...   ...      ...  ...  ...  ...\n",
       "325  mdb318                 D  NORM      NaN  NaN  NaN  NaN\n",
       "326  mdb319                 D  NORM      NaN  NaN  NaN  NaN\n",
       "327  mdb320                 D  NORM      NaN  NaN  NaN  NaN\n",
       "328  mdb321                 D  NORM      NaN  NaN  NaN  NaN\n",
       "329  mdb322                 D  NORM      NaN  NaN  NaN  NaN\n",
       "\n",
       "[207 rows x 7 columns]"
      ]
     },
     "execution_count": 38,
     "metadata": {},
     "output_type": "execute_result"
    }
   ],
   "source": [
    "df_normal"
   ]
  },
  {
   "cell_type": "code",
   "execution_count": 42,
   "metadata": {},
   "outputs": [],
   "source": [
    "from PIL import Image, ImageDraw\n",
    "import numpy as np\n",
    "import pandas as pd\n",
    "import cv2\n",
    "import fnmatch\n",
    "import os\n",
    "import glob\n",
    "\n",
    "def draw_circle(event,x,y,flags,param):\n",
    "    global mouseX,mouseY\n",
    "    if event == cv2.EVENT_LBUTTONDOWN:\n",
    "        cv2.circle(img,(x,y),50,(255,0,0),3)\n",
    "        cv2.imshow('image', img)\n",
    "        mouseX,mouseY = x,y\n",
    "\n",
    "df_normal = pd.read_csv('data.txt', sep=\" \", header=None)\n",
    "df_normal.columns = [\"ID\", \"background_tissue\", \"class\",\n",
    "              \"severity\", \"x\", \"y\", \"rad\"]\n",
    "df_normal = df_normal.loc[df_normal['class']  == 'NORM']\n",
    "df_normal = df_normal.reset_index(drop=True)\n",
    "\n",
    "i = 0\n",
    "\n",
    "path = \"marked_norm\"\n",
    "while(1):\n",
    "    img = cv2.imread('all-mias/{name}.pgm'.format(name=df_normal.iloc[i]['ID']))\n",
    "    cv2.imshow('image',img)\n",
    "    #rad = [50]\n",
    "    cv2.setMouseCallback('image', draw_circle)\n",
    "    k = cv2.waitKey(0) & 0xFF\n",
    "    if k == 27:\n",
    "        break\n",
    "    elif k == ord('a'):\n",
    "        print(mouseX,mouseY)\n",
    "    elif k == ord('s'):\n",
    "        cv2.imwrite(os.path.join(path , '{name}.jpg'.format(name=df_normal.iloc[i]['ID'])), img)\n",
    "    i += 1\n",
    "cv2.destroyAllWindows()"
   ]
  },
  {
   "cell_type": "code",
   "execution_count": 14,
   "metadata": {},
   "outputs": [],
   "source": [
    "img = cv2.imread('all-mias/mdb001.pgm')\n",
    "cv2.imshow(\"image\", img)\n",
    "cv2.namedWindow('image')\n",
    "cv2.setMouseCallback('image', draw_circle)\n",
    "cv2.imshow(\"image\", img)\n",
    "cv2.waitKey(0)\n",
    "cv2.destroyAllWindows()"
   ]
  },
  {
   "cell_type": "code",
   "execution_count": null,
   "metadata": {},
   "outputs": [],
   "source": [
    "im = cv2.imread('all-mias/mdb001.pgm')"
   ]
  },
  {
   "cell_type": "code",
   "execution_count": null,
   "metadata": {},
   "outputs": [],
   "source": [
    "h,w,d = im.shape"
   ]
  },
  {
   "cell_type": "code",
   "execution_count": null,
   "metadata": {},
   "outputs": [],
   "source": [
    "mask = np.zeros((h,w), np.uint8)"
   ]
  },
  {
   "cell_type": "code",
   "execution_count": null,
   "metadata": {},
   "outputs": [],
   "source": [
    "cv2.circle(mask,(535,1024-425),197,1,thickness=-1)"
   ]
  },
  {
   "cell_type": "code",
   "execution_count": null,
   "metadata": {
    "scrolled": true
   },
   "outputs": [],
   "source": [
    "masked_data = cv2.bitwise_and(im, im, mask=mask)"
   ]
  },
  {
   "cell_type": "code",
   "execution_count": null,
   "metadata": {},
   "outputs": [],
   "source": [
    "cv2.imshow(\"masked\", masked_data)\n",
    "cv2.waitKey(0)"
   ]
  },
  {
   "cell_type": "code",
   "execution_count": null,
   "metadata": {},
   "outputs": [],
   "source": [
    "cv2.mean(im, mask = mask)"
   ]
  },
  {
   "cell_type": "code",
   "execution_count": null,
   "metadata": {},
   "outputs": [],
   "source": [
    "cv2.meanStdDev(im, mask = mask)[0][0]"
   ]
  },
  {
   "cell_type": "code",
   "execution_count": null,
   "metadata": {},
   "outputs": [],
   "source": [
    "cv2.imwrite(\"masked.png\", masked_data)"
   ]
  },
  {
   "cell_type": "code",
   "execution_count": null,
   "metadata": {},
   "outputs": [],
   "source": []
  },
  {
   "cell_type": "code",
   "execution_count": null,
   "metadata": {},
   "outputs": [],
   "source": []
  },
  {
   "cell_type": "code",
   "execution_count": null,
   "metadata": {},
   "outputs": [],
   "source": []
  },
  {
   "cell_type": "code",
   "execution_count": null,
   "metadata": {},
   "outputs": [],
   "source": []
  }
 ],
 "metadata": {
  "kernelspec": {
   "display_name": "Python 3",
   "language": "python",
   "name": "python3"
  },
  "language_info": {
   "codemirror_mode": {
    "name": "ipython",
    "version": 3
   },
   "file_extension": ".py",
   "mimetype": "text/x-python",
   "name": "python",
   "nbconvert_exporter": "python",
   "pygments_lexer": "ipython3",
   "version": "3.8.3"
  }
 },
 "nbformat": 4,
 "nbformat_minor": 4
}
