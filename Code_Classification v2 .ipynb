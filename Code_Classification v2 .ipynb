{
 "cells": [
  {
   "cell_type": "code",
   "execution_count": 1,
   "metadata": {},
   "outputs": [],
   "source": [
    "import sklearn\n",
    "from sklearn.datasets import load_breast_cancer\n",
    "from sklearn.model_selection import train_test_split\n",
    "from sklearn.neighbors import KNeighborsClassifier\n",
    "import numpy as np\n",
    "from sklearn.metrics import accuracy_score\n",
    "import matplotlib.pyplot as plt\n",
    "from sklearn.metrics import roc_curve, auc\n",
    "from sklearn.model_selection import cross_validate"
   ]
  },
  {
   "cell_type": "code",
   "execution_count": 2,
   "metadata": {},
   "outputs": [],
   "source": [
    "# data = load_breast_cancer()\n",
    "# x = data.data\n",
    "# y = data.target"
   ]
  },
  {
   "cell_type": "code",
   "execution_count": 3,
   "metadata": {},
   "outputs": [
    {
     "data": {
      "text/html": [
       "<div>\n",
       "<style scoped>\n",
       "    .dataframe tbody tr th:only-of-type {\n",
       "        vertical-align: middle;\n",
       "    }\n",
       "\n",
       "    .dataframe tbody tr th {\n",
       "        vertical-align: top;\n",
       "    }\n",
       "\n",
       "    .dataframe thead th {\n",
       "        text-align: right;\n",
       "    }\n",
       "</style>\n",
       "<table border=\"1\" class=\"dataframe\">\n",
       "  <thead>\n",
       "    <tr style=\"text-align: right;\">\n",
       "      <th></th>\n",
       "      <th>ID</th>\n",
       "      <th>background_tissue</th>\n",
       "      <th>class</th>\n",
       "      <th>severity</th>\n",
       "      <th>x</th>\n",
       "      <th>y</th>\n",
       "      <th>rad</th>\n",
       "      <th>mean</th>\n",
       "      <th>var</th>\n",
       "      <th>std</th>\n",
       "      <th>min_pixel</th>\n",
       "      <th>max_pixel</th>\n",
       "      <th>min_coor_x</th>\n",
       "      <th>min_coor_y</th>\n",
       "      <th>max_coor_x</th>\n",
       "      <th>max_coor_y</th>\n",
       "      <th>bdips</th>\n",
       "    </tr>\n",
       "  </thead>\n",
       "  <tbody>\n",
       "    <tr>\n",
       "      <th>307</th>\n",
       "      <td>mdb318</td>\n",
       "      <td>D</td>\n",
       "      <td>NORM</td>\n",
       "      <td>N</td>\n",
       "      <td>442</td>\n",
       "      <td>68</td>\n",
       "      <td>50</td>\n",
       "      <td>14.033015</td>\n",
       "      <td>0.505857</td>\n",
       "      <td>0.711236</td>\n",
       "      <td>11</td>\n",
       "      <td>35</td>\n",
       "      <td>436</td>\n",
       "      <td>951</td>\n",
       "      <td>467</td>\n",
       "      <td>965</td>\n",
       "      <td>0.000641</td>\n",
       "    </tr>\n",
       "    <tr>\n",
       "      <th>308</th>\n",
       "      <td>mdb319</td>\n",
       "      <td>D</td>\n",
       "      <td>NORM</td>\n",
       "      <td>N</td>\n",
       "      <td>590</td>\n",
       "      <td>281</td>\n",
       "      <td>50</td>\n",
       "      <td>145.912938</td>\n",
       "      <td>28.130725</td>\n",
       "      <td>5.303841</td>\n",
       "      <td>130</td>\n",
       "      <td>168</td>\n",
       "      <td>587</td>\n",
       "      <td>778</td>\n",
       "      <td>637</td>\n",
       "      <td>745</td>\n",
       "      <td>0.000114</td>\n",
       "    </tr>\n",
       "    <tr>\n",
       "      <th>309</th>\n",
       "      <td>mdb320</td>\n",
       "      <td>D</td>\n",
       "      <td>NORM</td>\n",
       "      <td>N</td>\n",
       "      <td>495</td>\n",
       "      <td>264</td>\n",
       "      <td>50</td>\n",
       "      <td>195.578840</td>\n",
       "      <td>470.810515</td>\n",
       "      <td>21.698168</td>\n",
       "      <td>146</td>\n",
       "      <td>227</td>\n",
       "      <td>451</td>\n",
       "      <td>745</td>\n",
       "      <td>527</td>\n",
       "      <td>722</td>\n",
       "      <td>0.000004</td>\n",
       "    </tr>\n",
       "    <tr>\n",
       "      <th>310</th>\n",
       "      <td>mdb321</td>\n",
       "      <td>D</td>\n",
       "      <td>NORM</td>\n",
       "      <td>N</td>\n",
       "      <td>604</td>\n",
       "      <td>271</td>\n",
       "      <td>50</td>\n",
       "      <td>177.764946</td>\n",
       "      <td>30.464061</td>\n",
       "      <td>5.519426</td>\n",
       "      <td>163</td>\n",
       "      <td>199</td>\n",
       "      <td>626</td>\n",
       "      <td>740</td>\n",
       "      <td>555</td>\n",
       "      <td>746</td>\n",
       "      <td>0.000026</td>\n",
       "    </tr>\n",
       "    <tr>\n",
       "      <th>311</th>\n",
       "      <td>mdb322</td>\n",
       "      <td>D</td>\n",
       "      <td>NORM</td>\n",
       "      <td>N</td>\n",
       "      <td>460</td>\n",
       "      <td>115</td>\n",
       "      <td>50</td>\n",
       "      <td>8.994009</td>\n",
       "      <td>7.767332</td>\n",
       "      <td>2.786993</td>\n",
       "      <td>6</td>\n",
       "      <td>24</td>\n",
       "      <td>493</td>\n",
       "      <td>895</td>\n",
       "      <td>446</td>\n",
       "      <td>863</td>\n",
       "      <td>0.000786</td>\n",
       "    </tr>\n",
       "  </tbody>\n",
       "</table>\n",
       "</div>"
      ],
      "text/plain": [
       "         ID background_tissue class severity    x    y  rad        mean  \\\n",
       "307  mdb318                 D  NORM        N  442   68   50   14.033015   \n",
       "308  mdb319                 D  NORM        N  590  281   50  145.912938   \n",
       "309  mdb320                 D  NORM        N  495  264   50  195.578840   \n",
       "310  mdb321                 D  NORM        N  604  271   50  177.764946   \n",
       "311  mdb322                 D  NORM        N  460  115   50    8.994009   \n",
       "\n",
       "            var        std  min_pixel  max_pixel  min_coor_x  min_coor_y  \\\n",
       "307    0.505857   0.711236         11         35         436         951   \n",
       "308   28.130725   5.303841        130        168         587         778   \n",
       "309  470.810515  21.698168        146        227         451         745   \n",
       "310   30.464061   5.519426        163        199         626         740   \n",
       "311    7.767332   2.786993          6         24         493         895   \n",
       "\n",
       "     max_coor_x  max_coor_y     bdips  \n",
       "307         467         965  0.000641  \n",
       "308         637         745  0.000114  \n",
       "309         527         722  0.000004  \n",
       "310         555         746  0.000026  \n",
       "311         446         863  0.000786  "
      ]
     },
     "execution_count": 3,
     "metadata": {},
     "output_type": "execute_result"
    }
   ],
   "source": [
    "import pandas as pd\n",
    "data = pd.read_csv('datasets/final1.csv')\n",
    "del data['Unnamed: 0']\n",
    "data.tail()"
   ]
  },
  {
   "cell_type": "code",
   "execution_count": 4,
   "metadata": {},
   "outputs": [],
   "source": [
    "x = data.iloc[:,[7,8,9,10,11,16]]\n",
    "y = data['severity']\n",
    "di = {'N':0, 'B':1, 'M':2}\n",
    "y = y.map(di)\n",
    "x = x.drop([243])\n",
    "y = y.drop([243])"
   ]
  },
  {
   "cell_type": "code",
   "execution_count": 5,
   "metadata": {},
   "outputs": [
    {
     "data": {
      "text/html": [
       "<div>\n",
       "<style scoped>\n",
       "    .dataframe tbody tr th:only-of-type {\n",
       "        vertical-align: middle;\n",
       "    }\n",
       "\n",
       "    .dataframe tbody tr th {\n",
       "        vertical-align: top;\n",
       "    }\n",
       "\n",
       "    .dataframe thead th {\n",
       "        text-align: right;\n",
       "    }\n",
       "</style>\n",
       "<table border=\"1\" class=\"dataframe\">\n",
       "  <thead>\n",
       "    <tr style=\"text-align: right;\">\n",
       "      <th></th>\n",
       "      <th>mean</th>\n",
       "      <th>var</th>\n",
       "      <th>std</th>\n",
       "      <th>min_pixel</th>\n",
       "      <th>max_pixel</th>\n",
       "      <th>bdips</th>\n",
       "    </tr>\n",
       "  </thead>\n",
       "  <tbody>\n",
       "    <tr>\n",
       "      <th>0</th>\n",
       "      <td>150.781051</td>\n",
       "      <td>3205.504934</td>\n",
       "      <td>56.617179</td>\n",
       "      <td>5</td>\n",
       "      <td>221</td>\n",
       "      <td>0.000007</td>\n",
       "    </tr>\n",
       "    <tr>\n",
       "      <th>1</th>\n",
       "      <td>197.870827</td>\n",
       "      <td>764.537398</td>\n",
       "      <td>27.650269</td>\n",
       "      <td>75</td>\n",
       "      <td>229</td>\n",
       "      <td>0.000055</td>\n",
       "    </tr>\n",
       "    <tr>\n",
       "      <th>2</th>\n",
       "      <td>149.605105</td>\n",
       "      <td>409.222292</td>\n",
       "      <td>20.229243</td>\n",
       "      <td>84</td>\n",
       "      <td>187</td>\n",
       "      <td>0.000087</td>\n",
       "    </tr>\n",
       "    <tr>\n",
       "      <th>3</th>\n",
       "      <td>162.426214</td>\n",
       "      <td>80.178549</td>\n",
       "      <td>8.954248</td>\n",
       "      <td>128</td>\n",
       "      <td>181</td>\n",
       "      <td>0.000578</td>\n",
       "    </tr>\n",
       "    <tr>\n",
       "      <th>4</th>\n",
       "      <td>184.385157</td>\n",
       "      <td>127.091607</td>\n",
       "      <td>11.273491</td>\n",
       "      <td>155</td>\n",
       "      <td>208</td>\n",
       "      <td>0.000287</td>\n",
       "    </tr>\n",
       "    <tr>\n",
       "      <th>...</th>\n",
       "      <td>...</td>\n",
       "      <td>...</td>\n",
       "      <td>...</td>\n",
       "      <td>...</td>\n",
       "      <td>...</td>\n",
       "      <td>...</td>\n",
       "    </tr>\n",
       "    <tr>\n",
       "      <th>307</th>\n",
       "      <td>14.033015</td>\n",
       "      <td>0.505857</td>\n",
       "      <td>0.711236</td>\n",
       "      <td>11</td>\n",
       "      <td>35</td>\n",
       "      <td>0.000641</td>\n",
       "    </tr>\n",
       "    <tr>\n",
       "      <th>308</th>\n",
       "      <td>145.912938</td>\n",
       "      <td>28.130725</td>\n",
       "      <td>5.303841</td>\n",
       "      <td>130</td>\n",
       "      <td>168</td>\n",
       "      <td>0.000114</td>\n",
       "    </tr>\n",
       "    <tr>\n",
       "      <th>309</th>\n",
       "      <td>195.578840</td>\n",
       "      <td>470.810515</td>\n",
       "      <td>21.698168</td>\n",
       "      <td>146</td>\n",
       "      <td>227</td>\n",
       "      <td>0.000004</td>\n",
       "    </tr>\n",
       "    <tr>\n",
       "      <th>310</th>\n",
       "      <td>177.764946</td>\n",
       "      <td>30.464061</td>\n",
       "      <td>5.519426</td>\n",
       "      <td>163</td>\n",
       "      <td>199</td>\n",
       "      <td>0.000026</td>\n",
       "    </tr>\n",
       "    <tr>\n",
       "      <th>311</th>\n",
       "      <td>8.994009</td>\n",
       "      <td>7.767332</td>\n",
       "      <td>2.786993</td>\n",
       "      <td>6</td>\n",
       "      <td>24</td>\n",
       "      <td>0.000786</td>\n",
       "    </tr>\n",
       "  </tbody>\n",
       "</table>\n",
       "<p>311 rows × 6 columns</p>\n",
       "</div>"
      ],
      "text/plain": [
       "           mean          var        std  min_pixel  max_pixel     bdips\n",
       "0    150.781051  3205.504934  56.617179          5        221  0.000007\n",
       "1    197.870827   764.537398  27.650269         75        229  0.000055\n",
       "2    149.605105   409.222292  20.229243         84        187  0.000087\n",
       "3    162.426214    80.178549   8.954248        128        181  0.000578\n",
       "4    184.385157   127.091607  11.273491        155        208  0.000287\n",
       "..          ...          ...        ...        ...        ...       ...\n",
       "307   14.033015     0.505857   0.711236         11         35  0.000641\n",
       "308  145.912938    28.130725   5.303841        130        168  0.000114\n",
       "309  195.578840   470.810515  21.698168        146        227  0.000004\n",
       "310  177.764946    30.464061   5.519426        163        199  0.000026\n",
       "311    8.994009     7.767332   2.786993          6         24  0.000786\n",
       "\n",
       "[311 rows x 6 columns]"
      ]
     },
     "execution_count": 5,
     "metadata": {},
     "output_type": "execute_result"
    }
   ],
   "source": [
    "x"
   ]
  },
  {
   "cell_type": "code",
   "execution_count": 7,
   "metadata": {},
   "outputs": [],
   "source": [
    "x_train, x_test, y_train, y_test = train_test_split(x, y,test_size = 0.2, random_state=42, stratify = y)"
   ]
  },
  {
   "cell_type": "markdown",
   "metadata": {},
   "source": [
    "# KNN"
   ]
  },
  {
   "cell_type": "code",
   "execution_count": 7,
   "metadata": {
    "scrolled": true
   },
   "outputs": [
    {
     "name": "stderr",
     "output_type": "stream",
     "text": [
      "C:\\Users\\huyenntx1\\Miniconda3\\lib\\site-packages\\sklearn\\model_selection\\_validation.py:548: FitFailedWarning: Estimator fit failed. The score on this train-test partition for these parameters will be set to nan. Details: \n",
      "Traceback (most recent call last):\n",
      "  File \"C:\\Users\\huyenntx1\\Miniconda3\\lib\\site-packages\\sklearn\\model_selection\\_validation.py\", line 531, in _fit_and_score\n",
      "    estimator.fit(X_train, y_train, **fit_params)\n",
      "  File \"C:\\Users\\huyenntx1\\Miniconda3\\lib\\site-packages\\sklearn\\neighbors\\_base.py\", line 1157, in fit\n",
      "    return self._fit(X)\n",
      "  File \"C:\\Users\\huyenntx1\\Miniconda3\\lib\\site-packages\\sklearn\\neighbors\\_base.py\", line 467, in _fit\n",
      "    raise ValueError(\n",
      "ValueError: Expected n_neighbors > 0. Got 0\n",
      "\n",
      "  warnings.warn(\"Estimator fit failed. The score on this train-test\"\n",
      "C:\\Users\\huyenntx1\\Miniconda3\\lib\\site-packages\\sklearn\\model_selection\\_validation.py:548: FitFailedWarning: Estimator fit failed. The score on this train-test partition for these parameters will be set to nan. Details: \n",
      "Traceback (most recent call last):\n",
      "  File \"C:\\Users\\huyenntx1\\Miniconda3\\lib\\site-packages\\sklearn\\model_selection\\_validation.py\", line 531, in _fit_and_score\n",
      "    estimator.fit(X_train, y_train, **fit_params)\n",
      "  File \"C:\\Users\\huyenntx1\\Miniconda3\\lib\\site-packages\\sklearn\\neighbors\\_base.py\", line 1157, in fit\n",
      "    return self._fit(X)\n",
      "  File \"C:\\Users\\huyenntx1\\Miniconda3\\lib\\site-packages\\sklearn\\neighbors\\_base.py\", line 467, in _fit\n",
      "    raise ValueError(\n",
      "ValueError: Expected n_neighbors > 0. Got 0\n",
      "\n",
      "  warnings.warn(\"Estimator fit failed. The score on this train-test\"\n",
      "C:\\Users\\huyenntx1\\Miniconda3\\lib\\site-packages\\sklearn\\model_selection\\_validation.py:548: FitFailedWarning: Estimator fit failed. The score on this train-test partition for these parameters will be set to nan. Details: \n",
      "Traceback (most recent call last):\n",
      "  File \"C:\\Users\\huyenntx1\\Miniconda3\\lib\\site-packages\\sklearn\\model_selection\\_validation.py\", line 531, in _fit_and_score\n",
      "    estimator.fit(X_train, y_train, **fit_params)\n",
      "  File \"C:\\Users\\huyenntx1\\Miniconda3\\lib\\site-packages\\sklearn\\neighbors\\_base.py\", line 1157, in fit\n",
      "    return self._fit(X)\n",
      "  File \"C:\\Users\\huyenntx1\\Miniconda3\\lib\\site-packages\\sklearn\\neighbors\\_base.py\", line 467, in _fit\n",
      "    raise ValueError(\n",
      "ValueError: Expected n_neighbors > 0. Got 0\n",
      "\n",
      "  warnings.warn(\"Estimator fit failed. The score on this train-test\"\n",
      "C:\\Users\\huyenntx1\\Miniconda3\\lib\\site-packages\\sklearn\\model_selection\\_validation.py:548: FitFailedWarning: Estimator fit failed. The score on this train-test partition for these parameters will be set to nan. Details: \n",
      "Traceback (most recent call last):\n",
      "  File \"C:\\Users\\huyenntx1\\Miniconda3\\lib\\site-packages\\sklearn\\model_selection\\_validation.py\", line 531, in _fit_and_score\n",
      "    estimator.fit(X_train, y_train, **fit_params)\n",
      "  File \"C:\\Users\\huyenntx1\\Miniconda3\\lib\\site-packages\\sklearn\\neighbors\\_base.py\", line 1157, in fit\n",
      "    return self._fit(X)\n",
      "  File \"C:\\Users\\huyenntx1\\Miniconda3\\lib\\site-packages\\sklearn\\neighbors\\_base.py\", line 467, in _fit\n",
      "    raise ValueError(\n",
      "ValueError: Expected n_neighbors > 0. Got 0\n",
      "\n",
      "  warnings.warn(\"Estimator fit failed. The score on this train-test\"\n",
      "C:\\Users\\huyenntx1\\Miniconda3\\lib\\site-packages\\sklearn\\model_selection\\_validation.py:548: FitFailedWarning: Estimator fit failed. The score on this train-test partition for these parameters will be set to nan. Details: \n",
      "Traceback (most recent call last):\n",
      "  File \"C:\\Users\\huyenntx1\\Miniconda3\\lib\\site-packages\\sklearn\\model_selection\\_validation.py\", line 531, in _fit_and_score\n",
      "    estimator.fit(X_train, y_train, **fit_params)\n",
      "  File \"C:\\Users\\huyenntx1\\Miniconda3\\lib\\site-packages\\sklearn\\neighbors\\_base.py\", line 1157, in fit\n",
      "    return self._fit(X)\n",
      "  File \"C:\\Users\\huyenntx1\\Miniconda3\\lib\\site-packages\\sklearn\\neighbors\\_base.py\", line 467, in _fit\n",
      "    raise ValueError(\n",
      "ValueError: Expected n_neighbors > 0. Got 0\n",
      "\n",
      "  warnings.warn(\"Estimator fit failed. The score on this train-test\"\n"
     ]
    },
    {
     "data": {
      "text/plain": [
       "{'n_neighbors': 10}"
      ]
     },
     "execution_count": 7,
     "metadata": {},
     "output_type": "execute_result"
    }
   ],
   "source": [
    "from sklearn.model_selection import GridSearchCV\n",
    "params = {'n_neighbors': np.arange(15)}\n",
    "reg = KNeighborsClassifier()\n",
    "model = GridSearchCV(reg, params, cv=5)\n",
    "model.fit(x_train,y_train)\n",
    "model.best_params_"
   ]
  },
  {
   "cell_type": "code",
   "execution_count": 9,
   "metadata": {},
   "outputs": [
    {
     "name": "stdout",
     "output_type": "stream",
     "text": [
      "Test set R^2: 0.63\n"
     ]
    },
    {
     "data": {
      "text/plain": [
       "array([0, 0, 0, 1, 0, 0, 1, 0, 0, 0, 0, 0, 0, 2, 0, 0, 0, 0, 2, 0, 0, 0,\n",
       "       0, 0, 0, 0, 0, 0, 0, 0, 0, 0, 1, 1, 0, 0, 0, 0, 0, 0, 0, 0, 1, 0,\n",
       "       0, 0, 0, 0, 0, 1, 0, 0, 1, 0, 2, 2, 0, 1, 0, 1, 0, 0, 0],\n",
       "      dtype=int64)"
      ]
     },
     "execution_count": 9,
     "metadata": {},
     "output_type": "execute_result"
    }
   ],
   "source": [
    "knn = KNeighborsClassifier(n_neighbors=10)\n",
    "knn.fit(x_train, y_train)\n",
    "print(\"Test set R^2: {:.2f}\".format(knn.score(x_test, y_test)))\n",
    "y_pred = knn.predict(x_test)\n",
    "y_pred"
   ]
  },
  {
   "cell_type": "code",
   "execution_count": 8,
   "metadata": {},
   "outputs": [
    {
     "data": {
      "text/plain": [
       "array([0, 0, 0, 2, 0, 0, 1, 0, 0, 0, 0, 1, 2, 1, 0, 1, 0, 1, 2, 2, 1, 0,\n",
       "       0, 1, 1, 2, 0, 0, 0, 0, 0, 0, 1, 0, 0, 0, 0, 0, 1, 1, 2, 0, 0, 2,\n",
       "       0, 1, 0, 0, 0, 1, 0, 0, 2, 0, 2, 1, 0, 0, 2, 0, 0, 0, 0],\n",
       "      dtype=int64)"
      ]
     },
     "execution_count": 8,
     "metadata": {},
     "output_type": "execute_result"
    }
   ],
   "source": [
    "np.array(y_test)"
   ]
  },
  {
   "cell_type": "code",
   "execution_count": 10,
   "metadata": {},
   "outputs": [],
   "source": [
    "y_scores = knn.predict_proba(x_test)\n",
    "fpr_knn, tpr_knn, threshold = roc_curve(y_test, y_scores[:, 1], pos_label= 1)\n",
    "roc_auc_knn = auc(fpr_knn, tpr_knn)"
   ]
  },
  {
   "cell_type": "code",
   "execution_count": 13,
   "metadata": {},
   "outputs": [
    {
     "name": "stdout",
     "output_type": "stream",
     "text": [
      "{'fit_time': array([0.00310206, 0.        , 0.00298905, 0.00199485, 0.00199485]), 'score_time': array([0.00326443, 0.00967479, 0.00398803, 0.00299215, 0.00299883]), 'test_score': array([0.61904762, 0.62903226, 0.59677419, 0.5483871 , 0.62903226]), 'train_score': array([0.66129032, 0.65461847, 0.64257028, 0.6746988 , 0.6746988 ])}\n"
     ]
    }
   ],
   "source": [
    "scores = cross_validate(knn, x, y, cv=5, scoring=('accuracy'),\n",
    "                        return_train_score=True)\n",
    "print(scores)"
   ]
  },
  {
   "cell_type": "markdown",
   "metadata": {},
   "source": [
    "# SVM\n"
   ]
  },
  {
   "cell_type": "code",
   "execution_count": 15,
   "metadata": {},
   "outputs": [
    {
     "data": {
      "text/plain": [
       "SVC(C=30)"
      ]
     },
     "execution_count": 15,
     "metadata": {},
     "output_type": "execute_result"
    }
   ],
   "source": [
    "svm = sklearn.svm.SVC(C = 30, kernel='rbf')\n",
    "svm.fit(x_train, y_train)"
   ]
  },
  {
   "cell_type": "code",
   "execution_count": 16,
   "metadata": {},
   "outputs": [
    {
     "data": {
      "text/plain": [
       "0.6451612903225806"
      ]
     },
     "execution_count": 16,
     "metadata": {},
     "output_type": "execute_result"
    }
   ],
   "source": [
    "svm.score(x_train, y_train)\n"
   ]
  },
  {
   "cell_type": "code",
   "execution_count": 17,
   "metadata": {},
   "outputs": [
    {
     "data": {
      "text/plain": [
       "0.6190476190476191"
      ]
     },
     "execution_count": 17,
     "metadata": {},
     "output_type": "execute_result"
    }
   ],
   "source": [
    "svm.score(x_test, y_test)\n"
   ]
  },
  {
   "cell_type": "code",
   "execution_count": 18,
   "metadata": {},
   "outputs": [
    {
     "data": {
      "text/plain": [
       "169     True\n",
       "167     True\n",
       "173     True\n",
       "11     False\n",
       "299     True\n",
       "       ...  \n",
       "63     False\n",
       "269     True\n",
       "250     True\n",
       "311     True\n",
       "221     True\n",
       "Name: severity, Length: 63, dtype: bool"
      ]
     },
     "execution_count": 18,
     "metadata": {},
     "output_type": "execute_result"
    }
   ],
   "source": [
    "y_pred = svm.predict(x_test)\n",
    "y_pred == y_test"
   ]
  },
  {
   "cell_type": "code",
   "execution_count": 19,
   "metadata": {},
   "outputs": [],
   "source": [
    "y_scores = svm.predict(x_test)\n",
    "fpr_svm, tpr_svm, threshold = roc_curve(y_test, y_scores, pos_label= 1)\n",
    "roc_auc_svm = auc(fpr_svm, tpr_svm)"
   ]
  },
  {
   "cell_type": "code",
   "execution_count": 20,
   "metadata": {},
   "outputs": [
    {
     "name": "stdout",
     "output_type": "stream",
     "text": [
      "{'fit_time': array([0.00398779, 0.00401473, 0.00653243, 0.00395536, 0.00394797]), 'score_time': array([0.00203371, 0.00155354, 0.0019567 , 0.00203657, 0.00099587]), 'test_score': array([0.63492063, 0.62903226, 0.61290323, 0.5483871 , 0.61290323]), 'train_score': array([0.63306452, 0.62650602, 0.63453815, 0.67871486, 0.65060241])}\n"
     ]
    }
   ],
   "source": [
    "from sklearn.model_selection import cross_validate\n",
    "scores = cross_validate(svm, x, y, cv=5, scoring=('accuracy'),\n",
    "                        return_train_score=True)\n",
    "print(scores)"
   ]
  },
  {
   "cell_type": "markdown",
   "metadata": {},
   "source": [
    "# Decision Tree\n"
   ]
  },
  {
   "cell_type": "code",
   "execution_count": 8,
   "metadata": {},
   "outputs": [],
   "source": [
    "from sklearn.tree import DecisionTreeClassifier\n"
   ]
  },
  {
   "cell_type": "code",
   "execution_count": 9,
   "metadata": {},
   "outputs": [],
   "source": [
    "# tree=DecisionTreeClassifier(max_depth=2,random_state=42)\n",
    "tree = DecisionTreeClassifier(random_state=42,max_depth=5)"
   ]
  },
  {
   "cell_type": "code",
   "execution_count": 10,
   "metadata": {},
   "outputs": [
    {
     "data": {
      "text/plain": [
       "DecisionTreeClassifier(max_depth=5, random_state=42)"
      ]
     },
     "execution_count": 10,
     "metadata": {},
     "output_type": "execute_result"
    }
   ],
   "source": [
    "tree.fit(x_train, y_train)"
   ]
  },
  {
   "cell_type": "code",
   "execution_count": 11,
   "metadata": {},
   "outputs": [],
   "source": [
    "y_pred = tree.predict(x_test)"
   ]
  },
  {
   "cell_type": "code",
   "execution_count": 12,
   "metadata": {},
   "outputs": [
    {
     "name": "stdout",
     "output_type": "stream",
     "text": [
      "Độ chính xác tập huấn luyện: 0.8226\n",
      "Độ chính xác tập kiểm tra: 0.6825\n"
     ]
    }
   ],
   "source": [
    "print('Độ chính xác tập huấn luyện: {:.4f}'.format(tree.score(x_train, y_train)))\n",
    "print('Độ chính xác tập kiểm tra: {:.4f}'.format(tree.score(x_test, y_test)))"
   ]
  },
  {
   "cell_type": "code",
   "execution_count": 13,
   "metadata": {},
   "outputs": [],
   "source": [
    "from sklearn.model_selection import cross_val_score, cross_val_predict\n",
    "from sklearn.metrics import accuracy_score, classification_report, confusion_matrix\n",
    "def print_score(clf, X_train, y_train, X_test, y_test, train=True):\n",
    "    '''\n",
    "    print the accuracy score, classification report and confusion matrix of classifier\n",
    "    '''\n",
    "    if train:\n",
    "        '''\n",
    "        training performance\n",
    "        '''\n",
    "        print(\"Train Result:\\n\")\n",
    "        print(\"accuracy score: {0:.4f}\\n\".format(accuracy_score(y_train, clf.predict(X_train))))\n",
    "        print(\"Classification Report: \\n {}\\n\".format(classification_report(y_train, clf.predict(X_train))))\n",
    "        print(\"Confusion Matrix: \\n {}\\n\".format(confusion_matrix(y_train, clf.predict(X_train))))\n",
    "\n",
    "        res = cross_val_score(clf, X_train, y_train.ravel(), cv=10, scoring='accuracy')\n",
    "        print(\"Average Accuracy: \\t {0:.4f}\".format(np.mean(res)))\n",
    "        print(\"Accuracy SD: \\t\\t {0:.4f}\".format(np.std(res)))\n",
    "        \n",
    "    elif train==False:\n",
    "        '''\n",
    "        test performance\n",
    "        '''\n",
    "        print(\"Test Result:\\n\")        \n",
    "        print(\"accuracy score: {0:.4f}\\n\".format(accuracy_score(y_test, clf.predict(X_test))))\n",
    "        print(\"Classification Report: \\n {}\\n\".format(classification_report(y_test, clf.predict(X_test))))\n",
    "        print(\"Confusion Matrix: \\n {}\\n\".format(confusion_matrix(y_test, clf.predict(X_test))))    \n",
    "        "
   ]
  },
  {
   "cell_type": "code",
   "execution_count": 14,
   "metadata": {},
   "outputs": [
    {
     "name": "stdout",
     "output_type": "stream",
     "text": [
      "Test Result:\n",
      "\n",
      "accuracy score: 0.6825\n",
      "\n",
      "Classification Report: \n",
      "               precision    recall  f1-score   support\n",
      "\n",
      "           0       0.89      0.79      0.84        39\n",
      "           1       0.48      0.71      0.57        14\n",
      "           2       0.29      0.20      0.24        10\n",
      "\n",
      "    accuracy                           0.68        63\n",
      "   macro avg       0.55      0.57      0.55        63\n",
      "weighted avg       0.70      0.68      0.68        63\n",
      "\n",
      "\n",
      "Confusion Matrix: \n",
      " [[31  5  3]\n",
      " [ 2 10  2]\n",
      " [ 2  6  2]]\n",
      "\n"
     ]
    }
   ],
   "source": [
    "print_score(tree, x_train, y_train, x_test, y_test, train=False)"
   ]
  },
  {
   "cell_type": "code",
   "execution_count": 15,
   "metadata": {},
   "outputs": [],
   "source": [
    "y_scores = tree.predict_proba(x_test)\n",
    "fpr_tree, tpr_tree, threshold = roc_curve(y_test, y_scores[:, 1], pos_label= 1)\n",
    "roc_auc_tree = auc(fpr_tree, tpr_tree)\n"
   ]
  },
  {
   "cell_type": "code",
   "execution_count": 16,
   "metadata": {},
   "outputs": [
    {
     "name": "stdout",
     "output_type": "stream",
     "text": [
      "{'fit_time': array([0.0039897 , 0.00254059, 0.00196171, 0.00199485, 0.00398898]), 'score_time': array([0.00099778, 0.00095725, 0.00150061, 0.00199533, 0.00199795]), 'test_score': array([0.66666667, 0.59677419, 0.62903226, 0.56451613, 0.69354839]), 'train_score': array([0.7983871 , 0.79919679, 0.82730924, 0.82730924, 0.81526104])}\n"
     ]
    }
   ],
   "source": [
    "scores = cross_validate(tree, x, y, cv=5, scoring=('accuracy'),\n",
    "                        return_train_score=True)\n",
    "print(scores)"
   ]
  },
  {
   "cell_type": "markdown",
   "metadata": {},
   "source": [
    "# Random forest\n"
   ]
  },
  {
   "cell_type": "code",
   "execution_count": 17,
   "metadata": {},
   "outputs": [],
   "source": [
    "from sklearn.ensemble import RandomForestClassifier"
   ]
  },
  {
   "cell_type": "code",
   "execution_count": 18,
   "metadata": {},
   "outputs": [
    {
     "data": {
      "text/plain": [
       "RandomForestClassifier(max_depth=5, n_estimators=10)"
      ]
     },
     "execution_count": 18,
     "metadata": {},
     "output_type": "execute_result"
    }
   ],
   "source": [
    "rf = RandomForestClassifier(n_estimators=10, max_depth=5)\n",
    "rf.fit(x_train, y_train)"
   ]
  },
  {
   "cell_type": "code",
   "execution_count": 19,
   "metadata": {},
   "outputs": [
    {
     "name": "stdout",
     "output_type": "stream",
     "text": [
      "Train Result:\n",
      "\n",
      "accuracy score: 0.8548\n",
      "\n",
      "Classification Report: \n",
      "               precision    recall  f1-score   support\n",
      "\n",
      "           0       0.86      0.97      0.91       153\n",
      "           1       0.83      0.74      0.78        54\n",
      "           2       0.89      0.59      0.71        41\n",
      "\n",
      "    accuracy                           0.85       248\n",
      "   macro avg       0.86      0.76      0.80       248\n",
      "weighted avg       0.86      0.85      0.85       248\n",
      "\n",
      "\n",
      "Confusion Matrix: \n",
      " [[148   3   2]\n",
      " [ 13  40   1]\n",
      " [ 12   5  24]]\n",
      "\n",
      "Average Accuracy: \t 0.6375\n",
      "Accuracy SD: \t\t 0.0752\n",
      "\n",
      "\n",
      "Test Result:\n",
      "\n",
      "accuracy score: 0.6667\n",
      "\n",
      "Classification Report: \n",
      "               precision    recall  f1-score   support\n",
      "\n",
      "           0       0.74      0.87      0.80        39\n",
      "           1       0.44      0.50      0.47        14\n",
      "           2       1.00      0.10      0.18        10\n",
      "\n",
      "    accuracy                           0.67        63\n",
      "   macro avg       0.73      0.49      0.48        63\n",
      "weighted avg       0.71      0.67      0.63        63\n",
      "\n",
      "\n",
      "Confusion Matrix: \n",
      " [[34  5  0]\n",
      " [ 7  7  0]\n",
      " [ 5  4  1]]\n",
      "\n"
     ]
    }
   ],
   "source": [
    "print_score(rf, x_train, y_train, x_test, y_test, train=True)\n",
    "print('\\n')\n",
    "print_score(rf, x_train, y_train, x_test, y_test, train=False)"
   ]
  },
  {
   "cell_type": "code",
   "execution_count": 20,
   "metadata": {},
   "outputs": [],
   "source": [
    "y_scores = rf.predict_proba(x_test)\n",
    "fpr_rf, tpr_rf, threshold = roc_curve(y_test, y_scores[:, 1], pos_label= 1)\n",
    "roc_auc_rf = auc(fpr_rf, tpr_rf)"
   ]
  },
  {
   "cell_type": "code",
   "execution_count": 21,
   "metadata": {},
   "outputs": [
    {
     "name": "stdout",
     "output_type": "stream",
     "text": [
      "{'fit_time': array([0.01473856, 0.01746392, 0.01396704, 0.01195908, 0.        ]), 'score_time': array([0.00250673, 0.00301933, 0.00200391, 0.00198913, 0.        ]), 'test_score': array([0.66666667, 0.61290323, 0.58064516, 0.58064516, 0.72580645]), 'train_score': array([0.85483871, 0.86345382, 0.81927711, 0.85140562, 0.86746988])}\n"
     ]
    }
   ],
   "source": [
    "scores = cross_validate(rf, x, y, cv=5, scoring=('accuracy'),\n",
    "                        return_train_score=True)\n",
    "print(scores)"
   ]
  },
  {
   "cell_type": "markdown",
   "metadata": {},
   "source": [
    "# Neural Network\n"
   ]
  },
  {
   "cell_type": "code",
   "execution_count": 35,
   "metadata": {},
   "outputs": [
    {
     "name": "stdout",
     "output_type": "stream",
     "text": [
      "Model: \"sequential\"\n",
      "_________________________________________________________________\n",
      "Layer (type)                 Output Shape              Param #   \n",
      "=================================================================\n",
      "dense (Dense)                (None, 16)                112       \n",
      "_________________________________________________________________\n",
      "dense_1 (Dense)              (None, 16)                272       \n",
      "_________________________________________________________________\n",
      "dense_2 (Dense)              (None, 3)                 51        \n",
      "=================================================================\n",
      "Total params: 435\n",
      "Trainable params: 435\n",
      "Non-trainable params: 0\n",
      "_________________________________________________________________\n"
     ]
    }
   ],
   "source": [
    "# build model\n",
    "import tensorflow.keras as keras\n",
    "from tensorflow.keras.models import Sequential\n",
    "from tensorflow.keras.layers import Dense, Dropout, Activation\n",
    "\n",
    "model = Sequential()\n",
    "model.add(Dense(units=16, activation='relu', input_shape=(6,)))\n",
    "Dropout(0.25)\n",
    "model.add(Dense(units=16, activation='relu'))\n",
    "Dropout(0.25)\n",
    "model.add(Dense(units=3, activation='softmax'))\n",
    "model.summary()\n"
   ]
  },
  {
   "cell_type": "code",
   "execution_count": 31,
   "metadata": {},
   "outputs": [],
   "source": [
    "# x_train, x_val, y_train, y_val = train_test_split(x_train, y_train, test_size=0.25, random_state=42, stratify = y_train)"
   ]
  },
  {
   "cell_type": "code",
   "execution_count": 32,
   "metadata": {},
   "outputs": [
    {
     "name": "stdout",
     "output_type": "stream",
     "text": [
      "categorical y_train:  (186, 3)\n",
      "categorical y_val :  (62, 3)\n",
      "categorical y_test :  (63, 3)\n"
     ]
    }
   ],
   "source": [
    "# y_train = keras.utils.to_categorical(y_train, 3)\n",
    "# y_val = keras.utils.to_categorical(y_val, 3)\n",
    "# y_test = keras.utils.to_categorical(y_test, 3)\n",
    "# print('categorical y_train: ', y_train.shape)\n",
    "# print('categorical y_val : ', y_val.shape)\n",
    "# print('categorical y_test : ', y_test.shape)"
   ]
  },
  {
   "cell_type": "code",
   "execution_count": 41,
   "metadata": {},
   "outputs": [],
   "source": [
    "from tensorflow.keras.optimizers import SGD\n",
    "# Compile model\n",
    "epochs = 100\n",
    "lr = 0.001\n",
    "# decay = lr/epochs\n",
    "# sgd = SGD(lr=lr, momentum=0.9, decay=decay, nesterov=False)\n",
    "model.compile(loss='categorical_crossentropy', optimizer=keras.optimizers.SGD(lr=lr), metrics=['accuracy'])"
   ]
  },
  {
   "cell_type": "code",
   "execution_count": 42,
   "metadata": {},
   "outputs": [
    {
     "name": "stdout",
     "output_type": "stream",
     "text": [
      "Epoch 1/100\n",
      "6/6 [==============================] - 1s 81ms/step - loss: 0.8271 - accuracy: 0.6552 - val_loss: 1.1281 - val_accuracy: 0.5968\n",
      "Epoch 2/100\n",
      "6/6 [==============================] - 0s 10ms/step - loss: 0.8425 - accuracy: 0.6573 - val_loss: 1.0543 - val_accuracy: 0.5968\n",
      "Epoch 3/100\n",
      "6/6 [==============================] - 0s 11ms/step - loss: 0.8895 - accuracy: 0.6044 - val_loss: 1.0718 - val_accuracy: 0.5806\n",
      "Epoch 4/100\n",
      "6/6 [==============================] - 0s 11ms/step - loss: 0.8868 - accuracy: 0.6586 - val_loss: 1.0442 - val_accuracy: 0.5968\n",
      "Epoch 5/100\n",
      "6/6 [==============================] - 0s 11ms/step - loss: 0.8329 - accuracy: 0.6499 - val_loss: 1.0414 - val_accuracy: 0.5968\n",
      "Epoch 6/100\n",
      "6/6 [==============================] - 0s 11ms/step - loss: 0.8112 - accuracy: 0.6772 - val_loss: 1.0483 - val_accuracy: 0.5806\n",
      "Epoch 7/100\n",
      "6/6 [==============================] - 0s 10ms/step - loss: 0.8191 - accuracy: 0.6733 - val_loss: 1.0708 - val_accuracy: 0.5968\n",
      "Epoch 8/100\n",
      "6/6 [==============================] - 0s 10ms/step - loss: 0.7854 - accuracy: 0.6801 - val_loss: 1.0428 - val_accuracy: 0.5968\n",
      "Epoch 9/100\n",
      "6/6 [==============================] - 0s 11ms/step - loss: 0.8436 - accuracy: 0.6194 - val_loss: 1.0268 - val_accuracy: 0.5968\n",
      "Epoch 10/100\n",
      "6/6 [==============================] - 0s 10ms/step - loss: 0.8411 - accuracy: 0.6737 - val_loss: 1.0717 - val_accuracy: 0.5323\n",
      "Epoch 11/100\n",
      "6/6 [==============================] - 0s 12ms/step - loss: 0.8890 - accuracy: 0.6448 - val_loss: 1.0351 - val_accuracy: 0.5806\n",
      "Epoch 12/100\n",
      "6/6 [==============================] - 0s 11ms/step - loss: 0.8582 - accuracy: 0.6403 - val_loss: 1.0315 - val_accuracy: 0.5806\n",
      "Epoch 13/100\n",
      "6/6 [==============================] - 0s 12ms/step - loss: 0.8096 - accuracy: 0.6956 - val_loss: 1.0613 - val_accuracy: 0.5968\n",
      "Epoch 14/100\n",
      "6/6 [==============================] - 0s 11ms/step - loss: 0.8382 - accuracy: 0.6695 - val_loss: 1.0494 - val_accuracy: 0.5806\n",
      "Epoch 15/100\n",
      "6/6 [==============================] - 0s 10ms/step - loss: 0.8465 - accuracy: 0.6628 - val_loss: 0.9991 - val_accuracy: 0.5968\n",
      "Epoch 16/100\n",
      "6/6 [==============================] - 0s 12ms/step - loss: 0.8275 - accuracy: 0.6470 - val_loss: 1.1593 - val_accuracy: 0.5000\n",
      "Epoch 17/100\n",
      "6/6 [==============================] - 0s 12ms/step - loss: 0.8440 - accuracy: 0.6370 - val_loss: 1.0682 - val_accuracy: 0.5968\n",
      "Epoch 18/100\n",
      "6/6 [==============================] - 0s 13ms/step - loss: 0.8522 - accuracy: 0.6285 - val_loss: 1.0893 - val_accuracy: 0.5968\n",
      "Epoch 19/100\n",
      "6/6 [==============================] - 0s 12ms/step - loss: 0.7962 - accuracy: 0.6546 - val_loss: 1.0761 - val_accuracy: 0.5806\n",
      "Epoch 20/100\n",
      "6/6 [==============================] - 0s 13ms/step - loss: 0.8403 - accuracy: 0.6329 - val_loss: 1.0593 - val_accuracy: 0.5968\n",
      "Epoch 21/100\n",
      "6/6 [==============================] - 0s 12ms/step - loss: 0.8078 - accuracy: 0.6809 - val_loss: 1.0678 - val_accuracy: 0.5806\n",
      "Epoch 22/100\n",
      "6/6 [==============================] - 0s 13ms/step - loss: 0.8139 - accuracy: 0.6645 - val_loss: 1.0634 - val_accuracy: 0.5968\n",
      "Epoch 23/100\n",
      "6/6 [==============================] - 0s 12ms/step - loss: 0.8275 - accuracy: 0.6616 - val_loss: 1.0536 - val_accuracy: 0.5968\n",
      "Epoch 24/100\n",
      "6/6 [==============================] - 0s 18ms/step - loss: 0.8450 - accuracy: 0.6492 - val_loss: 1.0660 - val_accuracy: 0.5968\n",
      "Epoch 25/100\n",
      "6/6 [==============================] - 0s 19ms/step - loss: 0.8084 - accuracy: 0.6823 - val_loss: 1.0654 - val_accuracy: 0.5968\n",
      "Epoch 26/100\n",
      "6/6 [==============================] - 0s 17ms/step - loss: 0.8041 - accuracy: 0.6553 - val_loss: 1.1002 - val_accuracy: 0.5323\n",
      "Epoch 27/100\n",
      "6/6 [==============================] - 0s 13ms/step - loss: 0.8393 - accuracy: 0.6434 - val_loss: 1.1184 - val_accuracy: 0.6129\n",
      "Epoch 28/100\n",
      "6/6 [==============================] - 0s 13ms/step - loss: 0.8255 - accuracy: 0.6494 - val_loss: 1.1251 - val_accuracy: 0.6129\n",
      "Epoch 29/100\n",
      "6/6 [==============================] - 0s 13ms/step - loss: 0.8346 - accuracy: 0.6629 - val_loss: 1.1127 - val_accuracy: 0.5968\n",
      "Epoch 30/100\n",
      "6/6 [==============================] - 0s 14ms/step - loss: 0.8410 - accuracy: 0.6376 - val_loss: 1.1109 - val_accuracy: 0.5323\n",
      "Epoch 31/100\n",
      "6/6 [==============================] - 0s 15ms/step - loss: 0.8164 - accuracy: 0.6813 - val_loss: 1.0490 - val_accuracy: 0.5806\n",
      "Epoch 32/100\n",
      "6/6 [==============================] - 0s 15ms/step - loss: 0.8035 - accuracy: 0.6779 - val_loss: 1.0863 - val_accuracy: 0.5161\n",
      "Epoch 33/100\n",
      "6/6 [==============================] - 0s 15ms/step - loss: 0.7838 - accuracy: 0.6987 - val_loss: 1.0850 - val_accuracy: 0.5968\n",
      "Epoch 34/100\n",
      "6/6 [==============================] - 0s 12ms/step - loss: 0.7803 - accuracy: 0.7191 - val_loss: 1.1216 - val_accuracy: 0.5806\n",
      "Epoch 35/100\n",
      "6/6 [==============================] - 0s 11ms/step - loss: 0.7945 - accuracy: 0.6571 - val_loss: 1.0369 - val_accuracy: 0.5806\n",
      "Epoch 36/100\n",
      "6/6 [==============================] - 0s 12ms/step - loss: 0.8182 - accuracy: 0.6436 - val_loss: 1.0288 - val_accuracy: 0.5806\n",
      "Epoch 37/100\n",
      "6/6 [==============================] - 0s 12ms/step - loss: 0.8058 - accuracy: 0.6822 - val_loss: 1.0416 - val_accuracy: 0.5806\n",
      "Epoch 38/100\n",
      "6/6 [==============================] - 0s 12ms/step - loss: 0.8245 - accuracy: 0.6664 - val_loss: 1.0643 - val_accuracy: 0.5806\n",
      "Epoch 39/100\n",
      "6/6 [==============================] - 0s 14ms/step - loss: 0.8222 - accuracy: 0.6723 - val_loss: 1.1254 - val_accuracy: 0.6129\n",
      "Epoch 40/100\n",
      "6/6 [==============================] - 0s 14ms/step - loss: 0.8169 - accuracy: 0.6589 - val_loss: 1.1287 - val_accuracy: 0.5806\n",
      "Epoch 41/100\n",
      "6/6 [==============================] - 0s 12ms/step - loss: 0.8674 - accuracy: 0.6204 - val_loss: 1.0899 - val_accuracy: 0.6129\n",
      "Epoch 42/100\n",
      "6/6 [==============================] - 0s 12ms/step - loss: 0.8360 - accuracy: 0.6787 - val_loss: 1.0798 - val_accuracy: 0.5484\n",
      "Epoch 43/100\n",
      "6/6 [==============================] - 0s 18ms/step - loss: 0.8550 - accuracy: 0.6083 - val_loss: 1.0238 - val_accuracy: 0.5968\n",
      "Epoch 44/100\n",
      "6/6 [==============================] - 0s 16ms/step - loss: 0.8120 - accuracy: 0.6623 - val_loss: 1.0481 - val_accuracy: 0.5968\n",
      "Epoch 45/100\n",
      "6/6 [==============================] - 0s 16ms/step - loss: 0.7942 - accuracy: 0.6726 - val_loss: 1.0433 - val_accuracy: 0.5968\n",
      "Epoch 46/100\n",
      "6/6 [==============================] - 0s 13ms/step - loss: 0.8032 - accuracy: 0.6974 - val_loss: 0.9947 - val_accuracy: 0.5968\n",
      "Epoch 47/100\n",
      "6/6 [==============================] - 0s 14ms/step - loss: 0.8121 - accuracy: 0.6532 - val_loss: 1.0821 - val_accuracy: 0.6129\n",
      "Epoch 48/100\n",
      "6/6 [==============================] - 0s 13ms/step - loss: 0.8226 - accuracy: 0.6499 - val_loss: 1.0732 - val_accuracy: 0.6129\n",
      "Epoch 49/100\n",
      "6/6 [==============================] - 0s 11ms/step - loss: 0.8444 - accuracy: 0.6600 - val_loss: 1.0510 - val_accuracy: 0.5968\n",
      "Epoch 50/100\n",
      "6/6 [==============================] - 0s 13ms/step - loss: 0.8165 - accuracy: 0.6404 - val_loss: 1.0231 - val_accuracy: 0.5806\n",
      "Epoch 51/100\n",
      "6/6 [==============================] - 0s 13ms/step - loss: 0.8436 - accuracy: 0.6076 - val_loss: 1.3834 - val_accuracy: 0.6129\n",
      "Epoch 52/100\n",
      "6/6 [==============================] - 0s 14ms/step - loss: 0.8249 - accuracy: 0.6466 - val_loss: 1.0020 - val_accuracy: 0.5806\n",
      "Epoch 53/100\n",
      "6/6 [==============================] - 0s 13ms/step - loss: 0.7865 - accuracy: 0.7128 - val_loss: 1.1343 - val_accuracy: 0.5645\n",
      "Epoch 54/100\n",
      "6/6 [==============================] - 0s 12ms/step - loss: 0.8343 - accuracy: 0.6595 - val_loss: 1.0969 - val_accuracy: 0.6129\n",
      "Epoch 55/100\n",
      "6/6 [==============================] - 0s 13ms/step - loss: 0.8332 - accuracy: 0.6277 - val_loss: 1.0710 - val_accuracy: 0.5806\n",
      "Epoch 56/100\n",
      "6/6 [==============================] - 0s 12ms/step - loss: 0.8451 - accuracy: 0.6562 - val_loss: 1.1376 - val_accuracy: 0.6129\n",
      "Epoch 57/100\n",
      "6/6 [==============================] - 0s 12ms/step - loss: 0.8678 - accuracy: 0.6106 - val_loss: 1.1552 - val_accuracy: 0.4839\n",
      "Epoch 58/100\n",
      "6/6 [==============================] - 0s 11ms/step - loss: 0.8520 - accuracy: 0.6256 - val_loss: 1.0765 - val_accuracy: 0.5806\n",
      "Epoch 59/100\n",
      "6/6 [==============================] - 0s 12ms/step - loss: 0.8268 - accuracy: 0.6732 - val_loss: 1.1133 - val_accuracy: 0.5806\n",
      "Epoch 60/100\n",
      "6/6 [==============================] - 0s 12ms/step - loss: 0.9091 - accuracy: 0.5789 - val_loss: 1.1841 - val_accuracy: 0.6129\n",
      "Epoch 61/100\n",
      "6/6 [==============================] - 0s 12ms/step - loss: 0.9004 - accuracy: 0.6031 - val_loss: 1.0689 - val_accuracy: 0.5968\n",
      "Epoch 62/100\n",
      "6/6 [==============================] - 0s 11ms/step - loss: 0.8159 - accuracy: 0.6708 - val_loss: 1.0726 - val_accuracy: 0.5968\n",
      "Epoch 63/100\n",
      "6/6 [==============================] - 0s 12ms/step - loss: 0.8079 - accuracy: 0.6756 - val_loss: 1.0766 - val_accuracy: 0.6129\n",
      "Epoch 64/100\n",
      "6/6 [==============================] - 0s 12ms/step - loss: 0.7962 - accuracy: 0.6537 - val_loss: 1.0657 - val_accuracy: 0.5806\n",
      "Epoch 65/100\n",
      "6/6 [==============================] - 0s 13ms/step - loss: 0.8589 - accuracy: 0.6329 - val_loss: 1.0678 - val_accuracy: 0.5968\n",
      "Epoch 66/100\n",
      "6/6 [==============================] - 0s 12ms/step - loss: 0.8125 - accuracy: 0.6648 - val_loss: 1.0553 - val_accuracy: 0.5968\n",
      "Epoch 67/100\n",
      "6/6 [==============================] - 0s 13ms/step - loss: 0.8097 - accuracy: 0.6791 - val_loss: 1.0850 - val_accuracy: 0.5323\n",
      "Epoch 68/100\n",
      "6/6 [==============================] - 0s 14ms/step - loss: 0.8376 - accuracy: 0.6468 - val_loss: 1.0799 - val_accuracy: 0.5968\n",
      "Epoch 69/100\n",
      "6/6 [==============================] - 0s 12ms/step - loss: 0.7946 - accuracy: 0.6786 - val_loss: 1.0693 - val_accuracy: 0.5968\n",
      "Epoch 70/100\n",
      "6/6 [==============================] - 0s 12ms/step - loss: 0.8236 - accuracy: 0.6977 - val_loss: 1.1196 - val_accuracy: 0.5968\n",
      "Epoch 71/100\n",
      "6/6 [==============================] - 0s 13ms/step - loss: 0.8008 - accuracy: 0.6844 - val_loss: 1.0851 - val_accuracy: 0.5484\n",
      "Epoch 72/100\n",
      "6/6 [==============================] - 0s 13ms/step - loss: 0.8525 - accuracy: 0.5961 - val_loss: 1.1028 - val_accuracy: 0.6129\n",
      "Epoch 73/100\n",
      "6/6 [==============================] - 0s 12ms/step - loss: 0.8862 - accuracy: 0.6388 - val_loss: 1.0900 - val_accuracy: 0.5968\n",
      "Epoch 74/100\n",
      "6/6 [==============================] - 0s 13ms/step - loss: 0.8265 - accuracy: 0.6450 - val_loss: 1.0043 - val_accuracy: 0.5968\n",
      "Epoch 75/100\n",
      "6/6 [==============================] - 0s 13ms/step - loss: 0.8166 - accuracy: 0.6733 - val_loss: 1.1584 - val_accuracy: 0.5323\n",
      "Epoch 76/100\n",
      "6/6 [==============================] - 0s 13ms/step - loss: 0.8427 - accuracy: 0.6300 - val_loss: 1.0961 - val_accuracy: 0.5806\n",
      "Epoch 77/100\n",
      "6/6 [==============================] - 0s 13ms/step - loss: 0.8542 - accuracy: 0.6464 - val_loss: 1.0911 - val_accuracy: 0.5806\n",
      "Epoch 78/100\n",
      "6/6 [==============================] - 0s 13ms/step - loss: 0.8348 - accuracy: 0.6619 - val_loss: 1.2177 - val_accuracy: 0.5484\n",
      "Epoch 79/100\n",
      "6/6 [==============================] - 0s 11ms/step - loss: 0.8274 - accuracy: 0.6324 - val_loss: 1.0501 - val_accuracy: 0.5968\n",
      "Epoch 80/100\n",
      "6/6 [==============================] - 0s 10ms/step - loss: 0.8523 - accuracy: 0.6345 - val_loss: 1.0439 - val_accuracy: 0.5968\n",
      "Epoch 81/100\n",
      "6/6 [==============================] - 0s 12ms/step - loss: 0.8258 - accuracy: 0.6578 - val_loss: 1.0346 - val_accuracy: 0.5968\n",
      "Epoch 82/100\n",
      "6/6 [==============================] - 0s 12ms/step - loss: 0.8201 - accuracy: 0.6503 - val_loss: 1.0669 - val_accuracy: 0.6129\n",
      "Epoch 83/100\n",
      "6/6 [==============================] - 0s 11ms/step - loss: 0.8179 - accuracy: 0.6601 - val_loss: 1.1364 - val_accuracy: 0.6129\n",
      "Epoch 84/100\n",
      "6/6 [==============================] - 0s 12ms/step - loss: 0.8130 - accuracy: 0.6357 - val_loss: 1.0643 - val_accuracy: 0.5968\n",
      "Epoch 85/100\n",
      "6/6 [==============================] - 0s 13ms/step - loss: 0.8176 - accuracy: 0.6759 - val_loss: 1.1081 - val_accuracy: 0.5161\n",
      "Epoch 86/100\n",
      "6/6 [==============================] - 0s 13ms/step - loss: 0.8602 - accuracy: 0.5930 - val_loss: 1.1069 - val_accuracy: 0.5968\n",
      "Epoch 87/100\n",
      "6/6 [==============================] - 0s 13ms/step - loss: 0.7667 - accuracy: 0.6939 - val_loss: 1.0239 - val_accuracy: 0.5968\n",
      "Epoch 88/100\n",
      "6/6 [==============================] - 0s 12ms/step - loss: 0.8137 - accuracy: 0.6965 - val_loss: 1.0377 - val_accuracy: 0.5968\n",
      "Epoch 89/100\n",
      "6/6 [==============================] - 0s 14ms/step - loss: 0.8220 - accuracy: 0.6750 - val_loss: 1.2845 - val_accuracy: 0.5968\n",
      "Epoch 90/100\n",
      "6/6 [==============================] - 0s 14ms/step - loss: 0.7647 - accuracy: 0.6802 - val_loss: 1.2136 - val_accuracy: 0.4032\n",
      "Epoch 91/100\n",
      "6/6 [==============================] - 0s 15ms/step - loss: 0.9344 - accuracy: 0.5624 - val_loss: 1.0957 - val_accuracy: 0.6129\n",
      "Epoch 92/100\n",
      "6/6 [==============================] - 0s 12ms/step - loss: 0.8383 - accuracy: 0.6837 - val_loss: 1.0604 - val_accuracy: 0.5806\n",
      "Epoch 93/100\n",
      "6/6 [==============================] - 0s 10ms/step - loss: 0.8611 - accuracy: 0.6444 - val_loss: 1.0721 - val_accuracy: 0.5806\n",
      "Epoch 94/100\n",
      "6/6 [==============================] - 0s 11ms/step - loss: 0.8329 - accuracy: 0.6651 - val_loss: 1.0827 - val_accuracy: 0.5968\n",
      "Epoch 95/100\n",
      "6/6 [==============================] - 0s 12ms/step - loss: 0.8471 - accuracy: 0.6522 - val_loss: 1.0963 - val_accuracy: 0.5968\n",
      "Epoch 96/100\n",
      "6/6 [==============================] - 0s 14ms/step - loss: 0.8055 - accuracy: 0.6579 - val_loss: 1.0729 - val_accuracy: 0.5968\n",
      "Epoch 97/100\n",
      "6/6 [==============================] - 0s 14ms/step - loss: 0.8034 - accuracy: 0.6639 - val_loss: 1.0757 - val_accuracy: 0.6129\n",
      "Epoch 98/100\n",
      "6/6 [==============================] - 0s 13ms/step - loss: 0.8396 - accuracy: 0.6334 - val_loss: 1.0889 - val_accuracy: 0.5968\n",
      "Epoch 99/100\n",
      "6/6 [==============================] - 0s 13ms/step - loss: 0.7765 - accuracy: 0.7014 - val_loss: 1.0607 - val_accuracy: 0.5806\n",
      "Epoch 100/100\n",
      "6/6 [==============================] - 0s 14ms/step - loss: 0.7983 - accuracy: 0.6870 - val_loss: 1.0304 - val_accuracy: 0.5806\n"
     ]
    }
   ],
   "source": [
    "history = model.fit(x_train, y_train,\n",
    "                    batch_size=32,\n",
    "                    epochs=epochs,\n",
    "                    verbose=True,\n",
    "                    validation_data=(x_val, y_val))"
   ]
  },
  {
   "cell_type": "code",
   "execution_count": 30,
   "metadata": {},
   "outputs": [
    {
     "name": "stdout",
     "output_type": "stream",
     "text": [
      "Saved model to disk\n"
     ]
    }
   ],
   "source": [
    "# save model as json\n",
    "model_json = model.to_json()\n",
    "with open(\"model_nonorm.json\", \"w\") as json_file:\n",
    "    json_file.write(model_json)\n",
    "\n",
    "model.save_weights(\"model_nonorm.h5\")\n",
    "print(\"Saved model to disk\")"
   ]
  },
  {
   "cell_type": "code",
   "execution_count": 43,
   "metadata": {},
   "outputs": [
    {
     "name": "stdout",
     "output_type": "stream",
     "text": [
      "dict_keys(['loss', 'accuracy', 'val_loss', 'val_accuracy'])\n"
     ]
    },
    {
     "data": {
      "image/png": "[encoded data removed]",
      "text/plain": [
       "<Figure size 432x288 with 1 Axes>"
      ]
     },
     "metadata": {
      "needs_background": "light"
     },
     "output_type": "display_data"
    },
    {
     "data": {
      "image/png": "[encoded data removed]",
      "text/plain": [
       "<Figure size 432x288 with 1 Axes>"
      ]
     },
     "metadata": {
      "needs_background": "light"
     },
     "output_type": "display_data"
    }
   ],
   "source": [
    "print(history.history.keys())\n",
    "# summarize history for accuracy\n",
    "plt.plot(history.history['accuracy'], marker = \"*\")\n",
    "plt.plot(history.history['val_accuracy'], marker = \"*\")\n",
    "plt.title('model accuracy')\n",
    "plt.ylabel('accuracy')\n",
    "plt.xlabel('epoch')\n",
    "plt.legend(['train', 'val'], loc='upper left')\n",
    "plt.show()\n",
    "\n",
    "# summarize history for loss\n",
    "plt.plot(history.history['loss'], marker = \"*\")\n",
    "plt.plot(history.history['val_loss'], marker = \"*\")\n",
    "plt.title('model loss')\n",
    "plt.ylabel('loss')\n",
    "plt.xlabel('epoch')\n",
    "plt.legend(['train', 'val'], loc='upper left')\n",
    "plt.show()"
   ]
  },
  {
   "cell_type": "code",
   "execution_count": 44,
   "metadata": {},
   "outputs": [
    {
     "name": "stdout",
     "output_type": "stream",
     "text": [
      "2/2 [==============================] - 0s 2ms/step - loss: 0.9830 - accuracy: 0.6032\n",
      "Test loss: 0.9829999804496765\n",
      "Test accuracy: 0.60317462682724\n"
     ]
    }
   ],
   "source": [
    "score = model.evaluate(x_test, y_test, verbose=True)\n",
    "print('Test loss:', score[0])\n",
    "print('Test accuracy:', score[1])"
   ]
  },
  {
   "cell_type": "code",
   "execution_count": 42,
   "metadata": {},
   "outputs": [],
   "source": [
    "y_scores = model.predict(x_test)\n",
    "fpr_nn, tpr_nn, threshold = roc_curve(y_test, y_scores[:,1], pos_label= 1)\n",
    "roc_auc_nn = auc(fpr_nn, tpr_nn)"
   ]
  },
  {
   "cell_type": "code",
   "execution_count": 39,
   "metadata": {},
   "outputs": [
    {
     "data": {
      "image/png": "[encoded data removed]",
      "text/plain": [
       "<Figure size 864x720 with 1 Axes>"
      ]
     },
     "metadata": {
      "needs_background": "light"
     },
     "output_type": "display_data"
    }
   ],
   "source": [
    "import matplotlib.pyplot as plt\n",
    "fig = plt.figure(figsize=(12,10))          # Create window frame\n",
    "ax = fig.add_subplot(111)   # Create axes\n",
    "# 9.2 Also connect diagonals\n",
    "ax.plot([0, 1], [0, 1], ls=\"--\")   # Dashed diagonal line\n",
    "# 9.3 Labels etc\n",
    "ax.set_xlabel('False Positive Rate')  # Final plot decorations\n",
    "ax.set_ylabel('True Positive Rate')\n",
    "ax.set_title('ROC curve')\n",
    "# 9.4 Set graph limits\n",
    "ax.set_xlim([0.0, 1.0])\n",
    "ax.set_ylim([0.0, 1.0])\n",
    "\n",
    "# 9.5 Plot each graph now\n",
    "ax.plot(fpr_knn, tpr_knn, label = \"knn\")\n",
    "ax.plot(fpr_svm, tpr_svm, label = \"svm\")\n",
    "ax.plot(fpr_tree, tpr_tree, label = \"tree\")\n",
    "ax.plot(fpr_rf, tpr_rf, label = \"rf\")\n",
    "ax.plot(fpr_nn, tpr_nn, label = \"nn\")\n",
    "\n",
    "# 9.6 Set legend and show plot\n",
    "ax.legend(loc=\"lower right\")\n",
    "plt.show()"
   ]
  },
  {
   "cell_type": "code",
   "execution_count": null,
   "metadata": {},
   "outputs": [],
   "source": []
  }
 ],
 "metadata": {
  "kernelspec": {
   "display_name": "Python 3",
   "language": "python",
   "name": "python3"
  },
  "language_info": {
   "codemirror_mode": {
    "name": "ipython",
    "version": 3
   },
   "file_extension": ".py",
   "mimetype": "text/x-python",
   "name": "python",
   "nbconvert_exporter": "python",
   "pygments_lexer": "ipython3",
   "version": "3.8.5"
  }
 },
 "nbformat": 4,
 "nbformat_minor": 4
}
